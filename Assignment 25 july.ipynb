{
 "cells": [
  {
   "cell_type": "markdown",
   "id": "7a1cb2fe-bd79-4fc2-a509-051d0fe69747",
   "metadata": {},
   "source": [
    "# Program to check whether a person is eligibile for voting or not "
   ]
  },
  {
   "cell_type": "code",
   "execution_count": 1,
   "id": "3f963589-12dc-48cb-badd-dd3e4ed4eb38",
   "metadata": {},
   "outputs": [
    {
     "name": "stdin",
     "output_type": "stream",
     "text": [
      "Enter Your Age :  17\n"
     ]
    },
    {
     "name": "stdout",
     "output_type": "stream",
     "text": [
      "Sorry ! You are not Eligible to Vote\n"
     ]
    }
   ],
   "source": [
    "age = int(input(\"Enter Your Age : \"))\n",
    "if age  >= 18:\n",
    "    print (\" Congratulations !! You are Eligible to Vote \")\n",
    "\n",
    "else:\n",
    "    print (\"Sorry ! You are not Eligible to Vote\")"
   ]
  },
  {
   "cell_type": "markdown",
   "id": "8af69a02-3543-411a-a74c-f5a3a5a551ab",
   "metadata": {},
   "source": [
    "# Program to check whether the user given input is integer is Positive or Negative"
   ]
  },
  {
   "cell_type": "code",
   "execution_count": 5,
   "id": "f798c540-17b8-4256-8c61-44418ebdda6a",
   "metadata": {},
   "outputs": [
    {
     "name": "stdin",
     "output_type": "stream",
     "text": [
      "Enter The Number :  0\n"
     ]
    },
    {
     "name": "stdout",
     "output_type": "stream",
     "text": [
      " Positive\n"
     ]
    }
   ],
   "source": [
    "number = int(input(\"Enter The Number : \"))\n",
    "if number >=0 :\n",
    "    print (\" Positive\")\n",
    "\n",
    "else:\n",
    "    print(\"Negative\")"
   ]
  },
  {
   "cell_type": "markdown",
   "id": "2a434a17-0df7-40c6-b5d2-db72e3b1944e",
   "metadata": {},
   "source": [
    "# Program to check whether the last digit of a number entered by user is divisible by 3 or Not"
   ]
  },
  {
   "cell_type": "code",
   "execution_count": 6,
   "id": "fe84f263-8d66-4dbb-966b-176d127b67e3",
   "metadata": {},
   "outputs": [
    {
     "name": "stdin",
     "output_type": "stream",
     "text": [
      "Enter a Number :  143\n"
     ]
    },
    {
     "name": "stdout",
     "output_type": "stream",
     "text": [
      "The last digit is divisilble by 3\n"
     ]
    }
   ],
   "source": [
    "number = int(input(\"Enter a Number : \"))\n",
    "last_digit = number %10\n",
    "if last_digit  %3 == 0 :\n",
    "    print(\"The last digit is divisilble by 3\")\n",
    "\n",
    "else:\n",
    "    print(\"The last digit is not divisible by 3\")\n",
    "    "
   ]
  },
  {
   "cell_type": "code",
   "execution_count": null,
   "id": "bf98297b-4586-4cbc-b4c6-d5b017da3133",
   "metadata": {},
   "outputs": [],
   "source": []
  }
 ],
 "metadata": {
  "kernelspec": {
   "display_name": "Python 3 (ipykernel)",
   "language": "python",
   "name": "python3"
  },
  "language_info": {
   "codemirror_mode": {
    "name": "ipython",
    "version": 3
   },
   "file_extension": ".py",
   "mimetype": "text/x-python",
   "name": "python",
   "nbconvert_exporter": "python",
   "pygments_lexer": "ipython3",
   "version": "3.10.11"
  }
 },
 "nbformat": 4,
 "nbformat_minor": 5
}
