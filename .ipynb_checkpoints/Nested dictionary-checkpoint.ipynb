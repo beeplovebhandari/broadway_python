{
 "cells": [
  {
   "cell_type": "code",
   "execution_count": 12,
   "id": "d5fbf2a8-5330-4298-840e-d4f07bfd42ed",
   "metadata": {},
   "outputs": [],
   "source": [
    "    about = {\n",
    "        \"ufc\" :  {\"name\": \"Joe\" ,\"age\" :\"52\", \"podcast\" : True},\n",
    "        \"meta\" :  {\"name\": \"Mark\" , \"age\" :\"35\"},\n",
    "        \"X\" :  {\"name\": \"Elon\" , \"age\" :\"55\"},\n",
    "    }"
   ]
  },
  {
   "cell_type": "code",
   "execution_count": 13,
   "id": "bd73cb1f-80dd-4c55-be73-b3db86fa63bf",
   "metadata": {},
   "outputs": [
    {
     "data": {
      "text/plain": [
       "{'name': 'Mark', 'age': '35'}"
      ]
     },
     "execution_count": 13,
     "metadata": {},
     "output_type": "execute_result"
    }
   ],
   "source": [
    "about['meta']"
   ]
  },
  {
   "cell_type": "code",
   "execution_count": 14,
   "id": "50c53d65-2054-4f0c-bf7c-fe8bf34ff18c",
   "metadata": {},
   "outputs": [
    {
     "data": {
      "text/plain": [
       "'Mark'"
      ]
     },
     "execution_count": 14,
     "metadata": {},
     "output_type": "execute_result"
    }
   ],
   "source": [
    "about['meta']['name']"
   ]
  },
  {
   "cell_type": "code",
   "execution_count": 15,
   "id": "da77402b-3ee3-4bff-ac15-3e4512f0479e",
   "metadata": {},
   "outputs": [
    {
     "ename": "KeyError",
     "evalue": "'podcast'",
     "output_type": "error",
     "traceback": [
      "\u001b[1;31m---------------------------------------------------------------------------\u001b[0m",
      "\u001b[1;31mKeyError\u001b[0m                                  Traceback (most recent call last)",
      "Cell \u001b[1;32mIn[15], line 1\u001b[0m\n\u001b[1;32m----> 1\u001b[0m \u001b[43mabout\u001b[49m\u001b[43m[\u001b[49m\u001b[38;5;124;43m'\u001b[39;49m\u001b[38;5;124;43mmeta\u001b[39;49m\u001b[38;5;124;43m'\u001b[39;49m\u001b[43m]\u001b[49m\u001b[43m[\u001b[49m\u001b[38;5;124;43m'\u001b[39;49m\u001b[38;5;124;43mpodcast\u001b[39;49m\u001b[38;5;124;43m'\u001b[39;49m\u001b[43m]\u001b[49m\n",
      "\u001b[1;31mKeyError\u001b[0m: 'podcast'"
     ]
    }
   ],
   "source": [
    "about['meta']['podcast']"
   ]
  },
  {
   "cell_type": "code",
   "execution_count": 17,
   "id": "6a86bebe-4b57-466e-81ee-26a4a3eeaac4",
   "metadata": {},
   "outputs": [
    {
     "data": {
      "text/plain": [
       "{'name': 'Joe', 'age': '52', 'podcast': True}"
      ]
     },
     "execution_count": 17,
     "metadata": {},
     "output_type": "execute_result"
    }
   ],
   "source": [
    "about['ufc']"
   ]
  },
  {
   "cell_type": "code",
   "execution_count": 18,
   "id": "960dbdda-325f-411a-9f9b-40476a787d67",
   "metadata": {},
   "outputs": [
    {
     "data": {
      "text/plain": [
       "True"
      ]
     },
     "execution_count": 18,
     "metadata": {},
     "output_type": "execute_result"
    }
   ],
   "source": [
    "about['ufc']['podcast']"
   ]
  },
  {
   "cell_type": "code",
   "execution_count": null,
   "id": "8c327a03-6572-47fc-9c5c-a8e7de2e1175",
   "metadata": {},
   "outputs": [],
   "source": []
  }
 ],
 "metadata": {
  "kernelspec": {
   "display_name": "Python 3 (ipykernel)",
   "language": "python",
   "name": "python3"
  },
  "language_info": {
   "codemirror_mode": {
    "name": "ipython",
    "version": 3
   },
   "file_extension": ".py",
   "mimetype": "text/x-python",
   "name": "python",
   "nbconvert_exporter": "python",
   "pygments_lexer": "ipython3",
   "version": "3.10.11"
  }
 },
 "nbformat": 4,
 "nbformat_minor": 5
}
