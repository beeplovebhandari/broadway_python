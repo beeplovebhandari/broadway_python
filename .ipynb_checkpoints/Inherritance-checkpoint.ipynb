{
 "cells": [
  {
   "cell_type": "markdown",
   "id": "bbd248d3-f644-4d32-bcd0-48af3222a82e",
   "metadata": {},
   "source": [
    "class Computer :\n",
    "    def __init__ (self, model_name ):\n",
    "        self.model_name = model_name\n",
    "\n",
    "\n",
    "class Mobile:\n",
    "    def __init__ (self, has_flash):\n",
    "        self.has_flash = has_flash"
   ]
  },
  {
   "cell_type": "code",
   "execution_count": 3,
   "id": "1d4a8744-f396-4e9c-9f1b-0e628f6075c7",
   "metadata": {},
   "outputs": [
    {
     "ename": "TypeError",
     "evalue": "Mobile.__init__() missing 1 required positional argument: 'has_flash'",
     "output_type": "error",
     "traceback": [
      "\u001b[1;31m---------------------------------------------------------------------------\u001b[0m",
      "\u001b[1;31mTypeError\u001b[0m                                 Traceback (most recent call last)",
      "Cell \u001b[1;32mIn[3], line 1\u001b[0m\n\u001b[1;32m----> 1\u001b[0m m1 \u001b[38;5;241m=\u001b[39m \u001b[43mMobile\u001b[49m\u001b[43m(\u001b[49m\u001b[43m)\u001b[49m    \u001b[38;5;66;03m# m1 vaneko chai object ho ani mobile chai class\u001b[39;00m\n",
      "\u001b[1;31mTypeError\u001b[0m: Mobile.__init__() missing 1 required positional argument: 'has_flash'"
     ]
    }
   ],
   "source": [
    "m1 = Mobile()    # m1 vaneko chai object ho ani mobile chai class"
   ]
  },
  {
   "cell_type": "code",
   "execution_count": 4,
   "id": "9a0ff9d8-6b8a-4aa6-b612-ea72a8462b15",
   "metadata": {},
   "outputs": [],
   "source": [
    "m1 = Mobile(has_flash = True)"
   ]
  },
  {
   "cell_type": "code",
   "execution_count": 5,
   "id": "519b10a6-b7d0-45bd-b2f1-c7d5bc721a49",
   "metadata": {},
   "outputs": [
    {
     "ename": "AttributeError",
     "evalue": "'Mobile' object has no attribute 'model_name'",
     "output_type": "error",
     "traceback": [
      "\u001b[1;31m---------------------------------------------------------------------------\u001b[0m",
      "\u001b[1;31mAttributeError\u001b[0m                            Traceback (most recent call last)",
      "Cell \u001b[1;32mIn[5], line 1\u001b[0m\n\u001b[1;32m----> 1\u001b[0m \u001b[43mm1\u001b[49m\u001b[38;5;241;43m.\u001b[39;49m\u001b[43mmodel_name\u001b[49m\n",
      "\u001b[1;31mAttributeError\u001b[0m: 'Mobile' object has no attribute 'model_name'"
     ]
    }
   ],
   "source": [
    "m1.model_name"
   ]
  },
  {
   "cell_type": "markdown",
   "id": "37e13779-6216-477a-b3d0-89f3428e26cb",
   "metadata": {},
   "source": [
    "# single inheritance"
   ]
  },
  {
   "cell_type": "code",
   "execution_count": 4,
   "id": "813926e9-f096-4925-98dc-1abd521f8498",
   "metadata": {},
   "outputs": [],
   "source": [
    "class Computer :\n",
    "    def __init__ (self, model_name ):\n",
    "        self.model_name = model_name\n",
    "\n",
    "    def display_model(self):\n",
    "        return self.model_name\n",
    "\n",
    "\n",
    "class Mobile(Computer):  # pass class to be inherited as argument\n",
    "    def __init__ (self, has_flash , model_name):\n",
    "        self.has_flash = has_flash\n",
    "        super().__init__ (model_name)    # use suepr() method to inherit"
   ]
  },
  {
   "cell_type": "code",
   "execution_count": 5,
   "id": "2c7f8173-c68d-46ce-8e27-94cc1916d4e5",
   "metadata": {},
   "outputs": [],
   "source": [
    "m1 = Mobile(has_flash = True , model_name = 'iphone')"
   ]
  },
  {
   "cell_type": "code",
   "execution_count": 6,
   "id": "d8824aa2-ef33-4e3d-bd7e-79061bafcbef",
   "metadata": {},
   "outputs": [
    {
     "data": {
      "text/plain": [
       "'iphone'"
      ]
     },
     "execution_count": 6,
     "metadata": {},
     "output_type": "execute_result"
    }
   ],
   "source": [
    "m1.model_name"
   ]
  },
  {
   "cell_type": "code",
   "execution_count": 7,
   "id": "a470b7d9-6b1d-4788-80a5-41183aa930d5",
   "metadata": {},
   "outputs": [
    {
     "data": {
      "text/plain": [
       "'iphone'"
      ]
     },
     "execution_count": 7,
     "metadata": {},
     "output_type": "execute_result"
    }
   ],
   "source": [
    "m1.display_model()"
   ]
  },
  {
   "cell_type": "code",
   "execution_count": 8,
   "id": "c1724121-67b6-46c8-8cc3-47e934a715f4",
   "metadata": {},
   "outputs": [],
   "source": [
    "class A :\n",
    "    property_of_A = \"Land Crusier\"\n",
    "\n",
    "class B(A):\n",
    "    property_of_B = \"Range Rover\"\n",
    "    def __init__(self):\n",
    "        super().__init__()\n",
    "    "
   ]
  },
  {
   "cell_type": "code",
   "execution_count": 9,
   "id": "acce98c6-56c0-4cb3-ad89-bcf6f44a3042",
   "metadata": {},
   "outputs": [],
   "source": [
    "b = B()"
   ]
  },
  {
   "cell_type": "code",
   "execution_count": 10,
   "id": "30f0b7ec-0634-4182-9f4e-92444420fecd",
   "metadata": {},
   "outputs": [
    {
     "data": {
      "text/plain": [
       "'Land Crusier'"
      ]
     },
     "execution_count": 10,
     "metadata": {},
     "output_type": "execute_result"
    }
   ],
   "source": [
    "b.property_of_A"
   ]
  },
  {
   "cell_type": "code",
   "execution_count": 18,
   "id": "c0e71139-e6b9-4f88-a509-0509fad131a8",
   "metadata": {},
   "outputs": [],
   "source": [
    "class Shyam:\n",
    "    car_of_Shyam = \"Rubicoon\"\n",
    "    \n",
    "class Ram(Shyam):\n",
    "    car_of_Ram = \"Thar\"\n",
    "    def __init__(self):\n",
    "        super().__init__()\n",
    "\n",
    "    \n"
   ]
  },
  {
   "cell_type": "code",
   "execution_count": 19,
   "id": "b6311014-2b7b-4432-9789-d7d99014272a",
   "metadata": {},
   "outputs": [],
   "source": [
    "c = Ram()"
   ]
  },
  {
   "cell_type": "code",
   "execution_count": null,
   "id": "23c0c43f-a7cd-4c1e-9174-e0fe41979eea",
   "metadata": {},
   "outputs": [],
   "source": []
  },
  {
   "cell_type": "markdown",
   "id": "512d99d2-b2a7-400e-a2b1-2a4b0b999d49",
   "metadata": {},
   "source": [
    "# Multiple Inheritance"
   ]
  },
  {
   "cell_type": "code",
   "execution_count": 13,
   "id": "6afd629b-a5df-40cb-804d-93ebcd12f4b3",
   "metadata": {},
   "outputs": [],
   "source": [
    "class Father:\n",
    "    f_name = 'Ram'\n",
    "\n",
    "class Mother:\n",
    "    m_name = 'Sita'\n",
    "\n",
    "class Child (Father , Mother):  #step1 = argument pass\n",
    "    c_name = 'Lov-Kush'\n",
    "    def __init__ (self):\n",
    "        Father.__init__(self)\n",
    "        Mother.__init__(self)"
   ]
  },
  {
   "cell_type": "code",
   "execution_count": 14,
   "id": "c7b4a590-4110-4b13-8438-b8003213bf4c",
   "metadata": {},
   "outputs": [],
   "source": [
    "c1 = Child()"
   ]
  },
  {
   "cell_type": "code",
   "execution_count": 16,
   "id": "d72d8ac3-b20d-4d8b-9816-7b8aea087cf9",
   "metadata": {},
   "outputs": [
    {
     "data": {
      "text/plain": [
       "'Ram'"
      ]
     },
     "execution_count": 16,
     "metadata": {},
     "output_type": "execute_result"
    }
   ],
   "source": [
    "c1.f_name"
   ]
  },
  {
   "cell_type": "code",
   "execution_count": 17,
   "id": "1ae27877-fe5b-420e-a269-b7d20da5138e",
   "metadata": {},
   "outputs": [
    {
     "data": {
      "text/plain": [
       "'Sita'"
      ]
     },
     "execution_count": 17,
     "metadata": {},
     "output_type": "execute_result"
    }
   ],
   "source": [
    "c1.m_name"
   ]
  },
  {
   "cell_type": "markdown",
   "id": "90226491-e94c-4731-a5b2-781b62127109",
   "metadata": {},
   "source": [
    "# Multi-Level"
   ]
  },
  {
   "cell_type": "code",
   "execution_count": 20,
   "id": "15fa073e-4886-4531-97f6-84e54ec42788",
   "metadata": {},
   "outputs": [],
   "source": [
    "class GrandFather:\n",
    "    g_name = 'Dashrath'\n",
    "\n",
    "class Father(GrandFather):\n",
    "    f_name = 'Ram'\n",
    "    def __init__ (self):\n",
    "        GrandFather.__init__(self)\n",
    "\n",
    "class Child(Father):\n",
    "    name = 'Lov-Kush'\n",
    "    def __init__ (self):\n",
    "        Father.__init__(self)"
   ]
  },
  {
   "cell_type": "code",
   "execution_count": 21,
   "id": "1f3d1f56-d874-4c85-bb21-677617a42057",
   "metadata": {},
   "outputs": [],
   "source": [
    "c = Child()"
   ]
  },
  {
   "cell_type": "code",
   "execution_count": 22,
   "id": "c99d6325-a597-49e7-b5ae-398394cb57e2",
   "metadata": {},
   "outputs": [
    {
     "data": {
      "text/plain": [
       "'Dashrath'"
      ]
     },
     "execution_count": 22,
     "metadata": {},
     "output_type": "execute_result"
    }
   ],
   "source": [
    "c.g_name"
   ]
  },
  {
   "cell_type": "code",
   "execution_count": 23,
   "id": "778ca150-883c-4193-aa72-1e7e67bf08e5",
   "metadata": {},
   "outputs": [
    {
     "data": {
      "text/plain": [
       "'Ram'"
      ]
     },
     "execution_count": 23,
     "metadata": {},
     "output_type": "execute_result"
    }
   ],
   "source": [
    "c.f_name"
   ]
  },
  {
   "cell_type": "code",
   "execution_count": 24,
   "id": "ba6b9d26-e7d5-4897-9d9d-b3b7ce3ea2b6",
   "metadata": {},
   "outputs": [
    {
     "data": {
      "text/plain": [
       "'Lov-Kush'"
      ]
     },
     "execution_count": 24,
     "metadata": {},
     "output_type": "execute_result"
    }
   ],
   "source": [
    "c.name"
   ]
  },
  {
   "cell_type": "code",
   "execution_count": 25,
   "id": "607ece85-4ee1-4168-a69b-0a8c1fb26ea2",
   "metadata": {},
   "outputs": [],
   "source": [
    "class GrandFather:\n",
    "    g_name = 'Dashrath'\n",
    "    def __init__(self,paisa):\n",
    "        self.paisa = paisa\n",
    "\n",
    "class Father(GrandFather):\n",
    "    f_name = 'Ram'\n",
    "    def __init__ (self , paisa):\n",
    "        GrandFather.__init__(self , paisa)\n",
    "\n",
    "class Child(Father):\n",
    "    name = 'Lov-Kush'\n",
    "    def __init__ (self , paisa):\n",
    "        Father.__init__(self , paisa)"
   ]
  },
  {
   "cell_type": "code",
   "execution_count": 26,
   "id": "cb92dd29-1375-4718-a4da-c85ea3b5e172",
   "metadata": {},
   "outputs": [],
   "source": [
    "c = Child(paisa = 8000000000)"
   ]
  },
  {
   "cell_type": "code",
   "execution_count": 27,
   "id": "573bcce1-8852-4ddb-89bc-47ad21cb4374",
   "metadata": {},
   "outputs": [
    {
     "data": {
      "text/plain": [
       "8000000000"
      ]
     },
     "execution_count": 27,
     "metadata": {},
     "output_type": "execute_result"
    }
   ],
   "source": [
    "c.paisa"
   ]
  },
  {
   "cell_type": "code",
   "execution_count": 28,
   "id": "fc74f21d-5dc6-46b8-9740-beb4f3e6f0dd",
   "metadata": {},
   "outputs": [
    {
     "data": {
      "text/plain": [
       "'Dashrath'"
      ]
     },
     "execution_count": 28,
     "metadata": {},
     "output_type": "execute_result"
    }
   ],
   "source": [
    "c.g_name"
   ]
  },
  {
   "cell_type": "markdown",
   "id": "ed421cbf-634c-45ff-8f7f-c035218d390d",
   "metadata": {},
   "source": []
  }
 ],
 "metadata": {
  "kernelspec": {
   "display_name": "Python 3 (ipykernel)",
   "language": "python",
   "name": "python3"
  },
  "language_info": {
   "codemirror_mode": {
    "name": "ipython",
    "version": 3
   },
   "file_extension": ".py",
   "mimetype": "text/x-python",
   "name": "python",
   "nbconvert_exporter": "python",
   "pygments_lexer": "ipython3",
   "version": "3.10.11"
  }
 },
 "nbformat": 4,
 "nbformat_minor": 5
}
