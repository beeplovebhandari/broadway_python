{
 "cells": [
  {
   "cell_type": "markdown",
   "id": "f8bd6d1b-fb60-47a1-889c-6f612488e44b",
   "metadata": {},
   "source": [
    "# write a program to print vowels and consonant in given word\n",
    "  * s = \"aeyi\""
   ]
  },
  {
   "cell_type": "code",
   "execution_count": 5,
   "id": "833a7375-ab13-4963-8950-9622734e5f28",
   "metadata": {},
   "outputs": [],
   "source": [
    "s = \"aeyi\""
   ]
  },
  {
   "cell_type": "code",
   "execution_count": 8,
   "id": "b37f1bee-ba4e-434b-b733-836d3e9b3ef2",
   "metadata": {},
   "outputs": [
    {
     "name": "stdout",
     "output_type": "stream",
     "text": [
      " vowel = a \n",
      " vowel = e \n",
      " consonant = y \n",
      " vowel = i \n"
     ]
    }
   ],
   "source": [
    "for index in range(len(s)):\n",
    "    char = s[index]\n",
    "\n",
    "    if char == 'a' or char == 'e' or char == 'i' or char == 'o' or char == 'u':\n",
    "        print(f\" vowel = {char} \")\n",
    "\n",
    "    else:\n",
    "        print(f\" consonant = {char} \")"
   ]
  },
  {
   "cell_type": "markdown",
   "id": "43adbc0a-2c61-46fa-ad0c-1cc7bac1b6c7",
   "metadata": {},
   "source": [
    "# Write a program to count vowel and consonants on the given strings \n",
    "* s = \"Hello\""
   ]
  },
  {
   "cell_type": "code",
   "execution_count": 3,
   "id": "79c3fb39-6192-427e-8c19-3e94c8e4a667",
   "metadata": {},
   "outputs": [
    {
     "name": "stdout",
     "output_type": "stream",
     "text": [
      "There are 2 vowel in the string 'HELLO'\n",
      "There are 3 consonant in the string 'HELLO'\n"
     ]
    }
   ],
   "source": [
    "vowel = 0\n",
    "consonant = 0\n",
    "s = \"HELLO\"\n",
    "for index in range(0,len(s),1):\n",
    "    if s[index] == \"A\" or s[index] == \"E\" or s[index] == \"I\" or s[index] == \"O\" or s[index] == \"U\":\n",
    "        vowel = vowel +1\n",
    "    else:\n",
    "        consonant = consonant + 1\n",
    "print(f\"There are {vowel} vowel in the string 'HELLO'\")\n",
    "print(f\"There are {consonant} consonant in the string 'HELLO'\" )\n",
    "\n"
   ]
  },
  {
   "cell_type": "code",
   "execution_count": 10,
   "id": "e55f2afc-9698-478d-879b-8072776584f8",
   "metadata": {},
   "outputs": [
    {
     "data": {
      "text/plain": [
       "'hello'"
      ]
     },
     "execution_count": 10,
     "metadata": {},
     "output_type": "execute_result"
    }
   ],
   "source": [
    "s = 'HELLO'\n",
    "s = s.lower()\n",
    "s"
   ]
  },
  {
   "cell_type": "code",
   "execution_count": 13,
   "id": "7fe62832-add7-442a-8593-ff722e928e97",
   "metadata": {},
   "outputs": [
    {
     "name": "stdout",
     "output_type": "stream",
     "text": [
      "2\n"
     ]
    }
   ],
   "source": [
    "vowel = 0\n",
    "consonant = 0\n",
    "\n",
    "for index in range(len(s)):\n",
    "    char = s[index]\n",
    "\n",
    "    if char == 'a' or char == 'e' or char == 'i' or char == 'o' or char == 'u':\n",
    "        vowel = vowel +1\n",
    "\n",
    "    else:\n",
    "        consonant = consonant +1\n",
    "\n",
    "print(vowel)\n",
    "        \n",
    "\n",
    "    "
   ]
  },
  {
   "cell_type": "code",
   "execution_count": 17,
   "id": "6a19ac14-bf29-41cb-8a1c-d51122089a7b",
   "metadata": {},
   "outputs": [
    {
     "name": "stdout",
     "output_type": "stream",
     "text": [
      "3\n"
     ]
    }
   ],
   "source": [
    "print(consonant)"
   ]
  },
  {
   "cell_type": "code",
   "execution_count": 19,
   "id": "c23ea653-5f85-46a5-9fce-23aa617b300d",
   "metadata": {},
   "outputs": [],
   "source": [
    "s = 'hello word'"
   ]
  },
  {
   "cell_type": "code",
   "execution_count": 44,
   "id": "fe48d965-11de-4ab8-8a48-094cdb2175e6",
   "metadata": {},
   "outputs": [
    {
     "name": "stdout",
     "output_type": "stream",
     "text": [
      "vowel = 3\n",
      "consonant = 6\n"
     ]
    }
   ],
   "source": [
    "vowel = 0\n",
    "consonant = 0\n",
    "\n",
    "for index in range(len(s)):\n",
    "    char = s[index]\n",
    "\n",
    "    if char == 'a' or char == 'e' or char == 'i' or char == 'o' or char == 'u':\n",
    "        vowel = vowel +1\n",
    "\n",
    "    elif char == \" \":\n",
    "        continue\n",
    "        \n",
    "\n",
    "    else:\n",
    "        consonant = consonant +1\n",
    "print(f\"vowel = {vowel}\")\n",
    "print(f\"consonant = {consonant}\")"
   ]
  },
  {
   "cell_type": "code",
   "execution_count": 29,
   "id": "e161ea91-6e67-4a0b-b22d-1de943642744",
   "metadata": {},
   "outputs": [
    {
     "name": "stdout",
     "output_type": "stream",
     "text": [
      "0\n",
      "1\n"
     ]
    }
   ],
   "source": [
    "for index in range(5):\n",
    "    if index == 2:\n",
    "        break \n",
    "        print(\"Yo vanda tala ko code run hudaina inside loop\")\n",
    "\n",
    "    print(index)"
   ]
  },
  {
   "cell_type": "code",
   "execution_count": 30,
   "id": "4db0cb51-1155-46d2-b37f-0b8726b978cf",
   "metadata": {},
   "outputs": [
    {
     "name": "stdout",
     "output_type": "stream",
     "text": [
      "0\n",
      "1\n",
      "3\n",
      "4\n"
     ]
    }
   ],
   "source": [
    "for index in range(5):\n",
    "    if index == 2:\n",
    "        continue \n",
    "        print(\"Yo vanda tala ko code run hudaina inside loop\")\n",
    "\n",
    "    print(index)"
   ]
  },
  {
   "cell_type": "code",
   "execution_count": null,
   "id": "f517753c-72c7-4e0a-9531-43ef72c23484",
   "metadata": {},
   "outputs": [],
   "source": []
  }
 ],
 "metadata": {
  "kernelspec": {
   "display_name": "Python 3 (ipykernel)",
   "language": "python",
   "name": "python3"
  },
  "language_info": {
   "codemirror_mode": {
    "name": "ipython",
    "version": 3
   },
   "file_extension": ".py",
   "mimetype": "text/x-python",
   "name": "python",
   "nbconvert_exporter": "python",
   "pygments_lexer": "ipython3",
   "version": "3.10.11"
  }
 },
 "nbformat": 4,
 "nbformat_minor": 5
}
