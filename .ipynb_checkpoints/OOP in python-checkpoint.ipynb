{
 "cells": [
  {
   "cell_type": "markdown",
   "id": "f1ea62ec-bc9c-4a3f-95d2-2c8248666002",
   "metadata": {},
   "source": [
    "# class and objects"
   ]
  },
  {
   "cell_type": "code",
   "execution_count": 2,
   "id": "65b8e1a7-b120-41ef-b390-cb6abd6c2a8b",
   "metadata": {},
   "outputs": [],
   "source": [
    "# creating empty class    :  class PascalCase ma lekhne "
   ]
  },
  {
   "cell_type": "code",
   "execution_count": 6,
   "id": "2a4277c0-1fd8-4277-89a0-f24b7dca6eb9",
   "metadata": {},
   "outputs": [],
   "source": [
    "class Mammal :\n",
    "    pass"
   ]
  },
  {
   "cell_type": "code",
   "execution_count": 4,
   "id": "fab53b98-5844-4c91-ab63-11419c6921ee",
   "metadata": {},
   "outputs": [],
   "source": [
    "# creating object from a class"
   ]
  },
  {
   "cell_type": "code",
   "execution_count": 7,
   "id": "5546de38-bf2b-467a-b728-9a9b1e442055",
   "metadata": {},
   "outputs": [],
   "source": [
    "human = Mammal()"
   ]
  },
  {
   "cell_type": "code",
   "execution_count": 8,
   "id": "86199548-4d1c-4ea8-bcc1-6c3e7daa994a",
   "metadata": {},
   "outputs": [
    {
     "data": {
      "text/plain": [
       "__main__.Mammal"
      ]
     },
     "execution_count": 8,
     "metadata": {},
     "output_type": "execute_result"
    }
   ],
   "source": [
    "type (human)"
   ]
  },
  {
   "cell_type": "code",
   "execution_count": 9,
   "id": "7f84101c-32cd-44ca-ba44-a1972dcef8d1",
   "metadata": {},
   "outputs": [],
   "source": [
    "# main is netry point of python program"
   ]
  },
  {
   "cell_type": "code",
   "execution_count": 13,
   "id": "b61aa558-164a-4d76-8949-f2b60c76af6c",
   "metadata": {},
   "outputs": [
    {
     "name": "stdout",
     "output_type": "stream",
     "text": [
      "<class '__main__.Mammal'>\n"
     ]
    }
   ],
   "source": [
    "class Mammal:\n",
    "    pass\n",
    "\n",
    "if __name__ ==  \"__main__\":  # yo line lekhyo vane module import garda yo  muni ko code run hudaina\n",
    "    human = Mammal()\n",
    "    print(type(human))"
   ]
  },
  {
   "cell_type": "code",
   "execution_count": 12,
   "id": "23a634f3-2a21-4750-b60f-46a7b68bbe4c",
   "metadata": {},
   "outputs": [
    {
     "data": {
      "text/plain": [
       "'__main__'"
      ]
     },
     "execution_count": 12,
     "metadata": {},
     "output_type": "execute_result"
    }
   ],
   "source": [
    "__name__"
   ]
  },
  {
   "cell_type": "code",
   "execution_count": null,
   "id": "622c0de4-1e45-4b95-baaa-7c2ad8288911",
   "metadata": {},
   "outputs": [],
   "source": []
  }
 ],
 "metadata": {
  "kernelspec": {
   "display_name": "Python 3 (ipykernel)",
   "language": "python",
   "name": "python3"
  },
  "language_info": {
   "codemirror_mode": {
    "name": "ipython",
    "version": 3
   },
   "file_extension": ".py",
   "mimetype": "text/x-python",
   "name": "python",
   "nbconvert_exporter": "python",
   "pygments_lexer": "ipython3",
   "version": "3.10.11"
  }
 },
 "nbformat": 4,
 "nbformat_minor": 5
}
