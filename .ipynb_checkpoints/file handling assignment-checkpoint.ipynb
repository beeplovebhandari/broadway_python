{
 "cells": [
  {
   "cell_type": "code",
   "execution_count": 1,
   "id": "b4a72466-c951-4bce-827e-1b949bda13b5",
   "metadata": {},
   "outputs": [],
   "source": [
    "import os"
   ]
  },
  {
   "cell_type": "code",
   "execution_count": 3,
   "id": "4ed669c9-2c26-4470-b81c-471591db7632",
   "metadata": {},
   "outputs": [
    {
     "data": {
      "text/plain": [
       "False"
      ]
     },
     "execution_count": 3,
     "metadata": {},
     "output_type": "execute_result"
    }
   ],
   "source": [
    "os.path.exists('std.txt')"
   ]
  },
  {
   "cell_type": "code",
   "execution_count": 4,
   "id": "a503b339-e227-4c4e-8825-415dfe24b75a",
   "metadata": {},
   "outputs": [
    {
     "name": "stdin",
     "output_type": "stream",
     "text": [
      "Enter your name :  Kshitiz\n",
      "Enter your name :  Govind\n",
      "Enter your name :  Ram\n",
      "Enter your name :  Krishna \n",
      "Enter your name :  Shyam \n"
     ]
    }
   ],
   "source": [
    "with open('std.txt' ,'a') as file:\n",
    "    for i in range (5):\n",
    "        name = input(\"Enter your name : \")\n",
    "        file.write(name + \"\\n\")"
   ]
  },
  {
   "cell_type": "code",
   "execution_count": 5,
   "id": "7c2eba01-3b5f-49e6-a841-74ee4ac6228a",
   "metadata": {},
   "outputs": [],
   "source": [
    "with open ('std.txt', 'r') as file:\n",
    "    text = file.read()"
   ]
  },
  {
   "cell_type": "code",
   "execution_count": 7,
   "id": "a8da8ea2-6d31-427f-901e-7d3cd09f439a",
   "metadata": {},
   "outputs": [
    {
     "name": "stdout",
     "output_type": "stream",
     "text": [
      "Kshitiz\n",
      "Govind\n",
      "Ram\n",
      "Krishna \n",
      "Shyam \n",
      "\n"
     ]
    }
   ],
   "source": [
    "print(text)"
   ]
  },
  {
   "cell_type": "code",
   "execution_count": 13,
   "id": "7490437b-091c-423e-9ba2-d9c1af35e1c1",
   "metadata": {},
   "outputs": [],
   "source": [
    "with open('std.txt' ,'r') as file:\n",
    "    tetx = file.readline()"
   ]
  },
  {
   "cell_type": "code",
   "execution_count": 14,
   "id": "90cab488-84a6-4415-a7e5-b8fb04017c2a",
   "metadata": {},
   "outputs": [
    {
     "name": "stdout",
     "output_type": "stream",
     "text": [
      "Kshitiz\n",
      "\n"
     ]
    }
   ],
   "source": [
    "print(tetx)"
   ]
  },
  {
   "cell_type": "code",
   "execution_count": 15,
   "id": "ea9a0065-d3c5-48b4-8f64-11350f5152db",
   "metadata": {},
   "outputs": [],
   "source": [
    "with open('std.txt' ,'r') as file:\n",
    "    tetx = file.readlines()"
   ]
  },
  {
   "cell_type": "code",
   "execution_count": 16,
   "id": "9806009c-c0e6-49a5-9c74-d5c7fbf8056d",
   "metadata": {},
   "outputs": [
    {
     "name": "stdout",
     "output_type": "stream",
     "text": [
      "Kshitiz\n",
      "Govind\n",
      "Ram\n",
      "Krishna \n",
      "Shyam \n",
      "\n"
     ]
    }
   ],
   "source": [
    "print(text)"
   ]
  },
  {
   "cell_type": "code",
   "execution_count": null,
   "id": "ae088228-a293-4984-8540-0e21fe9b898f",
   "metadata": {},
   "outputs": [],
   "source": []
  }
 ],
 "metadata": {
  "kernelspec": {
   "display_name": "Python 3 (ipykernel)",
   "language": "python",
   "name": "python3"
  },
  "language_info": {
   "codemirror_mode": {
    "name": "ipython",
    "version": 3
   },
   "file_extension": ".py",
   "mimetype": "text/x-python",
   "name": "python",
   "nbconvert_exporter": "python",
   "pygments_lexer": "ipython3",
   "version": "3.10.11"
  }
 },
 "nbformat": 4,
 "nbformat_minor": 5
}
