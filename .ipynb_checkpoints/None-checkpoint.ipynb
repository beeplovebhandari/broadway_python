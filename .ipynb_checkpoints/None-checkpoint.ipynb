{
 "cells": [
  {
   "cell_type": "code",
   "execution_count": 1,
   "id": "300682f1-7d0d-4f5a-a929-392d24eac9e6",
   "metadata": {},
   "outputs": [],
   "source": [
    "x = None"
   ]
  },
  {
   "cell_type": "code",
   "execution_count": 2,
   "id": "e770742d-783a-4fb5-b01c-cc7cfdef9062",
   "metadata": {},
   "outputs": [
    {
     "data": {
      "text/plain": [
       "NoneType"
      ]
     },
     "execution_count": 2,
     "metadata": {},
     "output_type": "execute_result"
    }
   ],
   "source": [
    "type(x)"
   ]
  },
  {
   "cell_type": "code",
   "execution_count": 3,
   "id": "4fabb580-4eb0-4c29-a265-cf72bb7eb6aa",
   "metadata": {},
   "outputs": [],
   "source": [
    "x"
   ]
  },
  {
   "cell_type": "code",
   "execution_count": 4,
   "id": "80c1f3c8-939d-4675-96c0-f76300c42ed0",
   "metadata": {},
   "outputs": [
    {
     "name": "stdout",
     "output_type": "stream",
     "text": [
      "None\n"
     ]
    }
   ],
   "source": [
    "print(x)"
   ]
  },
  {
   "cell_type": "markdown",
   "id": "140403ab-64b6-4dfe-bd8c-227159a2fe96",
   "metadata": {},
   "source": [
    "# Identity Operators\n",
    "Identity operators are used to compare the objects , not if they are equal , but if they are actually same objectt , with the same memory location:\n"
   ]
  },
  {
   "cell_type": "code",
   "execution_count": 5,
   "id": "3739e265-db9f-48ba-b7ae-5dc9ac90e828",
   "metadata": {},
   "outputs": [],
   "source": [
    "# None means empty or missing"
   ]
  },
  {
   "cell_type": "code",
   "execution_count": 6,
   "id": "54a0870d-722c-4531-af74-b56b3cc0b4d1",
   "metadata": {},
   "outputs": [
    {
     "data": {
      "text/plain": [
       "True"
      ]
     },
     "execution_count": 6,
     "metadata": {},
     "output_type": "execute_result"
    }
   ],
   "source": [
    "x == None # not a preffed way"
   ]
  },
  {
   "cell_type": "code",
   "execution_count": 7,
   "id": "aaf78caf-4230-4527-b582-1d1baecb4167",
   "metadata": {},
   "outputs": [
    {
     "data": {
      "text/plain": [
       "True"
      ]
     },
     "execution_count": 7,
     "metadata": {},
     "output_type": "execute_result"
    }
   ],
   "source": [
    "x is None # identity operator"
   ]
  },
  {
   "cell_type": "code",
   "execution_count": 8,
   "id": "3cc1652b-43e3-4d33-a922-515299995d28",
   "metadata": {},
   "outputs": [
    {
     "data": {
      "text/plain": [
       "False"
      ]
     },
     "execution_count": 8,
     "metadata": {},
     "output_type": "execute_result"
    }
   ],
   "source": [
    "x is not None \n"
   ]
  },
  {
   "cell_type": "code",
   "execution_count": 9,
   "id": "aa677118-25b8-401a-a132-9c02df8a7ca8",
   "metadata": {},
   "outputs": [
    {
     "data": {
      "text/plain": [
       "False"
      ]
     },
     "execution_count": 9,
     "metadata": {},
     "output_type": "execute_result"
    }
   ],
   "source": [
    "x is float"
   ]
  },
  {
   "cell_type": "code",
   "execution_count": null,
   "id": "a0525a0d-d200-4b4e-97ab-329eb2b95195",
   "metadata": {},
   "outputs": [],
   "source": []
  }
 ],
 "metadata": {
  "kernelspec": {
   "display_name": "Python 3 (ipykernel)",
   "language": "python",
   "name": "python3"
  },
  "language_info": {
   "codemirror_mode": {
    "name": "ipython",
    "version": 3
   },
   "file_extension": ".py",
   "mimetype": "text/x-python",
   "name": "python",
   "nbconvert_exporter": "python",
   "pygments_lexer": "ipython3",
   "version": "3.10.11"
  }
 },
 "nbformat": 4,
 "nbformat_minor": 5
}
