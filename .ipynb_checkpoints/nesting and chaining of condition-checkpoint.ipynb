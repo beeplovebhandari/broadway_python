{
 "cells": [
  {
   "cell_type": "code",
   "execution_count": 1,
   "id": "415360b6-f99d-4ebd-b1f8-87640c5cb674",
   "metadata": {},
   "outputs": [
    {
     "name": "stdin",
     "output_type": "stream",
     "text": [
      "Enter a number :  143\n"
     ]
    },
    {
     "name": "stdout",
     "output_type": "stream",
     "text": [
      "The last digit number is divisible by 3\n"
     ]
    }
   ],
   "source": [
    "number = int(input(\"Enter a number : \"))\n",
    "last_digit = number %10 \n",
    "if last_digit  %3 == 0 :\n",
    "    print(\"The last digit number is divisible by 3\")\n",
    "\n",
    "else:\n",
    "    (\"The last digit number is not divisible by 3\")"
   ]
  },
  {
   "cell_type": "code",
   "execution_count": 4,
   "id": "1e16f37d-4874-4d5d-b0b6-566f68f00d32",
   "metadata": {},
   "outputs": [
    {
     "name": "stdin",
     "output_type": "stream",
     "text": [
      "(Enter a number :  -2\n"
     ]
    },
    {
     "name": "stdout",
     "output_type": "stream",
     "text": [
      "Negative\n"
     ]
    }
   ],
   "source": [
    "number = int(input(\"(Enter a number : \"))\n",
    "if number <0:\n",
    "    print(\"Negative\")\n",
    "\n",
    "elif number == 0:\n",
    "    print(\"Neutral\")\n",
    "\n",
    "else:\n",
    "    print(\"Positive\")"
   ]
  },
  {
   "cell_type": "code",
   "execution_count": 13,
   "id": "1ee481f7-e03b-497f-830b-e01cae39490f",
   "metadata": {},
   "outputs": [
    {
     "name": "stdin",
     "output_type": "stream",
     "text": [
      "(Enter a number :  0\n"
     ]
    },
    {
     "name": "stdout",
     "output_type": "stream",
     "text": [
      "Neutral\n"
     ]
    }
   ],
   "source": [
    "number = int(input(\"(Enter a number : \"))\n",
    "if number <0:\n",
    "    print(\"Negative\")\n",
    "else:\n",
    "    if number == 0:\n",
    "        print(\"Neutral\")\n",
    "    else:\n",
    "        print(\"Positive\")\n",
    "    "
   ]
  },
  {
   "cell_type": "code",
   "execution_count": 2,
   "id": "20d42d70-6db1-4cb2-9881-de0f285e9f1c",
   "metadata": {},
   "outputs": [
    {
     "name": "stdout",
     "output_type": "stream",
     "text": [
      "You obtained first division\n"
     ]
    }
   ],
   "source": [
    "percent = 76\n",
    "if percent > 80:\n",
    "    print(\"You obtained distincion devision\")\n",
    "\n",
    "elif  percent > 60:\n",
    "    print(\"You obtained first division\")\n"
   ]
  },
  {
   "cell_type": "code",
   "execution_count": null,
   "id": "ebaa6732-92f1-46cb-a349-b2334f6666c7",
   "metadata": {},
   "outputs": [],
   "source": []
  }
 ],
 "metadata": {
  "kernelspec": {
   "display_name": "Python 3 (ipykernel)",
   "language": "python",
   "name": "python3"
  },
  "language_info": {
   "codemirror_mode": {
    "name": "ipython",
    "version": 3
   },
   "file_extension": ".py",
   "mimetype": "text/x-python",
   "name": "python",
   "nbconvert_exporter": "python",
   "pygments_lexer": "ipython3",
   "version": "3.10.11"
  }
 },
 "nbformat": 4,
 "nbformat_minor": 5
}
