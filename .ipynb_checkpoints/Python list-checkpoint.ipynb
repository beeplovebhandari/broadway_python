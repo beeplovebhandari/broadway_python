{
 "cells": [
  {
   "cell_type": "markdown",
   "id": "7903d7cb-3917-40f9-80c4-9cc4d76d7523",
   "metadata": {},
   "source": [
    "# List\n",
    "* Collection of item under one variable name\n",
    "* supports multiple data types\n",
    "* ordered and indexed\n",
    "* support duplicate data"
   ]
  },
  {
   "cell_type": "code",
   "execution_count": 1,
   "id": "6ce8c48a-7856-4e3a-a22a-9722c4b7059f",
   "metadata": {},
   "outputs": [],
   "source": [
    "# creating empty list"
   ]
  },
  {
   "cell_type": "code",
   "execution_count": 2,
   "id": "05a1757a-946c-44b1-96ad-af74a462e397",
   "metadata": {},
   "outputs": [
    {
     "name": "stdout",
     "output_type": "stream",
     "text": [
      "<class 'list'>\n"
     ]
    }
   ],
   "source": [
    "l1 = []\n",
    "print(type(l1))"
   ]
  },
  {
   "cell_type": "code",
   "execution_count": 5,
   "id": "4d3c6a6e-e3f1-4ee4-907f-db289b8b2776",
   "metadata": {},
   "outputs": [
    {
     "name": "stdout",
     "output_type": "stream",
     "text": [
      "<class 'list'>\n"
     ]
    }
   ],
   "source": [
    "l2 = list() # using list constructor , constructor is used to create an object\n",
    "print(type(l2))"
   ]
  },
  {
   "cell_type": "code",
   "execution_count": 7,
   "id": "0fd83c9f-7b45-4305-91c4-5d267faf7221",
   "metadata": {},
   "outputs": [],
   "source": [
    "sample = [True, 2.2, 'ktm', True]"
   ]
  },
  {
   "cell_type": "code",
   "execution_count": 8,
   "id": "32592322-ab87-48aa-a11e-a290139b3354",
   "metadata": {},
   "outputs": [
    {
     "data": {
      "text/plain": [
       "[True, 2.2, 'ktm', True]"
      ]
     },
     "execution_count": 8,
     "metadata": {},
     "output_type": "execute_result"
    }
   ],
   "source": [
    "sample"
   ]
  },
  {
   "cell_type": "markdown",
   "id": "49bef372-8b4a-44f3-99b9-571cc626faac",
   "metadata": {},
   "source": [
    "# Creting Your Own List"
   ]
  },
  {
   "cell_type": "code",
   "execution_count": 9,
   "id": "1ef1addf-d10a-4740-ba5a-9228618a1a87",
   "metadata": {},
   "outputs": [],
   "source": [
    "thakali_set = [\"Bhaat\", \"Masu\", \"Dal\", \"Gundruk\", \"Gheu\", \"chatni\",\"sag\",\"pappad\", \"salad\"]  "
   ]
  },
  {
   "cell_type": "code",
   "execution_count": 10,
   "id": "1b873a5c-4009-4b79-a664-4800daea3ecb",
   "metadata": {},
   "outputs": [
    {
     "name": "stdout",
     "output_type": "stream",
     "text": [
      "['Bhaat', 'Masu', 'Dal', 'Gundruk', 'Gheu', 'chatni', 'sag', 'pappad', 'salad']\n"
     ]
    }
   ],
   "source": [
    "print(thakali_set)"
   ]
  },
  {
   "cell_type": "markdown",
   "id": "ac05e505-a0e5-4b33-801f-400039ab859b",
   "metadata": {},
   "source": [
    "# Indexing and Slicing"
   ]
  },
  {
   "cell_type": "code",
   "execution_count": 11,
   "id": "18b602c7-17ab-4591-b7cf-0ddc8bbfae5a",
   "metadata": {},
   "outputs": [
    {
     "data": {
      "text/plain": [
       "'Bhaat'"
      ]
     },
     "execution_count": 11,
     "metadata": {},
     "output_type": "execute_result"
    }
   ],
   "source": [
    "thakali_set[0]"
   ]
  },
  {
   "cell_type": "code",
   "execution_count": 12,
   "id": "a4ec6ca9-96d4-47cc-8be8-daf85e8beb6d",
   "metadata": {},
   "outputs": [
    {
     "data": {
      "text/plain": [
       "'Masu'"
      ]
     },
     "execution_count": 12,
     "metadata": {},
     "output_type": "execute_result"
    }
   ],
   "source": [
    "thakali_set[1]"
   ]
  },
  {
   "cell_type": "code",
   "execution_count": 13,
   "id": "2352043f-9259-4e38-99cb-08b7798b681d",
   "metadata": {},
   "outputs": [
    {
     "data": {
      "text/plain": [
       "'Gundruk'"
      ]
     },
     "execution_count": 13,
     "metadata": {},
     "output_type": "execute_result"
    }
   ],
   "source": [
    "thakali_set[3]"
   ]
  },
  {
   "cell_type": "code",
   "execution_count": 14,
   "id": "e8a14712-7d3b-4be5-813b-8be6e6fb5ce3",
   "metadata": {},
   "outputs": [
    {
     "data": {
      "text/plain": [
       "'Gheu'"
      ]
     },
     "execution_count": 14,
     "metadata": {},
     "output_type": "execute_result"
    }
   ],
   "source": [
    "thakali_set[4]"
   ]
  },
  {
   "cell_type": "code",
   "execution_count": 15,
   "id": "468b34e1-5219-4de8-a3a7-d6eaf4a2ff67",
   "metadata": {},
   "outputs": [
    {
     "data": {
      "text/plain": [
       "'chatni'"
      ]
     },
     "execution_count": 15,
     "metadata": {},
     "output_type": "execute_result"
    }
   ],
   "source": [
    "thakali_set[5]"
   ]
  },
  {
   "cell_type": "code",
   "execution_count": 16,
   "id": "90770b51-dd06-441e-90ca-6ea8fec52c9c",
   "metadata": {},
   "outputs": [
    {
     "data": {
      "text/plain": [
       "'sag'"
      ]
     },
     "execution_count": 16,
     "metadata": {},
     "output_type": "execute_result"
    }
   ],
   "source": [
    "thakali_set[6]"
   ]
  },
  {
   "cell_type": "code",
   "execution_count": 17,
   "id": "a7968354-e8bb-4ecf-a916-34e51c27dacf",
   "metadata": {},
   "outputs": [
    {
     "data": {
      "text/plain": [
       "'pappad'"
      ]
     },
     "execution_count": 17,
     "metadata": {},
     "output_type": "execute_result"
    }
   ],
   "source": [
    "thakali_set[7]"
   ]
  },
  {
   "cell_type": "code",
   "execution_count": 18,
   "id": "96df16db-ffd2-4ead-acee-742c0eb76435",
   "metadata": {},
   "outputs": [
    {
     "data": {
      "text/plain": [
       "'salad'"
      ]
     },
     "execution_count": 18,
     "metadata": {},
     "output_type": "execute_result"
    }
   ],
   "source": [
    "thakali_set[8]"
   ]
  },
  {
   "cell_type": "code",
   "execution_count": 19,
   "id": "d1b04cd6-fe98-4a28-8901-ab5ab9cefc57",
   "metadata": {},
   "outputs": [
    {
     "ename": "IndexError",
     "evalue": "list index out of range",
     "output_type": "error",
     "traceback": [
      "\u001b[1;31m---------------------------------------------------------------------------\u001b[0m",
      "\u001b[1;31mIndexError\u001b[0m                                Traceback (most recent call last)",
      "Cell \u001b[1;32mIn[19], line 1\u001b[0m\n\u001b[1;32m----> 1\u001b[0m \u001b[43mthakali_set\u001b[49m\u001b[43m[\u001b[49m\u001b[38;5;241;43m9\u001b[39;49m\u001b[43m]\u001b[49m\n",
      "\u001b[1;31mIndexError\u001b[0m: list index out of range"
     ]
    }
   ],
   "source": [
    "thakali_set[9]"
   ]
  },
  {
   "cell_type": "code",
   "execution_count": 20,
   "id": "2a1bf5f7-90eb-42b5-9127-a495b45cd2ad",
   "metadata": {},
   "outputs": [],
   "source": [
    "# slice and find gundruk , gheu , chatni\n",
    "# slice and find bhaat and masu\n",
    "# slice and find  dal and gundruk\n",
    "# slide and find \"bhaat\", \"dal\", \"gheu\",...(skip one item from start)"
   ]
  },
  {
   "cell_type": "code",
   "execution_count": 22,
   "id": "a3ece977-cf68-43a3-9d62-752aa4e57053",
   "metadata": {},
   "outputs": [
    {
     "data": {
      "text/plain": [
       "['Gundruk', 'Gheu', 'chatni']"
      ]
     },
     "execution_count": 22,
     "metadata": {},
     "output_type": "execute_result"
    }
   ],
   "source": [
    "thakali_set[3:6]"
   ]
  },
  {
   "cell_type": "code",
   "execution_count": 24,
   "id": "c0b62506-efe8-4454-ba3a-897207be5134",
   "metadata": {},
   "outputs": [
    {
     "data": {
      "text/plain": [
       "['Bhaat', 'Masu']"
      ]
     },
     "execution_count": 24,
     "metadata": {},
     "output_type": "execute_result"
    }
   ],
   "source": [
    "thakali_set[0:2]"
   ]
  },
  {
   "cell_type": "code",
   "execution_count": 25,
   "id": "7b16ecd2-b2ae-4e2e-9448-d82c9a8c75cb",
   "metadata": {},
   "outputs": [
    {
     "data": {
      "text/plain": [
       "['Dal', 'Gundruk']"
      ]
     },
     "execution_count": 25,
     "metadata": {},
     "output_type": "execute_result"
    }
   ],
   "source": [
    "thakali_set[2:4]"
   ]
  },
  {
   "cell_type": "code",
   "execution_count": 26,
   "id": "e654b7a0-7207-4b15-9ce2-7dfb7b17b639",
   "metadata": {},
   "outputs": [
    {
     "data": {
      "text/plain": [
       "['Bhaat', 'Dal', 'Gheu', 'sag', 'salad']"
      ]
     },
     "execution_count": 26,
     "metadata": {},
     "output_type": "execute_result"
    }
   ],
   "source": [
    "thakali_set[0:len(thakali_set):2]"
   ]
  },
  {
   "cell_type": "code",
   "execution_count": 27,
   "id": "224c8ee0-d443-4dc9-b4f0-789da631c0ad",
   "metadata": {},
   "outputs": [
    {
     "data": {
      "text/plain": [
       "['Bhaat', 'Dal', 'Gheu', 'sag', 'salad']"
      ]
     },
     "execution_count": 27,
     "metadata": {},
     "output_type": "execute_result"
    }
   ],
   "source": [
    "thakali_set[::2]"
   ]
  },
  {
   "cell_type": "markdown",
   "id": "4f09c486-c5bc-43ad-9c93-81bf3b27ed41",
   "metadata": {},
   "source": [
    "# Negative Indexing"
   ]
  },
  {
   "cell_type": "code",
   "execution_count": 28,
   "id": "4ddef675-3c58-4ffc-a971-aacd22a029a3",
   "metadata": {},
   "outputs": [],
   "source": [
    "thakali_set = [\"Bhaat\", \"Masu\", \"Dal\", \"Gundruk\", \"Gheu\", \"chatni\",\"sag\",\"pappad\", \"salad\"]  "
   ]
  },
  {
   "cell_type": "code",
   "execution_count": 29,
   "id": "ffb4b129-c3a1-44e9-bc76-dc45dfc958ad",
   "metadata": {},
   "outputs": [
    {
     "data": {
      "text/plain": [
       "'salad'"
      ]
     },
     "execution_count": 29,
     "metadata": {},
     "output_type": "execute_result"
    }
   ],
   "source": [
    "thakali_set[-1]"
   ]
  },
  {
   "cell_type": "code",
   "execution_count": 30,
   "id": "c063ea8c-d6f0-43f6-9938-a27d3c81cc46",
   "metadata": {},
   "outputs": [
    {
     "data": {
      "text/plain": [
       "'pappad'"
      ]
     },
     "execution_count": 30,
     "metadata": {},
     "output_type": "execute_result"
    }
   ],
   "source": [
    "thakali_set[-2]"
   ]
  },
  {
   "cell_type": "code",
   "execution_count": 31,
   "id": "9b9cd618-d4bb-4a73-91ed-82806c885d7f",
   "metadata": {},
   "outputs": [
    {
     "data": {
      "text/plain": [
       "'sag'"
      ]
     },
     "execution_count": 31,
     "metadata": {},
     "output_type": "execute_result"
    }
   ],
   "source": [
    "thakali_set[-3]"
   ]
  },
  {
   "cell_type": "code",
   "execution_count": 32,
   "id": "eec28aec-8d11-4ffa-af2c-bc687d79455c",
   "metadata": {},
   "outputs": [
    {
     "data": {
      "text/plain": [
       "'chatni'"
      ]
     },
     "execution_count": 32,
     "metadata": {},
     "output_type": "execute_result"
    }
   ],
   "source": [
    "thakali_set[-4]"
   ]
  },
  {
   "cell_type": "code",
   "execution_count": 33,
   "id": "8acf426e-8ea2-4922-9c53-ce34cf6c4dff",
   "metadata": {},
   "outputs": [
    {
     "data": {
      "text/plain": [
       "'Gheu'"
      ]
     },
     "execution_count": 33,
     "metadata": {},
     "output_type": "execute_result"
    }
   ],
   "source": [
    "thakali_set[-5]"
   ]
  },
  {
   "cell_type": "code",
   "execution_count": 34,
   "id": "230d48b3-e756-4d2c-9f4e-17dcdcdabe67",
   "metadata": {},
   "outputs": [
    {
     "data": {
      "text/plain": [
       "'Gundruk'"
      ]
     },
     "execution_count": 34,
     "metadata": {},
     "output_type": "execute_result"
    }
   ],
   "source": [
    "thakali_set[-6]"
   ]
  },
  {
   "cell_type": "code",
   "execution_count": 35,
   "id": "2ad17be9-ec07-4f88-9bc3-3a6f32821942",
   "metadata": {},
   "outputs": [
    {
     "data": {
      "text/plain": [
       "'Dal'"
      ]
     },
     "execution_count": 35,
     "metadata": {},
     "output_type": "execute_result"
    }
   ],
   "source": [
    "thakali_set[-7]"
   ]
  },
  {
   "cell_type": "code",
   "execution_count": 36,
   "id": "58fa1da2-f5ee-450c-a00f-4e7cf40d4910",
   "metadata": {},
   "outputs": [
    {
     "data": {
      "text/plain": [
       "'Masu'"
      ]
     },
     "execution_count": 36,
     "metadata": {},
     "output_type": "execute_result"
    }
   ],
   "source": [
    "thakali_set[-8]"
   ]
  },
  {
   "cell_type": "code",
   "execution_count": 37,
   "id": "e2281099-2ebc-4b5c-8934-7e53efd93301",
   "metadata": {},
   "outputs": [
    {
     "data": {
      "text/plain": [
       "'Bhaat'"
      ]
     },
     "execution_count": 37,
     "metadata": {},
     "output_type": "execute_result"
    }
   ],
   "source": [
    "thakali_set[-9]"
   ]
  },
  {
   "cell_type": "code",
   "execution_count": 38,
   "id": "6d7d9d7a-dd20-4feb-bf5a-d65247713b75",
   "metadata": {},
   "outputs": [
    {
     "ename": "IndexError",
     "evalue": "list index out of range",
     "output_type": "error",
     "traceback": [
      "\u001b[1;31m---------------------------------------------------------------------------\u001b[0m",
      "\u001b[1;31mIndexError\u001b[0m                                Traceback (most recent call last)",
      "Cell \u001b[1;32mIn[38], line 1\u001b[0m\n\u001b[1;32m----> 1\u001b[0m \u001b[43mthakali_set\u001b[49m\u001b[43m[\u001b[49m\u001b[38;5;241;43m-\u001b[39;49m\u001b[38;5;241;43m10\u001b[39;49m\u001b[43m]\u001b[49m\n",
      "\u001b[1;31mIndexError\u001b[0m: list index out of range"
     ]
    }
   ],
   "source": [
    "thakali_set[-10]"
   ]
  },
  {
   "cell_type": "code",
   "execution_count": 39,
   "id": "06da829f-8df7-4c5f-b55d-cd59f7245c46",
   "metadata": {},
   "outputs": [
    {
     "data": {
      "text/plain": [
       "['pappad', 'salad']"
      ]
     },
     "execution_count": 39,
     "metadata": {},
     "output_type": "execute_result"
    }
   ],
   "source": [
    "thakali_set[-2:]"
   ]
  },
  {
   "cell_type": "code",
   "execution_count": 40,
   "id": "f1ad2a0d-58fa-4280-80a4-2a94cf537706",
   "metadata": {},
   "outputs": [
    {
     "data": {
      "text/plain": [
       "['Gheu', 'chatni', 'sag']"
      ]
     },
     "execution_count": 40,
     "metadata": {},
     "output_type": "execute_result"
    }
   ],
   "source": [
    "thakali_set[-5: -2]"
   ]
  },
  {
   "cell_type": "markdown",
   "id": "38378c61-0c49-4b50-8d2f-19c14d2ccdb7",
   "metadata": {},
   "source": [
    "# Loop in Python List"
   ]
  },
  {
   "cell_type": "code",
   "execution_count": 48,
   "id": "ff11b4cb-6f00-4e5c-9cf2-4cc7efb50925",
   "metadata": {
    "scrolled": true
   },
   "outputs": [
    {
     "name": "stdout",
     "output_type": "stream",
     "text": [
      "Bhaat\n",
      "Masu\n",
      "Dal\n",
      "Gundruk\n",
      "Gheu\n",
      "chatni\n",
      "sag\n",
      "pappad\n",
      "salad\n"
     ]
    }
   ],
   "source": [
    "thakali_set = [\"Bhaat\", \"Masu\", \"Dal\", \"Gundruk\", \"Gheu\", \"chatni\",\"sag\",\"pappad\", \"salad\"]  \n",
    "for index in range (0,len(thakali_set),1):\n",
    "    print(thakali_set[index])\n",
    "    "
   ]
  },
  {
   "cell_type": "code",
   "execution_count": 45,
   "id": "254fd999-b848-416c-b264-2e7224b4ab24",
   "metadata": {},
   "outputs": [
    {
     "name": "stdout",
     "output_type": "stream",
     "text": [
      "index = 0 and list = Bhaat\n",
      "index = 1 and list = Masu\n",
      "index = 2 and list = Dal\n",
      "index = 3 and list = Gundruk\n",
      "index = 4 and list = Gheu\n",
      "index = 5 and list = chatni\n",
      "index = 6 and list = sag\n",
      "index = 7 and list = pappad\n",
      "index = 8 and list = salad\n"
     ]
    }
   ],
   "source": [
    "thakali_set = [\"Bhaat\", \"Masu\", \"Dal\", \"Gundruk\", \"Gheu\", \"chatni\",\"sag\",\"pappad\", \"salad\"]  \n",
    "for index in range (0,len(thakali_set),1):\n",
    "    s = thakali_set[index]\n",
    "    print(f\"index = {index} and list = {s}\")"
   ]
  },
  {
   "cell_type": "markdown",
   "id": "46326bba-9f91-433e-acf4-50332f7eefb3",
   "metadata": {},
   "source": [
    "#  find total of gien lsit"
   ]
  },
  {
   "cell_type": "code",
   "execution_count": 49,
   "id": "434f9ba0-c9fc-4bb2-95c8-fa6ad789e461",
   "metadata": {},
   "outputs": [],
   "source": [
    "num = [5,7,6,8]"
   ]
  },
  {
   "cell_type": "code",
   "execution_count": 53,
   "id": "1fe33176-9412-4eee-96e8-3dc505acbf6e",
   "metadata": {},
   "outputs": [
    {
     "name": "stdout",
     "output_type": "stream",
     "text": [
      "26\n"
     ]
    }
   ],
   "source": [
    "total= 0\n",
    "for index in range (len(num)):\n",
    "    item = num[index]\n",
    "    total = item+total\n",
    "     \n",
    "print(total)\n",
    "    "
   ]
  },
  {
   "cell_type": "code",
   "execution_count": 56,
   "id": "103ac1e8-25ca-42e0-94e8-062049cc304f",
   "metadata": {},
   "outputs": [
    {
     "name": "stdout",
     "output_type": "stream",
     "text": [
      "6.5\n"
     ]
    }
   ],
   "source": [
    "total = 0\n",
    "for index in range (len(num)):\n",
    "    item = num[index]\n",
    "    total = item + total\n",
    "\n",
    "n = len(num)\n",
    "mean = total/n\n",
    "\n",
    "print(mean)"
   ]
  },
  {
   "cell_type": "markdown",
   "id": "35e3d8ff-00b8-4486-bc33-955ff7c9b39b",
   "metadata": {},
   "source": [
    "# Membership Operator"
   ]
  },
  {
   "cell_type": "code",
   "execution_count": 57,
   "id": "d51ef37a-ea1d-4287-93f1-b777d86ea03b",
   "metadata": {},
   "outputs": [],
   "source": [
    "thakali_set = [\"Bhaat\", \"Masu\", \"Dal\", \"Gundruk\", \"Gheu\", \"chatni\",\"sag\",\"pappad\", \"salad\"]  "
   ]
  },
  {
   "cell_type": "code",
   "execution_count": 58,
   "id": "25ed3b0c-6935-42c0-8411-7127a3f8e08e",
   "metadata": {},
   "outputs": [
    {
     "data": {
      "text/plain": [
       "True"
      ]
     },
     "execution_count": 58,
     "metadata": {},
     "output_type": "execute_result"
    }
   ],
   "source": [
    "\"Masu\" in thakali_set"
   ]
  },
  {
   "cell_type": "code",
   "execution_count": 60,
   "id": "e0f4fe89-3dcb-4c47-aa6b-b669a848edc6",
   "metadata": {},
   "outputs": [
    {
     "data": {
      "text/plain": [
       "False"
      ]
     },
     "execution_count": 60,
     "metadata": {},
     "output_type": "execute_result"
    }
   ],
   "source": [
    "\"Masu\" not in thakali_set"
   ]
  },
  {
   "cell_type": "code",
   "execution_count": 61,
   "id": "5639990c-c01f-432f-b946-56435d24c0fd",
   "metadata": {},
   "outputs": [
    {
     "data": {
      "text/plain": [
       "False"
      ]
     },
     "execution_count": 61,
     "metadata": {},
     "output_type": "execute_result"
    }
   ],
   "source": [
    "\"Kauli\" in thakali_set"
   ]
  },
  {
   "cell_type": "code",
   "execution_count": 62,
   "id": "372efbb3-cf48-48a2-8c93-b50541b84c2d",
   "metadata": {},
   "outputs": [
    {
     "data": {
      "text/plain": [
       "True"
      ]
     },
     "execution_count": 62,
     "metadata": {},
     "output_type": "execute_result"
    }
   ],
   "source": [
    "\"Kauli\" not in thakali_set"
   ]
  },
  {
   "cell_type": "code",
   "execution_count": 63,
   "id": "f4587619-745a-4991-bf3c-d847fcfe4232",
   "metadata": {},
   "outputs": [
    {
     "data": {
      "text/plain": [
       "True"
      ]
     },
     "execution_count": 63,
     "metadata": {},
     "output_type": "execute_result"
    }
   ],
   "source": [
    "msg = 'hello'\n",
    "'e' in msg"
   ]
  },
  {
   "cell_type": "markdown",
   "id": "abb19035-9547-4cae-aa02-632b7ac16ac5",
   "metadata": {},
   "source": [
    "# List Method "
   ]
  },
  {
   "cell_type": "code",
   "execution_count": 69,
   "id": "36fb3aac-abae-419b-b771-e9d12be695f8",
   "metadata": {},
   "outputs": [
    {
     "data": {
      "text/plain": [
       "1740546571520"
      ]
     },
     "execution_count": 69,
     "metadata": {},
     "output_type": "execute_result"
    }
   ],
   "source": [
    "cars = [ \"Mercedes\" , \"BMW\" , \"Tesla\" , \"Bugati\" , \"Audi\" , \"lambo\"]\n",
    "id(cars)"
   ]
  },
  {
   "cell_type": "code",
   "execution_count": 65,
   "id": "668f9817-df74-4837-a691-790b180fa32f",
   "metadata": {},
   "outputs": [
    {
     "data": {
      "text/plain": [
       "'Tesla'"
      ]
     },
     "execution_count": 65,
     "metadata": {},
     "output_type": "execute_result"
    }
   ],
   "source": [
    "cars[2]"
   ]
  },
  {
   "cell_type": "code",
   "execution_count": 66,
   "id": "70ccb94f-223b-43a2-ac83-1813fe85d863",
   "metadata": {},
   "outputs": [],
   "source": [
    "cars[2] = 'Bently' #list is a mutable data type"
   ]
  },
  {
   "cell_type": "code",
   "execution_count": 70,
   "id": "62972220-ff94-4f22-b40f-3c5bc566ccc2",
   "metadata": {},
   "outputs": [
    {
     "data": {
      "text/plain": [
       "1740546571520"
      ]
     },
     "execution_count": 70,
     "metadata": {},
     "output_type": "execute_result"
    }
   ],
   "source": [
    "id(cars)"
   ]
  },
  {
   "cell_type": "code",
   "execution_count": 72,
   "id": "a7e17c94-3a75-4d41-b840-dcff99046378",
   "metadata": {},
   "outputs": [
    {
     "name": "stdout",
     "output_type": "stream",
     "text": [
      "['apple', ' blackcurrant', 'watrermelon', 'orange', 'kiwi', 'mango']\n"
     ]
    }
   ],
   "source": [
    "fruits = [\"apple\" , \"banana\", \"mango\" , \"orange\" , \"kiwi\" , \"mango\"]\n",
    "fruits[1:3] = [\" blackcurrant\" , \"watrermelon\"]\n",
    "print(fruits)"
   ]
  },
  {
   "cell_type": "markdown",
   "id": "0603abe6-b5e2-4c21-bcb4-51e1e7d79cc4",
   "metadata": {},
   "source": [
    "# insert"
   ]
  },
  {
   "cell_type": "code",
   "execution_count": 73,
   "id": "1d290089-515c-48ec-a611-b9ba36377c48",
   "metadata": {},
   "outputs": [],
   "source": [
    "fruits = [\"apple\" , \"banana\", \"mango\" , \"orange\" , \"kiwi\" , \"mango\"]\n",
    "fruits.insert(1,\"litchi\")"
   ]
  },
  {
   "cell_type": "code",
   "execution_count": 74,
   "id": "07fad8a6-27ad-40a5-b7aa-652570195371",
   "metadata": {},
   "outputs": [
    {
     "data": {
      "text/plain": [
       "['apple', 'litchi', 'banana', 'mango', 'orange', 'kiwi', 'mango']"
      ]
     },
     "execution_count": 74,
     "metadata": {},
     "output_type": "execute_result"
    }
   ],
   "source": [
    "fruits"
   ]
  },
  {
   "cell_type": "code",
   "execution_count": 75,
   "id": "c85f621a-0ac8-4b8d-a5b4-d4ef0ec974c4",
   "metadata": {},
   "outputs": [
    {
     "data": {
      "text/plain": [
       "'banana'"
      ]
     },
     "execution_count": 75,
     "metadata": {},
     "output_type": "execute_result"
    }
   ],
   "source": [
    "fruits[2]"
   ]
  },
  {
   "cell_type": "code",
   "execution_count": 76,
   "id": "b0a6f3cb-26eb-44fd-b761-c9db67dde66c",
   "metadata": {},
   "outputs": [
    {
     "data": {
      "text/plain": [
       "'mango'"
      ]
     },
     "execution_count": 76,
     "metadata": {},
     "output_type": "execute_result"
    }
   ],
   "source": [
    "fruits[3]"
   ]
  },
  {
   "cell_type": "code",
   "execution_count": 77,
   "id": "dfd2721d-3b99-465d-a012-964c7ca464e6",
   "metadata": {},
   "outputs": [
    {
     "data": {
      "text/plain": [
       "'litchi'"
      ]
     },
     "execution_count": 77,
     "metadata": {},
     "output_type": "execute_result"
    }
   ],
   "source": [
    "fruits[1]"
   ]
  },
  {
   "cell_type": "markdown",
   "id": "ee977062-3298-4d0e-9dbc-d0ca6885fc87",
   "metadata": {},
   "source": [
    "# Append"
   ]
  },
  {
   "cell_type": "code",
   "execution_count": 78,
   "id": "5e2112e1-e432-4ed9-9f08-5d1ef0637fa6",
   "metadata": {},
   "outputs": [],
   "source": [
    "line = []"
   ]
  },
  {
   "cell_type": "code",
   "execution_count": 79,
   "id": "a06f89a0-1c9d-4d15-9bef-abe1105e936b",
   "metadata": {},
   "outputs": [],
   "source": [
    "line.append(\"Beeplove\")"
   ]
  },
  {
   "cell_type": "code",
   "execution_count": 80,
   "id": "b21543d7-4bfc-4c35-8d3c-ac47a8fa4612",
   "metadata": {},
   "outputs": [
    {
     "data": {
      "text/plain": [
       "['Beeplove']"
      ]
     },
     "execution_count": 80,
     "metadata": {},
     "output_type": "execute_result"
    }
   ],
   "source": [
    "line"
   ]
  },
  {
   "cell_type": "code",
   "execution_count": 81,
   "id": "7b3188a7-6f73-4040-8e36-a1311fae8870",
   "metadata": {},
   "outputs": [],
   "source": [
    "line.append(\"Sishir\")"
   ]
  },
  {
   "cell_type": "code",
   "execution_count": 82,
   "id": "241e3e48-7ed3-484c-820e-356487ff639a",
   "metadata": {},
   "outputs": [
    {
     "data": {
      "text/plain": [
       "['Beeplove', 'Sishir']"
      ]
     },
     "execution_count": 82,
     "metadata": {},
     "output_type": "execute_result"
    }
   ],
   "source": [
    "line"
   ]
  },
  {
   "cell_type": "code",
   "execution_count": 83,
   "id": "0547ecf2-7c02-4558-8fe6-18965d713ce6",
   "metadata": {},
   "outputs": [],
   "source": [
    "line.append(\"kshitiz\")"
   ]
  },
  {
   "cell_type": "code",
   "execution_count": 84,
   "id": "6ce7ebd2-8d1d-4f47-815b-1039f9f511ac",
   "metadata": {},
   "outputs": [
    {
     "data": {
      "text/plain": [
       "['Beeplove', 'Sishir', 'kshitiz']"
      ]
     },
     "execution_count": 84,
     "metadata": {},
     "output_type": "execute_result"
    }
   ],
   "source": [
    "line"
   ]
  },
  {
   "cell_type": "code",
   "execution_count": 85,
   "id": "9c1db025-ea7f-43d1-af79-24a418eddeee",
   "metadata": {},
   "outputs": [],
   "source": [
    "line.append(\"pranjwal\")"
   ]
  },
  {
   "cell_type": "code",
   "execution_count": 86,
   "id": "dcb803c5-14ee-48ee-b5b7-86a6ec3da554",
   "metadata": {},
   "outputs": [
    {
     "data": {
      "text/plain": [
       "['Beeplove', 'Sishir', 'kshitiz', 'pranjwal']"
      ]
     },
     "execution_count": 86,
     "metadata": {},
     "output_type": "execute_result"
    }
   ],
   "source": [
    "line"
   ]
  },
  {
   "cell_type": "code",
   "execution_count": 87,
   "id": "77af0493-c5ad-4b01-af82-4023b3dd3410",
   "metadata": {},
   "outputs": [],
   "source": [
    "line.append(\"sugam\")"
   ]
  },
  {
   "cell_type": "code",
   "execution_count": 88,
   "id": "a592aef0-0c19-4ad1-8f25-a32abb34cc3c",
   "metadata": {},
   "outputs": [
    {
     "data": {
      "text/plain": [
       "['Beeplove', 'Sishir', 'kshitiz', 'pranjwal', 'sugam']"
      ]
     },
     "execution_count": 88,
     "metadata": {},
     "output_type": "execute_result"
    }
   ],
   "source": [
    "line"
   ]
  },
  {
   "cell_type": "code",
   "execution_count": 91,
   "id": "2d9ab7a2-7e36-4858-ba73-a58d19d7e9d9",
   "metadata": {},
   "outputs": [
    {
     "name": "stdin",
     "output_type": "stream",
     "text": [
      "Enter Your Gift Name:  Mahindra Thar \n",
      "Enter Your Gift Name:  Jeep Wrangler\n",
      "Enter Your Gift Name:  Helicopter\n",
      "Enter Your Gift Name:  island\n",
      "Enter Your Gift Name:  nokia3310\n",
      "Enter Your Gift Name:  nisan gtr\n",
      "Enter Your Gift Name:  mercedes\n",
      "Enter Your Gift Name:  jet\n",
      "Enter Your Gift Name:  dinner with Messi\n",
      "Enter Your Gift Name:  kalapani and lipulekh\n"
     ]
    }
   ],
   "source": [
    "gift = []\n",
    "for index in range (10):\n",
    "    name = input(\"Enter Your Gift Name: \")\n",
    "    gift.append(name)"
   ]
  },
  {
   "cell_type": "code",
   "execution_count": 92,
   "id": "68e58703-fe5e-49a1-bc85-81bcfa6be88a",
   "metadata": {},
   "outputs": [
    {
     "data": {
      "text/plain": [
       "['Mahindra Thar ',\n",
       " 'Jeep Wrangler',\n",
       " 'Helicopter',\n",
       " 'island',\n",
       " 'nokia3310',\n",
       " 'nisan gtr',\n",
       " 'mercedes',\n",
       " 'jet',\n",
       " 'dinner with Messi',\n",
       " 'kalapani and lipulekh']"
      ]
     },
     "execution_count": 92,
     "metadata": {},
     "output_type": "execute_result"
    }
   ],
   "source": [
    "gift"
   ]
  },
  {
   "cell_type": "code",
   "execution_count": 95,
   "id": "5ff53fd8-6139-4599-ba18-56f8a0745d12",
   "metadata": {},
   "outputs": [
    {
     "data": {
      "text/plain": [
       "'RadheRadhe'"
      ]
     },
     "execution_count": 95,
     "metadata": {},
     "output_type": "execute_result"
    }
   ],
   "source": [
    "\"Radhe\"+\"Radhe\" # string concat"
   ]
  },
  {
   "cell_type": "code",
   "execution_count": 96,
   "id": "05d6df2f-fb04-4ba9-aea4-5f5f01bf425c",
   "metadata": {},
   "outputs": [
    {
     "data": {
      "text/plain": [
       "[1, 2, 6, 55, 44, 0]"
      ]
     },
     "execution_count": 96,
     "metadata": {},
     "output_type": "execute_result"
    }
   ],
   "source": [
    "[1,2,6] + [55,44,0]  #list concat"
   ]
  },
  {
   "cell_type": "code",
   "execution_count": 97,
   "id": "a99669d6-666e-437b-9d2e-927e90559137",
   "metadata": {},
   "outputs": [],
   "source": [
    "x = [66, -2, 6, 7, 0, 4]"
   ]
  },
  {
   "cell_type": "code",
   "execution_count": 99,
   "id": "df0552f2-20ec-4b6f-97d7-99b3896e1e88",
   "metadata": {},
   "outputs": [],
   "source": [
    "x.sort()"
   ]
  },
  {
   "cell_type": "code",
   "execution_count": 100,
   "id": "306f5f8e-eef1-419f-863a-5d3a3e92717c",
   "metadata": {},
   "outputs": [
    {
     "data": {
      "text/plain": [
       "[-2, 0, 4, 6, 7, 66]"
      ]
     },
     "execution_count": 100,
     "metadata": {},
     "output_type": "execute_result"
    }
   ],
   "source": [
    "x"
   ]
  },
  {
   "cell_type": "code",
   "execution_count": 101,
   "id": "3971d3d8-a5d2-4415-b63a-ec7b0d22841f",
   "metadata": {},
   "outputs": [],
   "source": [
    "x = [66, -2, 6, 7, 0, 4]\n",
    "x.sort(reverse = True)"
   ]
  },
  {
   "cell_type": "code",
   "execution_count": 102,
   "id": "e5931c55-0389-450c-bdb7-cc75cafee6a9",
   "metadata": {},
   "outputs": [
    {
     "data": {
      "text/plain": [
       "[66, 7, 6, 4, 0, -2]"
      ]
     },
     "execution_count": 102,
     "metadata": {},
     "output_type": "execute_result"
    }
   ],
   "source": [
    "x"
   ]
  },
  {
   "cell_type": "code",
   "execution_count": 103,
   "id": "f22db4fe-3855-4313-b69e-db489a3009a8",
   "metadata": {},
   "outputs": [],
   "source": [
    "x = ['apple', 'mango', 'bananna', 'chauchau']\n"
   ]
  },
  {
   "cell_type": "code",
   "execution_count": 104,
   "id": "346a5e04-16be-4ac8-a35a-2a22a9dd893c",
   "metadata": {},
   "outputs": [],
   "source": [
    "x.sort()"
   ]
  },
  {
   "cell_type": "code",
   "execution_count": 105,
   "id": "ad37a453-3943-41e4-a537-3fc38ac2f89b",
   "metadata": {},
   "outputs": [
    {
     "data": {
      "text/plain": [
       "['apple', 'bananna', 'chauchau', 'mango']"
      ]
     },
     "execution_count": 105,
     "metadata": {},
     "output_type": "execute_result"
    }
   ],
   "source": [
    "x"
   ]
  },
  {
   "cell_type": "code",
   "execution_count": 1,
   "id": "e810739b-4a5d-4b5a-ade7-154bc1a6b1c5",
   "metadata": {},
   "outputs": [
    {
     "data": {
      "text/plain": [
       "['apple', 'bananna', 'chauchau', 'mango']"
      ]
     },
     "execution_count": 1,
     "metadata": {},
     "output_type": "execute_result"
    }
   ],
   "source": [
    "x = ['apple', 'mango', 'bananna', 'chauchau']\n",
    "sorted(x)"
   ]
  },
  {
   "cell_type": "code",
   "execution_count": 3,
   "id": "5714e40f-24b9-451b-8fcf-07bdee6c9d10",
   "metadata": {},
   "outputs": [
    {
     "name": "stdin",
     "output_type": "stream",
     "text": [
      "Enter Your Bikes Name:  Harley\n",
      "Enter Your Bikes Name:  Royal Enfield\n",
      "Enter Your Bikes Name:  Dominar\n",
      "Enter Your Bikes Name:  Benely\n",
      "Enter Your Bikes Name:  Kawasaki Ninja\n",
      "Enter Your Bikes Name:  MT15\n",
      "Enter Your Bikes Name:  NS200\n",
      "Enter Your Bikes Name:  Honda Shine\n",
      "Enter Your Bikes Name:  RX-100\n",
      "Enter Your Bikes Name:  Discover\n"
     ]
    }
   ],
   "source": [
    "Bikes = []\n",
    "for index in range (10):\n",
    "    name = input(\"Enter Your Bikes Name: \")\n",
    "    Bikes.append(name)"
   ]
  },
  {
   "cell_type": "code",
   "execution_count": 4,
   "id": "56023736-fd44-4cd8-93ab-4a67b6c6fc9e",
   "metadata": {},
   "outputs": [
    {
     "data": {
      "text/plain": [
       "['Harley',\n",
       " 'Royal Enfield',\n",
       " 'Dominar',\n",
       " 'Benely',\n",
       " 'Kawasaki Ninja',\n",
       " 'MT15',\n",
       " 'NS200',\n",
       " 'Honda Shine',\n",
       " 'RX-100',\n",
       " 'Discover']"
      ]
     },
     "execution_count": 4,
     "metadata": {},
     "output_type": "execute_result"
    }
   ],
   "source": [
    "Bikes"
   ]
  },
  {
   "cell_type": "code",
   "execution_count": 6,
   "id": "c3d1c4df-aee3-484e-a584-e493218bb19d",
   "metadata": {},
   "outputs": [
    {
     "data": {
      "text/plain": [
       "2317218979968"
      ]
     },
     "execution_count": 6,
     "metadata": {},
     "output_type": "execute_result"
    }
   ],
   "source": [
    "id(Bikes)"
   ]
  },
  {
   "cell_type": "code",
   "execution_count": 7,
   "id": "c8c2ff6a-d1c6-4676-b3f5-1e3dec7bab68",
   "metadata": {},
   "outputs": [
    {
     "data": {
      "text/plain": [
       "'Benely'"
      ]
     },
     "execution_count": 7,
     "metadata": {},
     "output_type": "execute_result"
    }
   ],
   "source": [
    "Bikes[3]\n"
   ]
  },
  {
   "cell_type": "code",
   "execution_count": 9,
   "id": "430810af-d164-426b-a6e6-3176ff327031",
   "metadata": {},
   "outputs": [],
   "source": [
    "Bikes[3] = 'Beneli'"
   ]
  },
  {
   "cell_type": "code",
   "execution_count": 10,
   "id": "caf62d23-b07d-4679-b5a3-3ca46bd94a38",
   "metadata": {},
   "outputs": [
    {
     "data": {
      "text/plain": [
       "['Harley',\n",
       " 'Royal Enfield',\n",
       " 'Dominar',\n",
       " 'Beneli',\n",
       " 'Kawasaki Ninja',\n",
       " 'MT15',\n",
       " 'NS200',\n",
       " 'Honda Shine',\n",
       " 'RX-100',\n",
       " 'Discover']"
      ]
     },
     "execution_count": 10,
     "metadata": {},
     "output_type": "execute_result"
    }
   ],
   "source": [
    "Bikes"
   ]
  },
  {
   "cell_type": "code",
   "execution_count": 11,
   "id": "c3294bd1-4fd8-44e4-b41f-bcc292731388",
   "metadata": {},
   "outputs": [
    {
     "data": {
      "text/plain": [
       "2317218979968"
      ]
     },
     "execution_count": 11,
     "metadata": {},
     "output_type": "execute_result"
    }
   ],
   "source": [
    "id(Bikes)"
   ]
  },
  {
   "cell_type": "markdown",
   "id": "6aa990b2-c601-4ff3-a839-c81897044595",
   "metadata": {},
   "source": [
    "# .extend()"
   ]
  },
  {
   "cell_type": "code",
   "execution_count": 8,
   "id": "cb50c5cb-e1d3-4fee-81da-149a48ff9130",
   "metadata": {},
   "outputs": [],
   "source": [
    "x = [2,4,5]\n",
    "y = [99,0,6,1]"
   ]
  },
  {
   "cell_type": "code",
   "execution_count": 9,
   "id": "732d449d-c189-4cf3-886a-9f2e9b93262e",
   "metadata": {},
   "outputs": [],
   "source": [
    "x.extend(y)"
   ]
  },
  {
   "cell_type": "code",
   "execution_count": 10,
   "id": "1821c15b-4b77-4cac-b143-2ed429dfad91",
   "metadata": {},
   "outputs": [
    {
     "data": {
      "text/plain": [
       "[2, 4, 5, 99, 0, 6, 1]"
      ]
     },
     "execution_count": 10,
     "metadata": {},
     "output_type": "execute_result"
    }
   ],
   "source": [
    "x"
   ]
  },
  {
   "cell_type": "code",
   "execution_count": 11,
   "id": "63747f2d-583a-4073-8a76-95880fcf356f",
   "metadata": {},
   "outputs": [
    {
     "data": {
      "text/plain": [
       "[99, 0, 6, 1]"
      ]
     },
     "execution_count": 11,
     "metadata": {},
     "output_type": "execute_result"
    }
   ],
   "source": [
    "y"
   ]
  },
  {
   "cell_type": "markdown",
   "id": "f98ed8e1-beeb-447b-bca9-01dffb666e6c",
   "metadata": {},
   "source": [
    "# .remove()"
   ]
  },
  {
   "cell_type": "code",
   "execution_count": 12,
   "id": "96039e99-0b8a-4673-943c-d963e4d52b9e",
   "metadata": {},
   "outputs": [],
   "source": [
    "l1 = [2,4,6,7,2,7,1]"
   ]
  },
  {
   "cell_type": "code",
   "execution_count": 13,
   "id": "f0119a12-2dd8-48b1-9fc5-58b4d48d2c04",
   "metadata": {},
   "outputs": [],
   "source": [
    "l1.remove(7)"
   ]
  },
  {
   "cell_type": "code",
   "execution_count": 14,
   "id": "6dd499fd-0c9d-46a2-bfe6-d50738beaa25",
   "metadata": {},
   "outputs": [
    {
     "data": {
      "text/plain": [
       "[2, 4, 6, 2, 7, 1]"
      ]
     },
     "execution_count": 14,
     "metadata": {},
     "output_type": "execute_result"
    }
   ],
   "source": [
    "l1"
   ]
  },
  {
   "cell_type": "markdown",
   "id": "3fded60b-0655-4451-b29f-5702628d2246",
   "metadata": {},
   "source": [
    "# ,pop()"
   ]
  },
  {
   "cell_type": "code",
   "execution_count": 15,
   "id": "e798a59f-f7e0-4eaf-b2ff-ce6b930e1a4e",
   "metadata": {},
   "outputs": [],
   "source": [
    "l1 = [2,4,6,7,2,7,1]"
   ]
  },
  {
   "cell_type": "code",
   "execution_count": 25,
   "id": "f977e63f-2d8d-4c36-a298-e4b26ca147f9",
   "metadata": {},
   "outputs": [
    {
     "ename": "IndexError",
     "evalue": "pop from empty list",
     "output_type": "error",
     "traceback": [
      "\u001b[1;31m---------------------------------------------------------------------------\u001b[0m",
      "\u001b[1;31mIndexError\u001b[0m                                Traceback (most recent call last)",
      "Cell \u001b[1;32mIn[25], line 1\u001b[0m\n\u001b[1;32m----> 1\u001b[0m \u001b[43ml1\u001b[49m\u001b[38;5;241;43m.\u001b[39;49m\u001b[43mpop\u001b[49m\u001b[43m(\u001b[49m\u001b[43m)\u001b[49m \u001b[38;5;66;03m# last ko value falxa\u001b[39;00m\n",
      "\u001b[1;31mIndexError\u001b[0m: pop from empty list"
     ]
    }
   ],
   "source": [
    "l1.pop() # last ko value falxa"
   ]
  },
  {
   "cell_type": "code",
   "execution_count": 27,
   "id": "44f8f733-314e-443d-88a9-a4be29107027",
   "metadata": {},
   "outputs": [],
   "source": [
    "l1 = [2,4,6,7,2,7,1]"
   ]
  },
  {
   "cell_type": "code",
   "execution_count": 28,
   "id": "589626da-ce77-4bdd-927b-11d0cc9dc35d",
   "metadata": {},
   "outputs": [
    {
     "data": {
      "text/plain": [
       "6"
      ]
     },
     "execution_count": 28,
     "metadata": {},
     "output_type": "execute_result"
    }
   ],
   "source": [
    "l1.pop(2)"
   ]
  },
  {
   "cell_type": "code",
   "execution_count": null,
   "id": "19256174-a249-4c20-b440-7d4ea455709f",
   "metadata": {},
   "outputs": [],
   "source": []
  }
 ],
 "metadata": {
  "kernelspec": {
   "display_name": "Python 3 (ipykernel)",
   "language": "python",
   "name": "python3"
  },
  "language_info": {
   "codemirror_mode": {
    "name": "ipython",
    "version": 3
   },
   "file_extension": ".py",
   "mimetype": "text/x-python",
   "name": "python",
   "nbconvert_exporter": "python",
   "pygments_lexer": "ipython3",
   "version": "3.10.11"
  }
 },
 "nbformat": 4,
 "nbformat_minor": 5
}
