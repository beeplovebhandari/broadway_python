{
 "cells": [
  {
   "cell_type": "code",
   "execution_count": 1,
   "id": "a943e5dc-184c-44e8-adfc-6d64eaf74b50",
   "metadata": {},
   "outputs": [
    {
     "data": {
      "text/plain": [
       "4"
      ]
     },
     "execution_count": 1,
     "metadata": {},
     "output_type": "execute_result"
    }
   ],
   "source": [
    "2+2"
   ]
  },
  {
   "cell_type": "code",
   "execution_count": 2,
   "id": "2f9df7e3-0ce9-4329-820a-4bbb1e84ac91",
   "metadata": {},
   "outputs": [
    {
     "data": {
      "text/plain": [
       "'RadheRadhe'"
      ]
     },
     "execution_count": 2,
     "metadata": {},
     "output_type": "execute_result"
    }
   ],
   "source": [
    "\"Radhe\" + \"Radhe\""
   ]
  },
  {
   "cell_type": "code",
   "execution_count": 3,
   "id": "6c1ef0ae-2951-4a85-a552-1b2c76921c5c",
   "metadata": {},
   "outputs": [
    {
     "data": {
      "text/plain": [
       "[3, 4, 9, 7, 9]"
      ]
     },
     "execution_count": 3,
     "metadata": {},
     "output_type": "execute_result"
    }
   ],
   "source": [
    "[3,4] + [9,7,9]"
   ]
  },
  {
   "cell_type": "code",
   "execution_count": 4,
   "id": "3facba28-ce06-4702-bb7f-5d63aff0e7f4",
   "metadata": {},
   "outputs": [
    {
     "data": {
      "text/plain": [
       "5"
      ]
     },
     "execution_count": 4,
     "metadata": {},
     "output_type": "execute_result"
    }
   ],
   "source": [
    "len(\"Radhe\")"
   ]
  },
  {
   "cell_type": "code",
   "execution_count": 6,
   "id": "b370fc07-a090-46db-9741-4295d06565ce",
   "metadata": {},
   "outputs": [
    {
     "data": {
      "text/plain": [
       "2"
      ]
     },
     "execution_count": 6,
     "metadata": {},
     "output_type": "execute_result"
    }
   ],
   "source": [
    "len([3,4])"
   ]
  },
  {
   "cell_type": "code",
   "execution_count": 7,
   "id": "09aa0266-e738-4508-b54a-442bc4d1b68b",
   "metadata": {},
   "outputs": [
    {
     "ename": "TypeError",
     "evalue": "can only concatenate str (not \"int\") to str",
     "output_type": "error",
     "traceback": [
      "\u001b[1;31m---------------------------------------------------------------------------\u001b[0m",
      "\u001b[1;31mTypeError\u001b[0m                                 Traceback (most recent call last)",
      "Cell \u001b[1;32mIn[7], line 1\u001b[0m\n\u001b[1;32m----> 1\u001b[0m \u001b[38;5;124;43m\"\u001b[39;49m\u001b[38;5;124;43m2\u001b[39;49m\u001b[38;5;124;43m\"\u001b[39;49m\u001b[43m \u001b[49m\u001b[38;5;241;43m+\u001b[39;49m\u001b[43m \u001b[49m\u001b[38;5;241;43m1\u001b[39;49m\n",
      "\u001b[1;31mTypeError\u001b[0m: can only concatenate str (not \"int\") to str"
     ]
    }
   ],
   "source": [
    "\"2\" + 1"
   ]
  },
  {
   "cell_type": "code",
   "execution_count": 8,
   "id": "ed1fdd74-6820-43fd-9a42-f80c92617886",
   "metadata": {},
   "outputs": [],
   "source": [
    "class point :\n",
    "    def __init__ (self , x ,y):\n",
    "        self.x = x\n",
    "        self.y = y"
   ]
  },
  {
   "cell_type": "code",
   "execution_count": 9,
   "id": "c016abb2-8eb2-4bf3-bf86-8ece80024844",
   "metadata": {},
   "outputs": [],
   "source": [
    "p1 = point(x = 1, y = 2)"
   ]
  },
  {
   "cell_type": "code",
   "execution_count": 10,
   "id": "ef3d48ed-3191-4b34-8244-2a8370e8daf8",
   "metadata": {},
   "outputs": [],
   "source": [
    "p2 = point(x = 2 , y = 4)"
   ]
  },
  {
   "cell_type": "code",
   "execution_count": 11,
   "id": "51fd1e9a-8158-4aab-9b1c-3e4715fbde1d",
   "metadata": {},
   "outputs": [
    {
     "ename": "TypeError",
     "evalue": "unsupported operand type(s) for +: 'point' and 'point'",
     "output_type": "error",
     "traceback": [
      "\u001b[1;31m---------------------------------------------------------------------------\u001b[0m",
      "\u001b[1;31mTypeError\u001b[0m                                 Traceback (most recent call last)",
      "Cell \u001b[1;32mIn[11], line 1\u001b[0m\n\u001b[1;32m----> 1\u001b[0m \u001b[43mp1\u001b[49m\u001b[43m \u001b[49m\u001b[38;5;241;43m+\u001b[39;49m\u001b[43m \u001b[49m\u001b[43mp2\u001b[49m\n",
      "\u001b[1;31mTypeError\u001b[0m: unsupported operand type(s) for +: 'point' and 'point'"
     ]
    }
   ],
   "source": [
    "p1 + p2"
   ]
  },
  {
   "cell_type": "code",
   "execution_count": 12,
   "id": "6fce071d-5958-4753-8603-3fd023c1a970",
   "metadata": {},
   "outputs": [],
   "source": [
    "# user define class point ma (+) ko kam k ho tyo (+) lai nai tha xainia"
   ]
  },
  {
   "cell_type": "code",
   "execution_count": 13,
   "id": "489b20d9-8b4e-4afc-bdea-82d177052564",
   "metadata": {},
   "outputs": [],
   "source": [
    "# extended meaning + lai dinuparyo vane -- operator overloading garnuparyo using dunders"
   ]
  },
  {
   "cell_type": "code",
   "execution_count": 14,
   "id": "790a6613-b0de-428b-ab55-40853873ca83",
   "metadata": {},
   "outputs": [],
   "source": [
    "# magic method or dunders\n",
    "#  + __add__\n",
    "# - __sub__\n",
    "# > __gt__\n",
    "# < __lt__\n",
    "# >= __ ge__"
   ]
  },
  {
   "cell_type": "code",
   "execution_count": 23,
   "id": "f7f54855-67bd-485e-b591-f87e5ce9ea1a",
   "metadata": {},
   "outputs": [],
   "source": [
    "class point :\n",
    "    def __init__ (self , x ,y):\n",
    "        self.x = x\n",
    "        self.y = y\n",
    "\n",
    "    def __add__ (self , second_obj): # + operator overload\n",
    "        return self.x + second_obj.x , self.y + second_obj.y"
   ]
  },
  {
   "cell_type": "code",
   "execution_count": 24,
   "id": "8f801689-31ab-49c5-a101-054ba6452b01",
   "metadata": {},
   "outputs": [
    {
     "data": {
      "text/plain": [
       "(3, 6)"
      ]
     },
     "execution_count": 24,
     "metadata": {},
     "output_type": "execute_result"
    }
   ],
   "source": [
    "p1 = point(x = 1, y = 2)\n",
    "p2 = point(x = 2, y = 4)\n",
    "p1+p2"
   ]
  },
  {
   "cell_type": "code",
   "execution_count": null,
   "id": "aff24479-d286-44d4-8e34-eb7fe9ab77c1",
   "metadata": {},
   "outputs": [],
   "source": []
  }
 ],
 "metadata": {
  "kernelspec": {
   "display_name": "Python 3 (ipykernel)",
   "language": "python",
   "name": "python3"
  },
  "language_info": {
   "codemirror_mode": {
    "name": "ipython",
    "version": 3
   },
   "file_extension": ".py",
   "mimetype": "text/x-python",
   "name": "python",
   "nbconvert_exporter": "python",
   "pygments_lexer": "ipython3",
   "version": "3.10.11"
  }
 },
 "nbformat": 4,
 "nbformat_minor": 5
}
