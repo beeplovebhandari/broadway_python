{
 "cells": [
  {
   "cell_type": "code",
   "execution_count": 1,
   "id": "75cd9a2d-b812-4944-b467-70d24270babe",
   "metadata": {},
   "outputs": [],
   "source": [
    "a = 20"
   ]
  },
  {
   "cell_type": "code",
   "execution_count": 5,
   "id": "28a25fc7-b45b-4aec-a46a-110baae5418e",
   "metadata": {},
   "outputs": [
    {
     "data": {
      "text/plain": [
       "0"
      ]
     },
     "execution_count": 5,
     "metadata": {},
     "output_type": "execute_result"
    }
   ],
   "source": [
    "a % 5 # (20 lai 5 le divide garda 'zero' 0 aauxa !!)"
   ]
  },
  {
   "cell_type": "code",
   "execution_count": 7,
   "id": "a14c0aba-921d-4e28-a5c1-135309bab86c",
   "metadata": {},
   "outputs": [
    {
     "name": "stdout",
     "output_type": "stream",
     "text": [
      "Hello\n"
     ]
    }
   ],
   "source": [
    "if a % 5 == 0:\n",
    "    print(\"Hello\")\n",
    "\n",
    "else:\n",
    "    print(\"Bye Bye Tata\")"
   ]
  },
  {
   "cell_type": "code",
   "execution_count": 10,
   "id": "79b3e165-7bfe-4d80-b024-42afec64d106",
   "metadata": {},
   "outputs": [
    {
     "name": "stdin",
     "output_type": "stream",
     "text": [
      "Enter a number 67\n"
     ]
    },
    {
     "name": "stdout",
     "output_type": "stream",
     "text": [
      " Bye Bye Tata\n"
     ]
    }
   ],
   "source": [
    "number = int(input(\"Enter a number\"))\n",
    "if number % 5 == 0:\n",
    "    print(\"Hello\")\n",
    "\n",
    "else:\n",
    "    print(\" Bye Bye Tata\")"
   ]
  },
  {
   "cell_type": "markdown",
   "id": "20ef3944-d9c6-4b1a-b1b7-b8a97ff34ce9",
   "metadata": {},
   "source": [
    "# WAP tp check given number is even or odd"
   ]
  },
  {
   "cell_type": "code",
   "execution_count": 13,
   "id": "47cf7b77-c599-4cf8-ba15-652656f788fc",
   "metadata": {},
   "outputs": [
    {
     "name": "stdin",
     "output_type": "stream",
     "text": [
      "Enter a number :  44\n"
     ]
    },
    {
     "name": "stdout",
     "output_type": "stream",
     "text": [
      "The number is Even\n"
     ]
    }
   ],
   "source": [
    "number = int(input(\"Enter a number : \"))\n",
    "if number % 2== 0:\n",
    "    print(\"The number is Even\")\n",
    "\n",
    "else:\n",
    "    print(\"The number is Odd\")"
   ]
  },
  {
   "cell_type": "markdown",
   "id": "68187b42-2120-4bd5-8b1e-555ba345fb3c",
   "metadata": {},
   "source": [
    "number = int(input(\"Enter a number : \"))\n",
    "if number % 2== 0:\n",
    "    print(\"The number is Even\")\n",
    "\n",
    "else:\n",
    "    print(\"The number is Odd\")"
   ]
  },
  {
   "cell_type": "markdown",
   "id": "ec30b742-0882-4b27-bee2-efdbbc70e5fd",
   "metadata": {},
   "source": [
    "# IF we miss indentation"
   ]
  },
  {
   "cell_type": "code",
   "execution_count": 20,
   "id": "c93edd4d-2b50-469e-b906-65e22ae8e1e1",
   "metadata": {},
   "outputs": [
    {
     "ename": "IndentationError",
     "evalue": "expected an indented block after 'if' statement on line 1 (1238945960.py, line 2)",
     "output_type": "error",
     "traceback": [
      "\u001b[1;36m  Cell \u001b[1;32mIn[20], line 2\u001b[1;36m\u001b[0m\n\u001b[1;33m    print(\"equal\")  # yesma bigrya xa coz indention milya xaina ,, indention 4 line ko hunxa so\u001b[0m\n\u001b[1;37m    ^\u001b[0m\n\u001b[1;31mIndentationError\u001b[0m\u001b[1;31m:\u001b[0m expected an indented block after 'if' statement on line 1\n"
     ]
    }
   ],
   "source": [
    "if 10 == 10:\n",
    "print(\"equal\")  # yesma bigrya xa coz indention milya xaina ,, indention 4 line ko hunxa so"
   ]
  },
  {
   "cell_type": "code",
   "execution_count": 21,
   "id": "6af2b01c-9fb2-43fb-a931-bb29d4d53a65",
   "metadata": {},
   "outputs": [
    {
     "name": "stdout",
     "output_type": "stream",
     "text": [
      "equal\n"
     ]
    }
   ],
   "source": [
    "if 10 == 10: # yesma chai milya xa indention ,,, 4 line ko indention hunu paryo\n",
    "    print(\"equal\")"
   ]
  },
  {
   "cell_type": "code",
   "execution_count": null,
   "id": "3c71ad3d-9c75-4ba0-bae4-58f03cc0a353",
   "metadata": {},
   "outputs": [],
   "source": []
  }
 ],
 "metadata": {
  "kernelspec": {
   "display_name": "Python 3 (ipykernel)",
   "language": "python",
   "name": "python3"
  },
  "language_info": {
   "codemirror_mode": {
    "name": "ipython",
    "version": 3
   },
   "file_extension": ".py",
   "mimetype": "text/x-python",
   "name": "python",
   "nbconvert_exporter": "python",
   "pygments_lexer": "ipython3",
   "version": "3.10.11"
  }
 },
 "nbformat": 4,
 "nbformat_minor": 5
}
