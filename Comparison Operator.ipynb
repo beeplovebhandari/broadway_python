{
 "cells": [
  {
   "cell_type": "code",
   "execution_count": 2,
   "id": "83b42ae2-ccd6-4887-a2c3-270d1c0f2498",
   "metadata": {},
   "outputs": [
    {
     "data": {
      "text/plain": [
       "True"
      ]
     },
     "execution_count": 2,
     "metadata": {},
     "output_type": "execute_result"
    }
   ],
   "source": [
    "10==10 #True is boolean in python"
   ]
  },
  {
   "cell_type": "code",
   "execution_count": 11,
   "id": "fb355698-e1a5-4300-bb15-465b4a6631d6",
   "metadata": {},
   "outputs": [
    {
     "data": {
      "text/plain": [
       "True"
      ]
     },
     "execution_count": 11,
     "metadata": {},
     "output_type": "execute_result"
    }
   ],
   "source": [
    "2<5 #less than ; 2 is less than 5"
   ]
  },
  {
   "cell_type": "code",
   "execution_count": 4,
   "id": "13368181-3e9a-405c-ae68-193919ae9f82",
   "metadata": {},
   "outputs": [
    {
     "data": {
      "text/plain": [
       "False"
      ]
     },
     "execution_count": 4,
     "metadata": {},
     "output_type": "execute_result"
    }
   ],
   "source": [
    "9<4"
   ]
  },
  {
   "cell_type": "code",
   "execution_count": 6,
   "id": "21bf0084-bac2-42d8-bbd0-295abfad8a88",
   "metadata": {},
   "outputs": [
    {
     "data": {
      "text/plain": [
       "True"
      ]
     },
     "execution_count": 6,
     "metadata": {},
     "output_type": "execute_result"
    }
   ],
   "source": [
    "80 > 44 #greater than ; 80 greater than 44"
   ]
  },
  {
   "cell_type": "code",
   "execution_count": 7,
   "id": "141d8f1f-0b1f-4373-a669-48365c9ac05f",
   "metadata": {},
   "outputs": [
    {
     "data": {
      "text/plain": [
       "True"
      ]
     },
     "execution_count": 7,
     "metadata": {},
     "output_type": "execute_result"
    }
   ],
   "source": [
    "2 <= 2 # 2 is less than or equal to 2 ?"
   ]
  },
  {
   "cell_type": "code",
   "execution_count": 8,
   "id": "42adbbdf-ea2e-432a-ab06-1886fd92925b",
   "metadata": {},
   "outputs": [
    {
     "data": {
      "text/plain": [
       "True"
      ]
     },
     "execution_count": 8,
     "metadata": {},
     "output_type": "execute_result"
    }
   ],
   "source": [
    "9>= 7 # 9 is greater or equal to 7 ?"
   ]
  },
  {
   "cell_type": "code",
   "execution_count": 9,
   "id": "05c0e438-98f7-4233-a923-bddf42aced02",
   "metadata": {},
   "outputs": [
    {
     "data": {
      "text/plain": [
       "True"
      ]
     },
     "execution_count": 9,
     "metadata": {},
     "output_type": "execute_result"
    }
   ],
   "source": [
    "9 != 8 # 9 not equals to 8 ?"
   ]
  },
  {
   "cell_type": "code",
   "execution_count": 10,
   "id": "8622d0c1-7608-4ccf-a1e0-2638d41df588",
   "metadata": {},
   "outputs": [
    {
     "data": {
      "text/plain": [
       "True"
      ]
     },
     "execution_count": 10,
     "metadata": {},
     "output_type": "execute_result"
    }
   ],
   "source": [
    "a = 0\n",
    "a != 1"
   ]
  },
  {
   "cell_type": "code",
   "execution_count": null,
   "id": "d03b70ca-a7ee-404e-be11-538acbc358c3",
   "metadata": {},
   "outputs": [],
   "source": []
  }
 ],
 "metadata": {
  "kernelspec": {
   "display_name": "Python 3 (ipykernel)",
   "language": "python",
   "name": "python3"
  },
  "language_info": {
   "codemirror_mode": {
    "name": "ipython",
    "version": 3
   },
   "file_extension": ".py",
   "mimetype": "text/x-python",
   "name": "python",
   "nbconvert_exporter": "python",
   "pygments_lexer": "ipython3",
   "version": "3.10.11"
  }
 },
 "nbformat": 4,
 "nbformat_minor": 5
}
