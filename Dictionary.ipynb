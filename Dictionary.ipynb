{
 "cells": [
  {
   "cell_type": "markdown",
   "id": "a9a6fd8a-36d1-4ca4-b462-07c4880d6786",
   "metadata": {},
   "source": [
    "# Dictionary\n",
    "* Dictionaries are used to store data values in key : value pairs.\n",
    "* A dictionary is a collection which is ordered , changeable and don not aloow duplicate keys\n",
    "\n",
    "  syntax\n",
    "  ``` python\n",
    "       {\n",
    "           key: value\n",
    "       }\n",
    "  ```"
   ]
  },
  {
   "cell_type": "code",
   "execution_count": 1,
   "id": "c7d22b7c-e2ad-431d-80c1-649b10a0f589",
   "metadata": {},
   "outputs": [],
   "source": [
    "# creating empty dictionary "
   ]
  },
  {
   "cell_type": "code",
   "execution_count": 33,
   "id": "72c50648-75a0-46f6-bb14-4819cea3b194",
   "metadata": {},
   "outputs": [],
   "source": [
    "d1 = {}"
   ]
  },
  {
   "cell_type": "code",
   "execution_count": 34,
   "id": "37ec7583-7154-4a4b-b1e4-1613a3ee108a",
   "metadata": {},
   "outputs": [
    {
     "data": {
      "text/plain": [
       "dict"
      ]
     },
     "execution_count": 34,
     "metadata": {},
     "output_type": "execute_result"
    }
   ],
   "source": [
    "type(d1)"
   ]
  },
  {
   "cell_type": "code",
   "execution_count": 35,
   "id": "d95a6ac2-68db-47ff-81f6-945d8263c499",
   "metadata": {},
   "outputs": [],
   "source": [
    "d2 = dict()"
   ]
  },
  {
   "cell_type": "code",
   "execution_count": 36,
   "id": "be6050c1-9aec-4706-9be6-3359c6696036",
   "metadata": {},
   "outputs": [
    {
     "data": {
      "text/plain": [
       "dict"
      ]
     },
     "execution_count": 36,
     "metadata": {},
     "output_type": "execute_result"
    }
   ],
   "source": [
    "type(d2)"
   ]
  },
  {
   "cell_type": "markdown",
   "id": "460643c3-d2d1-4d1b-b9fa-bb5db674f04e",
   "metadata": {},
   "source": [
    "# create your own dictionary"
   ]
  },
  {
   "cell_type": "code",
   "execution_count": 37,
   "id": "fe28db5d-30aa-425d-897a-8337e85c308c",
   "metadata": {},
   "outputs": [],
   "source": [
    "about = {\n",
    "    \"name\" : 'Kshitiz',\n",
    "    \"teaches\" : ['python' , 'Data Science'] ,\n",
    "    \"time\" : 900\n",
    "\n",
    "}"
   ]
  },
  {
   "cell_type": "code",
   "execution_count": 38,
   "id": "d440febb-9130-4ba8-8757-51587f7f6947",
   "metadata": {},
   "outputs": [
    {
     "name": "stdout",
     "output_type": "stream",
     "text": [
      "{'name': 'Kshitiz', 'teaches': ['python', 'Data Science'], 'time': 900}\n"
     ]
    }
   ],
   "source": [
    "print(about)"
   ]
  },
  {
   "cell_type": "code",
   "execution_count": 39,
   "id": "5e8254ae-1620-4b18-af88-2c429f7d5dc8",
   "metadata": {},
   "outputs": [
    {
     "data": {
      "text/plain": [
       "dict_keys(['name', 'teaches', 'time'])"
      ]
     },
     "execution_count": 39,
     "metadata": {},
     "output_type": "execute_result"
    }
   ],
   "source": [
    "about.keys()"
   ]
  },
  {
   "cell_type": "code",
   "execution_count": 40,
   "id": "cbffd9f8-c8fa-4969-9a90-d1ea2a4402f2",
   "metadata": {},
   "outputs": [
    {
     "data": {
      "text/plain": [
       "dict_values(['Kshitiz', ['python', 'Data Science'], 900])"
      ]
     },
     "execution_count": 40,
     "metadata": {},
     "output_type": "execute_result"
    }
   ],
   "source": [
    "about.values()"
   ]
  },
  {
   "cell_type": "code",
   "execution_count": 41,
   "id": "b12312b6-30dc-4409-89ca-9895c60554e0",
   "metadata": {},
   "outputs": [
    {
     "data": {
      "text/plain": [
       "dict_items([('name', 'Kshitiz'), ('teaches', ['python', 'Data Science']), ('time', 900)])"
      ]
     },
     "execution_count": 41,
     "metadata": {},
     "output_type": "execute_result"
    }
   ],
   "source": [
    "about.items()"
   ]
  },
  {
   "cell_type": "markdown",
   "id": "0464f554-ba01-4511-a3ca-72f6331dc93d",
   "metadata": {},
   "source": [
    "# accesing dictionary values using keys"
   ]
  },
  {
   "cell_type": "code",
   "execution_count": 42,
   "id": "a5a0525f-e57d-42ae-a8ae-5cbfeeafdcb0",
   "metadata": {},
   "outputs": [
    {
     "data": {
      "text/plain": [
       "'Kshitiz'"
      ]
     },
     "execution_count": 42,
     "metadata": {},
     "output_type": "execute_result"
    }
   ],
   "source": [
    "about[\"name\"]"
   ]
  },
  {
   "cell_type": "code",
   "execution_count": 43,
   "id": "17cd5541-f9aa-45c5-a3ad-0445fe82b2f1",
   "metadata": {},
   "outputs": [
    {
     "data": {
      "text/plain": [
       "'Kshitiz'"
      ]
     },
     "execution_count": 43,
     "metadata": {},
     "output_type": "execute_result"
    }
   ],
   "source": [
    "about.get(\"name\")"
   ]
  },
  {
   "cell_type": "markdown",
   "id": "14ef1b1e-2309-408e-b5b0-55b2006ba588",
   "metadata": {},
   "source": [
    "# tupple unpacking"
   ]
  },
  {
   "cell_type": "code",
   "execution_count": 44,
   "id": "031cc7a1-626d-4ce2-9184-c24832773f95",
   "metadata": {},
   "outputs": [],
   "source": [
    "a,b = (9,5)"
   ]
  },
  {
   "cell_type": "code",
   "execution_count": 45,
   "id": "777628ed-ecee-4564-9e1e-523a0b8157f8",
   "metadata": {},
   "outputs": [
    {
     "data": {
      "text/plain": [
       "9"
      ]
     },
     "execution_count": 45,
     "metadata": {},
     "output_type": "execute_result"
    }
   ],
   "source": [
    "a"
   ]
  },
  {
   "cell_type": "code",
   "execution_count": 46,
   "id": "9c9d8eed-d419-47ed-9120-a8a9b4653fab",
   "metadata": {},
   "outputs": [
    {
     "data": {
      "text/plain": [
       "5"
      ]
     },
     "execution_count": 46,
     "metadata": {},
     "output_type": "execute_result"
    }
   ],
   "source": [
    "b"
   ]
  },
  {
   "cell_type": "code",
   "execution_count": 47,
   "id": "da524e1b-d89b-41c1-ba36-5d324e9d792e",
   "metadata": {},
   "outputs": [
    {
     "name": "stdout",
     "output_type": "stream",
     "text": [
      "('name', 'Kshitiz')\n",
      "('teaches', ['python', 'Data Science'])\n",
      "('time', 900)\n"
     ]
    }
   ],
   "source": [
    "for item in about.items():\n",
    "    print(item)"
   ]
  },
  {
   "cell_type": "code",
   "execution_count": 48,
   "id": "92320add-3490-4f6e-a18a-fe8dddc5454d",
   "metadata": {},
   "outputs": [
    {
     "name": "stdout",
     "output_type": "stream",
     "text": [
      "The key is name and the value is Kshitiz\n",
      "The key is teaches and the value is ['python', 'Data Science']\n",
      "The key is time and the value is 900\n"
     ]
    }
   ],
   "source": [
    "for key, val in about.items():\n",
    "    print(f\"The key is {key} and the value is {val}\")"
   ]
  },
  {
   "cell_type": "code",
   "execution_count": 49,
   "id": "3e709891-bbbb-448e-8092-7f5324357fc9",
   "metadata": {},
   "outputs": [],
   "source": [
    "school = {\n",
    "    1 : \"Kshitiz\",\n",
    "    2 : \"Sishir\",\n",
    "    3 : \"Beeplove\",\n",
    "    4 : \"Pranjwal\",\n",
    "    5 : \"Mahesh\",\n",
    "    6 : \"Broadway\",\n",
    "    7 : \"Messi\",\n",
    "    8 : \"Barca\",\n",
    "    9 : \"Ambrose\",\n",
    "    10 : \"Aslyum\"\n",
    "}"
   ]
  },
  {
   "cell_type": "code",
   "execution_count": 50,
   "id": "1758b18f-a9fc-4c53-8848-f6b0038c1443",
   "metadata": {},
   "outputs": [
    {
     "name": "stdout",
     "output_type": "stream",
     "text": [
      "{1: 'Kshitiz', 2: 'Sishir', 3: 'Beeplove', 4: 'Pranjwal', 5: 'Mahesh', 6: 'Broadway', 7: 'Messi', 8: 'Barca', 9: 'Ambrose', 10: 'Aslyum'}\n"
     ]
    }
   ],
   "source": [
    "print(school)"
   ]
  },
  {
   "cell_type": "code",
   "execution_count": 20,
   "id": "1b7be035-9aa9-418a-a67c-248316c89080",
   "metadata": {},
   "outputs": [
    {
     "data": {
      "text/plain": [
       "dict_keys([1, 2, 3, 4, 5, 6, 7, 8, 9, 10])"
      ]
     },
     "execution_count": 20,
     "metadata": {},
     "output_type": "execute_result"
    }
   ],
   "source": [
    "school.keys()"
   ]
  },
  {
   "cell_type": "code",
   "execution_count": 21,
   "id": "c30ae7a7-8da1-4145-b1ef-2913be31d1ba",
   "metadata": {},
   "outputs": [
    {
     "data": {
      "text/plain": [
       "dict_values(['Kshitiz', 'Sishir', 'Beeplove', 'Pranjwal', 'Mahesh', 'Broadway', 'Messi', 'Barca', 'Ambrose', 'Aslyum'])"
      ]
     },
     "execution_count": 21,
     "metadata": {},
     "output_type": "execute_result"
    }
   ],
   "source": [
    "school.values()"
   ]
  },
  {
   "cell_type": "code",
   "execution_count": 22,
   "id": "c368e4a6-e19c-484b-ab50-4b5cd9229386",
   "metadata": {},
   "outputs": [
    {
     "data": {
      "text/plain": [
       "dict_values(['Kshitiz', 'Sishir', 'Beeplove', 'Pranjwal', 'Mahesh', 'Broadway', 'Messi', 'Barca', 'Ambrose', 'Aslyum'])"
      ]
     },
     "execution_count": 22,
     "metadata": {},
     "output_type": "execute_result"
    }
   ],
   "source": [
    "school.values()"
   ]
  },
  {
   "cell_type": "code",
   "execution_count": 23,
   "id": "a112b163-5d78-49de-90bd-dc00de3c2964",
   "metadata": {},
   "outputs": [
    {
     "data": {
      "text/plain": [
       "dict_items([(1, 'Kshitiz'), (2, 'Sishir'), (3, 'Beeplove'), (4, 'Pranjwal'), (5, 'Mahesh'), (6, 'Broadway'), (7, 'Messi'), (8, 'Barca'), (9, 'Ambrose'), (10, 'Aslyum')])"
      ]
     },
     "execution_count": 23,
     "metadata": {},
     "output_type": "execute_result"
    }
   ],
   "source": [
    "school.items()"
   ]
  },
  {
   "cell_type": "code",
   "execution_count": 24,
   "id": "8cc9b53e-8b50-4b18-bcbb-3289362c6e14",
   "metadata": {},
   "outputs": [
    {
     "name": "stdout",
     "output_type": "stream",
     "text": [
      "(1, 'Kshitiz')\n",
      "(2, 'Sishir')\n",
      "(3, 'Beeplove')\n",
      "(4, 'Pranjwal')\n",
      "(5, 'Mahesh')\n",
      "(6, 'Broadway')\n",
      "(7, 'Messi')\n",
      "(8, 'Barca')\n",
      "(9, 'Ambrose')\n",
      "(10, 'Aslyum')\n"
     ]
    }
   ],
   "source": [
    "for item in school.items():\n",
    "    print(item)"
   ]
  },
  {
   "cell_type": "code",
   "execution_count": 25,
   "id": "f03a0800-31ca-4b05-af7f-07b6ed498736",
   "metadata": {},
   "outputs": [
    {
     "name": "stdout",
     "output_type": "stream",
     "text": [
      "The Roll no. is 1 and the name is Kshitiz\n",
      "The Roll no. is 2 and the name is Sishir\n",
      "The Roll no. is 3 and the name is Beeplove\n",
      "The Roll no. is 4 and the name is Pranjwal\n",
      "The Roll no. is 5 and the name is Mahesh\n",
      "The Roll no. is 6 and the name is Broadway\n",
      "The Roll no. is 7 and the name is Messi\n",
      "The Roll no. is 8 and the name is Barca\n",
      "The Roll no. is 9 and the name is Ambrose\n",
      "The Roll no. is 10 and the name is Aslyum\n"
     ]
    }
   ],
   "source": [
    "for key , value in school.items():\n",
    "    print(f\"The Roll no. is {key} and the name is {value}\")"
   ]
  },
  {
   "cell_type": "code",
   "execution_count": 26,
   "id": "a1a0eda3-3f4f-4490-8f8a-59ef373e8521",
   "metadata": {},
   "outputs": [
    {
     "data": {
      "text/plain": [
       "'Kshitiz'"
      ]
     },
     "execution_count": 26,
     "metadata": {},
     "output_type": "execute_result"
    }
   ],
   "source": [
    "school[1]"
   ]
  },
  {
   "cell_type": "code",
   "execution_count": 27,
   "id": "76616c7d-391e-424d-8843-5e08a6d98db9",
   "metadata": {},
   "outputs": [
    {
     "data": {
      "text/plain": [
       "'Pranjwal'"
      ]
     },
     "execution_count": 27,
     "metadata": {},
     "output_type": "execute_result"
    }
   ],
   "source": [
    "school[4]"
   ]
  },
  {
   "cell_type": "code",
   "execution_count": 28,
   "id": "076df41c-ee44-4cb2-98ba-3d8561713346",
   "metadata": {},
   "outputs": [
    {
     "data": {
      "text/plain": [
       "'Sishir'"
      ]
     },
     "execution_count": 28,
     "metadata": {},
     "output_type": "execute_result"
    }
   ],
   "source": [
    "school.get(2)"
   ]
  },
  {
   "cell_type": "code",
   "execution_count": 29,
   "id": "0e34040f-58ba-4803-9460-ccd09f0f61b7",
   "metadata": {},
   "outputs": [
    {
     "data": {
      "text/plain": [
       "'unknown'"
      ]
     },
     "execution_count": 29,
     "metadata": {},
     "output_type": "execute_result"
    }
   ],
   "source": [
    "school.get (11, \"unknown\") # if key exist gardaina vane we can define default value \n"
   ]
  },
  {
   "cell_type": "code",
   "execution_count": 30,
   "id": "6a55b7ea-f6ca-49be-9f82-28a21f6974f1",
   "metadata": {},
   "outputs": [],
   "source": [
    "integer = {\n",
    "    1.5 : \"Ram\",\n",
    "    2.5 : \"Hari\",\n",
    "    3.6 : \"Shyam\",\n",
    "    3.9 : \"Balen\"\n",
    "}"
   ]
  },
  {
   "cell_type": "code",
   "execution_count": 51,
   "id": "8c5a08b6-18cc-4a54-b291-f74cc664b885",
   "metadata": {},
   "outputs": [
    {
     "data": {
      "text/plain": [
       "dict"
      ]
     },
     "execution_count": 51,
     "metadata": {},
     "output_type": "execute_result"
    }
   ],
   "source": [
    "type(integer)"
   ]
  },
  {
   "cell_type": "markdown",
   "id": "d6eb30fb-3008-4b6a-9ffc-79f11c352519",
   "metadata": {},
   "source": [
    "# adding key value pairs in dictionary"
   ]
  },
  {
   "cell_type": "code",
   "execution_count": 52,
   "id": "abd6031a-d903-4369-ac9c-f15d899deb70",
   "metadata": {},
   "outputs": [],
   "source": [
    "about = {\n",
    "    \"name\" : 'Kshitiz',\n",
    "    \"teaches\" : ['python' , 'Data Science'] ,\n",
    "    \"time\" : 900\n",
    "\n",
    "}"
   ]
  },
  {
   "cell_type": "code",
   "execution_count": 53,
   "id": "547e3c84-d512-42c7-808a-5ee12a4662c5",
   "metadata": {},
   "outputs": [],
   "source": [
    "about['experience'] = 4"
   ]
  },
  {
   "cell_type": "code",
   "execution_count": 54,
   "id": "10e317de-c689-444d-9798-3a86d4633aa4",
   "metadata": {},
   "outputs": [
    {
     "data": {
      "text/plain": [
       "{'name': 'Kshitiz',\n",
       " 'teaches': ['python', 'Data Science'],\n",
       " 'time': 900,\n",
       " 'experience': 4}"
      ]
     },
     "execution_count": 54,
     "metadata": {},
     "output_type": "execute_result"
    }
   ],
   "source": [
    "about"
   ]
  },
  {
   "cell_type": "code",
   "execution_count": 55,
   "id": "c536a901-efcc-45d8-b233-b138e0b93828",
   "metadata": {},
   "outputs": [],
   "source": [
    "# experience vanne key pahila nai exixt garxa mailey naya value halna khoje "
   ]
  },
  {
   "cell_type": "code",
   "execution_count": 56,
   "id": "75c6ee86-4b74-4396-8965-ba3e8672e75b",
   "metadata": {},
   "outputs": [],
   "source": [
    "about['experience']  = 5 # key already exist garxa vane value update hunxa"
   ]
  },
  {
   "cell_type": "code",
   "execution_count": 57,
   "id": "4f7ec40b-be43-48ef-bd1f-f0abc44d4d53",
   "metadata": {},
   "outputs": [
    {
     "data": {
      "text/plain": [
       "{'name': 'Kshitiz',\n",
       " 'teaches': ['python', 'Data Science'],\n",
       " 'time': 900,\n",
       " 'experience': 5}"
      ]
     },
     "execution_count": 57,
     "metadata": {},
     "output_type": "execute_result"
    }
   ],
   "source": [
    "about"
   ]
  },
  {
   "cell_type": "code",
   "execution_count": 58,
   "id": "8590fff7-9c02-49d0-aa79-bd59964549fc",
   "metadata": {},
   "outputs": [],
   "source": [
    "about.update ({'age' : 26}) # age vanne key exist gardaina tessailey naya banxa"
   ]
  },
  {
   "cell_type": "code",
   "execution_count": 59,
   "id": "0e2db8a8-9b02-4ea6-9817-aab60e3a5d92",
   "metadata": {},
   "outputs": [
    {
     "data": {
      "text/plain": [
       "{'name': 'Kshitiz',\n",
       " 'teaches': ['python', 'Data Science'],\n",
       " 'time': 900,\n",
       " 'experience': 5,\n",
       " 'age': 26}"
      ]
     },
     "execution_count": 59,
     "metadata": {},
     "output_type": "execute_result"
    }
   ],
   "source": [
    "about"
   ]
  },
  {
   "cell_type": "code",
   "execution_count": 60,
   "id": "46cf070d-cf4f-4d4b-9af9-35a6be56b3c8",
   "metadata": {},
   "outputs": [],
   "source": [
    "about.update({'age' : 25 }) # age already exist garxa vane age key ko value ko update hunxa "
   ]
  },
  {
   "cell_type": "code",
   "execution_count": 61,
   "id": "a98fbe3d-e727-43ee-938e-aa6d275b6b48",
   "metadata": {},
   "outputs": [
    {
     "data": {
      "text/plain": [
       "{'name': 'Kshitiz',\n",
       " 'teaches': ['python', 'Data Science'],\n",
       " 'time': 900,\n",
       " 'experience': 5,\n",
       " 'age': 25}"
      ]
     },
     "execution_count": 61,
     "metadata": {},
     "output_type": "execute_result"
    }
   ],
   "source": [
    "about"
   ]
  },
  {
   "cell_type": "code",
   "execution_count": 62,
   "id": "8cddcdf1-47da-4f9a-947d-90f8143838c9",
   "metadata": {},
   "outputs": [],
   "source": [
    "about['teaches'].append (\"ML\")\n"
   ]
  },
  {
   "cell_type": "code",
   "execution_count": 63,
   "id": "7f59a2c0-2d40-445f-8b3d-88a88c846c75",
   "metadata": {},
   "outputs": [
    {
     "data": {
      "text/plain": [
       "{'name': 'Kshitiz',\n",
       " 'teaches': ['python', 'Data Science', 'ML'],\n",
       " 'time': 900,\n",
       " 'experience': 5,\n",
       " 'age': 25}"
      ]
     },
     "execution_count": 63,
     "metadata": {},
     "output_type": "execute_result"
    }
   ],
   "source": [
    "about"
   ]
  },
  {
   "cell_type": "code",
   "execution_count": 64,
   "id": "1686f526-7f54-4745-8944-0c3126d5b038",
   "metadata": {},
   "outputs": [
    {
     "data": {
      "text/plain": [
       "{'name': 'Kshitiz',\n",
       " 'teaches': ['python', 'Data Science', 'ML'],\n",
       " 'time': 900,\n",
       " 'experience': 5,\n",
       " 'age': 25}"
      ]
     },
     "execution_count": 64,
     "metadata": {},
     "output_type": "execute_result"
    }
   ],
   "source": [
    "about"
   ]
  },
  {
   "cell_type": "code",
   "execution_count": 65,
   "id": "cf7b0c53-320a-497a-8a36-6c1c450951b1",
   "metadata": {},
   "outputs": [
    {
     "data": {
      "text/plain": [
       "{'name': 'Kshitiz',\n",
       " 'teaches': ['python', 'Data Science', 'ML'],\n",
       " 'time': 900,\n",
       " 'experience': 5,\n",
       " 'age': 25}"
      ]
     },
     "execution_count": 65,
     "metadata": {},
     "output_type": "execute_result"
    }
   ],
   "source": [
    "about"
   ]
  },
  {
   "cell_type": "code",
   "execution_count": 66,
   "id": "08ad568c-faa0-42d0-88eb-17a9302523b8",
   "metadata": {},
   "outputs": [],
   "source": [
    "about.update({\"name\": \"Kshitiz Regmi\"})"
   ]
  },
  {
   "cell_type": "code",
   "execution_count": 67,
   "id": "00f84294-3ced-41b1-bfab-3a75566de12f",
   "metadata": {},
   "outputs": [
    {
     "data": {
      "text/plain": [
       "{'name': 'Kshitiz Regmi',\n",
       " 'teaches': ['python', 'Data Science', 'ML'],\n",
       " 'time': 900,\n",
       " 'experience': 5,\n",
       " 'age': 25}"
      ]
     },
     "execution_count": 67,
     "metadata": {},
     "output_type": "execute_result"
    }
   ],
   "source": [
    "about"
   ]
  },
  {
   "cell_type": "code",
   "execution_count": 69,
   "id": "458ae86b-99ca-4c4c-b757-fc5ba5cd90b9",
   "metadata": {},
   "outputs": [
    {
     "ename": "NameError",
     "evalue": "name 'time' is not defined",
     "output_type": "error",
     "traceback": [
      "\u001b[1;31m---------------------------------------------------------------------------\u001b[0m",
      "\u001b[1;31mNameError\u001b[0m                                 Traceback (most recent call last)",
      "Cell \u001b[1;32mIn[69], line 1\u001b[0m\n\u001b[1;32m----> 1\u001b[0m about\u001b[38;5;241m.\u001b[39mpop(\u001b[43mtime\u001b[49m)\n",
      "\u001b[1;31mNameError\u001b[0m: name 'time' is not defined"
     ]
    }
   ],
   "source": [
    "about.pop(time)"
   ]
  },
  {
   "cell_type": "code",
   "execution_count": null,
   "id": "0104d40b-0ea3-46ef-befe-a05d9af3a3dd",
   "metadata": {},
   "outputs": [],
   "source": []
  }
 ],
 "metadata": {
  "kernelspec": {
   "display_name": "Python 3 (ipykernel)",
   "language": "python",
   "name": "python3"
  },
  "language_info": {
   "codemirror_mode": {
    "name": "ipython",
    "version": 3
   },
   "file_extension": ".py",
   "mimetype": "text/x-python",
   "name": "python",
   "nbconvert_exporter": "python",
   "pygments_lexer": "ipython3",
   "version": "3.10.11"
  }
 },
 "nbformat": 4,
 "nbformat_minor": 5
}
