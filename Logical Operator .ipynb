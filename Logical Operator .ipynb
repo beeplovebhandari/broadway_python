{
 "cells": [
  {
   "cell_type": "markdown",
   "id": "ad5cb117-e990-44fc-90da-1df1c52a0472",
   "metadata": {},
   "source": [
    "# Logical Operator\n",
    "* and\n",
    "* or\n",
    "* not"
   ]
  },
  {
   "cell_type": "code",
   "execution_count": 1,
   "id": "2b0b253d-3431-4173-866b-02a0926a16c4",
   "metadata": {},
   "outputs": [],
   "source": [
    "#logical operator boolean ma lagaune ho "
   ]
  },
  {
   "cell_type": "markdown",
   "id": "6a7e1f05-0b7c-4832-83a9-3c7a92a9d9e3",
   "metadata": {},
   "source": [
    "# and"
   ]
  },
  {
   "cell_type": "code",
   "execution_count": 2,
   "id": "022d0a22-11af-4a97-afdd-8cf18e95be68",
   "metadata": {},
   "outputs": [
    {
     "data": {
      "text/plain": [
       "False"
      ]
     },
     "execution_count": 2,
     "metadata": {},
     "output_type": "execute_result"
    }
   ],
   "source": [
    "True and False"
   ]
  },
  {
   "cell_type": "code",
   "execution_count": 3,
   "id": "d9c98854-1c0f-4340-aa24-8cd18f913f4a",
   "metadata": {},
   "outputs": [
    {
     "data": {
      "text/plain": [
       "True"
      ]
     },
     "execution_count": 3,
     "metadata": {},
     "output_type": "execute_result"
    }
   ],
   "source": [
    "True and True"
   ]
  },
  {
   "cell_type": "code",
   "execution_count": 4,
   "id": "013909ef-9bae-482a-ae7f-bf9fd370432c",
   "metadata": {},
   "outputs": [
    {
     "data": {
      "text/plain": [
       "False"
      ]
     },
     "execution_count": 4,
     "metadata": {},
     "output_type": "execute_result"
    }
   ],
   "source": [
    "False and True"
   ]
  },
  {
   "cell_type": "code",
   "execution_count": 5,
   "id": "5a28208e-24f0-4784-afe6-6f05cb251513",
   "metadata": {},
   "outputs": [
    {
     "data": {
      "text/plain": [
       "False"
      ]
     },
     "execution_count": 5,
     "metadata": {},
     "output_type": "execute_result"
    }
   ],
   "source": [
    "False and False"
   ]
  },
  {
   "cell_type": "code",
   "execution_count": 6,
   "id": "94fd1e49-9495-4345-969e-3d5395b59c0e",
   "metadata": {},
   "outputs": [],
   "source": [
    "#example \n",
    "num = 90"
   ]
  },
  {
   "cell_type": "code",
   "execution_count": 7,
   "id": "cb0484db-32f2-4572-9295-a87362a1f707",
   "metadata": {},
   "outputs": [
    {
     "data": {
      "text/plain": [
       "True"
      ]
     },
     "execution_count": 7,
     "metadata": {},
     "output_type": "execute_result"
    }
   ],
   "source": [
    "num % 3== 0 and num % 10 == 0"
   ]
  },
  {
   "cell_type": "code",
   "execution_count": 8,
   "id": "960b7b24-b5b0-49d0-8580-ac07dc615619",
   "metadata": {},
   "outputs": [
    {
     "data": {
      "text/plain": [
       "True"
      ]
     },
     "execution_count": 8,
     "metadata": {},
     "output_type": "execute_result"
    }
   ],
   "source": [
    "num % 3== 0"
   ]
  },
  {
   "cell_type": "code",
   "execution_count": 9,
   "id": "c0019e70-4716-4f23-995a-acdce4738db9",
   "metadata": {},
   "outputs": [
    {
     "data": {
      "text/plain": [
       "True"
      ]
     },
     "execution_count": 9,
     "metadata": {},
     "output_type": "execute_result"
    }
   ],
   "source": [
    " num % 10 == 0"
   ]
  },
  {
   "cell_type": "code",
   "execution_count": 10,
   "id": "20cffa83-f9df-4271-9978-2b5a690875a7",
   "metadata": {},
   "outputs": [
    {
     "data": {
      "text/plain": [
       "False"
      ]
     },
     "execution_count": 10,
     "metadata": {},
     "output_type": "execute_result"
    }
   ],
   "source": [
    "num = 90\n",
    "num %8 == 0 and num % 10 == 0"
   ]
  },
  {
   "cell_type": "code",
   "execution_count": 11,
   "id": "d2883ae5-9ddd-458f-a534-6722df77dc92",
   "metadata": {},
   "outputs": [
    {
     "data": {
      "text/plain": [
       "False"
      ]
     },
     "execution_count": 11,
     "metadata": {},
     "output_type": "execute_result"
    }
   ],
   "source": [
    "num %8 == 0"
   ]
  },
  {
   "cell_type": "code",
   "execution_count": 12,
   "id": "580e902f-cb10-44d1-8432-a95e94582fe1",
   "metadata": {},
   "outputs": [
    {
     "data": {
      "text/plain": [
       "True"
      ]
     },
     "execution_count": 12,
     "metadata": {},
     "output_type": "execute_result"
    }
   ],
   "source": [
    "num % 10 == 0"
   ]
  },
  {
   "cell_type": "markdown",
   "id": "d977f948-02b4-45a6-abd8-a76c5868fcb9",
   "metadata": {},
   "source": [
    "# Or"
   ]
  },
  {
   "cell_type": "code",
   "execution_count": 17,
   "id": "87d8f679-137e-49ae-acd2-8823085e9780",
   "metadata": {},
   "outputs": [
    {
     "data": {
      "text/plain": [
       "True"
      ]
     },
     "execution_count": 17,
     "metadata": {},
     "output_type": "execute_result"
    }
   ],
   "source": [
    "True or True"
   ]
  },
  {
   "cell_type": "code",
   "execution_count": 14,
   "id": "814ea827-b9b5-48c5-8ec7-e4fd6c0c5c88",
   "metadata": {},
   "outputs": [
    {
     "data": {
      "text/plain": [
       "True"
      ]
     },
     "execution_count": 14,
     "metadata": {},
     "output_type": "execute_result"
    }
   ],
   "source": [
    "True or False"
   ]
  },
  {
   "cell_type": "code",
   "execution_count": 16,
   "id": "b68ec760-a37e-4a01-8b56-ce8045ef8d8f",
   "metadata": {},
   "outputs": [
    {
     "data": {
      "text/plain": [
       "False"
      ]
     },
     "execution_count": 16,
     "metadata": {},
     "output_type": "execute_result"
    }
   ],
   "source": [
    "False or False"
   ]
  },
  {
   "cell_type": "code",
   "execution_count": 15,
   "id": "7b1c7e84-c945-4c77-92c3-4efe5e243022",
   "metadata": {},
   "outputs": [
    {
     "data": {
      "text/plain": [
       "True"
      ]
     },
     "execution_count": 15,
     "metadata": {},
     "output_type": "execute_result"
    }
   ],
   "source": [
    "False or True"
   ]
  },
  {
   "cell_type": "code",
   "execution_count": 18,
   "id": "d88f9aa1-3481-4ec4-938d-4ad42db9de70",
   "metadata": {},
   "outputs": [
    {
     "data": {
      "text/plain": [
       "False"
      ]
     },
     "execution_count": 18,
     "metadata": {},
     "output_type": "execute_result"
    }
   ],
   "source": [
    "not True"
   ]
  },
  {
   "cell_type": "markdown",
   "id": "b11979c7-d236-429c-8d5a-d37765544e1c",
   "metadata": {},
   "source": [
    "# Not"
   ]
  },
  {
   "cell_type": "code",
   "execution_count": 19,
   "id": "8f236aa0-9537-4839-b212-7b010f795d6b",
   "metadata": {},
   "outputs": [
    {
     "data": {
      "text/plain": [
       "True"
      ]
     },
     "execution_count": 19,
     "metadata": {},
     "output_type": "execute_result"
    }
   ],
   "source": [
    "not False"
   ]
  },
  {
   "cell_type": "code",
   "execution_count": 1,
   "id": "f34c2d17-d377-4a61-a5a3-24ccdfd1ef33",
   "metadata": {},
   "outputs": [
    {
     "data": {
      "text/plain": [
       "2"
      ]
     },
     "execution_count": 1,
     "metadata": {},
     "output_type": "execute_result"
    }
   ],
   "source": [
    "True + True"
   ]
  },
  {
   "cell_type": "code",
   "execution_count": 2,
   "id": "ac6f3b6d-1bca-4807-839f-9c37f908dc90",
   "metadata": {},
   "outputs": [
    {
     "data": {
      "text/plain": [
       "1"
      ]
     },
     "execution_count": 2,
     "metadata": {},
     "output_type": "execute_result"
    }
   ],
   "source": [
    "False + True"
   ]
  },
  {
   "cell_type": "code",
   "execution_count": 3,
   "id": "ca17e540-eea6-42d3-ab7f-c1a5d0d21e76",
   "metadata": {},
   "outputs": [
    {
     "data": {
      "text/plain": [
       "0"
      ]
     },
     "execution_count": 3,
     "metadata": {},
     "output_type": "execute_result"
    }
   ],
   "source": [
    "False + False"
   ]
  },
  {
   "cell_type": "code",
   "execution_count": 4,
   "id": "d9404efa-c1f8-46b1-9006-a8f9073fe2a6",
   "metadata": {},
   "outputs": [
    {
     "data": {
      "text/plain": [
       "1"
      ]
     },
     "execution_count": 4,
     "metadata": {},
     "output_type": "execute_result"
    }
   ],
   "source": [
    "True + False "
   ]
  },
  {
   "cell_type": "markdown",
   "id": "c1d49e1e-218c-49ef-a62c-c5fc3eac04b6",
   "metadata": {},
   "source": [
    "<img src = \"https://www.medindia.net/patients/calculators/images/body-mass-index-bmi-chart.jpg\">"
   ]
  },
  {
   "cell_type": "code",
   "execution_count": 21,
   "id": "11fca1b0-e90a-4e4f-b064-f7ca669d0068",
   "metadata": {},
   "outputs": [
    {
     "name": "stdin",
     "output_type": "stream",
     "text": [
      "What is your Weight in KG?  63\n",
      "What is your height in cm?  164\n"
     ]
    },
    {
     "name": "stdout",
     "output_type": "stream",
     "text": [
      "You are on Normal weight\n"
     ]
    }
   ],
   "source": [
    "weight = float(input(\"What is your Weight in KG? \"))\n",
    "height = float(input(\"What is your height in cm? \"))\n",
    "height = height/100\n",
    "bmi = weight / height **2\n",
    "\n",
    "if bmi <18.5:\n",
    "    print(\"You are under weight\")\n",
    "\n",
    "elif bmi >= 18.5 and bmi <=24.9:\n",
    "    print(\"You are on Normal weight\")\n",
    "\n",
    "elif bmi >=25 and bmi <= 29.9:\n",
    "    print(\"You are Overweight\")\n",
    "\n",
    "elif bmi >= 30 and bmi <= 34.9:\n",
    "    print(\"You have obesity\")\n",
    "\n",
    "elif bmi >= 35 and bmi <= 39.9:\n",
    "    print(\"You have Extreme Obesity\")"
   ]
  },
  {
   "cell_type": "code",
   "execution_count": 24,
   "id": "41359b98-2344-4354-934d-d3faa6e2cd09",
   "metadata": {},
   "outputs": [
    {
     "name": "stdout",
     "output_type": "stream",
     "text": [
      "If True\n"
     ]
    }
   ],
   "source": [
    "num = 10\n",
    "if num == 10:\n",
    "    print(\"If True\")"
   ]
  },
  {
   "cell_type": "code",
   "execution_count": 25,
   "id": "f2335b3c-c2d9-4f01-a298-711dfecf2642",
   "metadata": {},
   "outputs": [
    {
     "name": "stdout",
     "output_type": "stream",
     "text": [
      "if True means code goes to if\n"
     ]
    }
   ],
   "source": [
    "num = 20\n",
    "if not num == 10:\n",
    "    print(\"if True means code goes to if\")\n",
    "\n",
    "else:\n",
    "    print(\"if False means code goes to else\")"
   ]
  },
  {
   "cell_type": "code",
   "execution_count": null,
   "id": "ea6c4b69-0cf2-445d-9470-d68790df14d7",
   "metadata": {},
   "outputs": [],
   "source": []
  }
 ],
 "metadata": {
  "kernelspec": {
   "display_name": "Python 3 (ipykernel)",
   "language": "python",
   "name": "python3"
  },
  "language_info": {
   "codemirror_mode": {
    "name": "ipython",
    "version": 3
   },
   "file_extension": ".py",
   "mimetype": "text/x-python",
   "name": "python",
   "nbconvert_exporter": "python",
   "pygments_lexer": "ipython3",
   "version": "3.10.11"
  }
 },
 "nbformat": 4,
 "nbformat_minor": 5
}
