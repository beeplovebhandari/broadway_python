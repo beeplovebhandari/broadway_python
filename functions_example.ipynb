{
 "cells": [
  {
   "cell_type": "code",
   "execution_count": 1,
   "id": "988e2104-83ee-4e46-9a09-22cb00ed388f",
   "metadata": {},
   "outputs": [
    {
     "data": {
      "text/plain": [
       "False"
      ]
     },
     "execution_count": 1,
     "metadata": {},
     "output_type": "execute_result"
    }
   ],
   "source": [
    "num = 5\n",
    "\n",
    "num % 2 == 0 #True prime haina"
   ]
  },
  {
   "cell_type": "code",
   "execution_count": 2,
   "id": "157c4ae9-40ff-4ad5-8e88-5c7c806b6836",
   "metadata": {},
   "outputs": [
    {
     "data": {
      "text/plain": [
       "True"
      ]
     },
     "execution_count": 2,
     "metadata": {},
     "output_type": "execute_result"
    }
   ],
   "source": [
    "num  = 4\n",
    "\n",
    "num % 2 == 0 #True aayo vane prime haina"
   ]
  },
  {
   "cell_type": "code",
   "execution_count": 3,
   "id": "1f985bbf-73c5-4f89-8839-42ea4d52a43d",
   "metadata": {},
   "outputs": [
    {
     "data": {
      "text/plain": [
       "False"
      ]
     },
     "execution_count": 3,
     "metadata": {},
     "output_type": "execute_result"
    }
   ],
   "source": [
    "num % 3 == 0 #True aayo vane prime haina"
   ]
  },
  {
   "cell_type": "code",
   "execution_count": 4,
   "id": "cf489fbc-abca-429f-97a3-ad2d31859318",
   "metadata": {},
   "outputs": [
    {
     "data": {
      "text/plain": [
       "False"
      ]
     },
     "execution_count": 4,
     "metadata": {},
     "output_type": "execute_result"
    }
   ],
   "source": [
    "num = 5\n",
    "num % 2 == 0 #True aayo vane prime haina"
   ]
  },
  {
   "cell_type": "code",
   "execution_count": 5,
   "id": "99fc3e35-6f3e-4668-a371-fbc3c6b83a71",
   "metadata": {},
   "outputs": [
    {
     "data": {
      "text/plain": [
       "False"
      ]
     },
     "execution_count": 5,
     "metadata": {},
     "output_type": "execute_result"
    }
   ],
   "source": [
    "num % 3 == 0 #True aayo vane prime haina"
   ]
  },
  {
   "cell_type": "code",
   "execution_count": 6,
   "id": "b4b008d9-33c6-44ef-ab1f-72d06f6db90f",
   "metadata": {},
   "outputs": [
    {
     "data": {
      "text/plain": [
       "False"
      ]
     },
     "execution_count": 6,
     "metadata": {},
     "output_type": "execute_result"
    }
   ],
   "source": [
    "num % 4 == 0 #True aayo vane prime haina"
   ]
  },
  {
   "cell_type": "code",
   "execution_count": 7,
   "id": "102c5b38-eea2-4322-9673-2725539dc7a5",
   "metadata": {},
   "outputs": [],
   "source": [
    "#5 is a prime number"
   ]
  },
  {
   "cell_type": "code",
   "execution_count": 8,
   "id": "4c315e3e-168e-412b-8929-97f63fd01b50",
   "metadata": {},
   "outputs": [],
   "source": [
    "def is_prime(num):\n",
    "    for i in range (2,num):\n",
    "        if num % i ==0:\n",
    "            return False\n",
    "\n",
    "    return True"
   ]
  },
  {
   "cell_type": "code",
   "execution_count": 9,
   "id": "da5067c7-531b-460c-aa09-14c55a8aeb0b",
   "metadata": {},
   "outputs": [
    {
     "name": "stdout",
     "output_type": "stream",
     "text": [
      "The number 5 is prime\n"
     ]
    }
   ],
   "source": [
    "num = 5\n",
    "status = is_prime(num = num)\n",
    "if status :\n",
    "    print(f\"The number {num} is prime\")\n",
    "else:\n",
    "    print(f\"The number {num} is not prime\")\n"
   ]
  },
  {
   "cell_type": "code",
   "execution_count": 10,
   "id": "6b9ab8e0-5294-48e3-b928-9298c74cd6d8",
   "metadata": {},
   "outputs": [
    {
     "name": "stdout",
     "output_type": "stream",
     "text": [
      "The number 2 is prime\n",
      "The number 3 is prime\n",
      "The number 4 is not prime\n",
      "The number 5 is prime\n",
      "The number 6 is not prime\n",
      "The number 7 is prime\n",
      "The number 8 is not prime\n",
      "The number 9 is not prime\n",
      "The number 10 is not prime\n",
      "The number 11 is prime\n",
      "The number 12 is not prime\n",
      "The number 13 is prime\n",
      "The number 14 is not prime\n",
      "The number 15 is not prime\n",
      "The number 16 is not prime\n",
      "The number 17 is prime\n",
      "The number 18 is not prime\n",
      "The number 19 is prime\n",
      "The number 20 is not prime\n",
      "The number 21 is not prime\n",
      "The number 22 is not prime\n",
      "The number 23 is prime\n",
      "The number 24 is not prime\n"
     ]
    }
   ],
   "source": [
    "for i in range (2,25):\n",
    "    num = i\n",
    "    status = is_prime(num = num)\n",
    "    if status :\n",
    "        print(f\"The number {num} is prime\")\n",
    "    else:\n",
    "        print(f\"The number {num} is not prime\")\n"
   ]
  },
  {
   "cell_type": "markdown",
   "id": "85bebc6c-274d-4343-b22f-4c280cd4b685",
   "metadata": {},
   "source": [
    "# Factorial\n",
    "\n",
    "    0! = 1\n",
    "    1! = 1\n",
    "    2! = 2*1! = 2\n",
    "    3! = 3*2! = 6\n",
    "    4! = 4*3! = 24\n",
    "    5! = 5*4! = 120\n",
    "    6! = 6*5! = 720"
   ]
  },
  {
   "cell_type": "code",
   "execution_count": 11,
   "id": "15fd57f7-cd61-46ac-8d98-257e76d803ec",
   "metadata": {},
   "outputs": [],
   "source": [
    "num = 5\n"
   ]
  },
  {
   "cell_type": "code",
   "execution_count": 12,
   "id": "a686f603-7f16-4ee0-b84d-27772692f1fe",
   "metadata": {},
   "outputs": [
    {
     "data": {
      "text/plain": [
       "range(2, 6)"
      ]
     },
     "execution_count": 12,
     "metadata": {},
     "output_type": "execute_result"
    }
   ],
   "source": [
    "range (2,num+1)"
   ]
  },
  {
   "cell_type": "code",
   "execution_count": 13,
   "id": "1239378b-11e7-4fb5-a200-a75240d4c984",
   "metadata": {},
   "outputs": [
    {
     "data": {
      "text/plain": [
       "[2, 3, 4, 5]"
      ]
     },
     "execution_count": 13,
     "metadata": {},
     "output_type": "execute_result"
    }
   ],
   "source": [
    "list(range(2,num+1))"
   ]
  },
  {
   "cell_type": "code",
   "execution_count": 14,
   "id": "64d2f088-2990-4fc0-82d6-b88770b3a800",
   "metadata": {},
   "outputs": [],
   "source": [
    "fact = 1\n",
    "for i in range (2,num+1):\n",
    "    fact = fact*i"
   ]
  },
  {
   "cell_type": "code",
   "execution_count": 15,
   "id": "c944cb41-1045-4b41-9b07-afb07f670083",
   "metadata": {},
   "outputs": [
    {
     "data": {
      "text/plain": [
       "120"
      ]
     },
     "execution_count": 15,
     "metadata": {},
     "output_type": "execute_result"
    }
   ],
   "source": [
    "fact"
   ]
  },
  {
   "cell_type": "code",
   "execution_count": 16,
   "id": "42708974-107e-4f20-bd14-8425ee7a028e",
   "metadata": {},
   "outputs": [],
   "source": [
    "# write it in function --- less than zero return none"
   ]
  },
  {
   "cell_type": "code",
   "execution_count": 17,
   "id": "e0fe1ed8-5a01-41de-8149-7cc993178c44",
   "metadata": {},
   "outputs": [],
   "source": [
    "def factorial (num):\n",
    "    if num< 0:\n",
    "        return None\n",
    "    fact = 1\n",
    "    for i in range (2,num+1):\n",
    "        fact = fact*1\n"
   ]
  },
  {
   "cell_type": "code",
   "execution_count": 18,
   "id": "3769b464-e2d3-49d6-ba35-50106beeaf8f",
   "metadata": {},
   "outputs": [
    {
     "data": {
      "text/plain": [
       "120"
      ]
     },
     "execution_count": 18,
     "metadata": {},
     "output_type": "execute_result"
    }
   ],
   "source": [
    "fact"
   ]
  },
  {
   "cell_type": "code",
   "execution_count": 19,
   "id": "66f2f83d-a192-4550-997e-31e8b5c6fec9",
   "metadata": {},
   "outputs": [],
   "source": [
    "# function le aafai le aafailai call garyo vane it is recursion\n",
    "def test():\n",
    "    #code\n",
    "    test()"
   ]
  },
  {
   "cell_type": "code",
   "execution_count": 23,
   "id": "91b926a6-ca5c-4097-a2e4-d3372bb30437",
   "metadata": {},
   "outputs": [],
   "source": [
    "def factorial (num):\n",
    "    fact = 1\n",
    "    if num == 0 or num == 1:\n",
    "        return 1\n",
    "    else:\n",
    "        return num * factorial(num-1)"
   ]
  },
  {
   "cell_type": "code",
   "execution_count": 24,
   "id": "1dc4ce97-7a51-43f3-a7ff-75b4eb946ad5",
   "metadata": {},
   "outputs": [
    {
     "data": {
      "text/plain": [
       "120"
      ]
     },
     "execution_count": 24,
     "metadata": {},
     "output_type": "execute_result"
    }
   ],
   "source": [
    "factorial(5)"
   ]
  },
  {
   "cell_type": "code",
   "execution_count": 25,
   "id": "a4396699-83fa-4f5a-a5e7-a415fc307b2c",
   "metadata": {},
   "outputs": [
    {
     "data": {
      "text/plain": [
       "720"
      ]
     },
     "execution_count": 25,
     "metadata": {},
     "output_type": "execute_result"
    }
   ],
   "source": [
    "factorial(6)"
   ]
  },
  {
   "cell_type": "code",
   "execution_count": 26,
   "id": "b0e2217a-1a66-46b6-ae54-0787a5dfe0c2",
   "metadata": {},
   "outputs": [
    {
     "data": {
      "text/plain": [
       "5040"
      ]
     },
     "execution_count": 26,
     "metadata": {},
     "output_type": "execute_result"
    }
   ],
   "source": [
    "factorial(7)"
   ]
  },
  {
   "cell_type": "code",
   "execution_count": 28,
   "id": "0d4aeda7-25ea-42de-ac35-221c37a4f2d6",
   "metadata": {},
   "outputs": [
    {
     "data": {
      "text/plain": [
       "362880"
      ]
     },
     "execution_count": 28,
     "metadata": {},
     "output_type": "execute_result"
    }
   ],
   "source": [
    "factorial(9)"
   ]
  },
  {
   "cell_type": "code",
   "execution_count": 31,
   "id": "90b4e2d3-a6e3-4b92-af0a-6abe5ad60384",
   "metadata": {},
   "outputs": [
    {
     "ename": "SyntaxError",
     "evalue": "invalid syntax (574268689.py, line 1)",
     "output_type": "error",
     "traceback": [
      "\u001b[1;36m  Cell \u001b[1;32mIn[31], line 1\u001b[1;36m\u001b[0m\n\u001b[1;33m    img = src <\"https://tecadmin.net/wp-content/uploads/2023/06/Fibonacci-sequence.png\">\u001b[0m\n\u001b[1;37m                                                                                        ^\u001b[0m\n\u001b[1;31mSyntaxError\u001b[0m\u001b[1;31m:\u001b[0m invalid syntax\n"
     ]
    }
   ],
   "source": [
    "img = src <\"https://tecadmin.net/wp-content/uploads/2023/06/Fibonacci-sequence.png\">"
   ]
  },
  {
   "cell_type": "code",
   "execution_count": null,
   "id": "3e681657-9fc8-450d-8649-e6db7857700f",
   "metadata": {},
   "outputs": [],
   "source": []
  }
 ],
 "metadata": {
  "kernelspec": {
   "display_name": "Python 3 (ipykernel)",
   "language": "python",
   "name": "python3"
  },
  "language_info": {
   "codemirror_mode": {
    "name": "ipython",
    "version": 3
   },
   "file_extension": ".py",
   "mimetype": "text/x-python",
   "name": "python",
   "nbconvert_exporter": "python",
   "pygments_lexer": "ipython3",
   "version": "3.10.11"
  }
 },
 "nbformat": 4,
 "nbformat_minor": 5
}
