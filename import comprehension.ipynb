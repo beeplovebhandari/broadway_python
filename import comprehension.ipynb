{
 "cells": [
  {
   "cell_type": "code",
   "execution_count": 1,
   "id": "70e79eaa-78d2-4056-9798-f62c327117c0",
   "metadata": {},
   "outputs": [],
   "source": [
    "import random"
   ]
  },
  {
   "cell_type": "code",
   "execution_count": 5,
   "id": "e39ad513-c8b9-46e6-9933-72fbfa482099",
   "metadata": {},
   "outputs": [
    {
     "data": {
      "text/plain": [
       "5"
      ]
     },
     "execution_count": 5,
     "metadata": {},
     "output_type": "execute_result"
    }
   ],
   "source": [
    "random.randint(0, 5) # 0 dekhi 5 (both included) samma ko kunai euta number generate garxa , un-deterministic hunxa"
   ]
  },
  {
   "cell_type": "code",
   "execution_count": 4,
   "id": "03f2bc6e-938d-4be9-a819-f3583ce86adc",
   "metadata": {},
   "outputs": [
    {
     "data": {
      "text/plain": [
       "3"
      ]
     },
     "execution_count": 4,
     "metadata": {},
     "output_type": "execute_result"
    }
   ],
   "source": [
    "random.seed(2023) # deterministic pseudo-random number generation\n",
    "random.randint(0,5)"
   ]
  },
  {
   "cell_type": "code",
   "execution_count": 6,
   "id": "fa7e0139-c7ab-4405-b05f-4e5dec8a8685",
   "metadata": {},
   "outputs": [],
   "source": [
    "numbers = []\n",
    "\n",
    "for index in range(10):\n",
    "    numbers.append(random.randint(0,10))"
   ]
  },
  {
   "cell_type": "code",
   "execution_count": 7,
   "id": "c95c85f0-4718-4846-9298-8908b16633a8",
   "metadata": {},
   "outputs": [
    {
     "data": {
      "text/plain": [
       "[7, 6, 5, 9, 9, 5, 10, 1, 1, 10]"
      ]
     },
     "execution_count": 7,
     "metadata": {},
     "output_type": "execute_result"
    }
   ],
   "source": [
    "numbers"
   ]
  },
  {
   "cell_type": "code",
   "execution_count": 8,
   "id": "5899a974-8015-4c2a-b705-5de21ec30fb1",
   "metadata": {},
   "outputs": [],
   "source": [
    "numbers = []\n",
    "random.seed(3)\n",
    "for index in range (10):\n",
    "    numbers.append(random.randint(0,10))"
   ]
  },
  {
   "cell_type": "code",
   "execution_count": 9,
   "id": "539087ca-8758-4fe3-a7ca-5e0a615c2798",
   "metadata": {},
   "outputs": [
    {
     "data": {
      "text/plain": [
       "[3, 9, 8, 2, 5, 9, 7, 10, 9, 1]"
      ]
     },
     "execution_count": 9,
     "metadata": {},
     "output_type": "execute_result"
    }
   ],
   "source": [
    "numbers"
   ]
  },
  {
   "cell_type": "code",
   "execution_count": 10,
   "id": "856692c1-67e7-46db-aaa6-97dc443e1d48",
   "metadata": {},
   "outputs": [],
   "source": [
    "sq = []\n",
    "for item in numbers:\n",
    "    sq.append(item**2)"
   ]
  },
  {
   "cell_type": "code",
   "execution_count": 11,
   "id": "abe4c71f-270a-4601-89bb-de5bdf04c9dc",
   "metadata": {},
   "outputs": [
    {
     "data": {
      "text/plain": [
       "[9, 81, 64, 4, 25, 81, 49, 100, 81, 1]"
      ]
     },
     "execution_count": 11,
     "metadata": {},
     "output_type": "execute_result"
    }
   ],
   "source": [
    "sq"
   ]
  },
  {
   "cell_type": "code",
   "execution_count": 12,
   "id": "fbb38356-323e-45be-9be4-b11d6585edaa",
   "metadata": {},
   "outputs": [
    {
     "data": {
      "text/plain": [
       "[9, 81, 64, 4, 25, 81, 49, 100, 81, 1]"
      ]
     },
     "execution_count": 12,
     "metadata": {},
     "output_type": "execute_result"
    }
   ],
   "source": [
    "[items**2 for items in numbers]  # pythonic way == faster"
   ]
  },
  {
   "cell_type": "code",
   "execution_count": 13,
   "id": "f2b43071-19ea-40c8-93fb-876de7d44993",
   "metadata": {},
   "outputs": [
    {
     "data": {
      "text/plain": [
       "[27, 729, 512, 8, 125, 729, 343, 1000, 729, 1]"
      ]
     },
     "execution_count": 13,
     "metadata": {},
     "output_type": "execute_result"
    }
   ],
   "source": [
    "[items **3 for items in numbers]"
   ]
  },
  {
   "cell_type": "markdown",
   "id": "2df608b7-9cf9-4745-b0fc-840005990a10",
   "metadata": {},
   "source": [
    "#  syntax \n",
    "```python\n",
    "[expression for item in iterables]\n",
    "```"
   ]
  },
  {
   "cell_type": "code",
   "execution_count": 14,
   "id": "eb277e73-341b-49e3-be5c-347f2fcd4a5a",
   "metadata": {},
   "outputs": [],
   "source": [
    "fruits = [\"APPLE\",\"BANANA\",\"MANGO\",\"ORANGE\"]"
   ]
  },
  {
   "cell_type": "code",
   "execution_count": 18,
   "id": "cc9f0bc9-b171-4697-bd1d-c9fbbc99af8d",
   "metadata": {},
   "outputs": [
    {
     "data": {
      "text/plain": [
       "['apple', 'banana', 'mango', 'orange']"
      ]
     },
     "execution_count": 18,
     "metadata": {},
     "output_type": "execute_result"
    }
   ],
   "source": [
    "[item.lower ()for item in fruits]"
   ]
  },
  {
   "cell_type": "markdown",
   "id": "6b6312b6-fb84-4f71-b06e-7f0ec9fb349c",
   "metadata": {},
   "source": [
    "# list comprehension with if "
   ]
  },
  {
   "cell_type": "code",
   "execution_count": 19,
   "id": "f29a8fde-f3c6-4082-a5eb-4b57d23d1387",
   "metadata": {},
   "outputs": [],
   "source": [
    "data = range(2,15)"
   ]
  },
  {
   "cell_type": "code",
   "execution_count": 20,
   "id": "786bca03-d0cd-47f9-8f8e-04b091ed3db5",
   "metadata": {},
   "outputs": [
    {
     "data": {
      "text/plain": [
       "[2, 4, 6, 8, 10, 12, 14]"
      ]
     },
     "execution_count": 20,
     "metadata": {},
     "output_type": "execute_result"
    }
   ],
   "source": [
    "[item for item in data if item %2 == 0]# if true vayo vane matra expression ko value aauxa"
   ]
  },
  {
   "cell_type": "code",
   "execution_count": 22,
   "id": "031048c5-4936-413f-9be0-436602cd8d07",
   "metadata": {},
   "outputs": [
    {
     "data": {
      "text/plain": [
       "[3, 5, 7, 9, 11, 13]"
      ]
     },
     "execution_count": 22,
     "metadata": {},
     "output_type": "execute_result"
    }
   ],
   "source": [
    "[item for item in data if item %2!= 0] # odd number nikaleko"
   ]
  },
  {
   "cell_type": "markdown",
   "id": "b56f2aab-5adf-4039-b9de-975f1b3192fa",
   "metadata": {},
   "source": [
    "# syntxa\n",
    "```python\n",
    "[expression for item in iterables if True]\n",
    "```"
   ]
  },
  {
   "cell_type": "markdown",
   "id": "626f6d29-59ff-4732-ad83-3843e1adbe7b",
   "metadata": {},
   "source": [
    "# list comprehension with if else\n",
    "\n",
    "```python\n",
    "[expression if True else Expression for item in iterables]\n",
    "```"
   ]
  },
  {
   "cell_type": "code",
   "execution_count": 23,
   "id": "51a15350-429a-4501-8237-b63e54334981",
   "metadata": {},
   "outputs": [],
   "source": [
    "data = range(-5,5)"
   ]
  },
  {
   "cell_type": "code",
   "execution_count": 24,
   "id": "8ed835fb-2a8b-4206-a8c4-c9bed5956793",
   "metadata": {},
   "outputs": [],
   "source": [
    "# if item  <0 chha vane chai 0 rakhne natra jastako testai rakhne "
   ]
  },
  {
   "cell_type": "code",
   "execution_count": 25,
   "id": "a37d5764-3589-4c43-92ae-10c723532a2c",
   "metadata": {},
   "outputs": [
    {
     "data": {
      "text/plain": [
       "[0, 0, 0, 0, 0, 0, 1, 2, 3, 4]"
      ]
     },
     "execution_count": 25,
     "metadata": {},
     "output_type": "execute_result"
    }
   ],
   "source": [
    "[0 if item <= 0 else item for item in data]"
   ]
  },
  {
   "cell_type": "code",
   "execution_count": 26,
   "id": "1c7de6af-232c-4a50-ab9b-cee32d04c156",
   "metadata": {},
   "outputs": [],
   "source": [
    "fruits = [\"apple\" , \"banana\" , \"cherry\" , \"kiwi\" , \"mango\"]"
   ]
  },
  {
   "cell_type": "code",
   "execution_count": 27,
   "id": "68553101-b085-4aa0-a691-a6ad9d0aeae2",
   "metadata": {},
   "outputs": [
    {
     "ename": "SyntaxError",
     "evalue": "unmatched ']' (1329123745.py, line 1)",
     "output_type": "error",
     "traceback": [
      "\u001b[1;36m  Cell \u001b[1;32mIn[27], line 1\u001b[1;36m\u001b[0m\n\u001b[1;33m    Orange if item != \"Banana\" else item for item in fruit]\u001b[0m\n\u001b[1;37m                                                          ^\u001b[0m\n\u001b[1;31mSyntaxError\u001b[0m\u001b[1;31m:\u001b[0m unmatched ']'\n"
     ]
    }
   ],
   "source": [
    "Orange if item = \"Banana\" else item for item in fruit] "
   ]
  },
  {
   "cell_type": "code",
   "execution_count": null,
   "id": "379542b6-f3fc-4554-91a1-37482c82d7df",
   "metadata": {},
   "outputs": [],
   "source": []
  }
 ],
 "metadata": {
  "kernelspec": {
   "display_name": "Python 3 (ipykernel)",
   "language": "python",
   "name": "python3"
  },
  "language_info": {
   "codemirror_mode": {
    "name": "ipython",
    "version": 3
   },
   "file_extension": ".py",
   "mimetype": "text/x-python",
   "name": "python",
   "nbconvert_exporter": "python",
   "pygments_lexer": "ipython3",
   "version": "3.10.11"
  }
 },
 "nbformat": 4,
 "nbformat_minor": 5
}
