{
 "cells": [
  {
   "cell_type": "code",
   "execution_count": 1,
   "id": "8f77deec-3532-4af5-a32e-6ce2f0c978cd",
   "metadata": {},
   "outputs": [],
   "source": [
    "class point :\n",
    "    def __init__(self , p):\n",
    "        self.p = p"
   ]
  },
  {
   "cell_type": "code",
   "execution_count": 2,
   "id": "6d0cddac-4dc1-4ef1-bd85-a5b564120467",
   "metadata": {},
   "outputs": [],
   "source": [
    "p1 = point(5)\n",
    "p2 = point(2)\n"
   ]
  },
  {
   "cell_type": "code",
   "execution_count": 3,
   "id": "9ed18fdb-9c3c-4e7c-9639-4c8e61778c29",
   "metadata": {},
   "outputs": [
    {
     "ename": "TypeError",
     "evalue": "unsupported operand type(s) for +: 'point' and 'point'",
     "output_type": "error",
     "traceback": [
      "\u001b[1;31m---------------------------------------------------------------------------\u001b[0m",
      "\u001b[1;31mTypeError\u001b[0m                                 Traceback (most recent call last)",
      "Cell \u001b[1;32mIn[3], line 1\u001b[0m\n\u001b[1;32m----> 1\u001b[0m \u001b[43mp1\u001b[49m\u001b[38;5;241;43m+\u001b[39;49m\u001b[43mp2\u001b[49m\n",
      "\u001b[1;31mTypeError\u001b[0m: unsupported operand type(s) for +: 'point' and 'point'"
     ]
    }
   ],
   "source": [
    "p1+p2"
   ]
  },
  {
   "cell_type": "code",
   "execution_count": 4,
   "id": "ce45fde9-248b-4e0c-a0df-841444cf6828",
   "metadata": {},
   "outputs": [],
   "source": [
    "# overloading + operator"
   ]
  },
  {
   "cell_type": "code",
   "execution_count": 7,
   "id": "d5320cbe-0e08-4419-86c2-462fffe79e40",
   "metadata": {},
   "outputs": [],
   "source": [
    "class point :\n",
    "    def __init__(self , p):\n",
    "        self.p = p\n",
    "\n",
    "    def __add__(self, otherobj):\n",
    "        return self.p + otherobj.p"
   ]
  },
  {
   "cell_type": "code",
   "execution_count": 8,
   "id": "d01e4a44-a459-48aa-b21e-cdedbd757553",
   "metadata": {},
   "outputs": [
    {
     "data": {
      "text/plain": [
       "7"
      ]
     },
     "execution_count": 8,
     "metadata": {},
     "output_type": "execute_result"
    }
   ],
   "source": [
    "p1 = point(5)\n",
    "p2 = point(2)\n",
    "p1+p2"
   ]
  },
  {
   "cell_type": "code",
   "execution_count": 11,
   "id": "ac62c928-35a8-4ee4-bbae-1b1e11c70dcc",
   "metadata": {},
   "outputs": [],
   "source": [
    "class point :\n",
    "    def __init__(self , p):\n",
    "        self.p = p\n",
    "\n",
    "    def __add__(self, point2):\n",
    "        return self.p + point2.p    # yeslai chai arko object ko name rakheko "
   ]
  },
  {
   "cell_type": "code",
   "execution_count": 10,
   "id": "9c8e4b5e-d380-4251-ab64-66f0fe71a0b0",
   "metadata": {},
   "outputs": [
    {
     "data": {
      "text/plain": [
       "7"
      ]
     },
     "execution_count": 10,
     "metadata": {},
     "output_type": "execute_result"
    }
   ],
   "source": [
    "p1 = point(5)\n",
    "p2 = point(2)\n",
    "p1+p2"
   ]
  },
  {
   "cell_type": "code",
   "execution_count": 1,
   "id": "7f1c5a37-a4b1-4a8a-beb6-5f71026dbadb",
   "metadata": {},
   "outputs": [],
   "source": [
    "class Point:\n",
    "    def __init__(self, p):\n",
    "        self.p = p\n",
    "        \n",
    "    def __lt__(self, otherobj):\n",
    "        if self.p < otherobj.p:\n",
    "            print(f\"{self.p} < {otherobj.p}\")\n",
    "            \n",
    "        else:\n",
    "            print(f\"{self.p} > {otherobj.p}\")"
   ]
  },
  {
   "cell_type": "code",
   "execution_count": 3,
   "id": "2b050489-7dbc-41b5-8005-b662c94aca08",
   "metadata": {},
   "outputs": [
    {
     "name": "stdout",
     "output_type": "stream",
     "text": [
      "5 > 2\n"
     ]
    }
   ],
   "source": [
    "p1 = Point(5)\n",
    "p2 = Point(2)\n",
    "p1<p2"
   ]
  },
  {
   "cell_type": "code",
   "execution_count": null,
   "id": "c4b7b51b-825b-4b65-b07d-c7c9a070a005",
   "metadata": {},
   "outputs": [],
   "source": []
  }
 ],
 "metadata": {
  "kernelspec": {
   "display_name": "Python 3 (ipykernel)",
   "language": "python",
   "name": "python3"
  },
  "language_info": {
   "codemirror_mode": {
    "name": "ipython",
    "version": 3
   },
   "file_extension": ".py",
   "mimetype": "text/x-python",
   "name": "python",
   "nbconvert_exporter": "python",
   "pygments_lexer": "ipython3",
   "version": "3.10.11"
  }
 },
 "nbformat": 4,
 "nbformat_minor": 5
}
