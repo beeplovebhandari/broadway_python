{
 "cells": [
  {
   "cell_type": "code",
   "execution_count": 2,
   "id": "39e57b9a-624b-4ae6-9c26-7fc4bd1587d5",
   "metadata": {},
   "outputs": [],
   "source": [
    "name = \"B@eplove\""
   ]
  },
  {
   "cell_type": "code",
   "execution_count": 3,
   "id": "2663ba98-9e85-4f12-898b-a03538547f26",
   "metadata": {},
   "outputs": [
    {
     "data": {
      "text/plain": [
       "'@'"
      ]
     },
     "execution_count": 3,
     "metadata": {},
     "output_type": "execute_result"
    }
   ],
   "source": [
    "name [1]"
   ]
  },
  {
   "cell_type": "code",
   "execution_count": 4,
   "id": "aa23dcae-fd86-415e-bb97-ecf1f54517a7",
   "metadata": {},
   "outputs": [
    {
     "ename": "TypeError",
     "evalue": "'str' object does not support item assignment",
     "output_type": "error",
     "traceback": [
      "\u001b[1;31m---------------------------------------------------------------------------\u001b[0m",
      "\u001b[1;31mTypeError\u001b[0m                                 Traceback (most recent call last)",
      "Cell \u001b[1;32mIn[4], line 1\u001b[0m\n\u001b[1;32m----> 1\u001b[0m \u001b[43mname\u001b[49m\u001b[43m \u001b[49m\u001b[43m[\u001b[49m\u001b[38;5;241;43m1\u001b[39;49m\u001b[43m]\u001b[49m \u001b[38;5;241m=\u001b[39m \u001b[38;5;124m\"\u001b[39m\u001b[38;5;124me\u001b[39m\u001b[38;5;124m\"\u001b[39m \u001b[38;5;66;03m# string is immutable data type\u001b[39;00m\n",
      "\u001b[1;31mTypeError\u001b[0m: 'str' object does not support item assignment"
     ]
    }
   ],
   "source": [
    "name [1] = \"e\" # string is immutable data type"
   ]
  },
  {
   "cell_type": "code",
   "execution_count": 5,
   "id": "6c2f4312-9b41-4d3d-93ca-4a8ac05c1e91",
   "metadata": {},
   "outputs": [],
   "source": [
    "# same memory location ma gayera value update or edit garna mildaina vanae yeslai immutable data type vanincha"
   ]
  },
  {
   "cell_type": "code",
   "execution_count": 6,
   "id": "38555f39-7d0a-43ff-9ef1-19f0af4287d8",
   "metadata": {},
   "outputs": [],
   "source": [
    "name = \"B@eplove\""
   ]
  },
  {
   "cell_type": "code",
   "execution_count": 9,
   "id": "4b9760eb-0da9-4479-8de8-2fbbc35b3cc4",
   "metadata": {},
   "outputs": [
    {
     "data": {
      "text/plain": [
       "'Beeplove'"
      ]
     },
     "execution_count": 9,
     "metadata": {},
     "output_type": "execute_result"
    }
   ],
   "source": [
    "name.replace(\"@\",'e')"
   ]
  },
  {
   "cell_type": "code",
   "execution_count": 10,
   "id": "c96edae2-ea34-4337-921c-61160395ceeb",
   "metadata": {},
   "outputs": [
    {
     "data": {
      "text/plain": [
       "'B@eplove'"
      ]
     },
     "execution_count": 10,
     "metadata": {},
     "output_type": "execute_result"
    }
   ],
   "source": [
    "name"
   ]
  },
  {
   "cell_type": "code",
   "execution_count": 11,
   "id": "1ca1a371-385e-4c13-88a0-2c306fd3e704",
   "metadata": {},
   "outputs": [
    {
     "data": {
      "text/plain": [
       "2752817364336"
      ]
     },
     "execution_count": 11,
     "metadata": {},
     "output_type": "execute_result"
    }
   ],
   "source": [
    "name = \"B@eplove\"\n",
    "id(name)"
   ]
  },
  {
   "cell_type": "code",
   "execution_count": 12,
   "id": "3d789f2c-b757-46ff-a144-1266c35a904a",
   "metadata": {},
   "outputs": [],
   "source": [
    "name = name.replace('@','s')"
   ]
  },
  {
   "cell_type": "code",
   "execution_count": 13,
   "id": "341f82ba-9659-4a28-88ef-b217047b1671",
   "metadata": {},
   "outputs": [
    {
     "data": {
      "text/plain": [
       "2752817357680"
      ]
     },
     "execution_count": 13,
     "metadata": {},
     "output_type": "execute_result"
    }
   ],
   "source": [
    "id(name)"
   ]
  },
  {
   "cell_type": "code",
   "execution_count": 15,
   "id": "f4e55cd1-72d1-433e-8c6b-8cf229459bbd",
   "metadata": {},
   "outputs": [
    {
     "data": {
      "text/plain": [
       "'Sad Birthday'"
      ]
     },
     "execution_count": 15,
     "metadata": {},
     "output_type": "execute_result"
    }
   ],
   "source": [
    "\"Happy Birthday\".replace(\"Happy\",'Sad')"
   ]
  },
  {
   "cell_type": "code",
   "execution_count": 16,
   "id": "4abb1bae-e287-46d9-ae78-27b0adf85a8f",
   "metadata": {},
   "outputs": [],
   "source": [
    "s = \"hello samba\""
   ]
  },
  {
   "cell_type": "code",
   "execution_count": 17,
   "id": "fe57c3ea-9333-43ec-9217-b1c585597483",
   "metadata": {},
   "outputs": [
    {
     "data": {
      "text/plain": [
       "'HELLO SAMBA'"
      ]
     },
     "execution_count": 17,
     "metadata": {},
     "output_type": "execute_result"
    }
   ],
   "source": [
    "s.upper()"
   ]
  },
  {
   "cell_type": "code",
   "execution_count": 18,
   "id": "57ab725f-d897-4522-8c28-f37fac722b90",
   "metadata": {},
   "outputs": [],
   "source": [
    "s = \"HELLO SAMBA\""
   ]
  },
  {
   "cell_type": "code",
   "execution_count": 19,
   "id": "0b410364-2035-48ba-b238-01f73f1e56ac",
   "metadata": {},
   "outputs": [
    {
     "data": {
      "text/plain": [
       "'hello samba'"
      ]
     },
     "execution_count": 19,
     "metadata": {},
     "output_type": "execute_result"
    }
   ],
   "source": [
    "s.lower()"
   ]
  },
  {
   "cell_type": "code",
   "execution_count": 20,
   "id": "5213df1f-b332-4af6-a3e1-fada5fa27a2e",
   "metadata": {},
   "outputs": [],
   "source": [
    "theme = \" openheier's atom bobm\""
   ]
  },
  {
   "cell_type": "code",
   "execution_count": 21,
   "id": "ff59f92e-09e3-47d9-b4ee-e64529fbe33e",
   "metadata": {},
   "outputs": [
    {
     "data": {
      "text/plain": [
       "\" Openheier'S Atom Bobm\""
      ]
     },
     "execution_count": 21,
     "metadata": {},
     "output_type": "execute_result"
    }
   ],
   "source": [
    "theme.title()"
   ]
  },
  {
   "cell_type": "code",
   "execution_count": 22,
   "id": "8f92d6ec-e68b-48f8-877a-3bdfcff7ce6f",
   "metadata": {},
   "outputs": [],
   "source": [
    "msg = \"ram ko bihey vayo\""
   ]
  },
  {
   "cell_type": "code",
   "execution_count": 23,
   "id": "74a78610-5cd7-4aac-850e-7e8b7e898438",
   "metadata": {},
   "outputs": [
    {
     "data": {
      "text/plain": [
       "'Ram Ko Bihey Vayo'"
      ]
     },
     "execution_count": 23,
     "metadata": {},
     "output_type": "execute_result"
    }
   ],
   "source": [
    "msg.title()"
   ]
  },
  {
   "cell_type": "markdown",
   "id": "208a7a1f-933d-4de2-a2dd-856bb132ddb0",
   "metadata": {},
   "source": [
    "# .strip(), istrip() ,rstrip()"
   ]
  },
  {
   "cell_type": "code",
   "execution_count": 30,
   "id": "e0251c78-ef09-4736-96c0-ac30c4ffedbe",
   "metadata": {},
   "outputs": [],
   "source": [
    "theme = \"             openheier's atom bomb          \""
   ]
  },
  {
   "cell_type": "code",
   "execution_count": 32,
   "id": "358d6353-1d87-422b-b015-cfba7dc7e932",
   "metadata": {},
   "outputs": [
    {
     "data": {
      "text/plain": [
       "\"openheier's atom bomb          \""
      ]
     },
     "execution_count": 32,
     "metadata": {},
     "output_type": "execute_result"
    }
   ],
   "source": [
    "theme.lstrip()"
   ]
  },
  {
   "cell_type": "code",
   "execution_count": 33,
   "id": "833437d6-a9e3-4f19-8242-ad9bef1bb384",
   "metadata": {},
   "outputs": [
    {
     "data": {
      "text/plain": [
       "\"             openheier's atom bomb\""
      ]
     },
     "execution_count": 33,
     "metadata": {},
     "output_type": "execute_result"
    }
   ],
   "source": [
    "theme.rstrip()"
   ]
  },
  {
   "cell_type": "code",
   "execution_count": 34,
   "id": "a03caa60-0d1a-4e34-a91d-e33f661d3379",
   "metadata": {},
   "outputs": [
    {
     "data": {
      "text/plain": [
       "\"openheier's atom bomb\""
      ]
     },
     "execution_count": 34,
     "metadata": {},
     "output_type": "execute_result"
    }
   ],
   "source": [
    "theme.strip()"
   ]
  },
  {
   "cell_type": "markdown",
   "id": "d0da2408-ef7b-457a-a0ba-aa4430ba4d29",
   "metadata": {},
   "source": [
    "# .split()"
   ]
  },
  {
   "cell_type": "code",
   "execution_count": 35,
   "id": "ee1fb2dc-46ae-4e44-a40b-6b468ef4c0a0",
   "metadata": {},
   "outputs": [],
   "source": [
    "theme = \"Openheimer the father of atom bomb talks about Bhagwat Geeta \""
   ]
  },
  {
   "cell_type": "code",
   "execution_count": 36,
   "id": "071e1e4d-e7c1-4e56-b63d-7dfb45018a66",
   "metadata": {},
   "outputs": [],
   "source": [
    "words = theme.split(\" \")"
   ]
  },
  {
   "cell_type": "code",
   "execution_count": 37,
   "id": "c0ec2feb-5f09-47d6-b614-4b9f7aca47ac",
   "metadata": {},
   "outputs": [
    {
     "name": "stdout",
     "output_type": "stream",
     "text": [
      "['Openheimer', 'the', 'father', 'of', 'atom', 'bomb', 'talks', 'about', 'Bhagwat', 'Geeta', '']\n"
     ]
    }
   ],
   "source": [
    "print(words)"
   ]
  },
  {
   "cell_type": "code",
   "execution_count": 39,
   "id": "2120b4cb-e368-4faf-8497-905e0990bed9",
   "metadata": {},
   "outputs": [
    {
     "data": {
      "text/plain": [
       "list"
      ]
     },
     "execution_count": 39,
     "metadata": {},
     "output_type": "execute_result"
    }
   ],
   "source": [
    "type(words)"
   ]
  },
  {
   "cell_type": "markdown",
   "id": "37e2fe69-f59f-4054-9124-2c00c0add359",
   "metadata": {},
   "source": [
    "# \" \".join()"
   ]
  },
  {
   "cell_type": "code",
   "execution_count": 40,
   "id": "06dbca7a-bb01-46e3-9505-16ab6b8ec69a",
   "metadata": {},
   "outputs": [],
   "source": [
    "words = [ 'a', 'an', ',', 'the', 'are', 'articles']"
   ]
  },
  {
   "cell_type": "code",
   "execution_count": 43,
   "id": "c8a44c7e-e855-4377-a241-d654799f061f",
   "metadata": {},
   "outputs": [
    {
     "data": {
      "text/plain": [
       "'a an , the are articles'"
      ]
     },
     "execution_count": 43,
     "metadata": {},
     "output_type": "execute_result"
    }
   ],
   "source": [
    "\" \".join(words)"
   ]
  },
  {
   "cell_type": "code",
   "execution_count": 51,
   "id": "5a56d5c3-c870-446d-88a8-aed9ea482ec7",
   "metadata": {},
   "outputs": [],
   "source": [
    "song = \"Raja ko rani se pyar hogaya\""
   ]
  },
  {
   "cell_type": "code",
   "execution_count": 52,
   "id": "fee13971-a137-44be-99ff-2c1e167520cf",
   "metadata": {},
   "outputs": [],
   "source": [
    "words = song.split()"
   ]
  },
  {
   "cell_type": "code",
   "execution_count": 46,
   "id": "03f205ab-a044-4d9b-aa5a-02eb7ea10997",
   "metadata": {},
   "outputs": [
    {
     "name": "stdout",
     "output_type": "stream",
     "text": [
      "['Raja', 'ko', 'rani', 'se', 'pyar', 'hogaya']\n"
     ]
    }
   ],
   "source": [
    "print(song)"
   ]
  },
  {
   "cell_type": "code",
   "execution_count": 53,
   "id": "205addf9-cad7-4943-ac19-45c3e63c52cf",
   "metadata": {},
   "outputs": [],
   "source": [
    "words = ['Raja', 'ko', 'rani', 'se', 'pyar', 'hogaya']"
   ]
  },
  {
   "cell_type": "code",
   "execution_count": 54,
   "id": "fe520393-e621-44ae-84a1-5fcaf7d7fe94",
   "metadata": {},
   "outputs": [
    {
     "data": {
      "text/plain": [
       "'Raja ko rani se pyar hogaya'"
      ]
     },
     "execution_count": 54,
     "metadata": {},
     "output_type": "execute_result"
    }
   ],
   "source": [
    "\" \".join(words)"
   ]
  },
  {
   "cell_type": "code",
   "execution_count": null,
   "id": "202c4fec-8719-4865-a3f2-2657add33be4",
   "metadata": {},
   "outputs": [],
   "source": []
  }
 ],
 "metadata": {
  "kernelspec": {
   "display_name": "Python 3 (ipykernel)",
   "language": "python",
   "name": "python3"
  },
  "language_info": {
   "codemirror_mode": {
    "name": "ipython",
    "version": 3
   },
   "file_extension": ".py",
   "mimetype": "text/x-python",
   "name": "python",
   "nbconvert_exporter": "python",
   "pygments_lexer": "ipython3",
   "version": "3.10.11"
  }
 },
 "nbformat": 4,
 "nbformat_minor": 5
}
