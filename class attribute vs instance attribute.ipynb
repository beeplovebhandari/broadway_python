{
 "cells": [
  {
   "cell_type": "markdown",
   "id": "0b7c0602-82e3-432c-ae33-d27f9a840af1",
   "metadata": {},
   "source": [
    "# class and object\n",
    "* class is a blue-print to create an object\n",
    "* object is a instance of class"
   ]
  },
  {
   "cell_type": "markdown",
   "id": "5f2c541f-ee85-4e08-8aa1-ff0e8a0e6add",
   "metadata": {},
   "source": [
    "# class attribute"
   ]
  },
  {
   "cell_type": "code",
   "execution_count": 1,
   "id": "5b0c9579-02b4-4f2f-95af-a305b3ea1c6c",
   "metadata": {},
   "outputs": [],
   "source": [
    "class Mammal:\n",
    "    has_hair = True # class attribute"
   ]
  },
  {
   "cell_type": "code",
   "execution_count": 5,
   "id": "fd35b036-743b-4f6a-a7aa-fa05c7147813",
   "metadata": {},
   "outputs": [
    {
     "name": "stdout",
     "output_type": "stream",
     "text": [
      "True\n"
     ]
    }
   ],
   "source": [
    "human = Mammal()  # human is object of Mammal class\n",
    "print(human.has_hair)  # class attributes is same for all objects"
   ]
  },
  {
   "cell_type": "code",
   "execution_count": 4,
   "id": "e6100fb8-058e-4105-85f4-46b60bd7bcf3",
   "metadata": {},
   "outputs": [
    {
     "name": "stdout",
     "output_type": "stream",
     "text": [
      "True\n"
     ]
    }
   ],
   "source": [
    "cow = Mammal()\n",
    "print(cow.has_hair)  # class attributes is same for all objects"
   ]
  },
  {
   "cell_type": "markdown",
   "id": "7f66ebeb-3bef-468c-847c-ec5e2be798b1",
   "metadata": {},
   "source": [
    "# instance aatributes"
   ]
  },
  {
   "cell_type": "code",
   "execution_count": 7,
   "id": "ac9655a4-4abd-4b31-abf9-52b01ce44676",
   "metadata": {},
   "outputs": [],
   "source": [
    "class Mammal:\n",
    "    has_hair = True\n",
    "\n",
    "    def __init__(self, no_of_legs):\n",
    "        self.no_of_legs = no_of_legs"
   ]
  },
  {
   "cell_type": "code",
   "execution_count": 8,
   "id": "28cda419-a618-40a7-954d-3c268b91cf23",
   "metadata": {},
   "outputs": [
    {
     "ename": "TypeError",
     "evalue": "Mammal.__init__() missing 1 required positional argument: 'no_of_legs'",
     "output_type": "error",
     "traceback": [
      "\u001b[1;31m---------------------------------------------------------------------------\u001b[0m",
      "\u001b[1;31mTypeError\u001b[0m                                 Traceback (most recent call last)",
      "Cell \u001b[1;32mIn[8], line 1\u001b[0m\n\u001b[1;32m----> 1\u001b[0m human \u001b[38;5;241m=\u001b[39m \u001b[43mMammal\u001b[49m\u001b[43m(\u001b[49m\u001b[43m)\u001b[49m\n",
      "\u001b[1;31mTypeError\u001b[0m: Mammal.__init__() missing 1 required positional argument: 'no_of_legs'"
     ]
    }
   ],
   "source": [
    "human = Mammal()"
   ]
  },
  {
   "cell_type": "code",
   "execution_count": 9,
   "id": "e7847590-a7c5-4202-ab09-13b484048b95",
   "metadata": {},
   "outputs": [],
   "source": [
    "human = Mammal (no_of_legs = 2)"
   ]
  },
  {
   "cell_type": "code",
   "execution_count": 10,
   "id": "fa514cf0-e78a-4e72-b3f5-ca7a12c26248",
   "metadata": {},
   "outputs": [
    {
     "data": {
      "text/plain": [
       "True"
      ]
     },
     "execution_count": 10,
     "metadata": {},
     "output_type": "execute_result"
    }
   ],
   "source": [
    "human.has_hair"
   ]
  },
  {
   "cell_type": "code",
   "execution_count": 11,
   "id": "9cb29590-cadf-446d-ad57-1817e64da6ae",
   "metadata": {},
   "outputs": [
    {
     "data": {
      "text/plain": [
       "2"
      ]
     },
     "execution_count": 11,
     "metadata": {},
     "output_type": "execute_result"
    }
   ],
   "source": [
    "human.no_of_legs "
   ]
  },
  {
   "cell_type": "code",
   "execution_count": 12,
   "id": "977012be-4ed9-48d0-833d-a8c44571db9e",
   "metadata": {},
   "outputs": [],
   "source": [
    "cow = Mammal(no_of_legs = 4)\n"
   ]
  },
  {
   "cell_type": "code",
   "execution_count": 14,
   "id": "cfad9686-21e5-4807-838a-cced598c5c74",
   "metadata": {},
   "outputs": [
    {
     "data": {
      "text/plain": [
       "4"
      ]
     },
     "execution_count": 14,
     "metadata": {},
     "output_type": "execute_result"
    }
   ],
   "source": [
    "cow.no_of_legs"
   ]
  },
  {
   "cell_type": "code",
   "execution_count": 15,
   "id": "022387fc-307e-4771-b9ea-2fe8ffc5d04b",
   "metadata": {},
   "outputs": [
    {
     "data": {
      "text/plain": [
       "True"
      ]
     },
     "execution_count": 15,
     "metadata": {},
     "output_type": "execute_result"
    }
   ],
   "source": [
    "cow.has_hair"
   ]
  },
  {
   "cell_type": "code",
   "execution_count": 21,
   "id": "83075237-e9f9-4f84-af37-23d52249c7f0",
   "metadata": {},
   "outputs": [],
   "source": [
    "class Mammal:\n",
    "    has_hair = True\n",
    "\n",
    "    def __init__(self, no_of_legs):  # self is an object\n",
    "        print(type(self))\n",
    "        self.no_of_legs = no_of_legs\n",
    "        "
   ]
  },
  {
   "cell_type": "code",
   "execution_count": 22,
   "id": "d311cd37-0aea-4d6e-8cff-e558a6519f04",
   "metadata": {},
   "outputs": [
    {
     "name": "stdout",
     "output_type": "stream",
     "text": [
      "<class '__main__.Mammal'>\n"
     ]
    }
   ],
   "source": [
    "human = Mammal(no_of_legs = 2)"
   ]
  },
  {
   "cell_type": "code",
   "execution_count": 23,
   "id": "748b1833-5d12-48fe-a20c-4e71fa3412c8",
   "metadata": {},
   "outputs": [
    {
     "name": "stdout",
     "output_type": "stream",
     "text": [
      "<class '__main__.Mammal'>\n"
     ]
    }
   ],
   "source": [
    "print(type(human))"
   ]
  },
  {
   "cell_type": "markdown",
   "id": "48e4a3a8-f9e9-4c40-99cb-7aeaf3f8b096",
   "metadata": {},
   "source": [
    "# ```__init__``` is object attribute initializer"
   ]
  },
  {
   "cell_type": "markdown",
   "id": "655c89b1-3839-4d8f-a236-3a7636c1a7b2",
   "metadata": {},
   "source": [
    "# in OOP constructer is used to create an object.`___init___` .is not aconstructor because it takes.self as argumentehich is an Object already created.`___new___` is constructor in python"
   ]
  },
  {
   "cell_type": "code",
   "execution_count": 24,
   "id": "3986b303-05d8-4471-98fe-97d94df033dd",
   "metadata": {},
   "outputs": [],
   "source": [
    "# ___init___ le kei value return gardaina  /// none chai bydefault nai hunxa"
   ]
  },
  {
   "cell_type": "code",
   "execution_count": 25,
   "id": "58f4d076-1a1b-4165-9378-dbaadefea1fd",
   "metadata": {},
   "outputs": [],
   "source": [
    "# ___init___ is used to customize constructed objects \n",
    "# ___new___()___init___()"
   ]
  },
  {
   "cell_type": "markdown",
   "id": "c274ec14-13b0-4a5b-9f91-9f72af0f60bc",
   "metadata": {},
   "source": [
    "# calculate area and perimeter of Rectangle using class"
   ]
  },
  {
   "cell_type": "code",
   "execution_count": 32,
   "id": "ca7889f6-d84f-41fd-87cd-c731ce30df68",
   "metadata": {},
   "outputs": [],
   "source": [
    "class Rectangle:\n",
    "    def __init__(self , l, b):\n",
    "        self.l = l\n",
    "        self.b = b\n",
    "\n",
    "    def area(self):\n",
    "        return self.l * self.b\n",
    "\n",
    "    def perimeter (self):\n",
    "        return 2 * (self.l + self.b)"
   ]
  },
  {
   "cell_type": "code",
   "execution_count": 29,
   "id": "b6affb3d-4e72-4f18-99c3-975713b1ab06",
   "metadata": {},
   "outputs": [],
   "source": [
    "r1 = Rectangle (l = 5 , b = 3)"
   ]
  },
  {
   "cell_type": "code",
   "execution_count": 30,
   "id": "06a75b9f-6b48-48ef-8de8-3f124fb755bf",
   "metadata": {},
   "outputs": [
    {
     "data": {
      "text/plain": [
       "15"
      ]
     },
     "execution_count": 30,
     "metadata": {},
     "output_type": "execute_result"
    }
   ],
   "source": [
    "r1.area()"
   ]
  },
  {
   "cell_type": "code",
   "execution_count": 31,
   "id": "fcf6b2e9-7ede-4549-9711-a6ac8f6daf3b",
   "metadata": {},
   "outputs": [
    {
     "data": {
      "text/plain": [
       "16"
      ]
     },
     "execution_count": 31,
     "metadata": {},
     "output_type": "execute_result"
    }
   ],
   "source": [
    "r1.perimeter()"
   ]
  },
  {
   "cell_type": "code",
   "execution_count": 33,
   "id": "4b33e9b7-40e9-47f0-996a-96a200c947ba",
   "metadata": {},
   "outputs": [],
   "source": [
    "r2 = Rectangle (l = 3 , b = 9)"
   ]
  },
  {
   "cell_type": "code",
   "execution_count": 34,
   "id": "9e3d73ba-bb1d-4143-8553-48e4c0abf620",
   "metadata": {},
   "outputs": [
    {
     "data": {
      "text/plain": [
       "27"
      ]
     },
     "execution_count": 34,
     "metadata": {},
     "output_type": "execute_result"
    }
   ],
   "source": [
    "r2.area()"
   ]
  },
  {
   "cell_type": "code",
   "execution_count": 35,
   "id": "231b27aa-b4e5-43e1-8478-c6cdb47796f6",
   "metadata": {},
   "outputs": [
    {
     "data": {
      "text/plain": [
       "24"
      ]
     },
     "execution_count": 35,
     "metadata": {},
     "output_type": "execute_result"
    }
   ],
   "source": [
    "r2.perimeter()"
   ]
  },
  {
   "cell_type": "markdown",
   "id": "72bfbb20-4cc2-40e4-ab6f-32f7bd387e10",
   "metadata": {},
   "source": [
    "# static method ko barema padne "
   ]
  },
  {
   "cell_type": "code",
   "execution_count": null,
   "id": "5071eeae-cab0-4a18-9b14-0fc91de30e4b",
   "metadata": {},
   "outputs": [],
   "source": []
  }
 ],
 "metadata": {
  "kernelspec": {
   "display_name": "Python 3 (ipykernel)",
   "language": "python",
   "name": "python3"
  },
  "language_info": {
   "codemirror_mode": {
    "name": "ipython",
    "version": 3
   },
   "file_extension": ".py",
   "mimetype": "text/x-python",
   "name": "python",
   "nbconvert_exporter": "python",
   "pygments_lexer": "ipython3",
   "version": "3.10.11"
  }
 },
 "nbformat": 4,
 "nbformat_minor": 5
}
