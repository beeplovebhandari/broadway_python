{
 "cells": [
  {
   "cell_type": "markdown",
   "id": "29b4c00a-86bf-4583-957d-df8975aac0da",
   "metadata": {},
   "source": [
    "# File Handling :\n",
    "* open  : `open(filename , mode)`\n",
    "* close : `file.close()`\n",
    "\n",
    "    #Different mode to open file\n",
    "  \n",
    "* read   : `r`\n",
    "* write  : `w`\n",
    "* append  : `a`\n"
   ]
  },
  {
   "cell_type": "markdown",
   "id": "3aba1029-f0a0-45d7-8599-c2dbb45e40bb",
   "metadata": {},
   "source": [
    "#  Read Mode"
   ]
  },
  {
   "cell_type": "code",
   "execution_count": 1,
   "id": "60cbe4b4-2796-4b6f-96cd-f04313c3a57a",
   "metadata": {},
   "outputs": [
    {
     "ename": "FileNotFoundError",
     "evalue": "[Errno 2] No such file or directory: 'broadway.txt'",
     "output_type": "error",
     "traceback": [
      "\u001b[1;31m---------------------------------------------------------------------------\u001b[0m",
      "\u001b[1;31mFileNotFoundError\u001b[0m                         Traceback (most recent call last)",
      "Cell \u001b[1;32mIn[1], line 1\u001b[0m\n\u001b[1;32m----> 1\u001b[0m file \u001b[38;5;241m=\u001b[39m \u001b[38;5;28;43mopen\u001b[39;49m\u001b[43m(\u001b[49m\u001b[38;5;124;43m'\u001b[39;49m\u001b[38;5;124;43mbroadway.txt\u001b[39;49m\u001b[38;5;124;43m'\u001b[39;49m\u001b[43m \u001b[49m\u001b[43m,\u001b[49m\u001b[43m \u001b[49m\u001b[38;5;124;43m'\u001b[39;49m\u001b[38;5;124;43mr\u001b[39;49m\u001b[38;5;124;43m'\u001b[39;49m\u001b[43m)\u001b[49m\n",
      "File \u001b[1;32m~\\AppData\\Roaming\\Python\\Python310\\site-packages\\IPython\\core\\interactiveshell.py:284\u001b[0m, in \u001b[0;36m_modified_open\u001b[1;34m(file, *args, **kwargs)\u001b[0m\n\u001b[0;32m    277\u001b[0m \u001b[38;5;28;01mif\u001b[39;00m file \u001b[38;5;129;01min\u001b[39;00m {\u001b[38;5;241m0\u001b[39m, \u001b[38;5;241m1\u001b[39m, \u001b[38;5;241m2\u001b[39m}:\n\u001b[0;32m    278\u001b[0m     \u001b[38;5;28;01mraise\u001b[39;00m \u001b[38;5;167;01mValueError\u001b[39;00m(\n\u001b[0;32m    279\u001b[0m         \u001b[38;5;124mf\u001b[39m\u001b[38;5;124m\"\u001b[39m\u001b[38;5;124mIPython won\u001b[39m\u001b[38;5;124m'\u001b[39m\u001b[38;5;124mt let you open fd=\u001b[39m\u001b[38;5;132;01m{\u001b[39;00mfile\u001b[38;5;132;01m}\u001b[39;00m\u001b[38;5;124m by default \u001b[39m\u001b[38;5;124m\"\u001b[39m\n\u001b[0;32m    280\u001b[0m         \u001b[38;5;124m\"\u001b[39m\u001b[38;5;124mas it is likely to crash IPython. If you know what you are doing, \u001b[39m\u001b[38;5;124m\"\u001b[39m\n\u001b[0;32m    281\u001b[0m         \u001b[38;5;124m\"\u001b[39m\u001b[38;5;124myou can use builtins\u001b[39m\u001b[38;5;124m'\u001b[39m\u001b[38;5;124m open.\u001b[39m\u001b[38;5;124m\"\u001b[39m\n\u001b[0;32m    282\u001b[0m     )\n\u001b[1;32m--> 284\u001b[0m \u001b[38;5;28;01mreturn\u001b[39;00m io_open(file, \u001b[38;5;241m*\u001b[39margs, \u001b[38;5;241m*\u001b[39m\u001b[38;5;241m*\u001b[39mkwargs)\n",
      "\u001b[1;31mFileNotFoundError\u001b[0m: [Errno 2] No such file or directory: 'broadway.txt'"
     ]
    }
   ],
   "source": [
    "file = open('broadway.txt' , 'r')"
   ]
  },
  {
   "cell_type": "code",
   "execution_count": 2,
   "id": "7ac42505-7d2a-42ea-9aaf-47be714e5c84",
   "metadata": {},
   "outputs": [
    {
     "name": "stdout",
     "output_type": "stream",
     "text": [
      "[Errno 2] No such file or directory: 'broadway.txt'\n"
     ]
    }
   ],
   "source": [
    "try :\n",
    "    file = open('broadway.txt' , 'r')\n",
    "except Exception as e:\n",
    "    print(e)\n",
    "    "
   ]
  },
  {
   "cell_type": "code",
   "execution_count": 3,
   "id": "01e7f07f-608a-4292-83a5-96f7edd342b1",
   "metadata": {},
   "outputs": [],
   "source": [
    "file = open ('student.txt' , 'r')"
   ]
  },
  {
   "cell_type": "code",
   "execution_count": 4,
   "id": "2eeaf8fb-026f-42ac-bb15-47402644245e",
   "metadata": {},
   "outputs": [],
   "source": [
    "text = file.read()"
   ]
  },
  {
   "cell_type": "code",
   "execution_count": 5,
   "id": "95fad457-f4c5-4118-a854-663659f7ee57",
   "metadata": {},
   "outputs": [
    {
     "name": "stdout",
     "output_type": "stream",
     "text": [
      "Beeplove\n",
      "Subash\n",
      "Akash\n",
      "Prabin\n"
     ]
    }
   ],
   "source": [
    "print(text)"
   ]
  },
  {
   "cell_type": "code",
   "execution_count": 6,
   "id": "319f50ed-af51-49af-851b-ba5e7e049ad0",
   "metadata": {},
   "outputs": [],
   "source": [
    "file.close()"
   ]
  },
  {
   "cell_type": "code",
   "execution_count": 7,
   "id": "407cd6b4-2279-4362-9c0a-a65e40c7a31f",
   "metadata": {},
   "outputs": [
    {
     "name": "stdout",
     "output_type": "stream",
     "text": [
      "Beeplove\n",
      "Subash\n",
      "Akash\n",
      "Prabin\n"
     ]
    }
   ],
   "source": [
    "with open ('student.txt') as file:    # by-default read mode ma huncha \n",
    "    text = file.read ()\n",
    "\n",
    "print(text)"
   ]
  },
  {
   "cell_type": "markdown",
   "id": "694461e1-b2e0-4056-be31-78e770f14982",
   "metadata": {},
   "source": [
    "# Write mode\n",
    "* write mode ma file exist gardaina vane naya create huncha ani tesma write garne ho\n",
    "* if file alredy exist garcha vane write mode le purano file hataucha ra naya fil banauxa ra naya file ma lekhne ho . purano data lost huncha "
   ]
  },
  {
   "cell_type": "code",
   "execution_count": 8,
   "id": "5f66d597-817a-409e-841f-d9493294ccbe",
   "metadata": {},
   "outputs": [],
   "source": [
    "with open ('tinkune.txt' , 'w') as file:\n",
    "    file.write (\"Tinkune ma ganesh mandir xa \")"
   ]
  },
  {
   "cell_type": "code",
   "execution_count": 10,
   "id": "9416a572-f83a-493b-a87b-6331455c7588",
   "metadata": {},
   "outputs": [
    {
     "name": "stdout",
     "output_type": "stream",
     "text": [
      "Tinkune ma ganesh mandir xa \n"
     ]
    }
   ],
   "source": [
    "# read the written file\n",
    "with open('tinkune.txt' , 'r')as file:\n",
    "    text = file.read()\n",
    "\n",
    "print(text)"
   ]
  },
  {
   "cell_type": "code",
   "execution_count": 13,
   "id": "36913770-6e27-4ca3-a728-bfb4f1b7154c",
   "metadata": {},
   "outputs": [
    {
     "data": {
      "text/plain": [
       "True"
      ]
     },
     "execution_count": 13,
     "metadata": {},
     "output_type": "execute_result"
    }
   ],
   "source": [
    "import os\n",
    "os.path.exists('tinkune.txt')   # yo directory ma tinkune.txt exist garxa ki nai vanera check garne ho"
   ]
  },
  {
   "cell_type": "code",
   "execution_count": 14,
   "id": "6d5d5808-b932-47d7-823b-59aef0380d8c",
   "metadata": {},
   "outputs": [
    {
     "data": {
      "text/plain": [
       "False"
      ]
     },
     "execution_count": 14,
     "metadata": {},
     "output_type": "execute_result"
    }
   ],
   "source": [
    "import os\n",
    "os.path.exists('koteshwor.txt')"
   ]
  },
  {
   "cell_type": "code",
   "execution_count": 25,
   "id": "f744fa8b-4ca6-424c-8c7b-1725dbebe43e",
   "metadata": {},
   "outputs": [
    {
     "name": "stdout",
     "output_type": "stream",
     "text": [
      "Tinkune ma broadway xa \n"
     ]
    }
   ],
   "source": [
    "with open('tinkune.txt' , 'w') as file:\n",
    "    file.write(\"Tinkune ma broadway xa \")\n",
    "\n",
    "# read the written file\n",
    "with open ('tinkune.txt', 'r') as file:\n",
    "    text = file.read()\n",
    "    \n",
    "print(text)  # tinkune ma ganesh mandir xa harauxa "
   ]
  },
  {
   "cell_type": "markdown",
   "id": "7ca3c1db-5b00-42de-9197-38e3de5f55b9",
   "metadata": {},
   "source": [
    "# Append mode \n",
    "* append mode ma file exist gardaina vane naya banxa\n",
    "* if file exist garxa vane purano file ma append hunxa"
   ]
  },
  {
   "cell_type": "code",
   "execution_count": 18,
   "id": "0cb08bb8-1363-48d2-ba6d-90612b347561",
   "metadata": {},
   "outputs": [
    {
     "data": {
      "text/plain": [
       "False"
      ]
     },
     "execution_count": 18,
     "metadata": {},
     "output_type": "execute_result"
    }
   ],
   "source": [
    "os.path.exists('comrade.txt')"
   ]
  },
  {
   "cell_type": "code",
   "execution_count": 19,
   "id": "fafa9e5f-e1d0-4bc4-b7c1-e739a08e5b03",
   "metadata": {},
   "outputs": [],
   "source": [
    "with open('comrade.txt' , 'a') as file :\n",
    "    file.write(\"Hamro mahan party.\\n\")"
   ]
  },
  {
   "cell_type": "code",
   "execution_count": 20,
   "id": "596dde2b-a12e-4af8-abdf-446c18306f7b",
   "metadata": {},
   "outputs": [
    {
     "data": {
      "text/plain": [
       "True"
      ]
     },
     "execution_count": 20,
     "metadata": {},
     "output_type": "execute_result"
    }
   ],
   "source": [
    "os.path.exists('comrade.txt')"
   ]
  },
  {
   "cell_type": "code",
   "execution_count": 21,
   "id": "6c591cb3-31ac-40ab-b359-995f6f5f86fb",
   "metadata": {},
   "outputs": [],
   "source": [
    "with open('comrade.txt' , 'a') as file :\n",
    "    file.write(\"Maobadi.\\n\")  # yo text purano text ko paxadi append hunxa "
   ]
  },
  {
   "cell_type": "code",
   "execution_count": 23,
   "id": "423b4327-e9fd-4dc2-b006-013a78de5e85",
   "metadata": {},
   "outputs": [
    {
     "name": "stdout",
     "output_type": "stream",
     "text": [
      "Hamro mahan party.\n",
      "Maobadi.\n",
      "\n"
     ]
    }
   ],
   "source": [
    "with open('comrade.txt' , 'r') as file :\n",
    "    text = file.read()\n",
    "\n",
    "print(text)"
   ]
  },
  {
   "cell_type": "code",
   "execution_count": null,
   "id": "8176e036-5a12-4352-b070-daf7aebb8569",
   "metadata": {},
   "outputs": [],
   "source": []
  }
 ],
 "metadata": {
  "kernelspec": {
   "display_name": "Python 3 (ipykernel)",
   "language": "python",
   "name": "python3"
  },
  "language_info": {
   "codemirror_mode": {
    "name": "ipython",
    "version": 3
   },
   "file_extension": ".py",
   "mimetype": "text/x-python",
   "name": "python",
   "nbconvert_exporter": "python",
   "pygments_lexer": "ipython3",
   "version": "3.10.11"
  }
 },
 "nbformat": 4,
 "nbformat_minor": 5
}
