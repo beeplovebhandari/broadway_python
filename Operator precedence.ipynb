{
 "cells": [
  {
   "cell_type": "markdown",
   "id": "c939fed0-943a-481f-bbfd-41169f2072b4",
   "metadata": {},
   "source": [
    "# Find The volume of a sphere with radius r=5 "
   ]
  },
  {
   "cell_type": "markdown",
   "id": "6c640ba6-209d-4120-a002-a7d50e5ffb87",
   "metadata": {},
   "source": [
    "$$\\text{volume (v)} = \\frac{4}{3} \\pi r^3 $$"
   ]
  },
  {
   "cell_type": "code",
   "execution_count": 2,
   "id": "8e8879db-fe1a-4aa5-a746-f83bc9f71486",
   "metadata": {},
   "outputs": [],
   "source": [
    "import math\n",
    "r = 5\n",
    "volume = 4/3* math.pi * r **3"
   ]
  },
  {
   "cell_type": "code",
   "execution_count": 3,
   "id": "472ca798-b8ab-42d1-b5a6-1f43f82be1b2",
   "metadata": {},
   "outputs": [
    {
     "data": {
      "text/plain": [
       "523.5987755982989"
      ]
     },
     "execution_count": 3,
     "metadata": {},
     "output_type": "execute_result"
    }
   ],
   "source": [
    "volume"
   ]
  },
  {
   "cell_type": "code",
   "execution_count": 5,
   "id": "9425e76e-0086-4f50-875c-8456bb9ff4f0",
   "metadata": {},
   "outputs": [
    {
     "data": {
      "text/plain": [
       "523.599"
      ]
     },
     "execution_count": 5,
     "metadata": {},
     "output_type": "execute_result"
    }
   ],
   "source": [
    "round(volume ,3)"
   ]
  }
 ],
 "metadata": {
  "kernelspec": {
   "display_name": "Python 3 (ipykernel)",
   "language": "python",
   "name": "python3"
  },
  "language_info": {
   "codemirror_mode": {
    "name": "ipython",
    "version": 3
   },
   "file_extension": ".py",
   "mimetype": "text/x-python",
   "name": "python",
   "nbconvert_exporter": "python",
   "pygments_lexer": "ipython3",
   "version": "3.10.11"
  }
 },
 "nbformat": 4,
 "nbformat_minor": 5
}
