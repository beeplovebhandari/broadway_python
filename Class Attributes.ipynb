{
 "cells": [
  {
   "cell_type": "markdown",
   "id": "cf438b19-4465-4c7b-8b43-e5ce62b74e74",
   "metadata": {},
   "source": [
    "# to demonstrate access specifiers \n"
   ]
  },
  {
   "cell_type": "code",
   "execution_count": 6,
   "id": "d63406d4-51ae-4dff-a723-c2d87c957aa3",
   "metadata": {},
   "outputs": [],
   "source": [
    "class Employee:\n",
    "    # procted members  : one under score\n",
    "    _emp_name = \"Kshitiz\"\n",
    "    # private members : duita undrscore\n",
    "    __age = 24\n",
    "    # public members  : kunai pani underescore hudaina\n",
    "    public_info = \"Tutor\""
   ]
  },
  {
   "cell_type": "code",
   "execution_count": 2,
   "id": "78e88917-11b0-4f7c-8bda-d4a725681f3d",
   "metadata": {},
   "outputs": [],
   "source": [
    "e = Employee()"
   ]
  },
  {
   "cell_type": "code",
   "execution_count": 3,
   "id": "b8d2819f-e5a8-47d8-8d41-e75fbe0ccdfd",
   "metadata": {},
   "outputs": [
    {
     "data": {
      "text/plain": [
       "'Tutor'"
      ]
     },
     "execution_count": 3,
     "metadata": {},
     "output_type": "execute_result"
    }
   ],
   "source": [
    "e.public_info"
   ]
  },
  {
   "cell_type": "code",
   "execution_count": 4,
   "id": "81930caf-fd7c-4155-8025-15b386bccc59",
   "metadata": {},
   "outputs": [
    {
     "data": {
      "text/plain": [
       "'Kshitiz'"
      ]
     },
     "execution_count": 4,
     "metadata": {},
     "output_type": "execute_result"
    }
   ],
   "source": [
    "e._emp_name"
   ]
  },
  {
   "cell_type": "code",
   "execution_count": 5,
   "id": "274744da-657c-400e-8ba3-0ff1c8475d6f",
   "metadata": {},
   "outputs": [
    {
     "ename": "AttributeError",
     "evalue": "'Employee' object has no attribute '__age'",
     "output_type": "error",
     "traceback": [
      "\u001b[1;31m---------------------------------------------------------------------------\u001b[0m",
      "\u001b[1;31mAttributeError\u001b[0m                            Traceback (most recent call last)",
      "Cell \u001b[1;32mIn[5], line 1\u001b[0m\n\u001b[1;32m----> 1\u001b[0m \u001b[43me\u001b[49m\u001b[38;5;241;43m.\u001b[39;49m\u001b[43m__age\u001b[49m\n",
      "\u001b[1;31mAttributeError\u001b[0m: 'Employee' object has no attribute '__age'"
     ]
    }
   ],
   "source": [
    "e.__age"
   ]
  },
  {
   "cell_type": "code",
   "execution_count": null,
   "id": "604590cd-e527-4533-bd5c-68c6e0a7ee0e",
   "metadata": {},
   "outputs": [],
   "source": []
  }
 ],
 "metadata": {
  "kernelspec": {
   "display_name": "Python 3 (ipykernel)",
   "language": "python",
   "name": "python3"
  },
  "language_info": {
   "codemirror_mode": {
    "name": "ipython",
    "version": 3
   },
   "file_extension": ".py",
   "mimetype": "text/x-python",
   "name": "python",
   "nbconvert_exporter": "python",
   "pygments_lexer": "ipython3",
   "version": "3.10.11"
  }
 },
 "nbformat": 4,
 "nbformat_minor": 5
}
