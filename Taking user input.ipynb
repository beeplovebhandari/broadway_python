{
 "cells": [
  {
   "cell_type": "code",
   "execution_count": 1,
   "id": "a58010cc-11aa-4778-b864-260c0e81e216",
   "metadata": {},
   "outputs": [
    {
     "name": "stdin",
     "output_type": "stream",
     "text": [
      " hello\n"
     ]
    },
    {
     "data": {
      "text/plain": [
       "'hello'"
      ]
     },
     "execution_count": 1,
     "metadata": {},
     "output_type": "execute_result"
    }
   ],
   "source": [
    "input()"
   ]
  },
  {
   "cell_type": "code",
   "execution_count": 2,
   "id": "af584164-9ced-4957-9bf6-6ae90598c9bf",
   "metadata": {},
   "outputs": [
    {
     "name": "stdin",
     "output_type": "stream",
     "text": [
      " hello\n"
     ]
    }
   ],
   "source": [
    "msg = input()"
   ]
  },
  {
   "cell_type": "code",
   "execution_count": 3,
   "id": "0b5ff742-7a13-4335-830d-baa3d26511fe",
   "metadata": {},
   "outputs": [
    {
     "name": "stdin",
     "output_type": "stream",
     "text": [
      "Enter Your Message how are you ?\n"
     ]
    }
   ],
   "source": [
    "msg = input(\"Enter Your Message\")"
   ]
  },
  {
   "cell_type": "code",
   "execution_count": 4,
   "id": "75c57d46-f30d-4158-874f-27e21155432e",
   "metadata": {},
   "outputs": [
    {
     "data": {
      "text/plain": [
       "'how are you ?'"
      ]
     },
     "execution_count": 4,
     "metadata": {},
     "output_type": "execute_result"
    }
   ],
   "source": [
    "msg"
   ]
  },
  {
   "cell_type": "code",
   "execution_count": 10,
   "id": "9db99b71-83e1-4dd2-9160-92480c05c8e3",
   "metadata": {},
   "outputs": [
    {
     "name": "stdin",
     "output_type": "stream",
     "text": [
      "Enter Radious of Sphere: 5\n"
     ]
    },
    {
     "data": {
      "text/plain": [
       "int"
      ]
     },
     "execution_count": 10,
     "metadata": {},
     "output_type": "execute_result"
    }
   ],
   "source": [
    "radious = int(input(\"Enter Radious of Sphere:\" ))\n",
    "type(radious)"
   ]
  },
  {
   "cell_type": "markdown",
   "id": "59679f23-4ed4-47e3-a3ca-89799bf67a49",
   "metadata": {},
   "source": [
    "# Explict data type in Python"
   ]
  },
  {
   "cell_type": "raw",
   "id": "83ad7ed7-9c85-4599-9c01-cc8e747db76d",
   "metadata": {},
   "source": []
  },
  {
   "cell_type": "code",
   "execution_count": 14,
   "id": "74c40227-4be5-4c6c-80d7-71640264b1d8",
   "metadata": {},
   "outputs": [
    {
     "name": "stdin",
     "output_type": "stream",
     "text": [
      "Enter Radious of Sphere: 5\n"
     ]
    },
    {
     "data": {
      "text/plain": [
       "str"
      ]
     },
     "execution_count": 14,
     "metadata": {},
     "output_type": "execute_result"
    }
   ],
   "source": [
    "\n",
    "radius= input(\"Enter Radious of Sphere:\" )\n",
    "type(radious)"
   ]
  },
  {
   "cell_type": "code",
   "execution_count": 15,
   "id": "1710bc98-b61d-4aea-a873-2491b21b147d",
   "metadata": {},
   "outputs": [
    {
     "name": "stdin",
     "output_type": "stream",
     "text": [
      "Enter Radius of Sphere : 5\n"
     ]
    },
    {
     "data": {
      "text/plain": [
       "str"
      ]
     },
     "execution_count": 15,
     "metadata": {},
     "output_type": "execute_result"
    }
   ],
   "source": [
    "radius = float (input (\"Enter Radius of Sphere :\"))\n",
    "type(radious)"
   ]
  },
  {
   "cell_type": "markdown",
   "id": "f2c7d985-66cd-480a-90bb-503fe4ffeff7",
   "metadata": {},
   "source": [
    "# Addition"
   ]
  },
  {
   "cell_type": "code",
   "execution_count": 17,
   "id": "c9fe0be8-b82b-4753-8ecc-c7292c6dac13",
   "metadata": {},
   "outputs": [
    {
     "name": "stdin",
     "output_type": "stream",
     "text": [
      "Enter first number :  50\n",
      "Enter second number : 50\n"
     ]
    },
    {
     "name": "stdout",
     "output_type": "stream",
     "text": [
      "The sum of 50 and 50 is 100\n"
     ]
    }
   ],
   "source": [
    "x = int(input(\"Enter first number : \"))\n",
    "y = int(input(\"Enter second number :\"))\n",
    "total = x+y\n",
    "print(f\"The sum of {x} and {y} is {total}\")"
   ]
  },
  {
   "cell_type": "code",
   "execution_count": null,
   "id": "c91fe22a-3eba-40ca-a837-b0f162e53930",
   "metadata": {},
   "outputs": [],
   "source": []
  }
 ],
 "metadata": {
  "kernelspec": {
   "display_name": "Python 3 (ipykernel)",
   "language": "python",
   "name": "python3"
  },
  "language_info": {
   "codemirror_mode": {
    "name": "ipython",
    "version": 3
   },
   "file_extension": ".py",
   "mimetype": "text/x-python",
   "name": "python",
   "nbconvert_exporter": "python",
   "pygments_lexer": "ipython3",
   "version": "3.10.11"
  }
 },
 "nbformat": 4,
 "nbformat_minor": 5
}
