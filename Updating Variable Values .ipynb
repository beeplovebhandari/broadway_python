{
 "cells": [
  {
   "cell_type": "code",
   "execution_count": 1,
   "id": "8c3c3069-bd0a-46ac-a5c9-a20547e357f4",
   "metadata": {},
   "outputs": [
    {
     "name": "stdout",
     "output_type": "stream",
     "text": [
      "Before a = 5\n",
      " After a = 800\n"
     ]
    }
   ],
   "source": [
    "a = 5\n",
    "print(f\"Before a = {a}\")\n",
    "a = 800\n",
    "print(f\" After a = {a}\")"
   ]
  },
  {
   "cell_type": "code",
   "execution_count": 2,
   "id": "ea7ec426-0d1f-497d-885c-f47626aeb527",
   "metadata": {},
   "outputs": [
    {
     "name": "stdout",
     "output_type": "stream",
     "text": [
      "Before batta = Horlicks\n",
      "After batta = Gheu\n"
     ]
    }
   ],
   "source": [
    "batta = \"Horlicks\"\n",
    "print(f\"Before batta = {batta}\")\n",
    "batta = \"Gheu\"\n",
    "print(f\"After batta = {batta}\")"
   ]
  },
  {
   "cell_type": "code",
   "execution_count": 3,
   "id": "0e96048e-662a-4922-8598-f7cccfbcbf41",
   "metadata": {},
   "outputs": [
    {
     "data": {
      "text/plain": [
       "100"
      ]
     },
     "execution_count": 3,
     "metadata": {},
     "output_type": "execute_result"
    }
   ],
   "source": [
    "a = 9\n",
    "a = 100\n",
    "a"
   ]
  },
  {
   "cell_type": "code",
   "execution_count": 4,
   "id": "1b8bfdc2-c2fe-4c44-ae71-91fd21029a24",
   "metadata": {},
   "outputs": [
    {
     "name": "stdout",
     "output_type": "stream",
     "text": [
      "62.5\n"
     ]
    }
   ],
   "source": [
    "weight = 60\n",
    "weight = weight + 2.5\n",
    "print(weight)"
   ]
  },
  {
   "cell_type": "code",
   "execution_count": null,
   "id": "0b21c2b0-5b0d-41bb-ade7-dcbf73859642",
   "metadata": {},
   "outputs": [],
   "source": []
  }
 ],
 "metadata": {
  "kernelspec": {
   "display_name": "Python 3 (ipykernel)",
   "language": "python",
   "name": "python3"
  },
  "language_info": {
   "codemirror_mode": {
    "name": "ipython",
    "version": 3
   },
   "file_extension": ".py",
   "mimetype": "text/x-python",
   "name": "python",
   "nbconvert_exporter": "python",
   "pygments_lexer": "ipython3",
   "version": "3.10.11"
  }
 },
 "nbformat": 4,
 "nbformat_minor": 5
}
