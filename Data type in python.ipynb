{
 "cells": [
  {
   "cell_type": "markdown",
   "id": "c995cb78-23fd-479f-bb5f-7d5e1c94a16e",
   "metadata": {},
   "source": [
    "# Data Type\n",
    "* Python Numbers : int , float , complex\n",
    "* Python Strings\n",
    "* Python List\n",
    "* Python Tuple\n",
    "* Python Set\n",
    "* Python Dictonary"
   ]
  },
  {
   "cell_type": "markdown",
   "id": "26852669-7edf-4b4a-87be-0244fc6ec557",
   "metadata": {},
   "source": [
    "# Assignment multiple values to variable"
   ]
  },
  {
   "cell_type": "code",
   "execution_count": 1,
   "id": "91daf8af-eab9-4258-8010-946d67d1f36a",
   "metadata": {},
   "outputs": [],
   "source": [
    "a, b, c, = 2, 0.6, 0.1+0.7j"
   ]
  },
  {
   "cell_type": "code",
   "execution_count": 3,
   "id": "8799b6c1-95bd-47a3-acae-5e105b6f1d41",
   "metadata": {},
   "outputs": [
    {
     "name": "stdout",
     "output_type": "stream",
     "text": [
      "The value of a is 2 and its database is <class 'int'>\n",
      "The value of b is 0.6 and its database is <class 'float'>\n",
      "The value of c is (0.1+0.7j) and its database is <class 'complex'>\n"
     ]
    }
   ],
   "source": [
    "print(f\"The value of a is {a} and its database is {type(a)}\")\n",
    "print(f\"The value of b is {b} and its database is {type(b)}\")\n",
    "print(f\"The value of c is {c} and its database is {type(c)}\")\n"
   ]
  },
  {
   "cell_type": "code",
   "execution_count": 5,
   "id": "f9ae930a-e39e-4fe2-a950-738f197d60a3",
   "metadata": {},
   "outputs": [
    {
     "data": {
      "text/plain": [
       "str"
      ]
     },
     "execution_count": 5,
     "metadata": {},
     "output_type": "execute_result"
    }
   ],
   "source": [
    "name = 'Beeplove' \n",
    "type (name)"
   ]
  },
  {
   "cell_type": "code",
   "execution_count": null,
   "id": "c919b47a-b686-4155-8ae4-54e6968ae2ae",
   "metadata": {},
   "outputs": [],
   "source": []
  }
 ],
 "metadata": {
  "kernelspec": {
   "display_name": "Python 3 (ipykernel)",
   "language": "python",
   "name": "python3"
  },
  "language_info": {
   "codemirror_mode": {
    "name": "ipython",
    "version": 3
   },
   "file_extension": ".py",
   "mimetype": "text/x-python",
   "name": "python",
   "nbconvert_exporter": "python",
   "pygments_lexer": "ipython3",
   "version": "3.10.11"
  }
 },
 "nbformat": 4,
 "nbformat_minor": 5
}
