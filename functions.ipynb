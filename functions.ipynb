{
 "cells": [
  {
   "cell_type": "code",
   "execution_count": 1,
   "id": "065ad687-1a3f-4ab4-b7d9-f9faaa554dbe",
   "metadata": {},
   "outputs": [
    {
     "name": "stdout",
     "output_type": "stream",
     "text": [
      "11\n"
     ]
    }
   ],
   "source": [
    "a = 5\n",
    "b = 6\n",
    "c = a+b\n",
    "print(c)"
   ]
  },
  {
   "cell_type": "code",
   "execution_count": 2,
   "id": "67a10877-c92a-474a-9e03-4c859843fbd2",
   "metadata": {},
   "outputs": [],
   "source": [
    "def addition():\n",
    "    a = 5\n",
    "    b = 6\n",
    "    c = a+b\n",
    "    print(c)\n",
    "    "
   ]
  },
  {
   "cell_type": "code",
   "execution_count": 3,
   "id": "5346eb70-3fa2-49df-80a5-6f075472207b",
   "metadata": {},
   "outputs": [
    {
     "name": "stdout",
     "output_type": "stream",
     "text": [
      "11\n"
     ]
    }
   ],
   "source": [
    "addition()"
   ]
  },
  {
   "cell_type": "code",
   "execution_count": 4,
   "id": "f7fde3b3-8a37-4ba6-8db1-3b0cdbc8ec4d",
   "metadata": {},
   "outputs": [
    {
     "name": "stdout",
     "output_type": "stream",
     "text": [
      "11\n"
     ]
    }
   ],
   "source": [
    "addition()"
   ]
  },
  {
   "cell_type": "code",
   "execution_count": 5,
   "id": "145a42b7-4d29-4a49-b106-ec2a6d674493",
   "metadata": {},
   "outputs": [],
   "source": [
    "def addition (a,b): # here a , b are arguments or parameters to the function\n",
    "    c = a+b\n",
    "    print(c)"
   ]
  },
  {
   "cell_type": "code",
   "execution_count": 6,
   "id": "1296a255-22ab-4e89-a5d4-14c8d8010438",
   "metadata": {},
   "outputs": [
    {
     "ename": "TypeError",
     "evalue": "addition() missing 2 required positional arguments: 'a' and 'b'",
     "output_type": "error",
     "traceback": [
      "\u001b[1;31m---------------------------------------------------------------------------\u001b[0m",
      "\u001b[1;31mTypeError\u001b[0m                                 Traceback (most recent call last)",
      "Cell \u001b[1;32mIn[6], line 1\u001b[0m\n\u001b[1;32m----> 1\u001b[0m \u001b[43maddition\u001b[49m\u001b[43m(\u001b[49m\u001b[43m)\u001b[49m\n",
      "\u001b[1;31mTypeError\u001b[0m: addition() missing 2 required positional arguments: 'a' and 'b'"
     ]
    }
   ],
   "source": [
    "addition()"
   ]
  },
  {
   "cell_type": "code",
   "execution_count": 7,
   "id": "c215cf92-5fd0-4f56-bc7c-ac14e8b5bf85",
   "metadata": {},
   "outputs": [
    {
     "name": "stdout",
     "output_type": "stream",
     "text": [
      "10119\n"
     ]
    }
   ],
   "source": [
    "addition (a= 232, b= 9887)"
   ]
  },
  {
   "cell_type": "code",
   "execution_count": 8,
   "id": "2459d33b-249b-4f76-9874-198349ea42ea",
   "metadata": {},
   "outputs": [
    {
     "name": "stdout",
     "output_type": "stream",
     "text": [
      "0\n"
     ]
    }
   ],
   "source": [
    "addition(a = -33 , b = 33)"
   ]
  },
  {
   "cell_type": "code",
   "execution_count": 9,
   "id": "91ec7490-78ed-497d-8290-e93f666ad898",
   "metadata": {},
   "outputs": [],
   "source": [
    "def multiply (x,y,z):\n",
    "    a = x*y*z\n",
    "    print(a)"
   ]
  },
  {
   "cell_type": "code",
   "execution_count": 10,
   "id": "f905737c-e5c5-47e5-977e-f4b7923dc92a",
   "metadata": {},
   "outputs": [
    {
     "name": "stdout",
     "output_type": "stream",
     "text": [
      "120\n"
     ]
    }
   ],
   "source": [
    "multiply(x = 6 , y = 4 , z = 5)"
   ]
  },
  {
   "cell_type": "code",
   "execution_count": 11,
   "id": "2ccb7eba-fbc0-416b-9c24-0a0d97c6ca63",
   "metadata": {},
   "outputs": [],
   "source": [
    "def divide (x,y):\n",
    "    output = x/y\n",
    "    print(output)"
   ]
  },
  {
   "cell_type": "code",
   "execution_count": 12,
   "id": "9cbbc84f-1c1b-465d-8c87-e1eeda599681",
   "metadata": {},
   "outputs": [
    {
     "name": "stdout",
     "output_type": "stream",
     "text": [
      "10.0\n"
     ]
    }
   ],
   "source": [
    "divide(x = 100 , y = 10)"
   ]
  },
  {
   "cell_type": "markdown",
   "id": "12607ae3-919a-4e3f-9844-8a3fa00a9fbd",
   "metadata": {},
   "source": [
    "# example"
   ]
  },
  {
   "cell_type": "code",
   "execution_count": 13,
   "id": "519275e8-03ec-47db-bc5e-83c29c783822",
   "metadata": {},
   "outputs": [],
   "source": [
    "def square(x):\n",
    "    sq = x**2\n",
    "    print(sq)\n"
   ]
  },
  {
   "cell_type": "code",
   "execution_count": 14,
   "id": "72935c25-1827-4893-a9d5-c9b53580ec43",
   "metadata": {},
   "outputs": [
    {
     "name": "stdout",
     "output_type": "stream",
     "text": [
      "81\n"
     ]
    }
   ],
   "source": [
    "square (x = 9)"
   ]
  },
  {
   "cell_type": "code",
   "execution_count": 15,
   "id": "3beaa406-705a-406b-825a-f010e4fae43e",
   "metadata": {},
   "outputs": [],
   "source": [
    "def square(x):\n",
    "    sq = x**2\n",
    "    print(sq)\n"
   ]
  },
  {
   "cell_type": "code",
   "execution_count": 16,
   "id": "9c8ffa70-3c2d-4c0f-b7de-1045d1ac3213",
   "metadata": {},
   "outputs": [],
   "source": [
    "def cube(x):\n",
    "    cu = x**3\n",
    "    print(cu)\n"
   ]
  },
  {
   "cell_type": "code",
   "execution_count": 17,
   "id": "6e7c3d81-8bf0-429f-b1fd-c1b27201894c",
   "metadata": {},
   "outputs": [
    {
     "name": "stdout",
     "output_type": "stream",
     "text": [
      "4\n"
     ]
    }
   ],
   "source": [
    "num = 2\n",
    "square(x=num)"
   ]
  },
  {
   "cell_type": "code",
   "execution_count": 18,
   "id": "257655ba-6789-4cea-9e34-9d4f867e8378",
   "metadata": {},
   "outputs": [
    {
     "name": "stdout",
     "output_type": "stream",
     "text": [
      "27\n"
     ]
    }
   ],
   "source": [
    "num = 3\n",
    "cube(x=3)"
   ]
  },
  {
   "cell_type": "code",
   "execution_count": 19,
   "id": "75ac2f8c-aca8-4449-9af4-e9e1d466eb0e",
   "metadata": {},
   "outputs": [
    {
     "ename": "NameError",
     "evalue": "name 'sq' is not defined",
     "output_type": "error",
     "traceback": [
      "\u001b[1;31m---------------------------------------------------------------------------\u001b[0m",
      "\u001b[1;31mNameError\u001b[0m                                 Traceback (most recent call last)",
      "Cell \u001b[1;32mIn[19], line 1\u001b[0m\n\u001b[1;32m----> 1\u001b[0m \u001b[43msq\u001b[49m \u001b[38;5;241m+\u001b[39m cu\n",
      "\u001b[1;31mNameError\u001b[0m: name 'sq' is not defined"
     ]
    }
   ],
   "source": [
    "sq + cu"
   ]
  },
  {
   "cell_type": "code",
   "execution_count": 20,
   "id": "7b22cfb0-2f42-485b-8848-60ebaa9a2513",
   "metadata": {},
   "outputs": [],
   "source": [
    "def square(x):\n",
    "    sq = x**2\n",
    "    return sq\n",
    "\n",
    "def cube(x):\n",
    "    cu = x**3\n",
    "    return cu\n",
    "\n"
   ]
  },
  {
   "cell_type": "code",
   "execution_count": 21,
   "id": "b2f859c6-dcf7-41b3-a7b7-d60c76177c40",
   "metadata": {},
   "outputs": [
    {
     "data": {
      "text/plain": [
       "12"
      ]
     },
     "execution_count": 21,
     "metadata": {},
     "output_type": "execute_result"
    }
   ],
   "source": [
    "num = 2\n",
    "sq = square(x=num)\n",
    "cu = cube(x=num)\n",
    "sq+cu"
   ]
  },
  {
   "cell_type": "markdown",
   "id": "8eb62c15-c254-4b24-b650-1f46fd92879e",
   "metadata": {},
   "source": [
    "# syntax\n",
    "``` python\n",
    "def function_name(arguments,arguments,....,arguments):\n",
    "    #function body/logic\n",
    "    return Expression\n",
    "```"
   ]
  },
  {
   "cell_type": "code",
   "execution_count": 23,
   "id": "acdee1aa-7f8b-4f3e-87ec-8d367bef6678",
   "metadata": {},
   "outputs": [],
   "source": [
    "import math\n",
    "def calculate_hcf_lcm(x,y):\n",
    "    hcf = math.gcd(x,y)\n",
    "    lcm = math.lcm(x,y)\n",
    "    return hcf ,lcm"
   ]
  },
  {
   "cell_type": "code",
   "execution_count": 24,
   "id": "148c01b1-be5b-4561-ac1e-2ccc08de2ce0",
   "metadata": {},
   "outputs": [],
   "source": [
    "num1 = 5\n",
    "num2 = 15\n",
    "hcf , lcm = calculate_hcf_lcm(x=num1 , y=num2)"
   ]
  },
  {
   "cell_type": "code",
   "execution_count": 25,
   "id": "8930b84b-0262-403c-b93d-cf772cc400c5",
   "metadata": {},
   "outputs": [
    {
     "data": {
      "text/plain": [
       "5"
      ]
     },
     "execution_count": 25,
     "metadata": {},
     "output_type": "execute_result"
    }
   ],
   "source": [
    "hcf"
   ]
  },
  {
   "cell_type": "code",
   "execution_count": 26,
   "id": "7eed58d0-a69d-419f-904a-4ee1049cc5c9",
   "metadata": {},
   "outputs": [
    {
     "data": {
      "text/plain": [
       "15"
      ]
     },
     "execution_count": 26,
     "metadata": {},
     "output_type": "execute_result"
    }
   ],
   "source": [
    "lcm"
   ]
  },
  {
   "cell_type": "code",
   "execution_count": 27,
   "id": "7f5b58b2-9498-4b07-b200-ccddc3af3e54",
   "metadata": {},
   "outputs": [],
   "source": [
    "import math\n",
    "def calculate_hcf_lcm(x,y):\n",
    "    hcf = math.gcd(x,y)\n",
    "    lcm = math.lcm(x,y)\n",
    "    return hcf ,lcm"
   ]
  },
  {
   "cell_type": "code",
   "execution_count": 28,
   "id": "11da18d3-3c75-4e3e-887b-420c4b072906",
   "metadata": {},
   "outputs": [],
   "source": [
    "num1 = 8\n",
    "num2 = 2\n",
    "hcf , lcm = calculate_hcf_lcm(x=num1 , y=num2)"
   ]
  },
  {
   "cell_type": "code",
   "execution_count": 29,
   "id": "5a171dd0-57f8-4993-9930-b2f2fd6ccf25",
   "metadata": {},
   "outputs": [
    {
     "data": {
      "text/plain": [
       "2"
      ]
     },
     "execution_count": 29,
     "metadata": {},
     "output_type": "execute_result"
    }
   ],
   "source": [
    "hcf"
   ]
  },
  {
   "cell_type": "code",
   "execution_count": 30,
   "id": "1ab4cd87-2f92-4254-a14b-7e456b57e4ac",
   "metadata": {},
   "outputs": [
    {
     "data": {
      "text/plain": [
       "8"
      ]
     },
     "execution_count": 30,
     "metadata": {},
     "output_type": "execute_result"
    }
   ],
   "source": [
    "lcm"
   ]
  },
  {
   "cell_type": "code",
   "execution_count": null,
   "id": "d9678406-9efa-4520-a3b7-fe743f0ded59",
   "metadata": {},
   "outputs": [],
   "source": []
  }
 ],
 "metadata": {
  "kernelspec": {
   "display_name": "Python 3 (ipykernel)",
   "language": "python",
   "name": "python3"
  },
  "language_info": {
   "codemirror_mode": {
    "name": "ipython",
    "version": 3
   },
   "file_extension": ".py",
   "mimetype": "text/x-python",
   "name": "python",
   "nbconvert_exporter": "python",
   "pygments_lexer": "ipython3",
   "version": "3.10.11"
  }
 },
 "nbformat": 4,
 "nbformat_minor": 5
}
