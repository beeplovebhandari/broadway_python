{
 "cells": [
  {
   "cell_type": "markdown",
   "id": "d18c4e0b-5bac-4672-b95c-95bbe1f80ce6",
   "metadata": {},
   "source": [
    "# write a program to reverse the string"
   ]
  },
  {
   "cell_type": "code",
   "execution_count": 1,
   "id": "5ce4f915-95c8-4b00-b045-8b6b6f9bb873",
   "metadata": {},
   "outputs": [
    {
     "name": "stdin",
     "output_type": "stream",
     "text": [
      "Enter a string:  nepal\n"
     ]
    },
    {
     "name": "stdout",
     "output_type": "stream",
     "text": [
      "Reversed string: lapen\n"
     ]
    }
   ],
   "source": [
    "user_input = input(\"Enter a string: \")\n",
    "reversed_string = \"\"\n",
    "for index in range(len(user_input) - 1, -1, -1):\n",
    "    reversed_string += user_input[index]\n",
    "    \n",
    "print(\"Reversed string:\", reversed_string)\n"
   ]
  },
  {
   "cell_type": "markdown",
   "id": "84f68452-f400-4cd7-a672-9ab31df7d53d",
   "metadata": {},
   "source": [
    "# write a program that asks the user to enter a string and print the number of vowels in the string .\n"
   ]
  },
  {
   "cell_type": "code",
   "execution_count": 17,
   "id": "5240ae0f-8cae-406d-8df2-62215144fd2b",
   "metadata": {},
   "outputs": [
    {
     "name": "stdin",
     "output_type": "stream",
     "text": [
      "Enter a string HELLO\n"
     ]
    },
    {
     "name": "stdout",
     "output_type": "stream",
     "text": [
      "Number of vowels in the string: 2\n"
     ]
    }
   ],
   "source": [
    "vowels = 0\n",
    "user_input = input(\"Enter a string\")\n",
    "for index in range(0,len(user_input),1):\n",
    "    if user_input[index] == \"A\" or user_input[index] == \"E\" or user_input[index] == \"I\" or user_input[index] == \"O\" or user_input[index] == \"U\":\n",
    "        vowels = vowels +1\n",
    "print(\"Number of vowels in the string:\", vowels)\n"
   ]
  },
  {
   "cell_type": "markdown",
   "id": "e7c91823-4c97-4442-b590-aaa64021267c",
   "metadata": {},
   "source": [
    "# write a program that asks the user to enter a sentence and prints the sentence with each word capatilized."
   ]
  },
  {
   "cell_type": "code",
   "execution_count": 18,
   "id": "2a64d2d3-556d-4e0f-97e2-6ca40f4b7757",
   "metadata": {},
   "outputs": [
    {
     "name": "stdin",
     "output_type": "stream",
     "text": [
      "Enter a string ram ko bihey vayo\n"
     ]
    },
    {
     "data": {
      "text/plain": [
       "'RAM KO BIHEY VAYO'"
      ]
     },
     "execution_count": 18,
     "metadata": {},
     "output_type": "execute_result"
    }
   ],
   "source": [
    "user_input = input(\"Enter a string\")\n",
    "user_input.upper()"
   ]
  },
  {
   "cell_type": "markdown",
   "id": "ba231b9f-b2fc-4330-af77-2a0f6aa92bcb",
   "metadata": {},
   "source": [
    "# write a program that asks the user to enter a strings and prints the strings with all the vowels replaced by the chracter 'o'"
   ]
  },
  {
   "cell_type": "code",
   "execution_count": 24,
   "id": "57cfca3e-528b-46ca-99c0-2f3210e4e9d1",
   "metadata": {},
   "outputs": [
    {
     "name": "stdin",
     "output_type": "stream",
     "text": [
      "Enter a string:  ram le bhaat khayo\n"
     ]
    },
    {
     "name": "stdout",
     "output_type": "stream",
     "text": [
      "String with vowels replaced by 'o': rom lo bhoot khoyo\n"
     ]
    }
   ],
   "source": [
    "vowels = \"aeiou\"\n",
    "user_input = input(\"Enter a string: \")\n",
    "replaced_string = \"\"\n",
    "\n",
    "for char in user_input:\n",
    "    if char in vowels:\n",
    "        replaced_string += 'o'\n",
    "    else:\n",
    "        replaced_string += char\n",
    "\n",
    "print(\"String with vowels replaced by 'o':\", replaced_string)"
   ]
  },
  {
   "cell_type": "markdown",
   "id": "e70269a0-d8b4-4cf8-bf43-e826135dbeff",
   "metadata": {},
   "source": [
    "# write a program that asks the user to enter two strings and prints the two strings concatenated together with a space between them "
   ]
  },
  {
   "cell_type": "code",
   "execution_count": 27,
   "id": "a04badbf-487b-4125-928f-dafb207538f6",
   "metadata": {},
   "outputs": [
    {
     "name": "stdin",
     "output_type": "stream",
     "text": [
      "Enter the first string:  merodesh\n",
      "Enter the second string:  nepal\n"
     ]
    },
    {
     "name": "stdout",
     "output_type": "stream",
     "text": [
      "Concatenated string: merodesh nepal\n"
     ]
    }
   ],
   "source": [
    "string1 = input(\"Enter the first string: \")\n",
    "string2 = input(\"Enter the second string: \")\n",
    "\n",
    "concatenated_string = string1 + \" \" + string2\n",
    "\n",
    "print(\"Concatenated string:\", concatenated_string)\n"
   ]
  },
  {
   "cell_type": "markdown",
   "id": "ad77a01c-b4db-4dc6-af3a-14b93c662dd1",
   "metadata": {},
   "source": [
    "# write a program that asks user to enter a string and prints the string with first and last chracter removed"
   ]
  },
  {
   "cell_type": "code",
   "execution_count": 19,
   "id": "40047a14-2048-4a52-9e25-201f23428893",
   "metadata": {},
   "outputs": [
    {
     "name": "stdin",
     "output_type": "stream",
     "text": [
      "Enter a string  hello\n"
     ]
    },
    {
     "name": "stdout",
     "output_type": "stream",
     "text": [
      "ell\n"
     ]
    }
   ],
   "source": [
    "s = str(input(\"Enter a string \"))\n",
    "for i in range(0,len(s),1):\n",
    "     if i == 0 or i == len(s)-1:\n",
    "        s=s.replace(s[i],\"\")   \n",
    "print(s)      "
   ]
  },
  {
   "cell_type": "markdown",
   "id": "15d039b9-56d3-49d5-b154-7e881e89c855",
   "metadata": {},
   "source": [
    "# write a program that asks user to enter a string and prints the string with all spaces removed "
   ]
  },
  {
   "cell_type": "code",
   "execution_count": 20,
   "id": "f43f1a23-d120-47c6-b93d-0eb339224047",
   "metadata": {},
   "outputs": [
    {
     "name": "stdin",
     "output_type": "stream",
     "text": [
      "Enter a string  hello world\n"
     ]
    },
    {
     "name": "stdout",
     "output_type": "stream",
     "text": [
      "helloworld\n"
     ]
    }
   ],
   "source": [
    "s = str(input(\"Enter a string \"))\n",
    "for i in range(0,len(s),1):\n",
    "     \n",
    "        s=s.replace(\" \",\"\")   \n",
    "print(s)      "
   ]
  },
  {
   "cell_type": "markdown",
   "id": "cdbf0f59-7baa-4cff-af35-234fa59cce04",
   "metadata": {},
   "source": [
    "# write a program that asks user to enter a string and prints the strings with each word in reverse order"
   ]
  },
  {
   "cell_type": "code",
   "execution_count": null,
   "id": "577e7363-441b-4ab2-991d-7100cb49d6a4",
   "metadata": {},
   "outputs": [],
   "source": []
  },
  {
   "cell_type": "markdown",
   "id": "bff25b19-7fe0-462b-a193-f5232ebfd7b6",
   "metadata": {},
   "source": [
    "# using string manipulation technique extract fruits name from txt\n",
    "* txt = \" I Like Orange Apple Banana and Kiwi \""
   ]
  },
  {
   "cell_type": "code",
   "execution_count": 21,
   "id": "dc779542-c74a-47a7-968f-bc9bff24670f",
   "metadata": {},
   "outputs": [
    {
     "data": {
      "text/plain": [
       "\"'orange' , 'apple' , 'banana' 'kiwi'\""
      ]
     },
     "execution_count": 21,
     "metadata": {},
     "output_type": "execute_result"
    }
   ],
   "source": [
    "txt = \"I like Orange Apple Banana and Kiwi\"\n",
    "txt.replace(\"I like Orange Apple Banana and Kiwi\" , \"'orange' , 'apple' , 'banana' 'kiwi'\")\n"
   ]
  },
  {
   "cell_type": "code",
   "execution_count": 22,
   "id": "45014982-449c-455d-b8d1-12159573aab6",
   "metadata": {},
   "outputs": [
    {
     "ename": "SyntaxError",
     "evalue": "unterminated string literal (detected at line 4) (868089670.py, line 4)",
     "output_type": "error",
     "traceback": [
      "\u001b[1;36m  Cell \u001b[1;32mIn[22], line 4\u001b[1;36m\u001b[0m\n\u001b[1;33m    print(f\"{word[2],word[3],word[4],word[6]})\u001b[0m\n\u001b[1;37m          ^\u001b[0m\n\u001b[1;31mSyntaxError\u001b[0m\u001b[1;31m:\u001b[0m unterminated string literal (detected at line 4)\n"
     ]
    }
   ],
   "source": [
    "txt = \"I like Orange Apple Banana and Kiwi\"\n",
    "\n",
    "word = txt.split(\" \")\n",
    "print(f\"{word[2],word[3],word[4],word[6]})\n"
   ]
  },
  {
   "cell_type": "code",
   "execution_count": null,
   "id": "70508d6c-0f64-4306-97d6-e53a00c784e1",
   "metadata": {},
   "outputs": [],
   "source": [
    "string1 =  \"NEPALINDIACHINA\""
   ]
  }
 ],
 "metadata": {
  "kernelspec": {
   "display_name": "Python 3 (ipykernel)",
   "language": "python",
   "name": "python3"
  },
  "language_info": {
   "codemirror_mode": {
    "name": "ipython",
    "version": 3
   },
   "file_extension": ".py",
   "mimetype": "text/x-python",
   "name": "python",
   "nbconvert_exporter": "python",
   "pygments_lexer": "ipython3",
   "version": "3.10.11"
  }
 },
 "nbformat": 4,
 "nbformat_minor": 5
}
