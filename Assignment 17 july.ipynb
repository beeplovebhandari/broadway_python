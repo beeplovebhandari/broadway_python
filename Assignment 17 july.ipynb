{
 "cells": [
  {
   "cell_type": "markdown",
   "id": "d8d9a457-81f0-4907-a341-f172ba18882c",
   "metadata": {},
   "source": [
    "# Assignment 17 july"
   ]
  },
  {
   "cell_type": "markdown",
   "id": "6c9f81f9-da3d-4013-8b82-afd945d83ddf",
   "metadata": {},
   "source": [
    "# Addition"
   ]
  },
  {
   "cell_type": "code",
   "execution_count": 1,
   "id": "3d4c593b-8091-4a41-9f66-92937fd2382a",
   "metadata": {},
   "outputs": [
    {
     "name": "stdout",
     "output_type": "stream",
     "text": [
      "13\n"
     ]
    }
   ],
   "source": [
    "a = 6\n",
    "b = 7\n",
    "c = a+b\n",
    "print(c)"
   ]
  },
  {
   "cell_type": "markdown",
   "id": "0b6ddb5f-7eee-4e33-bb20-6cec4f91dab9",
   "metadata": {},
   "source": [
    "# Subtraction"
   ]
  },
  {
   "cell_type": "code",
   "execution_count": 2,
   "id": "b7bbba57-673a-4aaf-ae7d-50044bb36314",
   "metadata": {},
   "outputs": [
    {
     "name": "stdout",
     "output_type": "stream",
     "text": [
      "45\n"
     ]
    }
   ],
   "source": [
    "a = 21\n",
    "b = 66\n",
    "c = b-a\n",
    "print(c)"
   ]
  },
  {
   "cell_type": "markdown",
   "id": "d5d0ab79-1d68-434a-aae3-149cdf8084a6",
   "metadata": {},
   "source": [
    "# Multiplication"
   ]
  },
  {
   "cell_type": "code",
   "execution_count": 3,
   "id": "f9f17b5c-1db5-4ada-8149-cbd9ecb50025",
   "metadata": {},
   "outputs": [
    {
     "name": "stdout",
     "output_type": "stream",
     "text": [
      "40\n"
     ]
    }
   ],
   "source": [
    "a = 5\n",
    "b = 8\n",
    "c = a*b\n",
    "print(c)"
   ]
  },
  {
   "cell_type": "markdown",
   "id": "ca4ecce5-0a2d-42a5-bf36-ebaa4adc87a7",
   "metadata": {},
   "source": [
    "# Division"
   ]
  },
  {
   "cell_type": "code",
   "execution_count": 4,
   "id": "62ca659e-335a-4c0e-96a4-f4f09cfd4e0b",
   "metadata": {},
   "outputs": [
    {
     "name": "stdout",
     "output_type": "stream",
     "text": [
      "9.0\n"
     ]
    }
   ],
   "source": [
    "a = 63\n",
    "b = 7 \n",
    "c = a/b\n",
    "print(c)"
   ]
  },
  {
   "cell_type": "code",
   "execution_count": null,
   "id": "05298f9a-7698-4d94-a7a7-a693f1f78197",
   "metadata": {},
   "outputs": [],
   "source": []
  }
 ],
 "metadata": {
  "kernelspec": {
   "display_name": "Python 3 (ipykernel)",
   "language": "python",
   "name": "python3"
  },
  "language_info": {
   "codemirror_mode": {
    "name": "ipython",
    "version": 3
   },
   "file_extension": ".py",
   "mimetype": "text/x-python",
   "name": "python",
   "nbconvert_exporter": "python",
   "pygments_lexer": "ipython3",
   "version": "3.10.11"
  }
 },
 "nbformat": 4,
 "nbformat_minor": 5
}
