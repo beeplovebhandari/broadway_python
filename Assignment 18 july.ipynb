{
 "cells": [
  {
   "cell_type": "markdown",
   "id": "5147bcb0-a76a-4d7c-9a67-fd7fe56c131f",
   "metadata": {},
   "source": [
    "# Assignment 18 july "
   ]
  },
  {
   "cell_type": "markdown",
   "id": "3087b529-8783-429b-89af-ef689eea2027",
   "metadata": {},
   "source": [
    "# Program to Swap Values between two Variables "
   ]
  },
  {
   "cell_type": "code",
   "execution_count": 4,
   "id": "1bb52ce8-cef4-4089-9f5e-8ad30463d261",
   "metadata": {},
   "outputs": [
    {
     "name": "stdout",
     "output_type": "stream",
     "text": [
      "a = 0.36\n",
      "b = 2.5\n"
     ]
    }
   ],
   "source": [
    "a= 2.5\n",
    "b= 0.36\n",
    "a,b = b,a \n",
    "print(f\"a = {a}\")\n",
    "print(f\"b = {b}\")"
   ]
  },
  {
   "cell_type": "markdown",
   "id": "71b1a1a4-7591-4be2-8563-016adc3aa03c",
   "metadata": {},
   "source": [
    "# How many minutes are there in 42 minutes and 42 seconds"
   ]
  },
  {
   "cell_type": "code",
   "execution_count": 2,
   "id": "eeb6f64b-835d-4d8a-b8e2-6d23e63941e9",
   "metadata": {},
   "outputs": [
    {
     "name": "stdout",
     "output_type": "stream",
     "text": [
      "2562\n"
     ]
    }
   ],
   "source": [
    "a = 60\n",
    "b = 42*a + 42\n",
    "print(b)"
   ]
  },
  {
   "cell_type": "markdown",
   "id": "cbc2347d-8c0e-41c5-896b-e9810775deda",
   "metadata": {},
   "source": [
    "# How many miles are there in 10 kilometers "
   ]
  },
  {
   "cell_type": "code",
   "execution_count": 6,
   "id": "99e15966-e40c-4753-8a8c-741feea268f2",
   "metadata": {},
   "outputs": [
    {
     "name": "stdout",
     "output_type": "stream",
     "text": [
      "6.215040397762586\n"
     ]
    }
   ],
   "source": [
    "a= 10\n",
    "b = 10/1.609\n",
    "print(b)"
   ]
  },
  {
   "cell_type": "markdown",
   "id": "d219131d-71ad-4727-8d9e-f7ef8ed3c3cb",
   "metadata": {},
   "source": [
    "# if you run 10 km race in 42 minutes 42 seconds , what is your average pace ?"
   ]
  },
  {
   "cell_type": "code",
   "execution_count": 8,
   "id": "23255005-836a-465b-9b97-252e4cb62c4e",
   "metadata": {},
   "outputs": [
    {
     "name": "stdout",
     "output_type": "stream",
     "text": [
      "3.9032006245121\n"
     ]
    }
   ],
   "source": [
    "a = (10*1000)/2562\n",
    "print(a)"
   ]
  },
  {
   "cell_type": "markdown",
   "id": "b25b598b-6ca9-40d5-8d47-004bee31927f",
   "metadata": {},
   "source": [
    "# How many minutes are there in 42 minutes and 42 seconds"
   ]
  },
  {
   "cell_type": "code",
   "execution_count": 9,
   "id": "b242de99-c0d6-4f58-a058-43f15235a297",
   "metadata": {},
   "outputs": [
    {
     "data": {
      "text/plain": [
       "2562"
      ]
     },
     "execution_count": 9,
     "metadata": {},
     "output_type": "execute_result"
    }
   ],
   "source": [
    "time_in_sec = 42*60+42\n",
    "time_in_sec\n"
   ]
  }
 ],
 "metadata": {
  "kernelspec": {
   "display_name": "Python 3 (ipykernel)",
   "language": "python",
   "name": "python3"
  },
  "language_info": {
   "codemirror_mode": {
    "name": "ipython",
    "version": 3
   },
   "file_extension": ".py",
   "mimetype": "text/x-python",
   "name": "python",
   "nbconvert_exporter": "python",
   "pygments_lexer": "ipython3",
   "version": "3.10.11"
  }
 },
 "nbformat": 4,
 "nbformat_minor": 5
}
