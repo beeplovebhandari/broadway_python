{
 "cells": [
  {
   "cell_type": "markdown",
   "id": "aba0edcd-c85d-4e33-947a-25be19ab3d51",
   "metadata": {},
   "source": [
    "# Python is a Dynamic Typed Language "
   ]
  },
  {
   "cell_type": "code",
   "execution_count": 1,
   "id": "40661694-1f41-4bab-b885-49d3cede4f2e",
   "metadata": {},
   "outputs": [],
   "source": [
    "# data typr is checked on fly during runtime"
   ]
  },
  {
   "cell_type": "code",
   "execution_count": 2,
   "id": "3dd61453-6c1a-45b1-a28e-e76039702c25",
   "metadata": {},
   "outputs": [
    {
     "data": {
      "text/plain": [
       "4"
      ]
     },
     "execution_count": 2,
     "metadata": {},
     "output_type": "execute_result"
    }
   ],
   "source": [
    "2+2"
   ]
  },
  {
   "cell_type": "code",
   "execution_count": 3,
   "id": "8474af6c-ca62-4adc-9256-4a0bfc8a56ed",
   "metadata": {},
   "outputs": [
    {
     "data": {
      "text/plain": [
       "97"
      ]
     },
     "execution_count": 3,
     "metadata": {},
     "output_type": "execute_result"
    }
   ],
   "source": [
    "99-2"
   ]
  },
  {
   "cell_type": "code",
   "execution_count": 4,
   "id": "bce77d74-fcdb-44ab-8218-2c0c4dcc52f9",
   "metadata": {},
   "outputs": [
    {
     "data": {
      "text/plain": [
       "2.0"
      ]
     },
     "execution_count": 4,
     "metadata": {},
     "output_type": "execute_result"
    }
   ],
   "source": [
    "20/10"
   ]
  },
  {
   "cell_type": "code",
   "execution_count": 5,
   "id": "46604c51-e584-4631-a1c2-c08a390b4912",
   "metadata": {},
   "outputs": [
    {
     "data": {
      "text/plain": [
       "25"
      ]
     },
     "execution_count": 5,
     "metadata": {},
     "output_type": "execute_result"
    }
   ],
   "source": [
    "5*5"
   ]
  },
  {
   "cell_type": "code",
   "execution_count": 6,
   "id": "8a9062c7-63bb-4d40-adf4-7c61bfbdf406",
   "metadata": {},
   "outputs": [
    {
     "name": "stdout",
     "output_type": "stream",
     "text": [
      "6\n"
     ]
    }
   ],
   "source": [
    "print(3+3)"
   ]
  },
  {
   "cell_type": "code",
   "execution_count": 7,
   "id": "8f3c9f5c-6c47-4620-8c46-941cf32771c5",
   "metadata": {},
   "outputs": [
    {
     "name": "stdout",
     "output_type": "stream",
     "text": [
      "9.0\n"
     ]
    }
   ],
   "source": [
    "print(45/5)"
   ]
  },
  {
   "cell_type": "code",
   "execution_count": 8,
   "id": "94be2740-41ad-453c-964a-287d8e6f00b7",
   "metadata": {},
   "outputs": [
    {
     "name": "stdout",
     "output_type": "stream",
     "text": [
      "1\n"
     ]
    }
   ],
   "source": [
    "a = 4\n",
    "b = 3\n",
    "c = a-b\n",
    "print(c)"
   ]
  },
  {
   "cell_type": "markdown",
   "id": "eae6916a-41f8-4467-9b09-fc665d5c6c7d",
   "metadata": {},
   "source": [
    "# Arithmatic Operator\n",
    "Arithmatic Operator Are Wsed With Numeric Values To Perform Common Mathematical Operations. \n",
    "* Addition(+)\n",
    "* Subtraction(-)\n",
    "* Multiplication(*)\n",
    "* Divison(/)\n",
    "* Modulus(%)\n",
    "* Exponentiation(** OR ^)\n",
    "* Floor Division(//)"
   ]
  },
  {
   "cell_type": "code",
   "execution_count": 9,
   "id": "6f876552-b165-4981-8cc9-17d2119e0deb",
   "metadata": {},
   "outputs": [],
   "source": [
    "a = 18\n",
    "b = 4"
   ]
  },
  {
   "cell_type": "code",
   "execution_count": 10,
   "id": "3458dbaa-1f7b-4b98-b689-fb027bd29eb5",
   "metadata": {},
   "outputs": [
    {
     "data": {
      "text/plain": [
       "4.5"
      ]
     },
     "execution_count": 10,
     "metadata": {},
     "output_type": "execute_result"
    }
   ],
   "source": [
    "a/b"
   ]
  },
  {
   "cell_type": "code",
   "execution_count": 16,
   "id": "0a630667-9bda-42a8-bd90-cd3fd3e9448e",
   "metadata": {},
   "outputs": [
    {
     "data": {
      "text/plain": [
       "4"
      ]
     },
     "execution_count": 16,
     "metadata": {},
     "output_type": "execute_result"
    }
   ],
   "source": [
    "# Floor Division\n",
    "a//b"
   ]
  },
  {
   "cell_type": "code",
   "execution_count": 12,
   "id": "e0a8c464-9157-4441-8c99-49764e75b7d7",
   "metadata": {},
   "outputs": [
    {
     "data": {
      "text/plain": [
       "6"
      ]
     },
     "execution_count": 12,
     "metadata": {},
     "output_type": "execute_result"
    }
   ],
   "source": [
    "2*3"
   ]
  },
  {
   "cell_type": "code",
   "execution_count": 13,
   "id": "13bacbe6-f47f-4b5e-882e-c2270497a138",
   "metadata": {},
   "outputs": [
    {
     "data": {
      "text/plain": [
       "8"
      ]
     },
     "execution_count": 13,
     "metadata": {},
     "output_type": "execute_result"
    }
   ],
   "source": [
    "# Exponentiation (Power\n",
    "2**3   # 2 ko power 3 hoo!!"
   ]
  },
  {
   "cell_type": "code",
   "execution_count": 14,
   "id": "6aee752e-a940-4b19-8936-bba501efe442",
   "metadata": {},
   "outputs": [],
   "source": [
    "#Modulus"
   ]
  },
  {
   "cell_type": "code",
   "execution_count": 15,
   "id": "8eebe2a0-bf07-4a35-8b86-28ea5ebf0211",
   "metadata": {},
   "outputs": [
    {
     "data": {
      "text/plain": [
       "1"
      ]
     },
     "execution_count": 15,
     "metadata": {},
     "output_type": "execute_result"
    }
   ],
   "source": [
    "15 % 2  #Modulus Operator Lagayo Vane Remainder aauxa "
   ]
  },
  {
   "cell_type": "code",
   "execution_count": 17,
   "id": "f2fa0dfe-349c-444f-b63d-7a4526947914",
   "metadata": {},
   "outputs": [
    {
     "data": {
      "text/plain": [
       "3"
      ]
     },
     "execution_count": 17,
     "metadata": {},
     "output_type": "execute_result"
    }
   ],
   "source": [
    "39 % 4"
   ]
  },
  {
   "cell_type": "code",
   "execution_count": null,
   "id": "ff19c2f4-825f-4c9d-8597-d791cd6e0d5b",
   "metadata": {},
   "outputs": [],
   "source": [
    "# Floor Division Use Garda Remainder kei pani aauna "
   ]
  },
  {
   "cell_type": "code",
   "execution_count": 18,
   "id": "60adfeea-a3f1-4a9c-904f-1ac9a3d3515b",
   "metadata": {},
   "outputs": [
    {
     "data": {
      "text/plain": [
       "2.076923076923077"
      ]
     },
     "execution_count": 18,
     "metadata": {},
     "output_type": "execute_result"
    }
   ],
   "source": [
    "27/13"
   ]
  },
  {
   "cell_type": "code",
   "execution_count": 19,
   "id": "3878a8d5-3ad8-41c1-ab8f-f37997ac1b00",
   "metadata": {},
   "outputs": [
    {
     "data": {
      "text/plain": [
       "2"
      ]
     },
     "execution_count": 19,
     "metadata": {},
     "output_type": "execute_result"
    }
   ],
   "source": [
    "27//13"
   ]
  }
 ],
 "metadata": {
  "kernelspec": {
   "display_name": "Python 3 (ipykernel)",
   "language": "python",
   "name": "python3"
  },
  "language_info": {
   "codemirror_mode": {
    "name": "ipython",
    "version": 3
   },
   "file_extension": ".py",
   "mimetype": "text/x-python",
   "name": "python",
   "nbconvert_exporter": "python",
   "pygments_lexer": "ipython3",
   "version": "3.10.11"
  }
 },
 "nbformat": 4,
 "nbformat_minor": 5
}
