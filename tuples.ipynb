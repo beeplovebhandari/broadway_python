{
 "cells": [
  {
   "cell_type": "markdown",
   "id": "bb68af92-24b2-471c-9bbe-3d149381121d",
   "metadata": {},
   "source": [
    "# tuples\n",
    "* immutable data type\n",
    "* ordered , allows duplicate , allow multiple data types\n",
    "* written inside() round brackets seperated by coma"
   ]
  },
  {
   "cell_type": "code",
   "execution_count": 3,
   "id": "cc371b77-4184-41f1-a79d-2810a4daf6a0",
   "metadata": {},
   "outputs": [],
   "source": [
    "cars = (\"mercedes\", \"bently\" , \"bmw\" , \"audi\" , \"tesla\")"
   ]
  },
  {
   "cell_type": "code",
   "execution_count": 4,
   "id": "d016db41-5ae8-4489-9e44-86d0b532feb3",
   "metadata": {},
   "outputs": [
    {
     "data": {
      "text/plain": [
       "tuple"
      ]
     },
     "execution_count": 4,
     "metadata": {},
     "output_type": "execute_result"
    }
   ],
   "source": [
    "type(cars)"
   ]
  },
  {
   "cell_type": "code",
   "execution_count": 5,
   "id": "3ea4902f-569d-4dcd-8c1f-8920ff162ecf",
   "metadata": {},
   "outputs": [
    {
     "data": {
      "text/plain": [
       "('mercedes', 'bently', 'bmw', 'audi', 'tesla')"
      ]
     },
     "execution_count": 5,
     "metadata": {},
     "output_type": "execute_result"
    }
   ],
   "source": [
    "cars"
   ]
  },
  {
   "cell_type": "code",
   "execution_count": 7,
   "id": "2ddcc455-d007-4dc0-a739-0874b20cf0bd",
   "metadata": {},
   "outputs": [
    {
     "data": {
      "text/plain": [
       "'mercedes'"
      ]
     },
     "execution_count": 7,
     "metadata": {},
     "output_type": "execute_result"
    }
   ],
   "source": [
    "cars[0]"
   ]
  },
  {
   "cell_type": "code",
   "execution_count": 8,
   "id": "18dfff3c-6ff6-4883-ad02-91a0e685e6ef",
   "metadata": {},
   "outputs": [
    {
     "data": {
      "text/plain": [
       "'bmw'"
      ]
     },
     "execution_count": 8,
     "metadata": {},
     "output_type": "execute_result"
    }
   ],
   "source": [
    "cars[2]"
   ]
  },
  {
   "cell_type": "code",
   "execution_count": 9,
   "id": "06569297-ad88-498c-9c42-70e26890b61a",
   "metadata": {},
   "outputs": [
    {
     "data": {
      "text/plain": [
       "'audi'"
      ]
     },
     "execution_count": 9,
     "metadata": {},
     "output_type": "execute_result"
    }
   ],
   "source": [
    "cars[-2]"
   ]
  },
  {
   "cell_type": "code",
   "execution_count": 10,
   "id": "4336754f-ec8c-4b88-b0a7-6590c4eeceb6",
   "metadata": {},
   "outputs": [
    {
     "data": {
      "text/plain": [
       "('bmw', 'audi')"
      ]
     },
     "execution_count": 10,
     "metadata": {},
     "output_type": "execute_result"
    }
   ],
   "source": [
    "cars[2:4]"
   ]
  },
  {
   "cell_type": "code",
   "execution_count": 14,
   "id": "6121c4b2-3c2a-4bd4-b956-8d23a5b7ab78",
   "metadata": {},
   "outputs": [
    {
     "data": {
      "text/plain": [
       "('audi', 'tesla')"
      ]
     },
     "execution_count": 14,
     "metadata": {},
     "output_type": "execute_result"
    }
   ],
   "source": [
    "cars [-2:]"
   ]
  },
  {
   "cell_type": "code",
   "execution_count": 15,
   "id": "50e34a21-6a3a-403a-9cd6-34248e86dd3f",
   "metadata": {},
   "outputs": [],
   "source": [
    "cars = (\"mercedes\", \"bently\" , \"bmw\" , \"audi\" , \"tesla\")"
   ]
  },
  {
   "cell_type": "code",
   "execution_count": 16,
   "id": "f70ca985-e0a9-4d6e-8aaa-b99610b58254",
   "metadata": {},
   "outputs": [
    {
     "ename": "TypeError",
     "evalue": "'tuple' object does not support item assignment",
     "output_type": "error",
     "traceback": [
      "\u001b[1;31m---------------------------------------------------------------------------\u001b[0m",
      "\u001b[1;31mTypeError\u001b[0m                                 Traceback (most recent call last)",
      "Cell \u001b[1;32mIn[16], line 1\u001b[0m\n\u001b[1;32m----> 1\u001b[0m \u001b[43mcars\u001b[49m\u001b[43m[\u001b[49m\u001b[38;5;241;43m4\u001b[39;49m\u001b[43m]\u001b[49m \u001b[38;5;241m=\u001b[39m \u001b[38;5;124m'\u001b[39m\u001b[38;5;124mLambo\u001b[39m\u001b[38;5;124m'\u001b[39m \u001b[38;5;66;03m#tuple is immutable ,, write garna mildaina \u001b[39;00m\n",
      "\u001b[1;31mTypeError\u001b[0m: 'tuple' object does not support item assignment"
     ]
    }
   ],
   "source": [
    "cars[4] = 'Lambo' #tuple is immutable ,, write garna mildaina "
   ]
  },
  {
   "cell_type": "code",
   "execution_count": 17,
   "id": "e1b8be2b-ee67-4caa-b2c4-b625255e031d",
   "metadata": {},
   "outputs": [],
   "source": [
    "cars = (\"mercedes\", \"bently\" , \"bmw\" , \"audi\" , \"tesla\")\n",
    "# cars vanne varibale ma jasari pani last ma euta car name thapnu paryo"
   ]
  },
  {
   "cell_type": "code",
   "execution_count": 19,
   "id": "8922a679-26f9-4435-b81f-dbb3d9f457e7",
   "metadata": {},
   "outputs": [
    {
     "data": {
      "text/plain": [
       "['mercedes', 'bently', 'bmw', 'audi', 'tesla']"
      ]
     },
     "execution_count": 19,
     "metadata": {},
     "output_type": "execute_result"
    }
   ],
   "source": [
    "cars = list(cars)\n",
    "cars"
   ]
  },
  {
   "cell_type": "code",
   "execution_count": 21,
   "id": "c755929e-2bf9-4535-b668-91d61b66ad07",
   "metadata": {},
   "outputs": [],
   "source": [
    "cars.append(\"Tata\")"
   ]
  },
  {
   "cell_type": "code",
   "execution_count": 22,
   "id": "da23a774-4d1f-4003-8e8b-823fea412706",
   "metadata": {},
   "outputs": [],
   "source": [
    "cars =  tuple(cars)"
   ]
  },
  {
   "cell_type": "code",
   "execution_count": 23,
   "id": "389dca1e-5e40-4ef1-8d45-15a14d9c42a9",
   "metadata": {},
   "outputs": [
    {
     "data": {
      "text/plain": [
       "('mercedes', 'bently', 'bmw', 'audi', 'tesla', 'Tata')"
      ]
     },
     "execution_count": 23,
     "metadata": {},
     "output_type": "execute_result"
    }
   ],
   "source": [
    "cars"
   ]
  },
  {
   "cell_type": "code",
   "execution_count": 24,
   "id": "073a3c2a-b733-403e-9123-e860effa1aaa",
   "metadata": {},
   "outputs": [],
   "source": [
    "t1 = (2,4,6,8,10)"
   ]
  },
  {
   "cell_type": "code",
   "execution_count": 25,
   "id": "07de299e-e760-435e-8568-b4f912c7847f",
   "metadata": {},
   "outputs": [
    {
     "name": "stdout",
     "output_type": "stream",
     "text": [
      "30\n"
     ]
    }
   ],
   "source": [
    "total = 0\n",
    "for item in t1:\n",
    "    total = total + item\n",
    "\n",
    "print(total)"
   ]
  },
  {
   "cell_type": "code",
   "execution_count": 27,
   "id": "63b94576-5893-4c86-ad56-5d534f35e5c4",
   "metadata": {},
   "outputs": [
    {
     "name": "stdout",
     "output_type": "stream",
     "text": [
      "10.0\n"
     ]
    }
   ],
   "source": [
    "total = 0\n",
    "for itenm in t1 :\n",
    "    total = total+item\n",
    "\n",
    "mean = total/len(t1)\n",
    "print(mean)"
   ]
  },
  {
   "cell_type": "code",
   "execution_count": null,
   "id": "48e7df8b-6b50-4090-b4f1-049da36c3db4",
   "metadata": {},
   "outputs": [],
   "source": []
  }
 ],
 "metadata": {
  "kernelspec": {
   "display_name": "Python 3 (ipykernel)",
   "language": "python",
   "name": "python3"
  },
  "language_info": {
   "codemirror_mode": {
    "name": "ipython",
    "version": 3
   },
   "file_extension": ".py",
   "mimetype": "text/x-python",
   "name": "python",
   "nbconvert_exporter": "python",
   "pygments_lexer": "ipython3",
   "version": "3.10.11"
  }
 },
 "nbformat": 4,
 "nbformat_minor": 5
}
