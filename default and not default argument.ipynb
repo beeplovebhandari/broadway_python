{
 "cells": [
  {
   "cell_type": "code",
   "execution_count": 1,
   "id": "f84ea145-311c-4328-b99f-e2d766600405",
   "metadata": {},
   "outputs": [],
   "source": [
    "def greet (name , msg):\n",
    "    print(f\"Hello {name} , {msg} \")"
   ]
  },
  {
   "cell_type": "code",
   "execution_count": 2,
   "id": "c465f6e6-ade6-49e3-b48c-b1c45b4d5924",
   "metadata": {},
   "outputs": [
    {
     "name": "stdout",
     "output_type": "stream",
     "text": [
      "Hello Ram , Good Morning \n"
     ]
    }
   ],
   "source": [
    "greet (name = 'Ram' , msg = \"Good Morning\")"
   ]
  },
  {
   "cell_type": "code",
   "execution_count": 3,
   "id": "06f8fb59-a767-4349-a927-b2ee510398b6",
   "metadata": {},
   "outputs": [
    {
     "name": "stdout",
     "output_type": "stream",
     "text": [
      "Hello Govind , Good Morning \n"
     ]
    }
   ],
   "source": [
    "greet (name = 'Govind' , msg = \"Good Morning\")"
   ]
  },
  {
   "cell_type": "code",
   "execution_count": 4,
   "id": "9b4527a7-e93a-40d3-ab1b-e34cbc601e3e",
   "metadata": {},
   "outputs": [],
   "source": [
    "def greet (name , msg = \"Good Morning\"):  # msg is a default argument \n",
    "    print(f\"Hello {name} , {msg} \")"
   ]
  },
  {
   "cell_type": "code",
   "execution_count": 5,
   "id": "59580050-01ee-41eb-ab0b-969a967a7874",
   "metadata": {},
   "outputs": [
    {
     "name": "stdout",
     "output_type": "stream",
     "text": [
      "Hello Govind , Good Morning \n"
     ]
    }
   ],
   "source": [
    "greet(name = \"Govind\")"
   ]
  },
  {
   "cell_type": "code",
   "execution_count": 7,
   "id": "904c73f9-9f1c-4f53-8bde-b1e937568ca3",
   "metadata": {},
   "outputs": [
    {
     "name": "stdout",
     "output_type": "stream",
     "text": [
      "Hello Harke , Good Afternoon \n"
     ]
    }
   ],
   "source": [
    "greet(name = \"Harke\" , msg = \"Good Afternoon\")  # msg overwrites default argument on function"
   ]
  },
  {
   "cell_type": "code",
   "execution_count": 8,
   "id": "be57c8aa-32f2-4ccb-ac8d-57afbe863ed3",
   "metadata": {},
   "outputs": [
    {
     "name": "stdout",
     "output_type": "stream",
     "text": [
      "Hello sujan , Good Morning \n"
     ]
    }
   ],
   "source": [
    "greet(name = \"sujan\")"
   ]
  },
  {
   "cell_type": "code",
   "execution_count": 9,
   "id": "fb32334a-ac0d-4286-99be-ed115c28e899",
   "metadata": {},
   "outputs": [
    {
     "ename": "SyntaxError",
     "evalue": "non-default argument follows default argument (3612157550.py, line 1)",
     "output_type": "error",
     "traceback": [
      "\u001b[1;36m  Cell \u001b[1;32mIn[9], line 1\u001b[1;36m\u001b[0m\n\u001b[1;33m    def greet (msg = \"Good Morning\" ,name ):\u001b[0m\n\u001b[1;37m                                     ^\u001b[0m\n\u001b[1;31mSyntaxError\u001b[0m\u001b[1;31m:\u001b[0m non-default argument follows default argument\n"
     ]
    }
   ],
   "source": [
    "def greet (msg = \"Good Morning\" ,name ):  \n",
    "    print(f\"Hello {name} , {msg} \")"
   ]
  },
  {
   "cell_type": "markdown",
   "id": "562d71d1-2ab0-4121-9e46-ae943bba2757",
   "metadata": {},
   "source": [
    "* msg is default argument\n",
    "* name is non-default argument\n",
    "  In python non-default argument doesn't follow default argument . if it does it shows:\n",
    "  \n",
    "      SyntaxError: non-default argument follows default argument\n",
    "  "
   ]
  },
  {
   "cell_type": "code",
   "execution_count": 14,
   "id": "dd36742e-b7a9-4579-8d4a-00be7b5e483c",
   "metadata": {},
   "outputs": [],
   "source": [
    "name  = \"Yogesh\"  # global  variable\n",
    "def viral():\n",
    "    name = \"Baiguni kto\"   # local variable\n",
    "    print(name)\n",
    "    "
   ]
  },
  {
   "cell_type": "code",
   "execution_count": 15,
   "id": "475579f9-11f0-41f6-924a-f0f73697b9d7",
   "metadata": {},
   "outputs": [
    {
     "data": {
      "text/plain": [
       "'Yogesh'"
      ]
     },
     "execution_count": 15,
     "metadata": {},
     "output_type": "execute_result"
    }
   ],
   "source": [
    "name"
   ]
  },
  {
   "cell_type": "code",
   "execution_count": 16,
   "id": "716c20cf-be0a-4fa8-8294-ef19ecdbd21b",
   "metadata": {},
   "outputs": [
    {
     "name": "stdout",
     "output_type": "stream",
     "text": [
      "Baiguni kto\n"
     ]
    }
   ],
   "source": [
    "viral()"
   ]
  },
  {
   "cell_type": "code",
   "execution_count": 17,
   "id": "f2816e17-2fe6-4ffb-bd2b-b863d18a3398",
   "metadata": {},
   "outputs": [
    {
     "data": {
      "text/plain": [
       "'Yogesh'"
      ]
     },
     "execution_count": 17,
     "metadata": {},
     "output_type": "execute_result"
    }
   ],
   "source": [
    "name"
   ]
  },
  {
   "cell_type": "markdown",
   "id": "2ef249c3-a907-469f-b5fd-07bc99db2573",
   "metadata": {},
   "source": [
    "# global"
   ]
  },
  {
   "cell_type": "code",
   "execution_count": 22,
   "id": "3b5c8361-3770-4ed0-b9c2-977443778c27",
   "metadata": {},
   "outputs": [],
   "source": [
    "name  = \"Yogesh\"  \n",
    "def viral():\n",
    "    global name \n",
    "    name = \"Baiguni kto\"  #local variable\n",
    "    print(name)\n",
    "    "
   ]
  },
  {
   "cell_type": "code",
   "execution_count": 19,
   "id": "383411cd-5e3f-4628-99c6-0899c7b2e692",
   "metadata": {},
   "outputs": [
    {
     "data": {
      "text/plain": [
       "'Yogesh'"
      ]
     },
     "execution_count": 19,
     "metadata": {},
     "output_type": "execute_result"
    }
   ],
   "source": [
    "name "
   ]
  },
  {
   "cell_type": "code",
   "execution_count": 20,
   "id": "8f276893-0e60-45ef-a84c-66c640b49326",
   "metadata": {},
   "outputs": [
    {
     "name": "stdout",
     "output_type": "stream",
     "text": [
      "Baiguni kto\n"
     ]
    }
   ],
   "source": [
    "viral()"
   ]
  },
  {
   "cell_type": "code",
   "execution_count": 21,
   "id": "f29c7040-2961-4bce-8b5d-304da304ae5b",
   "metadata": {},
   "outputs": [
    {
     "data": {
      "text/plain": [
       "'Baiguni kto'"
      ]
     },
     "execution_count": 21,
     "metadata": {},
     "output_type": "execute_result"
    }
   ],
   "source": [
    "name"
   ]
  },
  {
   "cell_type": "code",
   "execution_count": null,
   "id": "85aac8d9-03b7-440e-b185-8d359f1460f6",
   "metadata": {},
   "outputs": [],
   "source": []
  }
 ],
 "metadata": {
  "kernelspec": {
   "display_name": "Python 3 (ipykernel)",
   "language": "python",
   "name": "python3"
  },
  "language_info": {
   "codemirror_mode": {
    "name": "ipython",
    "version": 3
   },
   "file_extension": ".py",
   "mimetype": "text/x-python",
   "name": "python",
   "nbconvert_exporter": "python",
   "pygments_lexer": "ipython3",
   "version": "3.10.11"
  }
 },
 "nbformat": 4,
 "nbformat_minor": 5
}
