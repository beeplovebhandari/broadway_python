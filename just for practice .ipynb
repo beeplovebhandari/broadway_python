{
 "cells": [
  {
   "cell_type": "code",
   "execution_count": 11,
   "id": "08e3190c-269f-46e6-8c90-f50f9af8e398",
   "metadata": {},
   "outputs": [
    {
     "name": "stdout",
     "output_type": "stream",
     "text": [
      "Hello World!\n"
     ]
    }
   ],
   "source": [
    "if 5>2:\n",
    "    print(\"Hello World!\")"
   ]
  },
  {
   "cell_type": "code",
   "execution_count": 15,
   "id": "9c39ce8e-2549-4975-b168-b2b9949c51f4",
   "metadata": {},
   "outputs": [
    {
     "name": "stdin",
     "output_type": "stream",
     "text": [
      "Enter a number :  9\n"
     ]
    },
    {
     "name": "stdout",
     "output_type": "stream",
     "text": [
      "Not Prime\n"
     ]
    }
   ],
   "source": [
    "number = int(input(\"Enter a number : \"))\n",
    "if number %2 == 0:\n",
    "    print(\"Prime\")\n",
    "\n",
    "else:\n",
    "    print(\"Not Prime\")"
   ]
  },
  {
   "cell_type": "code",
   "execution_count": 9,
   "id": "db6a6911-aea4-4703-a5e3-d761ca03f4d5",
   "metadata": {},
   "outputs": [
    {
     "name": "stdout",
     "output_type": "stream",
     "text": [
      "Orange\n",
      "Banana\n",
      "Cherry\n",
      "apple\n"
     ]
    }
   ],
   "source": [
    "x, y,z ,v = \"Orange\", \"Banana\", \"Cherry\" ,\"apple\"\n",
    "print(x)\n",
    "print(y)\n",
    "print(z)\n",
    "print(v)"
   ]
  },
  {
   "cell_type": "code",
   "execution_count": 11,
   "id": "b6755997-944e-4664-90bc-4afa0c4008f0",
   "metadata": {},
   "outputs": [
    {
     "name": "stdout",
     "output_type": "stream",
     "text": [
      "suntala\n",
      "suntala\n",
      "suntala\n"
     ]
    }
   ],
   "source": [
    "x = y = z = \"suntala\"\n",
    "print(x)\n",
    "print(y)\n",
    "print(z)"
   ]
  },
  {
   "cell_type": "code",
   "execution_count": 1,
   "id": "f8442216-5886-46c2-8a4a-0cbcb56157dc",
   "metadata": {},
   "outputs": [],
   "source": [
    "x =  1\n",
    "y = 2.3\n",
    "z = 4j"
   ]
  },
  {
   "cell_type": "code",
   "execution_count": 3,
   "id": "6eec0ec5-da3f-47a8-8960-10236827de55",
   "metadata": {},
   "outputs": [],
   "source": [
    "a = float(x)\n",
    "b = int(y)\n",
    "c = complex(z)"
   ]
  },
  {
   "cell_type": "code",
   "execution_count": 4,
   "id": "fafe006e-f98a-4318-8cde-76a174c25c63",
   "metadata": {},
   "outputs": [
    {
     "name": "stdout",
     "output_type": "stream",
     "text": [
      "1\n",
      "2.3\n",
      "4j\n"
     ]
    }
   ],
   "source": [
    "print(x)\n",
    "print(y)\n",
    "print(z)"
   ]
  },
  {
   "cell_type": "code",
   "execution_count": 5,
   "id": "6ed57f54-c5a5-4c6f-aa77-5324469906d6",
   "metadata": {},
   "outputs": [
    {
     "name": "stdout",
     "output_type": "stream",
     "text": [
      "<class 'int'>\n",
      "<class 'float'>\n",
      "<class 'complex'>\n"
     ]
    }
   ],
   "source": [
    "print(type(x))\n",
    "print(type(y))\n",
    "print(type(z))"
   ]
  },
  {
   "cell_type": "code",
   "execution_count": 6,
   "id": "d35501a1-b829-4df8-aabe-5ea0ea67394b",
   "metadata": {},
   "outputs": [
    {
     "name": "stdout",
     "output_type": "stream",
     "text": [
      "<class 'float'>\n",
      "<class 'int'>\n",
      "<class 'complex'>\n"
     ]
    }
   ],
   "source": [
    "print(type(a))\n",
    "print(type(b))\n",
    "print(type(c))"
   ]
  },
  {
   "cell_type": "code",
   "execution_count": 7,
   "id": "c8dd294b-da25-4955-85be-fe86a8868b11",
   "metadata": {},
   "outputs": [
    {
     "name": "stdout",
     "output_type": "stream",
     "text": [
      "1.0\n",
      "2\n",
      "4j\n"
     ]
    }
   ],
   "source": [
    "print(a)\n",
    "print(b)\n",
    "print(c)"
   ]
  },
  {
   "cell_type": "code",
   "execution_count": 8,
   "id": "c0a71999-ed84-409d-a6b5-c484858de45a",
   "metadata": {},
   "outputs": [],
   "source": [
    "r = 2.3\n",
    "a = 9j\n",
    "m = 1"
   ]
  },
  {
   "cell_type": "code",
   "execution_count": 12,
   "id": "24550174-1cd2-4ac3-b01d-f2b7f7c6f035",
   "metadata": {},
   "outputs": [],
   "source": [
    "x = int(r)\n",
    "y = float(m)\n",
    "z = complex(a)"
   ]
  },
  {
   "cell_type": "code",
   "execution_count": 13,
   "id": "688afd4e-f71e-43c2-bf96-d5f0a116bf72",
   "metadata": {},
   "outputs": [
    {
     "name": "stdout",
     "output_type": "stream",
     "text": [
      "2\n",
      "1.0\n",
      "9j\n",
      "<class 'int'>\n",
      "<class 'float'>\n",
      "<class 'complex'>\n"
     ]
    }
   ],
   "source": [
    "print(x)\n",
    "print(y)\n",
    "print(z)\n",
    "\n",
    "print(type(x))\n",
    "print(type(y))\n",
    "print(type(z))"
   ]
  },
  {
   "cell_type": "code",
   "execution_count": 16,
   "id": "878d9193-102c-4ca2-a33d-02e5b729a4b7",
   "metadata": {},
   "outputs": [
    {
     "name": "stdout",
     "output_type": "stream",
     "text": [
      "17\n"
     ]
    }
   ],
   "source": [
    "import random\n",
    "print(random.randrange(2,23))"
   ]
  },
  {
   "cell_type": "code",
   "execution_count": 17,
   "id": "30d1a9d3-bd3a-4212-8f7a-533e4f30c70a",
   "metadata": {},
   "outputs": [
    {
     "name": "stdout",
     "output_type": "stream",
     "text": [
      "(2+0j)\n",
      "<class 'complex'>\n"
     ]
    }
   ],
   "source": [
    "x = 2\n",
    "a = complex(x)\n",
    "\n",
    "print (a)\n",
    "\n",
    "print(type(a))"
   ]
  },
  {
   "cell_type": "code",
   "execution_count": 16,
   "id": "4e4621e8-41b6-497f-9441-d842ecbd2e3f",
   "metadata": {},
   "outputs": [
    {
     "name": "stdin",
     "output_type": "stream",
     "text": [
      "Enter Your Name : beeplove\n"
     ]
    },
    {
     "name": "stdout",
     "output_type": "stream",
     "text": [
      "Hello Sir ! How Can I Help You \n"
     ]
    }
   ],
   "source": [
    "name  = input(\"Enter Your Name :\")\n",
    "if name == \"Beeplove\" or name == \"beeplove\":\n",
    "    print(\"Hello Sir ! How Can I Help You \")\n",
    "\n",
    "else:\n",
    "    print(\"Sorry ! Name not Matched\")\n"
   ]
  },
  {
   "cell_type": "code",
   "execution_count": 28,
   "id": "8a595d99-a023-4b6b-a922-9a55fa859957",
   "metadata": {},
   "outputs": [],
   "source": [
    "with open('student.txt' , 'r') as file :\n",
    "    text = file.read()\n"
   ]
  },
  {
   "cell_type": "code",
   "execution_count": 29,
   "id": "19a41a0f-1691-4871-92a1-89662d4bc481",
   "metadata": {},
   "outputs": [],
   "source": [
    "with open('student.txt' , 'r') as file :\n",
    "    text = file.read()\n"
   ]
  },
  {
   "cell_type": "code",
   "execution_count": 30,
   "id": "e481e206-c1b2-4146-bb24-3a720ff0b43c",
   "metadata": {},
   "outputs": [
    {
     "name": "stdout",
     "output_type": "stream",
     "text": [
      "Beeplove\n",
      "Subash\n",
      "Akash\n",
      "Prabinstudents haru ko nam .\n",
      "\n",
      " students haru ko nam .\n",
      "\n",
      " students haru ko nam \n"
     ]
    }
   ],
   "source": [
    "print(text)"
   ]
  },
  {
   "cell_type": "code",
   "execution_count": 1,
   "id": "07e5ad41-6556-410e-9831-1f41249be07d",
   "metadata": {},
   "outputs": [],
   "source": [
    "a = \"ram le bhaat khayo tra usle gheu khayena\""
   ]
  },
  {
   "cell_type": "code",
   "execution_count": 2,
   "id": "ae4f2423-5372-4a85-ba2b-f7d27cdd9525",
   "metadata": {},
   "outputs": [
    {
     "name": "stdout",
     "output_type": "stream",
     "text": [
      "True\n"
     ]
    }
   ],
   "source": [
    "print('gheu' in a )"
   ]
  },
  {
   "cell_type": "code",
   "execution_count": 4,
   "id": "1422c089-0804-4863-92b3-75a47ff7c7dc",
   "metadata": {},
   "outputs": [
    {
     "name": "stdout",
     "output_type": "stream",
     "text": [
      "False\n"
     ]
    }
   ],
   "source": [
    "print('masu' in a )"
   ]
  },
  {
   "cell_type": "code",
   "execution_count": 5,
   "id": "0c39e345-3207-4dd7-9db5-0cca149158a1",
   "metadata": {},
   "outputs": [
    {
     "name": "stdout",
     "output_type": "stream",
     "text": [
      "khayena is in a \n"
     ]
    }
   ],
   "source": [
    "a = \"ram le bhaat khayo tra usle gheu khayena\"\n",
    "if 'khayena' in a :\n",
    "    print(\"khayena is in a \")"
   ]
  },
  {
   "cell_type": "code",
   "execution_count": 6,
   "id": "db0e92b7-e581-4b95-af98-c5fb51ab8157",
   "metadata": {},
   "outputs": [],
   "source": [
    "x = \"hello beeplove k xa\""
   ]
  },
  {
   "cell_type": "code",
   "execution_count": 8,
   "id": "f66a2e44-7934-423a-a1c7-2a1f3a336fa1",
   "metadata": {},
   "outputs": [
    {
     "name": "stdout",
     "output_type": "stream",
     "text": [
      "HELLO BEEPLOVE K XA\n"
     ]
    }
   ],
   "source": [
    "print(x.upper())"
   ]
  },
  {
   "cell_type": "code",
   "execution_count": 9,
   "id": "4f3240f8-c9e6-46b0-9516-4a624e558181",
   "metadata": {},
   "outputs": [],
   "source": [
    "y = \"Hello World BEEPLOVe ASTINA KAA GAKO\""
   ]
  },
  {
   "cell_type": "code",
   "execution_count": 10,
   "id": "8583a97e-26ad-4814-b15f-8d5614181cd0",
   "metadata": {},
   "outputs": [
    {
     "name": "stdout",
     "output_type": "stream",
     "text": [
      "hello world beeplove astina kaa gako\n"
     ]
    }
   ],
   "source": [
    "print(y.lower())"
   ]
  },
  {
   "cell_type": "code",
   "execution_count": 13,
   "id": "52ad54c4-3a3f-4133-916c-5fccab90af2f",
   "metadata": {},
   "outputs": [],
   "source": [
    "a = \"         ram le bhaaat khayo tra uh marena              \""
   ]
  },
  {
   "cell_type": "code",
   "execution_count": 12,
   "id": "db435830-8fa8-45fa-8916-95444f53ee9d",
   "metadata": {},
   "outputs": [
    {
     "name": "stdout",
     "output_type": "stream",
     "text": [
      "ram le bhaaat khayo      tra uh      marena\n"
     ]
    }
   ],
   "source": [
    "print(a.strip())"
   ]
  },
  {
   "cell_type": "code",
   "execution_count": 14,
   "id": "7b67869e-6d28-48c7-b219-dea818015ec5",
   "metadata": {},
   "outputs": [],
   "source": [
    "a = \"         ram le bhaaat khayo tra uh marena              \""
   ]
  },
  {
   "cell_type": "code",
   "execution_count": 16,
   "id": "53dea740-8aa1-469c-800f-ca155938d5f9",
   "metadata": {},
   "outputs": [
    {
     "name": "stdout",
     "output_type": "stream",
     "text": [
      "         ram le bhaaat khayo tra uh marena              \n"
     ]
    }
   ],
   "source": [
    "print(a)"
   ]
  },
  {
   "cell_type": "code",
   "execution_count": 17,
   "id": "24a703bf-dae7-46ad-bcca-fb57c60337e5",
   "metadata": {},
   "outputs": [],
   "source": [
    "a = \"Deeplove\""
   ]
  },
  {
   "cell_type": "code",
   "execution_count": 18,
   "id": "fb839523-bc54-454f-891a-5da10051ff45",
   "metadata": {},
   "outputs": [
    {
     "name": "stdout",
     "output_type": "stream",
     "text": [
      "Beeplove\n"
     ]
    }
   ],
   "source": [
    "print(a.replace(\"D\" , \"B\"))"
   ]
  },
  {
   "cell_type": "code",
   "execution_count": 23,
   "id": "c9c894cd-283a-43b8-95a7-6dccd5c3b04f",
   "metadata": {},
   "outputs": [
    {
     "name": "stdout",
     "output_type": "stream",
     "text": [
      "[' Hello', 'World !', 'Beeplove']\n"
     ]
    }
   ],
   "source": [
    "a = \" Hello , World ! , Beeplove\"\n",
    "print(a.split(\" , \"))"
   ]
  },
  {
   "cell_type": "code",
   "execution_count": 30,
   "id": "e1c4c60d-8e6f-4182-b9d4-fb5977f84ae3",
   "metadata": {},
   "outputs": [
    {
     "name": "stdout",
     "output_type": "stream",
     "text": [
      "['Beeplove', ' ra bhaat', ' masu khanxan']\n"
     ]
    }
   ],
   "source": [
    "a = \"Beeplove le  ra bhaat le  masu khanxan\" \n",
    "print(a.split(\" le \"))"
   ]
  },
  {
   "cell_type": "code",
   "execution_count": 31,
   "id": "bb32b025-b50e-478b-976d-6de449638686",
   "metadata": {},
   "outputs": [
    {
     "name": "stdout",
     "output_type": "stream",
     "text": [
      "3\n"
     ]
    }
   ],
   "source": [
    "a = \"Beeplove\"\n",
    "print(a.count(\"e\"))"
   ]
  },
  {
   "cell_type": "code",
   "execution_count": 50,
   "id": "6c93c533-f8a3-40d5-a87c-d93a1777a503",
   "metadata": {},
   "outputs": [
    {
     "name": "stdout",
     "output_type": "stream",
     "text": [
      "218\n"
     ]
    }
   ],
   "source": [
    "Nepali_Squad = \"Rohit Paudel, Asif Sheikh, Kushal Bhurtel, Lalit Rajbanshi, Bhim Sharki, Kushal Malla, Dipendra Singh Airee, Sandeep Lamichhane, Karan KC, Gulshan Jha, Arif Sheikh, Sompal Kami, Pratis GC, Kishor Mahato, Sundeep Jora, Arjun Saud and Shyam Dhakal\"\n",
    "print(Nepali_Squad.find(\"Arjun\"))"
   ]
  },
  {
   "cell_type": "code",
   "execution_count": 49,
   "id": "f3a2b2b1-471a-4f29-9068-343fda792ef9",
   "metadata": {},
   "outputs": [
    {
     "name": "stdout",
     "output_type": "stream",
     "text": [
      "239\n"
     ]
    }
   ],
   "source": [
    "Nepali_Squad = \"Rohit Paudel, Asif Sheikh, Kushal Bhurtel, Lalit Rajbanshi, Bhim Sharki, Kushal Malla, Dipendra Singh Airee, Sandeep Lamichhane, Karan KC, Gulshan Jha, Arif Sheikh, Sompal Kami, Pratis GC, Kishor Mahato, Sundeep Jora, Arjun Saud and Shyam Dhakal\"\n",
    "print(Nepali_Squad.index(\"Dhakal\"))"
   ]
  },
  {
   "cell_type": "code",
   "execution_count": 52,
   "id": "237c37b0-9794-40f1-8ecf-0ca9b9fb873e",
   "metadata": {},
   "outputs": [
    {
     "name": "stdout",
     "output_type": "stream",
     "text": [
      "Beeplove\n"
     ]
    }
   ],
   "source": [
    "a = \"beeplove\"\n",
    "print(a.capitalize())"
   ]
  },
  {
   "cell_type": "code",
   "execution_count": 3,
   "id": "cffca78a-e8ee-4461-891f-3e9ced354a1f",
   "metadata": {},
   "outputs": [
    {
     "name": "stdout",
     "output_type": "stream",
     "text": [
      "Ram is a very sincere student of the class . he always help others \n"
     ]
    }
   ],
   "source": [
    "a = \"ram is a very sincere student of the class . he always help others \"\n",
    "print(a.capitalize())"
   ]
  },
  {
   "cell_type": "code",
   "execution_count": 4,
   "id": "1661a466-f4e8-4201-a5bb-34f059745a53",
   "metadata": {},
   "outputs": [],
   "source": [
    "url = \"https://merolagani.com/MarketSummary.aspx?type=sectors\""
   ]
  },
  {
   "cell_type": "code",
   "execution_count": 6,
   "id": "2d820712-ce31-4b06-807b-e8d246d82af5",
   "metadata": {},
   "outputs": [],
   "source": [
    "import requests"
   ]
  },
  {
   "cell_type": "code",
   "execution_count": 7,
   "id": "53acba6f-2697-4e77-b749-5270c423f717",
   "metadata": {},
   "outputs": [],
   "source": [
    "html = requests.get(url).content"
   ]
  },
  {
   "cell_type": "code",
   "execution_count": 8,
   "id": "f3bb8c5b-bf5e-4989-a870-ed4ceba66f80",
   "metadata": {},
   "outputs": [
    {
     "data": {
      "text/plain": [
       "b'\\n<!DOCTYPE html>\\n\\n<html xmlns=\"http://www.w3.org/1999/xhtml\">\\n<head><meta charset=\"utf-8\" /><meta http-equiv=\"X-UA-Compatible\" content=\"IE=edge\" /><meta name=\"viewport\" content=\"width=device-width, initial-scale=1\" /><title>\\r\\n\\tmerolagani - Nepal Stock Exchange (NEPSE) Live Market Summary, Top Gainers, Top Losers, Top Turnovers, Top Brokers\\r\\n</title><link href=\"/bundles/css/main200?v=XBmv3Nbj66DV6lzAxQCBgaIOrn903Diuut8lsSb3n9k1\" rel=\"stylesheet\"/>\\r\\n<link href=\"/bundles/css/site205?v=JDFYx0XBsjx2PJsB70xsp6n6BXVCmnegzsdX8OWN36Y1\" rel=\"stylesheet\"/>\\r\\n<link href=\"/Content/Services.css\" rel=\"stylesheet\"/>\\r\\n<link href=\"/Content/owl.carousel.min.css\" rel=\"stylesheet\"/>\\r\\n<link href=\"/Content/lightslider/css/lightslider.css\" rel=\"stylesheet\"/>\\r\\n<script src=\"/scripts/jquery/jquery-1.11.0.min.js\"></script>\\r\\n<script src=\"/scripts/jquery/jquery-ui.js\"></script>\\r\\n<script src=\"/Content/lightslider/js/lightslider.js\"></script>\\r\\n\\n\\n\\n\\n    <!--[if lt IE 9]>\\n      <script src=\"https://oss.maxcdn.com/html5shiv/3.7.2/html5shiv.min.js\"></script>\\n      <script src=\"https://oss.maxcdn.com/respond/1.4.2/respond.min.js\"></script>\\n    <![endif]-->\\n\\n    <!--[if IE 7]>\\n      <link rel=\"stylesheet\" href=\"path/to/font-awesome/css/font-awesome-ie7.min.css\" />\\n    <![endif]-->\\n    <script id=\\'_webengage_script_tag\\' type=\\'text/javascript\\'>\\n\\n        var webengage; !function (w, e, b, n, g) {\\n            function o(e, t) {\\n                e[t[t.length - 1]] = function () {\\n                    r.__queue.push([t.join(\".\"),\\n                        arguments])\\n                }\\n            } var i, s, r = w[b], z = \" \", l = \"init options track screen onReady\".split(z), a = \"feedback survey notification\".split(z), c = \"options render clear abort\".split(z), p = \"Open Close Submit Complete View Click\".split(z), u = \"identify login logout setAttribute\".split(z); if (!r || !r.__v) { for (w[b] = r = { __queue: [], __v: \"6.0\", user: {} }, i = 0; i < l.length; i++)o(r, [l[i]]); for (i = 0; i < a.length; i++) { for (r[a[i]] = {}, s = 0; s < c.length; s++)o(r[a[i]], [a[i], c[s]]); for (s = 0; s < p.length; s++)o(r[a[i]], [a[i], \"on\" + p[s]]) } for (i = 0; i < u.length; i++)o(r.user, [\"user\", u[i]]); setTimeout(function () { var f = e.createElement(\"script\"), d = e.getElementById(\"_webengage_script_tag\"); f.type = \"text/javascript\", f.async = !0, f.src = (\"https:\" == e.location.protocol ? \"https://ssl.widgets.webengage.com\" : \"http://cdn.widgets.webengage.com\") + \"/js/webengage-min-v-6.0.js\", d.parentNode.insertBefore(f, d) }) }\\n        }(window, document, \"webengage\"); webengage.init(\"58add309\");\\n    </script>\\n    \\r\\n    <style type=\"text/css\">\\r\\n        @media (max-width: 768px) {\\r\\n            .gainers tr > td:nth-child(1), .gainers tr > td:nth-child(n + 5):nth-child(-n + 7), .gainers tr > td:nth-child(9),\\r\\n            .gainers tr > th:nth-child(1), .gainers tr > th:nth-child(n + 5):nth-child(-n + 7), .gainers tr > th:nth-child(9),\\r\\n            .turnover tr > td:nth-child(1), .turnover tr > td:nth-child(n + 4):nth-child(-n + 9),\\r\\n            .turnover tr > th:nth-child(1), .turnover tr > th:nth-child(n + 4):nth-child(-n + 9),\\r\\n            .sector tr > td:nth-child(1), .sector tr > td:nth-child(4),\\r\\n            .sector tr > th:nth-child(1), .sector tr > th:nth-child(4),\\r\\n            .broker tr > td:nth-child(1), .broker tr > td:nth-child(n + 3):nth-child(-n + 5),\\r\\n            .broker tr > th:nth-child(1), .broker tr > th:nth-child(n + 3):nth-child(-n + 5) {\\r\\n                display: none;\\r\\n            }\\r\\n        }\\r\\n    </style>\\r\\n</head>\\n<body>\\n    <!-- Go to www.addthis.com/dashboard to customize your tools -->\\n    <script type=\"text/javascript\" src=\"//s7.addthis.com/js/300/addthis_widget.js#pubid=ra-545b25ce40103429\" async=\"async\"></script>\\n\\n    \\n    <div class=\"popup-wrapper\">\\n        <div class=\"popup\">\\n            <div class=\"popup-body\">\\n                <div class=\"popup-image\">\\n                    <img src=\"Content/images/brand-logo.png\" class=\"float-left\" height=\"45\" width=\"100\" alt=\"merolagani logo\" />\\n                </div>\\n                <div class=\"popup-desc\">\\n                    <span class=\"float-right\">We\\'d like to send you notifications for the latest news and updates.</span>\\n                </div>\\n            </div>\\n            <div class=\"popup-footer\">\\n                <button class=\"btn btn-sm btn-link\" onclick=\"AlertNotification.updateRequestExpiryDate();$(\\'.popup\\').hide();\">No Thanks</button>\\n                <button class=\"btn btn-sm btn-primary allow-btn\" onclick=\"AlertNotification.requestNotification();$(\\'.popup\\').hide();\">Allow</button>\\n            </div>\\n        </div>\\n    </div>\\n\\n\\n    <form method=\"post\" action=\"./MarketSummary.aspx?type=sectors\" id=\"aspnetForm\">\\r\\n<input type=\"hidden\" name=\"__VIEWSTATE\" id=\"__VIEWSTATE\" value=\"SAuFLUEOal0lSgmQnxDUqTewT59SFli1saEgEZ60oLs56JubBqus40bFtBTKJkKGUgBa+kr++aC5ZHWaZg+lqX+EJTQG5h8eZxv5SNDNF4Y=\" />\\r\\n\\r\\n\\r\\n<script src=\"/ScriptResource.axd?d=NJmAwtEo3Ipnlaxl6CMhvipoe7GwaCubeHW4UfRJaQMYfe2vWimaAfUruL3Jtc4RZThytRvxUyO6d2j9jojy_JqJ8YoxAw6iCsm-JPqTwJfdJvJSxEeEFIbBEXpHYYtCgxTm4YOpj1K-gzjpPimOUKDDL-_Y3e26hQI4FR_aAxo1&amp;t=ffffffffecf19baa\" type=\"text/javascript\"></script>\\r\\n<input type=\"hidden\" name=\"__VIEWSTATEGENERATOR\" id=\"__VIEWSTATEGENERATOR\" value=\"BA9B5A0A\" />\\r\\n<input type=\"hidden\" name=\"__EVENTVALIDATION\" id=\"__EVENTVALIDATION\" value=\"K/OWJjEy89u2bp8OiR/0aqBNQny1zuzNp0NnlKld1uqOtCT2UwcK/B3ZvD1sVasvhfjSARbHc6xRfE86O6CGnaIojRApltI28H2WcIBxaggyppmbsBihvGaPoOowo9cAkDMruiEfZ6CUIfscQZZaGSRzDgJxzESURYEu4iP398W7ZMquMGczmXCWZcDgMU2aScZ1t8UI8X0cdamPyXezz3x5ffYxL55pq0fXPBlfAPMZyCWJitAwabyYxauwoS1EgOrOFfCWZ1VQZ4j6a7fDQA+HBJWiS4vESoJ4eE9+BEQ=\" />\\n\\n        <div>\\n            \\n            <div class=\"visible-mobile-ad\">\\n                <div id=\"ctl00_AdvertisementS1_divAdvertisement\">\\r\\n    \\r\\n\\r\\n    <div id=\"ctl00_AdvertisementS1_divGeneral\" class=\"\">\\r\\n        <div class=\"col-lg-12\">\\r\\n            <div class=\"advert\">\\r\\n                <a href=\"https://meroshare.cdsc.com.np/#/login\"\\r\\n                   target=\\'_blank\\' \\r\\n                  onclick=\"addAdvHitCounter.UpdateAdvHitCounter(\\'629\\',this)\">\\r\\n                    <img src=\"https://images.merolagani.com//content/bigyapan/22ea67ff-049e-4172-899e-7f439ac3fa44.gif\" class=\"img-responsive\"/>\\r\\n                </a>\\r\\n            </div>\\r\\n           \\r\\n        </div>\\r\\n    </div>\\r\\n</div>\\r\\n\\n                \\n            </div>\\n            <div class=\"topbar\">\\n                <div class=\"container\">\\n                    <div class=\"row\">\\n                        <div class=\"col-lg-13\">\\n                            <p class=\"date-topbar pull-left hidden-sm hidden-xs\">Tue, Aug 22, 2023</p>\\n                            <ul class=\"list-inline list-topbar pull-right\">\\n                                <li><i class=\"icon-envelope\"></i>support@asteriskt.com</li>\\n                                <li><i class=\"icon-phone\"></i>(+977) 01-5315101/5315184</li>\\n                                <li><i class=\"icon-mobile-phone\"></i>9801000860</li>\\n                                <li>\\n                                    \\n                                    <a onclick=\"javascript: window.open(&#39;https://eng.merolagani.com&#39;);\" id=\"ctl00_btnEn\" title=\"English Version\" class=\"btn btn-primary btn-xs act-btn\" href=\"javascript:__doPostBack(&#39;ctl00$btnEn&#39;,&#39;&#39;)\">\\n                                    <span class=\"glyphicon glyphicon-one-fine-white-dot\">ENGLISH</span></a>\\n                                </li>\\n                                \\n                                <li id=\"ctl00_liFreeAccount\" style=\"display: none\">\\n                                    <a href=\"/FreeUserRegistration.aspx\" class=\"btn btn-primary btn-xs\">Create Free Account</a>\\n                                </li>\\n                                <li>\\n                                    <div class=\"btn-group\">\\n                                        <button tabindex=\"-1\" type=\"button\" class=\"btn btn-success btn-xs dropdown-toggle\" data-toggle=\"dropdown\">\\n                                            Help <span class=\"icon-angle-down\"></span>\\n                                        </button>\\n                                        <ul class=\"dropdown-menu\" role=\"menu\">\\n                                            <!--<li>\\n                                                <a href=\"/Uploads/Help.pdf\">PDF</a>\\n                                            </li>-->\\n                                            <li>\\n                                                <a href=\"/VideoTutorials.aspx\">Video Tutorials</a>\\n                                            </li>\\n                                        </ul>\\n                                    </div>\\n                                </li>\\n                                <li class=\"mobile-d-none\">\\n                                    <a href=\"/AboutUs.aspx\">About Us</a>\\n                                </li>\\n                                <li class=\"mobile-d-none\">\\n                                    <a href=\"/ContactUs.aspx\">Contact Us</a>\\n                                </li>\\n                                <li class=\"mobile-d-none\">\\n                                    <a href=\"/BankAccounts.aspx\">Bank Accounts</a>\\n                                </li>\\n\\n                                <li id=\"ctl00_liLogout\" style=\"display: none\">\\n                                    <a href=\"/Logout.aspx\" onclick=\"webEngageLogout();\">Log Out</a>\\n                                </li>\\n                            </ul>\\n                        </div>\\n                    </div>\\n                </div>\\n            </div>\\n            <div class=\"visible-desktop-ad\">\\n                <div class=\"slot-A9\">\\n                    <div id=\"ctl00_AdvertisementA9_divAdvertisement\">\\r\\n    \\r\\n\\r\\n    <div id=\"ctl00_AdvertisementA9_divGeneral\" class=\"\">\\r\\n        <div class=\"col-lg-12\">\\r\\n            <div class=\"advert\">\\r\\n                <a href=\"https://meroshare.cdsc.com.np/#/login\"\\r\\n                   target=\\'_blank\\' \\r\\n                  onclick=\"addAdvHitCounter.UpdateAdvHitCounter(\\'483\\',this)\">\\r\\n                    <img src=\"https://images.merolagani.com//content/bigyapan/be95e426-5d92-4217-912a-4769d567ced1.gif\" class=\"img-responsive\"/>\\r\\n                </a>\\r\\n            </div>\\r\\n           \\r\\n        </div>\\r\\n    </div>\\r\\n</div>\\r\\n\\n                </div>\\n            </div>\\n            <div class=\"logobar\">\\n                <div class=\"container\">\\n                    <div class=\"row\">\\n                        <div class=\"visible-mobile-ad\">\\n                            \\r\\n\\n                        </div>\\n                    </div>\\n                    <div class=\"row\">\\n                        <div class=\"col-xs-6 col-md-4 col-sm-4\">\\n                            <a href=\"/Index.aspx\">\\n                                <img src=\"/Content/images/merolagani.png\" class=\"img-responsive\" /></a>\\n                        </div>\\n                        <div id=\"ctl00_divA1Ads\" class=\"visible-desktop-ad ear-panel\">\\n                            <div id=\"ctl00_A1_divAdvertisement\">\\r\\n    <div id=\"ctl00_A1_divA1\" class=\"col-sm-8\">\\r\\n        <a href=\"https://www.panchakanya.com/\"\\r\\n           target=\\'_blank\\'\\r\\n           onclick=\"addAdvHitCounter.UpdateAdvHitCounter(\\'610\\',this)\">\\r\\n            <img src=\"https://images.merolagani.com//content/bigyapan/c45c0015-e289-4875-a3f8-87cf69fd62cd.gif\" class=\"img-responsive\"/>\\r\\n        </a>\\r\\n    </div>\\r\\n\\r\\n    \\r\\n</div>\\r\\n\\n                        </div>\\n                        \\n                        \\n                        \\n                        \\n                        \\n                        \\n                    </div>\\n                </div>\\n            </div>\\n            <div class=\"visible-mobile-ad\">\\n                <div id=\"ctl00_AdvertisementS2_divAdvertisement\">\\r\\n    \\r\\n\\r\\n    <div id=\"ctl00_AdvertisementS2_divGeneral\" class=\"\">\\r\\n        <div class=\"col-lg-12\">\\r\\n            <div class=\"advert\">\\r\\n                <a href=\"https://www.panchakanya.com/\"\\r\\n                   target=\\'_blank\\' \\r\\n                  onclick=\"addAdvHitCounter.UpdateAdvHitCounter(\\'611\\',this)\">\\r\\n                    <img src=\"https://images.merolagani.com//content/bigyapan/8337b76d-bab6-4e20-a36a-2649072c316b.gif\" class=\"img-responsive\"/>\\r\\n                </a>\\r\\n            </div>\\r\\n           \\r\\n        </div>\\r\\n    </div>\\r\\n</div>\\r\\n\\n            </div>\\n            <nav id=\"navbars\" class=\"navbar navbar-inverse\" data-spy=\"affix\" data-offset-top=\"197\">\\n                <div class=\"container\">\\n                    <div class=\"navbar-header\">\\n                        <button type=\"button\" class=\"navbar-toggle collapsed\" data-toggle=\"collapse\" data-target=\"#navbar\">\\n                            <span class=\"sr-only\">Toggle navigation</span>\\n                            <span class=\"icon-bar\"></span>\\n                            <span class=\"icon-bar\"></span>\\n                            <span class=\"icon-bar\"></span>\\n                        </button>\\n\\n                        <div class=\"navbar-brand visible-xs\">\\n                             <ul>\\n                                <li>\\n                                    <div class=\"form-inline home-panel-search\">\\r\\n\\t\\n                                        \\r\\n\\r\\n<autosuggest>\\r\\n    <input type=\"hidden\" name=\"ctl00$ASCompany$hdnAutoSuggest\" id=\"ctl00_ASCompany_hdnAutoSuggest\" value=\"0\" />\\r\\n        <input name=\"ctl00$ASCompany$txtAutoSuggest\" type=\"text\" maxlength=\"255\" id=\"ctl00_ASCompany_txtAutoSuggest\" tabindex=\"-1\" title=\"Type company name or stock symbol\" class=\"form-control form-control-inline\" autocomplete=\"off\" data-bound=\"0\" onblur=\"\" placeholder=\"Company name or symbol\" onkeypress=\"AutoSuggest.getAutoSuggestDataByElement(&quot;Company&quot;,this);\" onkeyup=\"AutoSuggest.clearValue(event,this);\" />\\r\\n        <span id=\"username-verify\" class=\"pull-right verify-position\"></span>\\r\\n</autosuggest>\\n                                        <a onclick=\"return false;\" id=\"ctl00_lbtnSearchHeader\" tabindex=\"-1\" title=\"Search Company Detail\" class=\"btn btn-primary home-button-search\" data-trigger=\"company-detail\" href=\"javascript:__doPostBack(&#39;ctl00$lbtnSearchHeader&#39;,&#39;&#39;)\"><span class=\"icon-search\"></span></a>\\n                                    \\r\\n</div>\\n                                </li>\\n                            </ul>\\n                        </div>\\n                    </div>\\n                    <div class=\"collapse navbar-collapse\" id=\"navbar\">\\n                        <ul class=\"nav navbar-nav\">\\n                            <li class=\"\">\\n                                <a href=\"/Index.aspx\"style=\"display:flex;align-items:center;\">\\n                                    <span class=\"icon-home icon-2x\" style=\"line-height: 20px\"></span>\\n\\t\\t\\t\\t\\t\\t\\t\\t\\t<img id =\"nav-app-icon\" src=\"/Content/images/merolagani.png\" class=\"img-responsive\" style=\"object-fit:contain; height:30px;display:none;\"  />\\n\\n                                </a>\\n                            </li>\\n                            <li class=\"dropdown active\">\\n                                <a href=\"#\" class=\"dropdown-toggle\" data-toggle=\"dropdown\" title=\"Market\">Market <b class=\"icon-angle-down\"></b></a>\\n                                <ul class=\"dropdown-menu\">\\n                                    <li class=\"\">\\n                                        <a href=\"/LatestMarket.aspx\">Live Trading</a>\\n                                    </li>\\n                                    <li class=\"\">\\n                                        <a href=\"/StockQuote.aspx\">Todays Shareprice</a>\\n                                    </li>\\n                                    <li class=\"\">\\n                                        <a href=\"/Floorsheet.aspx\">Floorsheet</a>\\n                                    </li>\\n                                    <li class=\"\">\\n                                        <a href=\"/Indices.aspx\">Indices</a>\\n                                    </li>\\n                                   \\n                                    <li class=\"\">\\n                                        <a href=\"/MarketSummary.aspx\">Market Overview</a>\\n                                    </li>\\n                                    <li class=\"divider\"></li>\\n                                    <li class=\"dropdown-header\">Market Summary</li>\\n                                    <li class=\"\">\\n                                        <a href=\"/MarketSummary.aspx?type=gainers\">Top Gainers</a>\\n                                    </li>\\n                                    <li class=\"\">\\n                                        <a href=\"/MarketSummary.aspx?type=losers\">Top Losers</a>\\n                                    </li>\\n                                    <li class=\"\">\\n                                        <a href=\"/MarketSummary.aspx?type=turnovers\">Top Turnovers</a>\\n                                    </li>\\n                                    <li class=\"active\">\\n                                        <a href=\"/MarketSummary.aspx?type=sectors\">Top Sectors</a>\\n                                    </li>\\n                                    <li class=\"divider\"></li>\\n                                    <li class=\"\">\\n                                        <a href=\"/#StockEvents\" onclick=\"LayoutMaster_ClientID.TrackEvent_OnStockEvent();\">Stock Events</a>\\n                                    </li>\\n                                    <li class=\"\">\\n                                        <a \\n                                            href=\"/#divOpportunity\">Tender & Auction</a>\\n                                    </li>\\n\\n                                </ul>\\n                            </li>\\n                            <li class=\"dropdown\">\\n                                <a href=\"#\" class=\"dropdown-toggle\" data-toggle=\"dropdown\" title=\"Market\">News <b class=\"icon-angle-down\"></b></a>\\n                                <ul class=\"dropdown-menu\">\\n                                    <li class=\"\">\\n                                        <a href=\"/NewsList.aspx\">News</a>\\n                                    </li>\\n                                    <li class=\"divider\"></li>\\n                                    <li class=\"dropdown-header\">News Category</li>\\n                                    <li class=\"\">\\n                                        <a href=\"/NewsList.aspx?id=13&type=latest\">Insurance</a>\\n                                    </li>\\n                                    <li class=\"\">\\n                                        <a href=\"/NewsList.aspx?id=25&type=latest\">Current Affairs</a>\\n                                    </li>\\n                                    <li class=\"\">\\n                                        <a href=\"/NewsList.aspx?id=23&type=latestY\">IT/Auto</a>\\n                                    </li>\\n                                    <li class=\"\">\\n                                        <a href=\"/NewsList.aspx?id=15&type=latest\">Technical Analysis</a>\\n                                    </li>\\n                                    <li class=\"\">\\n                                        <a href=\"/NewsList.aspx?id=10&type=latest\">Opinion & Analysis</a>\\n                                    </li>\\n\\t\\t\\t\\t\\t\\t\\t\\t\\t<li class=\"\">\\n                                        <a href=\"/NewsList.aspx?id=17&type=latest\">Corporate</a>\\n                                    </li>\\n                                    <li class=\"\">\\n                                        <a href=\"/NewsList.aspx?id=12&type=latest\">International</a>\\n                                    </li>\\n                                </ul>\\n                            </li>\\n                            <li class=\"\">\\n                                <a href=\"/AnnouncementList.aspx\">Announcements</a>\\n                            </li>\\n                            <li class=\"dropdown\">\\n                                <a href=\"#\" class=\"dropdown-toggle\" data-toggle=\"dropdown\" title=\"Market\">Reports <b class=\"icon-angle-down\"></b></a>\\n                                <ul class=\"dropdown-menu\">\\n                                    <li class=\"\">\\n                                        <a href=\"/CompanyReports.aspx?type=ANNUAL\">Annual Report</a>\\n                                    </li>\\n                                    <li class=\"\">\\n                                        <a href=\"/CompanyReports.aspx?type=QUARTERLY\">Quarterly Report</a>\\n                                    </li>\\n                                    <li class=\"\">\\n                                        <a href=\"/BrokerList.aspx\">Brokers</a>\\n                                    </li>\\n                                </ul>\\n                            </li>\\n                            <li class=\"dropdown\">\\n                                <a href=\"#\" class=\"dropdown-toggle\" data-toggle=\"dropdown\">Portfolio <b class=\"icon-angle-down\"></b></a>\\n                                <ul class=\"dropdown-menu\">\\n                                    <li class=\"\">\\n                                        <a href=\"/MyPortfolio.aspx\">My Portfolio</a>\\n                                    </li>                                    \\n                                    <li class=\"\">\\n                                        <a class=\"\" href=\"/Newsletter.aspx\">Newsletter <span class=\"badge-info\"><span class=\"glyphicon glyphicon-flag blink\" style=\"color: #edaa4e\"></span></span></a>\\n                                    </li>\\n                                    <li class=\"\">\\n                                        <a class=\"\" href=\"/TechnicalData.aspx\">Technical Data <span class=\"badge-info\"><span class=\"glyphicon glyphicon-flag blink\" style=\"color: #edaa4e\"></span></span></a>\\n                                    </li>\\n                                    <li class=\"\">\\n                                        <a class=\"\" href=\"/Podcast.aspx\">Podcast <span class=\"badge-info\"><span class=\"glyphicon glyphicon-flag blink\" style=\"color: #edaa4e\"></span></span></a>\\n                                    <li class=\"\">\\n                                        <a class=\"\" href=\"/StockTrainingPodcast.aspx\">Online Stock Training <span class=\"badge-info\"><span class=\"glyphicon glyphicon-flag blink\" style=\"color: #edaa4e\"></span></span></a>\\n                                    </li>\\n                                </ul>\\n                            </li>\\n                            <li class=\"dropdown\">\\n                                <a href=\"#\" class=\"dropdown-toggle\" data-toggle=\"dropdown\">IPO <b class=\"icon-angle-down\"></b></a>\\n                                <ul class=\"dropdown-menu\">\\n                                    <li class=\"\">\\n                                        <a href=\"/IpoResult.aspx\">IPO Results</a>\\n                                    </li>\\n                                    <li class=\"\">\\n                                        <a href=\"/Ipo.aspx?type=upcoming\">Upcoming IPO</a>\\n                                    </li>\\n                                    <li class=\"\">\\n                                        <a href=\"/Ipo.aspx?type=past\">Past IPO</a>\\n                                    </li>\\n                                </ul>\\n                            </li>\\n                            <li class=\"\">\\n                                <a href=\"/Services.aspx\">Services</a>\\n                            </li>\\n                            <li class=\"\">\\n                                <a href=\"/Dashboard.aspx\">Dashboard <span class=\"blink label label-warning\">New</span> </a>\\n                            </li>\\n                        </ul>\\n\\n                        <ul class=\"nav navbar-nav navbar-right\">\\n\\n                            <!-- Service purchased and pending cart start -->\\n                            <li class=\"\">\\n                                <a href=\"/ServicePurchased.aspx\">\\n                                    <span class=\"glyphicon glyphicon-shopping-cart\"></span>\\n                                </a>\\n                            </li>\\n                            <!-- Service purchased and pending cart start -->\\n                            <li class=\"dropdown search-form\" style=\"display: none;\">\\n                                <a href=\"javascript:void(0);\" class=\"dropdown-toggle\" data-toggle=\"dropdown\">\\n                                   <span>Search...</span> <i class=\"icon-search\"></i>\\n                                    <span class=\"hidden-sm\"></span>\\n                                </a>\\n                                <ul class=\"dropdown-menu\">\\n                                    <li>\\n                                        <input name=\"ctl00$txtNews\" type=\"text\" id=\"ctl00_txtNews\" class=\"form-control form-control-inline\" maxlength=\"255\" title=\"Enter search keywords\" placeholder=\"News keyword\" tabindex=\"-1\" style=\"width: 280px\" data-news=\"company-detail\" />\\n                                        <br />\\n                                        <a onclick=\"return LayoutMaster_ClientID.trackEvent_OnNavSearch();\" id=\"ctl00_aa\" tabindex=\"-1\" title=\"Search\" class=\"btn btn-primary\" href=\"javascript:__doPostBack(&#39;ctl00$aa&#39;,&#39;&#39;)\" style=\"margin-top: 6px\"><span class=\"icon-search\"></span> Search</a>\\n\\n                                    </li>\\n                                </ul>\\n                            </li>\\n\\t\\t\\t\\t\\t\\t\\t<li>\\n                                <div id=\"ctl00_Panel1\" class=\"form-inline home-panel-search\">\\r\\n\\t\\n                                    \\r\\n\\r\\n<autosuggest>\\r\\n    <input type=\"hidden\" name=\"ctl00$AutoSuggest1$hdnAutoSuggest\" id=\"ctl00_AutoSuggest1_hdnAutoSuggest\" value=\"0\" />\\r\\n        <input name=\"ctl00$AutoSuggest1$txtAutoSuggest\" type=\"text\" maxlength=\"255\" id=\"ctl00_AutoSuggest1_txtAutoSuggest\" tabindex=\"-1\" title=\"Type company name or stock symbol\" class=\"form-control form-control-inline\" autocomplete=\"off\" data-bound=\"0\" onblur=\"\" placeholder=\"Company name or symbol\" onkeypress=\"AutoSuggest.getAutoSuggestDataByElement(&quot;Company&quot;,this);\" onkeyup=\"AutoSuggest.clearValue(event,this);\" />\\r\\n        <span id=\"username-verify\" class=\"pull-right verify-position\"></span>\\r\\n</autosuggest>\\n                                    <a onclick=\"return LayoutMaster_ClientID.trackEvent_OnNavSearch();\" id=\"ctl00_lbtnSearch\" tabindex=\"-1\" title=\"Search\" class=\"btn btn-primary home-button-search\" data-trigger=\"company-detail\" href=\"javascript:__doPostBack(&#39;ctl00$lbtnSearch&#39;,&#39;&#39;)\"><span class=\"icon-search\"></span></a>\\n                                \\r\\n</div>\\n                            </li>\\n                            <li id=\"ctl00_liLogin\" style=\"display: none\">\\n                                <a href=\"/Login.aspx\">\\n                                    <span class=\"icon-user\"></span>\\n                                    <span class=\"hidden-sm\">Log In</span>\\n                                </a>\\n                            </li>\\n                            <li id=\"ctl00_liUser\" class=\"dropdown\" style=\"display: none\">\\n                                <a href=\"javascript:void(0);\" class=\"dropdown-toggle\" data-toggle=\"dropdown\">\\n                                    <span class=\"icon-user\"></span>\\n                                    <label id=\"ctl00_lblUsername\" class=\"hidden-md\"></label>\\n                                    &nbsp;<i class=\"icon-angle-down\"></i>\\n                                </a>\\n                                <ul class=\"dropdown-menu\">\\n                                    <li>\\n                                        <a href=\"/EditAccount.aspx?type=ea\">Edit Account</a>\\n                                    </li>\\n                                    <li>\\n                                        <a href=\"/EditAccount.aspx?type=pw\">Change Password</a>\\n                                    </li>\\n                                    <li>\\n                                        <a href=\"/EditAccount.aspx?type=vm\">Verify Mobile</a>\\n                                    </li>\\n                                    <li>\\n                                        <a href=\"/EditAccount.aspx?type=pi\">Change Pin Code</a>\\n                                    </li>\\n                                    <li class=\"divider\"></li>\\n                                    <li><a href=\"/Logout.aspx\" onclick=\"webEngageLogout();\">Log Out</a></li>\\n                                </ul>\\n                            </li>\\n\\n                        </ul>\\n                    </div>\\n                </div>\\n            </nav>\\n        </div>\\n\\n        <div class=\"container\">\\n            <div id=\"page-alert\" class=\"page-alert\"></div>\\n            <div id=\"processing\"></div>\\n            \\n            \\r\\n\\r\\n    <div class=\"row\">\\r\\n        <div class=\"col-lg-12\">\\r\\n\\r\\n            \\r\\n\\r\\n            <div class=\"table-responsive\">\\r\\n                <div class=\"row\">\\r\\n                    <div class=\"col-lg-12\">\\r\\n                        <h4 class=\"page-header\">\\r\\n                            <span id=\"ctl00_ContentPlaceHolder1_pageHeader\">Top Sectors</span>\\r\\n                        </h4>\\r\\n                    </div>\\r\\n                </div>\\r\\n\\r\\n                <table id=\"ctl00_ContentPlaceHolder1_tblSummary\" class=\"table table-striped table-hover table-index\" data-live-summary=\"false\" data-live-range=\"0\" data-live-label=\"#dateLabel\" data-live=\"sectors\">\\r\\n</table>\\r\\n\\r\\n            </div>\\r\\n        </div>\\r\\n    </div>\\r\\n     <input type=\"hidden\" value=\"1\" id=\"isAdjusted\"/>\\r\\n\\n        </div>\\n\\n        <div class=\"footer\">\\n            <div class=\"container\">\\n                <div class=\"row\">\\n                    <div class=\"col-sm-4 col-md-3\">\\n                        <ul class=\"nav-stacked\">\\n                            <li><a tabindex=\"-1\" href=\\'/Index.aspx\\'>Home</a></li>\\n                            <li><a tabindex=\"-1\" href=\\'/LatestMarket.aspx\\'>Latest Market</a></li>\\n                            <li><a tabindex=\"-1\" href=\\'/StockQuote.aspx\\'>Daily Stock Quotes</a></li>\\n                            <li><a tabindex=\"-1\" href=\\'/Floorsheet.aspx\\'>Floorsheet</a></li>\\n                            <li><a tabindex=\"-1\" href=\\'/Indices.aspx\\'>Indices</a></li>\\n                            <li><a tabindex=\"-1\" href=\\'/MarketSummary.aspx?type=brokers\\'>Top Brokers</a></li>\\n                            <li><a tabindex=\"-1\" href=\\'/MarketSummary.aspx?type=gainers\\'>Top Gainers</a></li>\\n                            <li><a tabindex=\"-1\" href=\\'/MarketSummary.aspx?type=losers\\'>Top Losers</a></li>\\n                        </ul>\\n                    </div>\\n                    <div class=\"col-sm-4 col-md-3\">\\n                        <ul class=\"nav-stacked\">\\n                            <li><a tabindex=\"-1\" href=\\'/NewsList.aspx?popular=false\\'>Latest News</a></li>\\n                            <li><a tabindex=\"-1\" href=\\'/NewsList.aspx?popular=true\\'>Popular News</a></li>\\n                            <li><a tabindex=\"-1\" href=\\'/AnnouncementList.aspx\\'>Announcements</a></li>\\n                            <li><a tabindex=\"-1\" href=\\'/CompanyReports.aspx?type=ANNUAL\\'>Annual Reports</a></li>\\n                            <li><a tabindex=\"-1\" href=\\'/CompanyReports.aspx?type=QUARTERLY\\'>Quarterly Reports</a></li>\\n                            <li><a tabindex=\"-1\" href=\\'/CompanyList.aspx\\'>Companies</a></li>\\n                            <li><a tabindex=\"-1\" href=\\'/BrokerList.aspx\\'>Brokers</a></li>\\n\\n                        </ul>\\n                    </div>\\n                    <div class=\"col-sm-4 col-md-3\">\\n                        <ul class=\"nav-stacked\">\\n                            <li><a tabindex=\"-1\" href=\\'/ContactUs.aspx\\'>Contact Us</a></li>\\n                            <!--<li><a tabindex=\"-1\" href=\"/Uploads/Help.pdf\" target=\"_blank\">Help Docs</a></li>-->\\n                            <li><a tabindex=\"-1\" href=\"/VideoTutorials.aspx\" target=\"_blank\">Video Tutorials</a></li>\\n                            <li><a tabindex=\"-1\" href=\"/BankAccounts.aspx\">Bank Accounts</a></li>\\n                            <li><a tabindex=\"-1\" href=\"/AboutUs.aspx\">About Us</a></li>\\n                        </ul>\\n                    </div>\\n\\n                    <div class=\"col-sm-12 col-md-3\">\\n                        <hr class=\"visible-xs-block visible-sm-block\" />\\n                        <address>\\n                            <strong>MERO LAGANI</strong>\\n                            <br />\\n                            4th Floor, Orchid Hotel Building\\n                            <br />\\n                            Tripureshwor, Kathmandu, Nepal\\n                            <br />\\n                            <strong>Tel:</strong>\\n                            (+977) 01-5315101/5315184\\n                            <br />\\n                            <strong style=\"font-family: \\'Times New Roman\\'; font-size : 16px;\">For Customer Support</strong>\\n                            <br />\\n                            <strong>Mobile:</strong>\\n                            9801000860\\n                            <br />\\n                            <strong>E-mail:</strong>\\n                            support@asteriskt.com                            \\n                            <br />\\n\\t\\t\\t\\t\\t\\t\\t<strong>For advertisement:</strong><br />\\n\\t\\t\\t\\t\\t\\t\\t<em>Brajesh Subedi</em><br />\\n\\t\\t\\t\\t\\t\\t\\t<i>Marketing Manager</i><br />\\n                            <em>9851004547</em>\\n                            <em>merolaganimarketing@gmail.com</em>\\n                            <br/>\\n                        </address>\\n                        <ul class=\"list-inline list-social-icons\">\\n                            <li>\\n                                <a target=\"_blank\" href=\"https://www.facebook.com/Merolagani\"><i class=\"icon-facebook-sign icon-3x\"></i></a>\\n                            </li>\\n                            <li>\\n                                <a target=\"_blank\" href=\"https://twitter.com/ComMerolagani\"><i class=\"icon-twitter-sign icon-3x\"></i></a>\\n                            </li>\\n                            <li>\\n                                <a target=\"_blank\" href=\"https://www.youtube.com/channel/UCygzOsiHWgvOq5vNahSTehg\"><i class=\"icon-youtube-sign icon-3x\"></i></a>\\n                            </li>\\n                        </ul>\\n                    </div>\\n                </div>\\n                <div class=\"row payment-method\">\\n\\n                    <div class=\"col-sm-12 col-md-5\">\\n\\n                        <strong>PAYMENT PARTNERS</strong>\\n                        <br>\\n                        <ul class=\"list-inline list-payment-partners\">\\n                            <li>\\n                                <a target=\"_blank\" href=\"/Services.aspx\">\\n                                     <img title=\"NCELL\" src=\"https://images.merolagani.com/Content/images/payment-partners/Ncell-new.png\" style=\"width:100%\" />\\n                                </a>\\n                            </li>\\n                            <li>\\n                               <a target=\"_blank\" href=\"/Services.aspx\">\\n                                    <img title=\"ESEWA\" src=\"https://images.merolagani.com/Content/images/payment-partners/esewa-new.png\" style=\"width:100%\" />\\n                                </a>\\n                            </li>\\n                            <li>\\n                                <a target=\"_blank\" href=\"/Services.aspx\">\\n                                     <img title=\"CONNECTIPS\" src=\"https://images.merolagani.com/Content/images/payment-partners/ConnectIPS-new.png\" style=\"width:100%\" />\\n                                </a>\\n                            </li>\\n\\n                            <li>\\n                                <a target=\"_blank\" href=\"/Services.aspx\">\\n                                    <img title=\"KHALTI\" src=\"https://images.merolagani.com/Content/images/payment-partners/khalti-final.png\" style=\"width:100%\" />\\n                                </a>\\n                            </li>\\n                            <li>\\n                                <a target=\"_blank\" href=\"/Services.aspx\">\\n                                     <img title=\"IME PAY\" src=\"https://images.merolagani.com/Content/images/payment-partners/IMEPAY-new.png\" style=\"width:100%\" />\\n                                </a>\\n                            </li>\\n                        </ul>\\n                    </div>\\n\\n                    <div class=\"col-sm-12 col-md-4\">\\n\\n                        <strong>WE ACCEPT</strong>\\n                        <br>\\n\\n                        <ul class=\"list-inline list-payment-partners list-payment-partners-accept\">\\n\\n                            <li>\\n                                <a target=\"_blank\" href=\"/Services.aspx\">\\n                                    <img src=\"https://images.merolagani.com/Content/images/payment-partners/nabil-bank.png\" style=\"width:100%\" />\\n                                </a>\\n                            </li>\\n                            <li>\\n                               <a target=\"_blank\" href=\"/Services.aspx\">\\n                                    <img src=\"https://images.merolagani.com/Content/images/payment-partners/verified.png\" style=\"width:100%\" />\\n                                </a>\\n                            </li>\\n                        </ul>\\n\\n                    </div>\\n                    <div class=\"col-sm-12 col-md-3 freeAccount\">\\n                        <div id=\"ctl00_divFreeAccount\" class=\"\">\\n                            <a href=\"/FreeUserRegistration.aspx\" class=\"btn btn-default btn-lg\">Create Free Account</a>\\n                        </div>\\n                    </div>\\n                </div>\\n                <br />\\n                <div class=\"row\">\\n                    <div class=\"col-lg-12 col-md-12 col-sm-12 col-xs-12\">\\n                        <center><strong>\\xe0\\xa4\\xb8\\xe0\\xa5\\x81\\xe0\\xa4\\x9a\\xe0\\xa4\\xa8\\xe0\\xa4\\xbe \\xe0\\xa4\\xa4\\xe0\\xa4\\xa5\\xe0\\xa4\\xbe \\xe0\\xa4\\xaa\\xe0\\xa5\\x8d\\xe0\\xa4\\xb0\\xe0\\xa4\\xb8\\xe0\\xa4\\xbe\\xe0\\xa4\\xb0\\xe0\\xa4\\xa3 \\xe0\\xa4\\xb5\\xe0\\xa4\\xbf\\xe0\\xa4\\xad\\xe0\\xa4\\xbe\\xe0\\xa4\\x97 \\xe0\\xa4\\xa6.\\xe0\\xa4\\xa8. \\xe0\\xa5\\xaa\\xe0\\xa5\\xaa\\xe0\\xa5\\xa6/\\xe0\\xa5\\xa6\\xe0\\xa5\\xad\\xe0\\xa5\\xa9/\\xe0\\xa5\\xa6\\xe0\\xa5\\xad\\xe0\\xa5\\xaa  &nbsp;  *  &nbsp;  \\xe0\\xa4\\xaa\\xe0\\xa5\\x8d\\xe0\\xa4\\xb0\\xe0\\xa4\\x95\\xe0\\xa4\\xbe\\xe0\\xa4\\xb6\\xe0\\xa4\\x95 - \\xe0\\xa4\\x8f\\xe0\\xa4\\xb8\\xe0\\xa5\\x8d\\xe0\\xa4\\x9f\\xe0\\xa5\\x8d\\xe0\\xa4\\xb0\\xe0\\xa4\\xbf\\xe0\\xa4\\x95 \\xe0\\xa4\\x9f\\xe0\\xa5\\x87\\xe0\\xa4\\x95\\xe0\\xa5\\x8d\\xe0\\xa4\\xa8\\xe0\\xa5\\x8b\\xe0\\xa4\\xb2\\xe0\\xa5\\x8b\\xe0\\xa4\\x9c\\xe0\\xa5\\x80 \\xe0\\xa4\\xaa\\xe0\\xa5\\x8d\\xe0\\xa4\\xb0\\xe0\\xa4\\xbe.\\xe0\\xa4\\xb2\\xe0\\xa4\\xbf.  &nbsp; *  &nbsp; \\xe0\\xa4\\x87\\xe0\\xa4\\xae\\xe0\\xa5\\x87\\xe0\\xa4\\xb2:  editor@merolagani.com</strong></center>\\n                    </div>\\n                    <br />\\n                    <br />\\n                </div>\\n                <a href=\"javascript:void(0);\" class=\"scrollToTop\" title=\"click here for top\"><i class=\"icon-chevron-up\"></i></a>\\n            </div>\\n\\n            <div class=\"copyright\">\\n                <div class=\"container\">\\n                    <div class=\"row\">\\n                        <div class=\"credential_footer\">\\n                            <div class=\"col-sm-5 col-xs-12\">\\n                                &copy; 2023 - MERO LAGANI. All Rights Reserved  \\n                            | Developed by <a href=\"#\">Asterisk Technology </a>\\n                            </div>\\n\\t\\t\\t\\t\\t\\t\\t<div class=\"col-sm-4 col-xs-12 text-left\">\\n                                <ul class=\"list-inline\">\\n                                    <li>Supported By:<a href=\"https://waterflow.technology/\" target=\"_blank\">\\n                                        <img src=\"Content/images/waterflowlogo.jpg\" height=\"35px\" width=\"80px\" />\\n                                    </a>\\n                                        \\n                                    </li>\\n                                </ul>\\n                            </div>\\n                            <div class=\"col-sm-3 col-xs-12 text-right\">\\n                                <ul class=\"list-inline\">\\n                                    <li><a href=\"/Disclaimer.aspx\">Disclaimer, Privacy & Terms of Use</a></li>\\n                                </ul>\\n                            </div>\\n                        </div>\\n                    </div>\\n                </div>\\n            </div>\\n        </div>\\n    \\r\\n\\r\\n<script type=\"text/javascript\">\\r\\n//<![CDATA[\\r\\n$(document).ready(function(){});$(document).ready(function(){AutoSuggest.getAutoSuggestDataById(\\'Company\\',\\'ctl00_ASCompany_txtAutoSuggest\\');});$(document).ready(function(){AutoSuggest.getAutoSuggestDataById(\\'Company\\',\\'ctl00_AutoSuggest1_txtAutoSuggest\\');});//]]>\\r\\n</script>\\r\\n</form>\\n\\n    <script src=\"/bundles/js/main202?v=TstbAbE5lEnLUwtZ_Fui-D2CksP6A5aVpUO5oiBRGEA1\"></script>\\r\\n<script src=\"/bundles/js/site205?v=C8FVwthJVSCNvtYjwZ-56JlXUfKqomLOvsguszpWfrY1\"></script>\\r\\n<script src=\"/Scripts/jquery.cookie.min.js\"></script>\\r\\n<script src=\"/Scripts/advertisementHitCounter.js\"></script>\\r\\n<script src=\"/Scripts/jquicker-1.5.js\"></script>\\r\\n\\n\\n    <script type=\"text/javascript\">\\n        var uid = \"\";\\n        var LayoutMaster_ClientID = {\\n\\n            liUser: \"ctl00_liUser\",\\n            liLogin: \"ctl00_liLogin\",\\n            liStartTour: \"ctl00_liStartTour\",\\n            liFreeAccount: \"ctl00_liFreeAccount\",\\n            divFreeAccount: \"ctl00_divFreeAccount\",\\n            liLogout: \"ctl00_liLogout\",\\n            lblUsername: \"ctl00_lblUsername\",\\n            trackEvent_OnNavSearch: function () {\\n                var newsletter = $(\"#ctl00_txtNews\").val();\\n                if (newsletter.length > 0) {\\n                    webengage.track(\"News Keyword Search\",\\n                    {\\n                        \"NewsKeywords\": newsletter\\n                    });\\n                }\\n                else {\\n                    webengage.track(\"Company Search\",\\n                    {\\n                         \"CompanyNameOrSymbol\": $(\"#ctl00_AutoSuggest1_txtAutoSuggest\").val().toString()\\n                    });\\n                }\\n               \\n                return false;\\n            },\\n            TrackEvent_OnStockEvent: function () {\\n                webengage.track(\"StockEvents_Viewed\",\\n                {\\n                    \"EventDate\": (new Date()).toString()\\n                });\\n            }\\n        };\\n\\n        AutoSuggest.getAutoSuggestDataById(\"Company\", \"ctl00_ASCompany_txtAutoSuggest\");\\n        AutoSuggest.getAutoSuggestDataById(\"Company\", \"ctl00_AutoSuggest1_txtAutoSuggest\");\\n\\n        $(function () {\\n            $(\\'.navbar-toggle\\').on(\\'click\\',\\n                function () {\\n                    if ($(\\'#navbar\\').hasClass(\"navbar-collapse collapse in\")) {\\n                        $(\\'.affix\\').css({ \"height\": \"auto\" });\\n                    } else {\\n                        $(\\'.affix\\').css({ \"height\": \"100%\", \"overflow\": \"scroll\" });\\n                    }\\n                });\\n        });\\n\\t\\t\\n\\t\\t    addEventListener(\"scroll\", (event) => {\\n            if ($(\"#navbars\").hasClass(\"affix\")) {\\n                $(\".icon-home\").css(\"display\", \"none\");\\n                $(\\'#nav-app-icon\\').css(\"display\", \"block\")\\n            }\\n            else if ($(\"#navbars\").hasClass(\"affix-top\")) {\\n                $(\".icon-home\").css(\"display\", \"block\");\\n                $(\\'#nav-app-icon\\').css(\"display\", \"none\")\\n            }\\n        });\\n\\n    </script>\\n\\n    \\r\\n    <script src=\"/scripts/jquery.signalR-1.1.4.min.js\"></script>\\r\\n<script src=\"/signalr/hubs\"></script>\\r\\n<script src=\"/Scripts/charting_library-master-new/datafeeds/udf/NepseChart.js\"></script>\\r\\n<script src=\"/bundles/js/signalr204?v=BbMG3gc45MZuS9XMh-41CqRqNP8C3Xdm2gQ2hxvhY5Y1\"></script>\\r\\n<script src=\"/bundles/js/tradingView205?v=pw4lCMyMWPKykNHpok-4Nl0arv4y1-fUgGqJ_tJFloU1\"></script>\\r\\n<script src=\"/bundles/js/growthChart200?v=ZaB5UQ5E50s-CcFM16x8peZRa5PCyibgS9JkppjMJZU1\"></script>\\r\\n\\r\\n\\r\\n    <script type=\"text/javascript\">\\r\\n        function getParameterByName(name) {\\r\\n            name = name.replace(/[\\\\[]/, \"\\\\\\\\[\").replace(/[\\\\]]/, \"\\\\\\\\]\");\\r\\n            var regex = new RegExp(\"[\\\\\\\\?&]\" + name + \"=([^&#]*)\"),\\r\\n                results = regex.exec(location.search);\\r\\n            return results === null ? \"\" : decodeURIComponent(results[1].replace(/\\\\+/g, \" \"));\\r\\n        }\\r\\n\\r\\n        window.addEventListener(\\'DOMContentLoaded\\', initOnReady, false);\\r\\n\\r\\n        function initOnReady() {\\r\\n            nepseChart.load();\\r\\n        };\\r\\n\\r\\n        var nameAttr = (window.location.href).split(\\'=\\')[1];\\r\\n        webengage.track(\"MarketSummary_Viewed\",\\r\\n        {\\r\\n            \"Date\": (new Date()).toString(),\\r\\n            \"Name\": nameAttr.toString()\\r\\n        });\\r\\n\\r\\n    </script>\\r\\n\\n\\n    <div id=\"ctl00_divAnalytics\">\\n\\n\\t<!-- Google tag (gtag.js) -->\\n<script async src=\"https://www.googletagmanager.com/gtag/js?id=G-L4NG7Z97D2\"></script>\\n<script>\\n  window.dataLayer = window.dataLayer || [];\\n  function gtag(){dataLayer.push(arguments);}\\n  gtag(\\'js\\', new Date());\\n\\n  gtag(\\'config\\', \\'G-L4NG7Z97D2\\');\\n</script>\\n\\t\\t<script type=\"text/javascript\">\\n            var ChatUserEmail = \"\", ChatMobileNumber = \"\", ChatUserName = \"\";\\n\\n            // <!-- (function (i, s, o, g, r, a, m) {\\n            //    i[\\'GoogleAnalyticsObject\\'] = r; i[r] = i[r] || function () {\\n            //        (i[r].q = i[r].q || []).push(arguments)\\n            //    }, i[r].l = 1 * new Date(); a = s.createElement(o),\\n            //        m = s.getElementsByTagName(o)[0]; a.async = 1; a.src = g; m.parentNode.insertBefore(a, m)\\n            //})(window, document, \\'script\\', \\'//www.google-analytics.com/analytics.js\\', \\'ga\\');\\n\\n            //ga(\\'create\\', \\'UA-4719539-2\\', \\'auto\\');\\n            //ga(\\'send\\', \\'pageview\\'); -->\\n\\n            $.ajax({\\n                url: window.location.origin + \"/handlers/webrequesthandler.ashx?type=Current_User_Info\",\\n                type: \"GET\",\\n                dataType: \"json\",\\n                success: function (data) {\\n\\t\\t\\t\\t  console.log(\"success...\");\\n                    if (data != null) {\\n\\t\\t\\t\\t\\t\\t  console.log(\"here in...\");\\n                        if (data.IsAuthenticated) { \\n\\t\\t\\t\\t\\t\\t\\tconsole.log(\"true...\");\\t\\t\\t\\t\\t\\t\\n                            $(\"#\" + LayoutMaster_ClientID.liUser).show();\\n                            $(\"#\" + LayoutMaster_ClientID.liLogin).hide();\\n                            $(\"#\" + LayoutMaster_ClientID.liStartTour).show();\\n                            $(\"#\" + LayoutMaster_ClientID.liFreeAccount).hide();\\n                            $(\"#\" + LayoutMaster_ClientID.divFreeAccount).hide();\\n                            $(\"#\" + LayoutMaster_ClientID.liLogout).show();\\n\\n                            var userEmail = data.UserEmail;\\n                            var mobileNumber = data.MobileNumber;\\n\\n                            if (userEmail.indexOf(\"@\") >= 0) {\\n                                userEmail = (userEmail == \"\")\\n                                    ? mobileNumber\\n                                    : userEmail.substring(0, userEmail.indexOf(\"@\"));\\n                            }\\n                            else {\\n                                userEmail = mobileNumber;\\n                            }\\n                            $(\"#\" + LayoutMaster_ClientID.lblUsername).val(userEmail);\\n                            $(\"#\" + LayoutMaster_ClientID.lblUsername).text(userEmail);\\n\\n                            ChatUserEmail = (data.UserEmail == \"\") ? mobileNumber : data.UserEmail;\\n                            ChatMobileNumber = (mobileNumber == \"\") ? userEmail : mobileNumber;\\n                            ChatUserName = userEmail == \"\" ? ChatMobileNumber : userEmail;\\n\\n                           $.getScript(\"https://msg.dmnepal.online/userIsLoggedIn?partyId=50446b4c-4447-4b74-8709-23242d05272f&userName=\" + ChatUserName + \"&userEmail=\" + ChatUserEmail + \"&phone=\" + ChatMobileNumber);\\n\\n                        }\\n                        else {\\n\\t\\t\\t\\t\\t\\t\\t console.log(\"false...\");\\n                            $(\"#\" + LayoutMaster_ClientID.liUser).hide();\\n                            $(\"#\" + LayoutMaster_ClientID.liLogin).show();\\n                            $(\"#\" + LayoutMaster_ClientID.liStartTour).hide();\\n                            $(\"#\" + LayoutMaster_ClientID.liFreeAccount).show();\\n                            $(\"#\" + LayoutMaster_ClientID.liLogout).hide();\\n\\n                            $.getScript(\"https://msg.dmnepal.online/3rd/foo/platform.js?partyId=50446b4c-4447-4b74-8709-23242d05272f\");\\n                        }\\n                    }\\n                    else {\\n\\t\\t\\t\\t\\t console.log(\"here out ...\");\\n                        $(\"#\" + LayoutMaster_ClientID.liUser).hide();\\n                        $(\"#\" + LayoutMaster_ClientID.liLogin).show();\\n                        $(\"#\" + LayoutMaster_ClientID.liStartTour).hide();\\n                        $(\"#\" + LayoutMaster_ClientID.liFreeAccount).show();\\n                        $(\"#\" + LayoutMaster_ClientID.liLogout).hide();\\n                        $.getScript(\"https://msg.dmnepal.online/3rd/foo/platform.js?partyId=50446b4c-4447-4b74-8709-23242d05272f\");\\n                    }\\n                },\\n                error: function (xhr, s, e) {\\n\\t\\t\\t\\t console.log(\"error ...\");\\n                    $(\"#\" + LayoutMaster_ClientID.liUser).hide();\\n                    $(\"#\" + LayoutMaster_ClientID.liLogin).show();\\n                    $(\"#\" + LayoutMaster_ClientID.liStartTour).hide();\\n                    $(\"#\" + LayoutMaster_ClientID.liFreeAccount).show();\\n                    $(\"#\" + LayoutMaster_ClientID.liLogout).hide();\\n                    $.getScript(\"https://msg.dmnepal.online/3rd/foo/platform.js?partyId=50446b4c-4447-4b74-8709-23242d05272f\");\\n\\n                 }\\n             });\\n\\n            function webEngageLogout() {\\n                webengage.user.logout();\\n            }\\n        </script>\\n        \\n    </div>\\n\\n</body>\\n</html>\\n\\n<style>\\n    .act-btn {\\n        font-weight: 600;\\n        background-color: #e80811;\\n        text-align: center;\\n        vertical-align: middle;\\n        border-color: #e80811;\\n        font-size: 12px;\\n    }\\n\\n        .act-btn:hover {\\n            background: #e80811;\\n            border-color: #e80811;\\n        }\\n\\t\\t\\n\\t .list-inline.list-payment-partners li {\\n        width: 20%;\\n        margin-bottom: 5px;\\n    }\\n\\n    .list-inline.list-payment-partners {\\n        display: flex;\\n        flex-wrap: wrap;\\n    }\\n\\n        .list-inline.list-payment-partners.list-payment-partners-accept li {\\n            width: 28%;\\n        }\\n\\n    .freeAccount {\\n        margin-top: 30px;\\n    }\\n\\n        .freeAccount .btn.btn-default.btn-lg {\\n            padding: 5.5px 5px;\\n        }\\n</style>\\n\\n\\n\\n\\n'"
      ]
     },
     "execution_count": 8,
     "metadata": {},
     "output_type": "execute_result"
    }
   ],
   "source": [
    "html"
   ]
  },
  {
   "cell_type": "code",
   "execution_count": 15,
   "id": "bd637e1d-cacb-46a4-bb5d-b224801409c5",
   "metadata": {},
   "outputs": [],
   "source": [
    "from bs4 import BeautifulSoup\n",
    "tree = BeautifulSoup(html, 'html.parser')"
   ]
  },
  {
   "cell_type": "code",
   "execution_count": 16,
   "id": "fe7b430e-bd2a-4c0b-8468-efa769375a72",
   "metadata": {},
   "outputs": [
    {
     "data": {
      "text/plain": [
       "\n",
       "<!DOCTYPE html>\n",
       "\n",
       "<html xmlns=\"http://www.w3.org/1999/xhtml\">\n",
       "<head><meta charset=\"utf-8\"/><meta content=\"IE=edge\" http-equiv=\"X-UA-Compatible\"/><meta content=\"width=device-width, initial-scale=1\" name=\"viewport\"/><title>\n",
       "\tmerolagani - Nepal Stock Exchange (NEPSE) Live Market Summary, Top Gainers, Top Losers, Top Turnovers, Top Brokers\n",
       "</title><link href=\"/bundles/css/main200?v=XBmv3Nbj66DV6lzAxQCBgaIOrn903Diuut8lsSb3n9k1\" rel=\"stylesheet\"/>\n",
       "<link href=\"/bundles/css/site205?v=JDFYx0XBsjx2PJsB70xsp6n6BXVCmnegzsdX8OWN36Y1\" rel=\"stylesheet\"/>\n",
       "<link href=\"/Content/Services.css\" rel=\"stylesheet\"/>\n",
       "<link href=\"/Content/owl.carousel.min.css\" rel=\"stylesheet\"/>\n",
       "<link href=\"/Content/lightslider/css/lightslider.css\" rel=\"stylesheet\"/>\n",
       "<script src=\"/scripts/jquery/jquery-1.11.0.min.js\"></script>\n",
       "<script src=\"/scripts/jquery/jquery-ui.js\"></script>\n",
       "<script src=\"/Content/lightslider/js/lightslider.js\"></script>\n",
       "<!--[if lt IE 9]>\n",
       "      <script src=\"https://oss.maxcdn.com/html5shiv/3.7.2/html5shiv.min.js\"></script>\n",
       "      <script src=\"https://oss.maxcdn.com/respond/1.4.2/respond.min.js\"></script>\n",
       "    <![endif]-->\n",
       "<!--[if IE 7]>\n",
       "      <link rel=\"stylesheet\" href=\"path/to/font-awesome/css/font-awesome-ie7.min.css\" />\n",
       "    <![endif]-->\n",
       "<script id=\"_webengage_script_tag\" type=\"text/javascript\">\n",
       "\n",
       "        var webengage; !function (w, e, b, n, g) {\n",
       "            function o(e, t) {\n",
       "                e[t[t.length - 1]] = function () {\n",
       "                    r.__queue.push([t.join(\".\"),\n",
       "                        arguments])\n",
       "                }\n",
       "            } var i, s, r = w[b], z = \" \", l = \"init options track screen onReady\".split(z), a = \"feedback survey notification\".split(z), c = \"options render clear abort\".split(z), p = \"Open Close Submit Complete View Click\".split(z), u = \"identify login logout setAttribute\".split(z); if (!r || !r.__v) { for (w[b] = r = { __queue: [], __v: \"6.0\", user: {} }, i = 0; i < l.length; i++)o(r, [l[i]]); for (i = 0; i < a.length; i++) { for (r[a[i]] = {}, s = 0; s < c.length; s++)o(r[a[i]], [a[i], c[s]]); for (s = 0; s < p.length; s++)o(r[a[i]], [a[i], \"on\" + p[s]]) } for (i = 0; i < u.length; i++)o(r.user, [\"user\", u[i]]); setTimeout(function () { var f = e.createElement(\"script\"), d = e.getElementById(\"_webengage_script_tag\"); f.type = \"text/javascript\", f.async = !0, f.src = (\"https:\" == e.location.protocol ? \"https://ssl.widgets.webengage.com\" : \"http://cdn.widgets.webengage.com\") + \"/js/webengage-min-v-6.0.js\", d.parentNode.insertBefore(f, d) }) }\n",
       "        }(window, document, \"webengage\"); webengage.init(\"58add309\");\n",
       "    </script>\n",
       "<style type=\"text/css\">\n",
       "        @media (max-width: 768px) {\n",
       "            .gainers tr > td:nth-child(1), .gainers tr > td:nth-child(n + 5):nth-child(-n + 7), .gainers tr > td:nth-child(9),\n",
       "            .gainers tr > th:nth-child(1), .gainers tr > th:nth-child(n + 5):nth-child(-n + 7), .gainers tr > th:nth-child(9),\n",
       "            .turnover tr > td:nth-child(1), .turnover tr > td:nth-child(n + 4):nth-child(-n + 9),\n",
       "            .turnover tr > th:nth-child(1), .turnover tr > th:nth-child(n + 4):nth-child(-n + 9),\n",
       "            .sector tr > td:nth-child(1), .sector tr > td:nth-child(4),\n",
       "            .sector tr > th:nth-child(1), .sector tr > th:nth-child(4),\n",
       "            .broker tr > td:nth-child(1), .broker tr > td:nth-child(n + 3):nth-child(-n + 5),\n",
       "            .broker tr > th:nth-child(1), .broker tr > th:nth-child(n + 3):nth-child(-n + 5) {\n",
       "                display: none;\n",
       "            }\n",
       "        }\n",
       "    </style>\n",
       "</head>\n",
       "<body>\n",
       "<!-- Go to www.addthis.com/dashboard to customize your tools -->\n",
       "<script async=\"async\" src=\"//s7.addthis.com/js/300/addthis_widget.js#pubid=ra-545b25ce40103429\" type=\"text/javascript\"></script>\n",
       "<div class=\"popup-wrapper\">\n",
       "<div class=\"popup\">\n",
       "<div class=\"popup-body\">\n",
       "<div class=\"popup-image\">\n",
       "<img alt=\"merolagani logo\" class=\"float-left\" height=\"45\" src=\"Content/images/brand-logo.png\" width=\"100\"/>\n",
       "</div>\n",
       "<div class=\"popup-desc\">\n",
       "<span class=\"float-right\">We'd like to send you notifications for the latest news and updates.</span>\n",
       "</div>\n",
       "</div>\n",
       "<div class=\"popup-footer\">\n",
       "<button class=\"btn btn-sm btn-link\" onclick=\"AlertNotification.updateRequestExpiryDate();$('.popup').hide();\">No Thanks</button>\n",
       "<button class=\"btn btn-sm btn-primary allow-btn\" onclick=\"AlertNotification.requestNotification();$('.popup').hide();\">Allow</button>\n",
       "</div>\n",
       "</div>\n",
       "</div>\n",
       "<form action=\"./MarketSummary.aspx?type=sectors\" id=\"aspnetForm\" method=\"post\">\n",
       "<input id=\"__VIEWSTATE\" name=\"__VIEWSTATE\" type=\"hidden\" value=\"SAuFLUEOal0lSgmQnxDUqTewT59SFli1saEgEZ60oLs56JubBqus40bFtBTKJkKGUgBa+kr++aC5ZHWaZg+lqX+EJTQG5h8eZxv5SNDNF4Y=\"/>\n",
       "<script src=\"/ScriptResource.axd?d=NJmAwtEo3Ipnlaxl6CMhvipoe7GwaCubeHW4UfRJaQMYfe2vWimaAfUruL3Jtc4RZThytRvxUyO6d2j9jojy_JqJ8YoxAw6iCsm-JPqTwJfdJvJSxEeEFIbBEXpHYYtCgxTm4YOpj1K-gzjpPimOUKDDL-_Y3e26hQI4FR_aAxo1&amp;t=ffffffffecf19baa\" type=\"text/javascript\"></script>\n",
       "<input id=\"__VIEWSTATEGENERATOR\" name=\"__VIEWSTATEGENERATOR\" type=\"hidden\" value=\"BA9B5A0A\"/>\n",
       "<input id=\"__EVENTVALIDATION\" name=\"__EVENTVALIDATION\" type=\"hidden\" value=\"K/OWJjEy89u2bp8OiR/0aqBNQny1zuzNp0NnlKld1uqOtCT2UwcK/B3ZvD1sVasvhfjSARbHc6xRfE86O6CGnaIojRApltI28H2WcIBxaggyppmbsBihvGaPoOowo9cAkDMruiEfZ6CUIfscQZZaGSRzDgJxzESURYEu4iP398W7ZMquMGczmXCWZcDgMU2aScZ1t8UI8X0cdamPyXezz3x5ffYxL55pq0fXPBlfAPMZyCWJitAwabyYxauwoS1EgOrOFfCWZ1VQZ4j6a7fDQA+HBJWiS4vESoJ4eE9+BEQ=\"/>\n",
       "<div>\n",
       "<div class=\"visible-mobile-ad\">\n",
       "<div id=\"ctl00_AdvertisementS1_divAdvertisement\">\n",
       "<div class=\"\" id=\"ctl00_AdvertisementS1_divGeneral\">\n",
       "<div class=\"col-lg-12\">\n",
       "<div class=\"advert\">\n",
       "<a href=\"https://meroshare.cdsc.com.np/#/login\" onclick=\"addAdvHitCounter.UpdateAdvHitCounter('629',this)\" target=\"_blank\">\n",
       "<img class=\"img-responsive\" src=\"https://images.merolagani.com//content/bigyapan/22ea67ff-049e-4172-899e-7f439ac3fa44.gif\"/>\n",
       "</a>\n",
       "</div>\n",
       "</div>\n",
       "</div>\n",
       "</div>\n",
       "</div>\n",
       "<div class=\"topbar\">\n",
       "<div class=\"container\">\n",
       "<div class=\"row\">\n",
       "<div class=\"col-lg-13\">\n",
       "<p class=\"date-topbar pull-left hidden-sm hidden-xs\">Tue, Aug 22, 2023</p>\n",
       "<ul class=\"list-inline list-topbar pull-right\">\n",
       "<li><i class=\"icon-envelope\"></i>support@asteriskt.com</li>\n",
       "<li><i class=\"icon-phone\"></i>(+977) 01-5315101/5315184</li>\n",
       "<li><i class=\"icon-mobile-phone\"></i>9801000860</li>\n",
       "<li>\n",
       "<a class=\"btn btn-primary btn-xs act-btn\" href=\"javascript:__doPostBack('ctl00$btnEn','')\" id=\"ctl00_btnEn\" onclick=\"javascript: window.open('https://eng.merolagani.com');\" title=\"English Version\">\n",
       "<span class=\"glyphicon glyphicon-one-fine-white-dot\">ENGLISH</span></a>\n",
       "</li>\n",
       "<li id=\"ctl00_liFreeAccount\" style=\"display: none\">\n",
       "<a class=\"btn btn-primary btn-xs\" href=\"/FreeUserRegistration.aspx\">Create Free Account</a>\n",
       "</li>\n",
       "<li>\n",
       "<div class=\"btn-group\">\n",
       "<button class=\"btn btn-success btn-xs dropdown-toggle\" data-toggle=\"dropdown\" tabindex=\"-1\" type=\"button\">\n",
       "                                            Help <span class=\"icon-angle-down\"></span>\n",
       "</button>\n",
       "<ul class=\"dropdown-menu\" role=\"menu\">\n",
       "<!--<li>\n",
       "                                                <a href=\"/Uploads/Help.pdf\">PDF</a>\n",
       "                                            </li>-->\n",
       "<li>\n",
       "<a href=\"/VideoTutorials.aspx\">Video Tutorials</a>\n",
       "</li>\n",
       "</ul>\n",
       "</div>\n",
       "</li>\n",
       "<li class=\"mobile-d-none\">\n",
       "<a href=\"/AboutUs.aspx\">About Us</a>\n",
       "</li>\n",
       "<li class=\"mobile-d-none\">\n",
       "<a href=\"/ContactUs.aspx\">Contact Us</a>\n",
       "</li>\n",
       "<li class=\"mobile-d-none\">\n",
       "<a href=\"/BankAccounts.aspx\">Bank Accounts</a>\n",
       "</li>\n",
       "<li id=\"ctl00_liLogout\" style=\"display: none\">\n",
       "<a href=\"/Logout.aspx\" onclick=\"webEngageLogout();\">Log Out</a>\n",
       "</li>\n",
       "</ul>\n",
       "</div>\n",
       "</div>\n",
       "</div>\n",
       "</div>\n",
       "<div class=\"visible-desktop-ad\">\n",
       "<div class=\"slot-A9\">\n",
       "<div id=\"ctl00_AdvertisementA9_divAdvertisement\">\n",
       "<div class=\"\" id=\"ctl00_AdvertisementA9_divGeneral\">\n",
       "<div class=\"col-lg-12\">\n",
       "<div class=\"advert\">\n",
       "<a href=\"https://meroshare.cdsc.com.np/#/login\" onclick=\"addAdvHitCounter.UpdateAdvHitCounter('483',this)\" target=\"_blank\">\n",
       "<img class=\"img-responsive\" src=\"https://images.merolagani.com//content/bigyapan/be95e426-5d92-4217-912a-4769d567ced1.gif\"/>\n",
       "</a>\n",
       "</div>\n",
       "</div>\n",
       "</div>\n",
       "</div>\n",
       "</div>\n",
       "</div>\n",
       "<div class=\"logobar\">\n",
       "<div class=\"container\">\n",
       "<div class=\"row\">\n",
       "<div class=\"visible-mobile-ad\">\n",
       "</div>\n",
       "</div>\n",
       "<div class=\"row\">\n",
       "<div class=\"col-xs-6 col-md-4 col-sm-4\">\n",
       "<a href=\"/Index.aspx\">\n",
       "<img class=\"img-responsive\" src=\"/Content/images/merolagani.png\"/></a>\n",
       "</div>\n",
       "<div class=\"visible-desktop-ad ear-panel\" id=\"ctl00_divA1Ads\">\n",
       "<div id=\"ctl00_A1_divAdvertisement\">\n",
       "<div class=\"col-sm-8\" id=\"ctl00_A1_divA1\">\n",
       "<a href=\"https://www.panchakanya.com/\" onclick=\"addAdvHitCounter.UpdateAdvHitCounter('610',this)\" target=\"_blank\">\n",
       "<img class=\"img-responsive\" src=\"https://images.merolagani.com//content/bigyapan/c45c0015-e289-4875-a3f8-87cf69fd62cd.gif\"/>\n",
       "</a>\n",
       "</div>\n",
       "</div>\n",
       "</div>\n",
       "</div>\n",
       "</div>\n",
       "</div>\n",
       "<div class=\"visible-mobile-ad\">\n",
       "<div id=\"ctl00_AdvertisementS2_divAdvertisement\">\n",
       "<div class=\"\" id=\"ctl00_AdvertisementS2_divGeneral\">\n",
       "<div class=\"col-lg-12\">\n",
       "<div class=\"advert\">\n",
       "<a href=\"https://www.panchakanya.com/\" onclick=\"addAdvHitCounter.UpdateAdvHitCounter('611',this)\" target=\"_blank\">\n",
       "<img class=\"img-responsive\" src=\"https://images.merolagani.com//content/bigyapan/8337b76d-bab6-4e20-a36a-2649072c316b.gif\"/>\n",
       "</a>\n",
       "</div>\n",
       "</div>\n",
       "</div>\n",
       "</div>\n",
       "</div>\n",
       "<nav class=\"navbar navbar-inverse\" data-offset-top=\"197\" data-spy=\"affix\" id=\"navbars\">\n",
       "<div class=\"container\">\n",
       "<div class=\"navbar-header\">\n",
       "<button class=\"navbar-toggle collapsed\" data-target=\"#navbar\" data-toggle=\"collapse\" type=\"button\">\n",
       "<span class=\"sr-only\">Toggle navigation</span>\n",
       "<span class=\"icon-bar\"></span>\n",
       "<span class=\"icon-bar\"></span>\n",
       "<span class=\"icon-bar\"></span>\n",
       "</button>\n",
       "<div class=\"navbar-brand visible-xs\">\n",
       "<ul>\n",
       "<li>\n",
       "<div class=\"form-inline home-panel-search\">\n",
       "<autosuggest>\n",
       "<input id=\"ctl00_ASCompany_hdnAutoSuggest\" name=\"ctl00$ASCompany$hdnAutoSuggest\" type=\"hidden\" value=\"0\"/>\n",
       "<input autocomplete=\"off\" class=\"form-control form-control-inline\" data-bound=\"0\" id=\"ctl00_ASCompany_txtAutoSuggest\" maxlength=\"255\" name=\"ctl00$ASCompany$txtAutoSuggest\" onblur=\"\" onkeypress='AutoSuggest.getAutoSuggestDataByElement(\"Company\",this);' onkeyup=\"AutoSuggest.clearValue(event,this);\" placeholder=\"Company name or symbol\" tabindex=\"-1\" title=\"Type company name or stock symbol\" type=\"text\"/>\n",
       "<span class=\"pull-right verify-position\" id=\"username-verify\"></span>\n",
       "</autosuggest>\n",
       "<a class=\"btn btn-primary home-button-search\" data-trigger=\"company-detail\" href=\"javascript:__doPostBack('ctl00$lbtnSearchHeader','')\" id=\"ctl00_lbtnSearchHeader\" onclick=\"return false;\" tabindex=\"-1\" title=\"Search Company Detail\"><span class=\"icon-search\"></span></a>\n",
       "</div>\n",
       "</li>\n",
       "</ul>\n",
       "</div>\n",
       "</div>\n",
       "<div class=\"collapse navbar-collapse\" id=\"navbar\">\n",
       "<ul class=\"nav navbar-nav\">\n",
       "<li class=\"\">\n",
       "<a href=\"/Index.aspx\" style=\"display:flex;align-items:center;\">\n",
       "<span class=\"icon-home icon-2x\" style=\"line-height: 20px\"></span>\n",
       "<img class=\"img-responsive\" id=\"nav-app-icon\" src=\"/Content/images/merolagani.png\" style=\"object-fit:contain; height:30px;display:none;\"/>\n",
       "</a>\n",
       "</li>\n",
       "<li class=\"dropdown active\">\n",
       "<a class=\"dropdown-toggle\" data-toggle=\"dropdown\" href=\"#\" title=\"Market\">Market <b class=\"icon-angle-down\"></b></a>\n",
       "<ul class=\"dropdown-menu\">\n",
       "<li class=\"\">\n",
       "<a href=\"/LatestMarket.aspx\">Live Trading</a>\n",
       "</li>\n",
       "<li class=\"\">\n",
       "<a href=\"/StockQuote.aspx\">Todays Shareprice</a>\n",
       "</li>\n",
       "<li class=\"\">\n",
       "<a href=\"/Floorsheet.aspx\">Floorsheet</a>\n",
       "</li>\n",
       "<li class=\"\">\n",
       "<a href=\"/Indices.aspx\">Indices</a>\n",
       "</li>\n",
       "<li class=\"\">\n",
       "<a href=\"/MarketSummary.aspx\">Market Overview</a>\n",
       "</li>\n",
       "<li class=\"divider\"></li>\n",
       "<li class=\"dropdown-header\">Market Summary</li>\n",
       "<li class=\"\">\n",
       "<a href=\"/MarketSummary.aspx?type=gainers\">Top Gainers</a>\n",
       "</li>\n",
       "<li class=\"\">\n",
       "<a href=\"/MarketSummary.aspx?type=losers\">Top Losers</a>\n",
       "</li>\n",
       "<li class=\"\">\n",
       "<a href=\"/MarketSummary.aspx?type=turnovers\">Top Turnovers</a>\n",
       "</li>\n",
       "<li class=\"active\">\n",
       "<a href=\"/MarketSummary.aspx?type=sectors\">Top Sectors</a>\n",
       "</li>\n",
       "<li class=\"divider\"></li>\n",
       "<li class=\"\">\n",
       "<a href=\"/#StockEvents\" onclick=\"LayoutMaster_ClientID.TrackEvent_OnStockEvent();\">Stock Events</a>\n",
       "</li>\n",
       "<li class=\"\">\n",
       "<a href=\"/#divOpportunity\">Tender &amp; Auction</a>\n",
       "</li>\n",
       "</ul>\n",
       "</li>\n",
       "<li class=\"dropdown\">\n",
       "<a class=\"dropdown-toggle\" data-toggle=\"dropdown\" href=\"#\" title=\"Market\">News <b class=\"icon-angle-down\"></b></a>\n",
       "<ul class=\"dropdown-menu\">\n",
       "<li class=\"\">\n",
       "<a href=\"/NewsList.aspx\">News</a>\n",
       "</li>\n",
       "<li class=\"divider\"></li>\n",
       "<li class=\"dropdown-header\">News Category</li>\n",
       "<li class=\"\">\n",
       "<a href=\"/NewsList.aspx?id=13&amp;type=latest\">Insurance</a>\n",
       "</li>\n",
       "<li class=\"\">\n",
       "<a href=\"/NewsList.aspx?id=25&amp;type=latest\">Current Affairs</a>\n",
       "</li>\n",
       "<li class=\"\">\n",
       "<a href=\"/NewsList.aspx?id=23&amp;type=latestY\">IT/Auto</a>\n",
       "</li>\n",
       "<li class=\"\">\n",
       "<a href=\"/NewsList.aspx?id=15&amp;type=latest\">Technical Analysis</a>\n",
       "</li>\n",
       "<li class=\"\">\n",
       "<a href=\"/NewsList.aspx?id=10&amp;type=latest\">Opinion &amp; Analysis</a>\n",
       "</li>\n",
       "<li class=\"\">\n",
       "<a href=\"/NewsList.aspx?id=17&amp;type=latest\">Corporate</a>\n",
       "</li>\n",
       "<li class=\"\">\n",
       "<a href=\"/NewsList.aspx?id=12&amp;type=latest\">International</a>\n",
       "</li>\n",
       "</ul>\n",
       "</li>\n",
       "<li class=\"\">\n",
       "<a href=\"/AnnouncementList.aspx\">Announcements</a>\n",
       "</li>\n",
       "<li class=\"dropdown\">\n",
       "<a class=\"dropdown-toggle\" data-toggle=\"dropdown\" href=\"#\" title=\"Market\">Reports <b class=\"icon-angle-down\"></b></a>\n",
       "<ul class=\"dropdown-menu\">\n",
       "<li class=\"\">\n",
       "<a href=\"/CompanyReports.aspx?type=ANNUAL\">Annual Report</a>\n",
       "</li>\n",
       "<li class=\"\">\n",
       "<a href=\"/CompanyReports.aspx?type=QUARTERLY\">Quarterly Report</a>\n",
       "</li>\n",
       "<li class=\"\">\n",
       "<a href=\"/BrokerList.aspx\">Brokers</a>\n",
       "</li>\n",
       "</ul>\n",
       "</li>\n",
       "<li class=\"dropdown\">\n",
       "<a class=\"dropdown-toggle\" data-toggle=\"dropdown\" href=\"#\">Portfolio <b class=\"icon-angle-down\"></b></a>\n",
       "<ul class=\"dropdown-menu\">\n",
       "<li class=\"\">\n",
       "<a href=\"/MyPortfolio.aspx\">My Portfolio</a>\n",
       "</li>\n",
       "<li class=\"\">\n",
       "<a class=\"\" href=\"/Newsletter.aspx\">Newsletter <span class=\"badge-info\"><span class=\"glyphicon glyphicon-flag blink\" style=\"color: #edaa4e\"></span></span></a>\n",
       "</li>\n",
       "<li class=\"\">\n",
       "<a class=\"\" href=\"/TechnicalData.aspx\">Technical Data <span class=\"badge-info\"><span class=\"glyphicon glyphicon-flag blink\" style=\"color: #edaa4e\"></span></span></a>\n",
       "</li>\n",
       "<li class=\"\">\n",
       "<a class=\"\" href=\"/Podcast.aspx\">Podcast <span class=\"badge-info\"><span class=\"glyphicon glyphicon-flag blink\" style=\"color: #edaa4e\"></span></span></a>\n",
       "<li class=\"\">\n",
       "<a class=\"\" href=\"/StockTrainingPodcast.aspx\">Online Stock Training <span class=\"badge-info\"><span class=\"glyphicon glyphicon-flag blink\" style=\"color: #edaa4e\"></span></span></a>\n",
       "</li>\n",
       "</li></ul>\n",
       "</li>\n",
       "<li class=\"dropdown\">\n",
       "<a class=\"dropdown-toggle\" data-toggle=\"dropdown\" href=\"#\">IPO <b class=\"icon-angle-down\"></b></a>\n",
       "<ul class=\"dropdown-menu\">\n",
       "<li class=\"\">\n",
       "<a href=\"/IpoResult.aspx\">IPO Results</a>\n",
       "</li>\n",
       "<li class=\"\">\n",
       "<a href=\"/Ipo.aspx?type=upcoming\">Upcoming IPO</a>\n",
       "</li>\n",
       "<li class=\"\">\n",
       "<a href=\"/Ipo.aspx?type=past\">Past IPO</a>\n",
       "</li>\n",
       "</ul>\n",
       "</li>\n",
       "<li class=\"\">\n",
       "<a href=\"/Services.aspx\">Services</a>\n",
       "</li>\n",
       "<li class=\"\">\n",
       "<a href=\"/Dashboard.aspx\">Dashboard <span class=\"blink label label-warning\">New</span> </a>\n",
       "</li>\n",
       "</ul>\n",
       "<ul class=\"nav navbar-nav navbar-right\">\n",
       "<!-- Service purchased and pending cart start -->\n",
       "<li class=\"\">\n",
       "<a href=\"/ServicePurchased.aspx\">\n",
       "<span class=\"glyphicon glyphicon-shopping-cart\"></span>\n",
       "</a>\n",
       "</li>\n",
       "<!-- Service purchased and pending cart start -->\n",
       "<li class=\"dropdown search-form\" style=\"display: none;\">\n",
       "<a class=\"dropdown-toggle\" data-toggle=\"dropdown\" href=\"javascript:void(0);\">\n",
       "<span>Search...</span> <i class=\"icon-search\"></i>\n",
       "<span class=\"hidden-sm\"></span>\n",
       "</a>\n",
       "<ul class=\"dropdown-menu\">\n",
       "<li>\n",
       "<input class=\"form-control form-control-inline\" data-news=\"company-detail\" id=\"ctl00_txtNews\" maxlength=\"255\" name=\"ctl00$txtNews\" placeholder=\"News keyword\" style=\"width: 280px\" tabindex=\"-1\" title=\"Enter search keywords\" type=\"text\"/>\n",
       "<br/>\n",
       "<a class=\"btn btn-primary\" href=\"javascript:__doPostBack('ctl00$aa','')\" id=\"ctl00_aa\" onclick=\"return LayoutMaster_ClientID.trackEvent_OnNavSearch();\" style=\"margin-top: 6px\" tabindex=\"-1\" title=\"Search\"><span class=\"icon-search\"></span> Search</a>\n",
       "</li>\n",
       "</ul>\n",
       "</li>\n",
       "<li>\n",
       "<div class=\"form-inline home-panel-search\" id=\"ctl00_Panel1\">\n",
       "<autosuggest>\n",
       "<input id=\"ctl00_AutoSuggest1_hdnAutoSuggest\" name=\"ctl00$AutoSuggest1$hdnAutoSuggest\" type=\"hidden\" value=\"0\"/>\n",
       "<input autocomplete=\"off\" class=\"form-control form-control-inline\" data-bound=\"0\" id=\"ctl00_AutoSuggest1_txtAutoSuggest\" maxlength=\"255\" name=\"ctl00$AutoSuggest1$txtAutoSuggest\" onblur=\"\" onkeypress='AutoSuggest.getAutoSuggestDataByElement(\"Company\",this);' onkeyup=\"AutoSuggest.clearValue(event,this);\" placeholder=\"Company name or symbol\" tabindex=\"-1\" title=\"Type company name or stock symbol\" type=\"text\"/>\n",
       "<span class=\"pull-right verify-position\" id=\"username-verify\"></span>\n",
       "</autosuggest>\n",
       "<a class=\"btn btn-primary home-button-search\" data-trigger=\"company-detail\" href=\"javascript:__doPostBack('ctl00$lbtnSearch','')\" id=\"ctl00_lbtnSearch\" onclick=\"return LayoutMaster_ClientID.trackEvent_OnNavSearch();\" tabindex=\"-1\" title=\"Search\"><span class=\"icon-search\"></span></a>\n",
       "</div>\n",
       "</li>\n",
       "<li id=\"ctl00_liLogin\" style=\"display: none\">\n",
       "<a href=\"/Login.aspx\">\n",
       "<span class=\"icon-user\"></span>\n",
       "<span class=\"hidden-sm\">Log In</span>\n",
       "</a>\n",
       "</li>\n",
       "<li class=\"dropdown\" id=\"ctl00_liUser\" style=\"display: none\">\n",
       "<a class=\"dropdown-toggle\" data-toggle=\"dropdown\" href=\"javascript:void(0);\">\n",
       "<span class=\"icon-user\"></span>\n",
       "<label class=\"hidden-md\" id=\"ctl00_lblUsername\"></label>\n",
       "                                     <i class=\"icon-angle-down\"></i>\n",
       "</a>\n",
       "<ul class=\"dropdown-menu\">\n",
       "<li>\n",
       "<a href=\"/EditAccount.aspx?type=ea\">Edit Account</a>\n",
       "</li>\n",
       "<li>\n",
       "<a href=\"/EditAccount.aspx?type=pw\">Change Password</a>\n",
       "</li>\n",
       "<li>\n",
       "<a href=\"/EditAccount.aspx?type=vm\">Verify Mobile</a>\n",
       "</li>\n",
       "<li>\n",
       "<a href=\"/EditAccount.aspx?type=pi\">Change Pin Code</a>\n",
       "</li>\n",
       "<li class=\"divider\"></li>\n",
       "<li><a href=\"/Logout.aspx\" onclick=\"webEngageLogout();\">Log Out</a></li>\n",
       "</ul>\n",
       "</li>\n",
       "</ul>\n",
       "</div>\n",
       "</div>\n",
       "</nav>\n",
       "</div>\n",
       "<div class=\"container\">\n",
       "<div class=\"page-alert\" id=\"page-alert\"></div>\n",
       "<div id=\"processing\"></div>\n",
       "<div class=\"row\">\n",
       "<div class=\"col-lg-12\">\n",
       "<div class=\"table-responsive\">\n",
       "<div class=\"row\">\n",
       "<div class=\"col-lg-12\">\n",
       "<h4 class=\"page-header\">\n",
       "<span id=\"ctl00_ContentPlaceHolder1_pageHeader\">Top Sectors</span>\n",
       "</h4>\n",
       "</div>\n",
       "</div>\n",
       "<table class=\"table table-striped table-hover table-index\" data-live=\"sectors\" data-live-label=\"#dateLabel\" data-live-range=\"0\" data-live-summary=\"false\" id=\"ctl00_ContentPlaceHolder1_tblSummary\">\n",
       "</table>\n",
       "</div>\n",
       "</div>\n",
       "</div>\n",
       "<input id=\"isAdjusted\" type=\"hidden\" value=\"1\"/>\n",
       "</div>\n",
       "<div class=\"footer\">\n",
       "<div class=\"container\">\n",
       "<div class=\"row\">\n",
       "<div class=\"col-sm-4 col-md-3\">\n",
       "<ul class=\"nav-stacked\">\n",
       "<li><a href=\"/Index.aspx\" tabindex=\"-1\">Home</a></li>\n",
       "<li><a href=\"/LatestMarket.aspx\" tabindex=\"-1\">Latest Market</a></li>\n",
       "<li><a href=\"/StockQuote.aspx\" tabindex=\"-1\">Daily Stock Quotes</a></li>\n",
       "<li><a href=\"/Floorsheet.aspx\" tabindex=\"-1\">Floorsheet</a></li>\n",
       "<li><a href=\"/Indices.aspx\" tabindex=\"-1\">Indices</a></li>\n",
       "<li><a href=\"/MarketSummary.aspx?type=brokers\" tabindex=\"-1\">Top Brokers</a></li>\n",
       "<li><a href=\"/MarketSummary.aspx?type=gainers\" tabindex=\"-1\">Top Gainers</a></li>\n",
       "<li><a href=\"/MarketSummary.aspx?type=losers\" tabindex=\"-1\">Top Losers</a></li>\n",
       "</ul>\n",
       "</div>\n",
       "<div class=\"col-sm-4 col-md-3\">\n",
       "<ul class=\"nav-stacked\">\n",
       "<li><a href=\"/NewsList.aspx?popular=false\" tabindex=\"-1\">Latest News</a></li>\n",
       "<li><a href=\"/NewsList.aspx?popular=true\" tabindex=\"-1\">Popular News</a></li>\n",
       "<li><a href=\"/AnnouncementList.aspx\" tabindex=\"-1\">Announcements</a></li>\n",
       "<li><a href=\"/CompanyReports.aspx?type=ANNUAL\" tabindex=\"-1\">Annual Reports</a></li>\n",
       "<li><a href=\"/CompanyReports.aspx?type=QUARTERLY\" tabindex=\"-1\">Quarterly Reports</a></li>\n",
       "<li><a href=\"/CompanyList.aspx\" tabindex=\"-1\">Companies</a></li>\n",
       "<li><a href=\"/BrokerList.aspx\" tabindex=\"-1\">Brokers</a></li>\n",
       "</ul>\n",
       "</div>\n",
       "<div class=\"col-sm-4 col-md-3\">\n",
       "<ul class=\"nav-stacked\">\n",
       "<li><a href=\"/ContactUs.aspx\" tabindex=\"-1\">Contact Us</a></li>\n",
       "<!--<li><a tabindex=\"-1\" href=\"/Uploads/Help.pdf\" target=\"_blank\">Help Docs</a></li>-->\n",
       "<li><a href=\"/VideoTutorials.aspx\" tabindex=\"-1\" target=\"_blank\">Video Tutorials</a></li>\n",
       "<li><a href=\"/BankAccounts.aspx\" tabindex=\"-1\">Bank Accounts</a></li>\n",
       "<li><a href=\"/AboutUs.aspx\" tabindex=\"-1\">About Us</a></li>\n",
       "</ul>\n",
       "</div>\n",
       "<div class=\"col-sm-12 col-md-3\">\n",
       "<hr class=\"visible-xs-block visible-sm-block\"/>\n",
       "<address>\n",
       "<strong>MERO LAGANI</strong>\n",
       "<br/>\n",
       "                            4th Floor, Orchid Hotel Building\n",
       "                            <br/>\n",
       "                            Tripureshwor, Kathmandu, Nepal\n",
       "                            <br/>\n",
       "<strong>Tel:</strong>\n",
       "                            (+977) 01-5315101/5315184\n",
       "                            <br/>\n",
       "<strong style=\"font-family: 'Times New Roman'; font-size : 16px;\">For Customer Support</strong>\n",
       "<br/>\n",
       "<strong>Mobile:</strong>\n",
       "                            9801000860\n",
       "                            <br/>\n",
       "<strong>E-mail:</strong>\n",
       "                            support@asteriskt.com                            \n",
       "                            <br/>\n",
       "<strong>For advertisement:</strong><br/>\n",
       "<em>Brajesh Subedi</em><br/>\n",
       "<i>Marketing Manager</i><br/>\n",
       "<em>9851004547</em>\n",
       "<em>merolaganimarketing@gmail.com</em>\n",
       "<br/>\n",
       "</address>\n",
       "<ul class=\"list-inline list-social-icons\">\n",
       "<li>\n",
       "<a href=\"https://www.facebook.com/Merolagani\" target=\"_blank\"><i class=\"icon-facebook-sign icon-3x\"></i></a>\n",
       "</li>\n",
       "<li>\n",
       "<a href=\"https://twitter.com/ComMerolagani\" target=\"_blank\"><i class=\"icon-twitter-sign icon-3x\"></i></a>\n",
       "</li>\n",
       "<li>\n",
       "<a href=\"https://www.youtube.com/channel/UCygzOsiHWgvOq5vNahSTehg\" target=\"_blank\"><i class=\"icon-youtube-sign icon-3x\"></i></a>\n",
       "</li>\n",
       "</ul>\n",
       "</div>\n",
       "</div>\n",
       "<div class=\"row payment-method\">\n",
       "<div class=\"col-sm-12 col-md-5\">\n",
       "<strong>PAYMENT PARTNERS</strong>\n",
       "<br/>\n",
       "<ul class=\"list-inline list-payment-partners\">\n",
       "<li>\n",
       "<a href=\"/Services.aspx\" target=\"_blank\">\n",
       "<img src=\"https://images.merolagani.com/Content/images/payment-partners/Ncell-new.png\" style=\"width:100%\" title=\"NCELL\"/>\n",
       "</a>\n",
       "</li>\n",
       "<li>\n",
       "<a href=\"/Services.aspx\" target=\"_blank\">\n",
       "<img src=\"https://images.merolagani.com/Content/images/payment-partners/esewa-new.png\" style=\"width:100%\" title=\"ESEWA\"/>\n",
       "</a>\n",
       "</li>\n",
       "<li>\n",
       "<a href=\"/Services.aspx\" target=\"_blank\">\n",
       "<img src=\"https://images.merolagani.com/Content/images/payment-partners/ConnectIPS-new.png\" style=\"width:100%\" title=\"CONNECTIPS\"/>\n",
       "</a>\n",
       "</li>\n",
       "<li>\n",
       "<a href=\"/Services.aspx\" target=\"_blank\">\n",
       "<img src=\"https://images.merolagani.com/Content/images/payment-partners/khalti-final.png\" style=\"width:100%\" title=\"KHALTI\"/>\n",
       "</a>\n",
       "</li>\n",
       "<li>\n",
       "<a href=\"/Services.aspx\" target=\"_blank\">\n",
       "<img src=\"https://images.merolagani.com/Content/images/payment-partners/IMEPAY-new.png\" style=\"width:100%\" title=\"IME PAY\"/>\n",
       "</a>\n",
       "</li>\n",
       "</ul>\n",
       "</div>\n",
       "<div class=\"col-sm-12 col-md-4\">\n",
       "<strong>WE ACCEPT</strong>\n",
       "<br/>\n",
       "<ul class=\"list-inline list-payment-partners list-payment-partners-accept\">\n",
       "<li>\n",
       "<a href=\"/Services.aspx\" target=\"_blank\">\n",
       "<img src=\"https://images.merolagani.com/Content/images/payment-partners/nabil-bank.png\" style=\"width:100%\"/>\n",
       "</a>\n",
       "</li>\n",
       "<li>\n",
       "<a href=\"/Services.aspx\" target=\"_blank\">\n",
       "<img src=\"https://images.merolagani.com/Content/images/payment-partners/verified.png\" style=\"width:100%\"/>\n",
       "</a>\n",
       "</li>\n",
       "</ul>\n",
       "</div>\n",
       "<div class=\"col-sm-12 col-md-3 freeAccount\">\n",
       "<div class=\"\" id=\"ctl00_divFreeAccount\">\n",
       "<a class=\"btn btn-default btn-lg\" href=\"/FreeUserRegistration.aspx\">Create Free Account</a>\n",
       "</div>\n",
       "</div>\n",
       "</div>\n",
       "<br>\n",
       "<div class=\"row\">\n",
       "<div class=\"col-lg-12 col-md-12 col-sm-12 col-xs-12\">\n",
       "<center><strong>सुचना तथा प्रसारण विभाग द.न. ४४०/०७३/०७४     *     प्रकाशक - एस्ट्रिक टेक्नोलोजी प्रा.लि.    *    इमेल:  editor@merolagani.com</strong></center>\n",
       "</div>\n",
       "<br>\n",
       "<br/>\n",
       "</br></div>\n",
       "<a class=\"scrollToTop\" href=\"javascript:void(0);\" title=\"click here for top\"><i class=\"icon-chevron-up\"></i></a>\n",
       "</br></div>\n",
       "<div class=\"copyright\">\n",
       "<div class=\"container\">\n",
       "<div class=\"row\">\n",
       "<div class=\"credential_footer\">\n",
       "<div class=\"col-sm-5 col-xs-12\">\n",
       "                                © 2023 - MERO LAGANI. All Rights Reserved  \n",
       "                            | Developed by <a href=\"#\">Asterisk Technology </a>\n",
       "</div>\n",
       "<div class=\"col-sm-4 col-xs-12 text-left\">\n",
       "<ul class=\"list-inline\">\n",
       "<li>Supported By:<a href=\"https://waterflow.technology/\" target=\"_blank\">\n",
       "<img height=\"35px\" src=\"Content/images/waterflowlogo.jpg\" width=\"80px\"/>\n",
       "</a>\n",
       "</li>\n",
       "</ul>\n",
       "</div>\n",
       "<div class=\"col-sm-3 col-xs-12 text-right\">\n",
       "<ul class=\"list-inline\">\n",
       "<li><a href=\"/Disclaimer.aspx\">Disclaimer, Privacy &amp; Terms of Use</a></li>\n",
       "</ul>\n",
       "</div>\n",
       "</div>\n",
       "</div>\n",
       "</div>\n",
       "</div>\n",
       "</div>\n",
       "<script type=\"text/javascript\">\n",
       "//<![CDATA[\n",
       "$(document).ready(function(){});$(document).ready(function(){AutoSuggest.getAutoSuggestDataById('Company','ctl00_ASCompany_txtAutoSuggest');});$(document).ready(function(){AutoSuggest.getAutoSuggestDataById('Company','ctl00_AutoSuggest1_txtAutoSuggest');});//]]>\n",
       "</script>\n",
       "</form>\n",
       "<script src=\"/bundles/js/main202?v=TstbAbE5lEnLUwtZ_Fui-D2CksP6A5aVpUO5oiBRGEA1\"></script>\n",
       "<script src=\"/bundles/js/site205?v=C8FVwthJVSCNvtYjwZ-56JlXUfKqomLOvsguszpWfrY1\"></script>\n",
       "<script src=\"/Scripts/jquery.cookie.min.js\"></script>\n",
       "<script src=\"/Scripts/advertisementHitCounter.js\"></script>\n",
       "<script src=\"/Scripts/jquicker-1.5.js\"></script>\n",
       "<script type=\"text/javascript\">\n",
       "        var uid = \"\";\n",
       "        var LayoutMaster_ClientID = {\n",
       "\n",
       "            liUser: \"ctl00_liUser\",\n",
       "            liLogin: \"ctl00_liLogin\",\n",
       "            liStartTour: \"ctl00_liStartTour\",\n",
       "            liFreeAccount: \"ctl00_liFreeAccount\",\n",
       "            divFreeAccount: \"ctl00_divFreeAccount\",\n",
       "            liLogout: \"ctl00_liLogout\",\n",
       "            lblUsername: \"ctl00_lblUsername\",\n",
       "            trackEvent_OnNavSearch: function () {\n",
       "                var newsletter = $(\"#ctl00_txtNews\").val();\n",
       "                if (newsletter.length > 0) {\n",
       "                    webengage.track(\"News Keyword Search\",\n",
       "                    {\n",
       "                        \"NewsKeywords\": newsletter\n",
       "                    });\n",
       "                }\n",
       "                else {\n",
       "                    webengage.track(\"Company Search\",\n",
       "                    {\n",
       "                         \"CompanyNameOrSymbol\": $(\"#ctl00_AutoSuggest1_txtAutoSuggest\").val().toString()\n",
       "                    });\n",
       "                }\n",
       "               \n",
       "                return false;\n",
       "            },\n",
       "            TrackEvent_OnStockEvent: function () {\n",
       "                webengage.track(\"StockEvents_Viewed\",\n",
       "                {\n",
       "                    \"EventDate\": (new Date()).toString()\n",
       "                });\n",
       "            }\n",
       "        };\n",
       "\n",
       "        AutoSuggest.getAutoSuggestDataById(\"Company\", \"ctl00_ASCompany_txtAutoSuggest\");\n",
       "        AutoSuggest.getAutoSuggestDataById(\"Company\", \"ctl00_AutoSuggest1_txtAutoSuggest\");\n",
       "\n",
       "        $(function () {\n",
       "            $('.navbar-toggle').on('click',\n",
       "                function () {\n",
       "                    if ($('#navbar').hasClass(\"navbar-collapse collapse in\")) {\n",
       "                        $('.affix').css({ \"height\": \"auto\" });\n",
       "                    } else {\n",
       "                        $('.affix').css({ \"height\": \"100%\", \"overflow\": \"scroll\" });\n",
       "                    }\n",
       "                });\n",
       "        });\n",
       "\t\t\n",
       "\t\t    addEventListener(\"scroll\", (event) => {\n",
       "            if ($(\"#navbars\").hasClass(\"affix\")) {\n",
       "                $(\".icon-home\").css(\"display\", \"none\");\n",
       "                $('#nav-app-icon').css(\"display\", \"block\")\n",
       "            }\n",
       "            else if ($(\"#navbars\").hasClass(\"affix-top\")) {\n",
       "                $(\".icon-home\").css(\"display\", \"block\");\n",
       "                $('#nav-app-icon').css(\"display\", \"none\")\n",
       "            }\n",
       "        });\n",
       "\n",
       "    </script>\n",
       "<script src=\"/scripts/jquery.signalR-1.1.4.min.js\"></script>\n",
       "<script src=\"/signalr/hubs\"></script>\n",
       "<script src=\"/Scripts/charting_library-master-new/datafeeds/udf/NepseChart.js\"></script>\n",
       "<script src=\"/bundles/js/signalr204?v=BbMG3gc45MZuS9XMh-41CqRqNP8C3Xdm2gQ2hxvhY5Y1\"></script>\n",
       "<script src=\"/bundles/js/tradingView205?v=pw4lCMyMWPKykNHpok-4Nl0arv4y1-fUgGqJ_tJFloU1\"></script>\n",
       "<script src=\"/bundles/js/growthChart200?v=ZaB5UQ5E50s-CcFM16x8peZRa5PCyibgS9JkppjMJZU1\"></script>\n",
       "<script type=\"text/javascript\">\n",
       "        function getParameterByName(name) {\n",
       "            name = name.replace(/[\\[]/, \"\\\\[\").replace(/[\\]]/, \"\\\\]\");\n",
       "            var regex = new RegExp(\"[\\\\?&]\" + name + \"=([^&#]*)\"),\n",
       "                results = regex.exec(location.search);\n",
       "            return results === null ? \"\" : decodeURIComponent(results[1].replace(/\\+/g, \" \"));\n",
       "        }\n",
       "\n",
       "        window.addEventListener('DOMContentLoaded', initOnReady, false);\n",
       "\n",
       "        function initOnReady() {\n",
       "            nepseChart.load();\n",
       "        };\n",
       "\n",
       "        var nameAttr = (window.location.href).split('=')[1];\n",
       "        webengage.track(\"MarketSummary_Viewed\",\n",
       "        {\n",
       "            \"Date\": (new Date()).toString(),\n",
       "            \"Name\": nameAttr.toString()\n",
       "        });\n",
       "\n",
       "    </script>\n",
       "<div id=\"ctl00_divAnalytics\">\n",
       "<!-- Google tag (gtag.js) -->\n",
       "<script async=\"\" src=\"https://www.googletagmanager.com/gtag/js?id=G-L4NG7Z97D2\"></script>\n",
       "<script>\n",
       "  window.dataLayer = window.dataLayer || [];\n",
       "  function gtag(){dataLayer.push(arguments);}\n",
       "  gtag('js', new Date());\n",
       "\n",
       "  gtag('config', 'G-L4NG7Z97D2');\n",
       "</script>\n",
       "<script type=\"text/javascript\">\n",
       "            var ChatUserEmail = \"\", ChatMobileNumber = \"\", ChatUserName = \"\";\n",
       "\n",
       "            // <!-- (function (i, s, o, g, r, a, m) {\n",
       "            //    i['GoogleAnalyticsObject'] = r; i[r] = i[r] || function () {\n",
       "            //        (i[r].q = i[r].q || []).push(arguments)\n",
       "            //    }, i[r].l = 1 * new Date(); a = s.createElement(o),\n",
       "            //        m = s.getElementsByTagName(o)[0]; a.async = 1; a.src = g; m.parentNode.insertBefore(a, m)\n",
       "            //})(window, document, 'script', '//www.google-analytics.com/analytics.js', 'ga');\n",
       "\n",
       "            //ga('create', 'UA-4719539-2', 'auto');\n",
       "            //ga('send', 'pageview'); -->\n",
       "\n",
       "            $.ajax({\n",
       "                url: window.location.origin + \"/handlers/webrequesthandler.ashx?type=Current_User_Info\",\n",
       "                type: \"GET\",\n",
       "                dataType: \"json\",\n",
       "                success: function (data) {\n",
       "\t\t\t\t  console.log(\"success...\");\n",
       "                    if (data != null) {\n",
       "\t\t\t\t\t\t  console.log(\"here in...\");\n",
       "                        if (data.IsAuthenticated) { \n",
       "\t\t\t\t\t\t\tconsole.log(\"true...\");\t\t\t\t\t\t\n",
       "                            $(\"#\" + LayoutMaster_ClientID.liUser).show();\n",
       "                            $(\"#\" + LayoutMaster_ClientID.liLogin).hide();\n",
       "                            $(\"#\" + LayoutMaster_ClientID.liStartTour).show();\n",
       "                            $(\"#\" + LayoutMaster_ClientID.liFreeAccount).hide();\n",
       "                            $(\"#\" + LayoutMaster_ClientID.divFreeAccount).hide();\n",
       "                            $(\"#\" + LayoutMaster_ClientID.liLogout).show();\n",
       "\n",
       "                            var userEmail = data.UserEmail;\n",
       "                            var mobileNumber = data.MobileNumber;\n",
       "\n",
       "                            if (userEmail.indexOf(\"@\") >= 0) {\n",
       "                                userEmail = (userEmail == \"\")\n",
       "                                    ? mobileNumber\n",
       "                                    : userEmail.substring(0, userEmail.indexOf(\"@\"));\n",
       "                            }\n",
       "                            else {\n",
       "                                userEmail = mobileNumber;\n",
       "                            }\n",
       "                            $(\"#\" + LayoutMaster_ClientID.lblUsername).val(userEmail);\n",
       "                            $(\"#\" + LayoutMaster_ClientID.lblUsername).text(userEmail);\n",
       "\n",
       "                            ChatUserEmail = (data.UserEmail == \"\") ? mobileNumber : data.UserEmail;\n",
       "                            ChatMobileNumber = (mobileNumber == \"\") ? userEmail : mobileNumber;\n",
       "                            ChatUserName = userEmail == \"\" ? ChatMobileNumber : userEmail;\n",
       "\n",
       "                           $.getScript(\"https://msg.dmnepal.online/userIsLoggedIn?partyId=50446b4c-4447-4b74-8709-23242d05272f&userName=\" + ChatUserName + \"&userEmail=\" + ChatUserEmail + \"&phone=\" + ChatMobileNumber);\n",
       "\n",
       "                        }\n",
       "                        else {\n",
       "\t\t\t\t\t\t\t console.log(\"false...\");\n",
       "                            $(\"#\" + LayoutMaster_ClientID.liUser).hide();\n",
       "                            $(\"#\" + LayoutMaster_ClientID.liLogin).show();\n",
       "                            $(\"#\" + LayoutMaster_ClientID.liStartTour).hide();\n",
       "                            $(\"#\" + LayoutMaster_ClientID.liFreeAccount).show();\n",
       "                            $(\"#\" + LayoutMaster_ClientID.liLogout).hide();\n",
       "\n",
       "                            $.getScript(\"https://msg.dmnepal.online/3rd/foo/platform.js?partyId=50446b4c-4447-4b74-8709-23242d05272f\");\n",
       "                        }\n",
       "                    }\n",
       "                    else {\n",
       "\t\t\t\t\t console.log(\"here out ...\");\n",
       "                        $(\"#\" + LayoutMaster_ClientID.liUser).hide();\n",
       "                        $(\"#\" + LayoutMaster_ClientID.liLogin).show();\n",
       "                        $(\"#\" + LayoutMaster_ClientID.liStartTour).hide();\n",
       "                        $(\"#\" + LayoutMaster_ClientID.liFreeAccount).show();\n",
       "                        $(\"#\" + LayoutMaster_ClientID.liLogout).hide();\n",
       "                        $.getScript(\"https://msg.dmnepal.online/3rd/foo/platform.js?partyId=50446b4c-4447-4b74-8709-23242d05272f\");\n",
       "                    }\n",
       "                },\n",
       "                error: function (xhr, s, e) {\n",
       "\t\t\t\t console.log(\"error ...\");\n",
       "                    $(\"#\" + LayoutMaster_ClientID.liUser).hide();\n",
       "                    $(\"#\" + LayoutMaster_ClientID.liLogin).show();\n",
       "                    $(\"#\" + LayoutMaster_ClientID.liStartTour).hide();\n",
       "                    $(\"#\" + LayoutMaster_ClientID.liFreeAccount).show();\n",
       "                    $(\"#\" + LayoutMaster_ClientID.liLogout).hide();\n",
       "                    $.getScript(\"https://msg.dmnepal.online/3rd/foo/platform.js?partyId=50446b4c-4447-4b74-8709-23242d05272f\");\n",
       "\n",
       "                 }\n",
       "             });\n",
       "\n",
       "            function webEngageLogout() {\n",
       "                webengage.user.logout();\n",
       "            }\n",
       "        </script>\n",
       "</div>\n",
       "</body>\n",
       "</html>\n",
       "<style>\n",
       "    .act-btn {\n",
       "        font-weight: 600;\n",
       "        background-color: #e80811;\n",
       "        text-align: center;\n",
       "        vertical-align: middle;\n",
       "        border-color: #e80811;\n",
       "        font-size: 12px;\n",
       "    }\n",
       "\n",
       "        .act-btn:hover {\n",
       "            background: #e80811;\n",
       "            border-color: #e80811;\n",
       "        }\n",
       "\t\t\n",
       "\t .list-inline.list-payment-partners li {\n",
       "        width: 20%;\n",
       "        margin-bottom: 5px;\n",
       "    }\n",
       "\n",
       "    .list-inline.list-payment-partners {\n",
       "        display: flex;\n",
       "        flex-wrap: wrap;\n",
       "    }\n",
       "\n",
       "        .list-inline.list-payment-partners.list-payment-partners-accept li {\n",
       "            width: 28%;\n",
       "        }\n",
       "\n",
       "    .freeAccount {\n",
       "        margin-top: 30px;\n",
       "    }\n",
       "\n",
       "        .freeAccount .btn.btn-default.btn-lg {\n",
       "            padding: 5.5px 5px;\n",
       "        }\n",
       "</style>"
      ]
     },
     "execution_count": 16,
     "metadata": {},
     "output_type": "execute_result"
    }
   ],
   "source": [
    "tree"
   ]
  },
  {
   "cell_type": "code",
   "execution_count": 19,
   "id": "d0a6c5d3-946f-4bb6-b394-1d14c42a08b7",
   "metadata": {},
   "outputs": [],
   "source": [
    "tbody = tree.find('tbody')\n",
    "tr = tbody"
   ]
  },
  {
   "cell_type": "code",
   "execution_count": 1,
   "id": "7ecf2453-eb56-46cf-a7a8-90708507440b",
   "metadata": {},
   "outputs": [
    {
     "ename": "NameError",
     "evalue": "name 'tbody' is not defined",
     "output_type": "error",
     "traceback": [
      "\u001b[1;31m---------------------------------------------------------------------------\u001b[0m",
      "\u001b[1;31mNameError\u001b[0m                                 Traceback (most recent call last)",
      "Cell \u001b[1;32mIn[1], line 1\u001b[0m\n\u001b[1;32m----> 1\u001b[0m table_rows \u001b[38;5;241m=\u001b[39m \u001b[43mtbody\u001b[49m\u001b[38;5;241m.\u001b[39mfind_all(\u001b[38;5;124m'\u001b[39m\u001b[38;5;124mtr\u001b[39m\u001b[38;5;124m'\u001b[39m)\n",
      "\u001b[1;31mNameError\u001b[0m: name 'tbody' is not defined"
     ]
    }
   ],
   "source": [
    "table_rows = tbody.find_all('tr')"
   ]
  },
  {
   "cell_type": "code",
   "execution_count": null,
   "id": "0ea27e60-978f-4e23-a001-b9d4ad273e27",
   "metadata": {},
   "outputs": [],
   "source": []
  }
 ],
 "metadata": {
  "kernelspec": {
   "display_name": "Python 3 (ipykernel)",
   "language": "python",
   "name": "python3"
  },
  "language_info": {
   "codemirror_mode": {
    "name": "ipython",
    "version": 3
   },
   "file_extension": ".py",
   "mimetype": "text/x-python",
   "name": "python",
   "nbconvert_exporter": "python",
   "pygments_lexer": "ipython3",
   "version": "3.10.11"
  }
 },
 "nbformat": 4,
 "nbformat_minor": 5
}
