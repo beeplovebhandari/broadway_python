{
 "cells": [
  {
   "cell_type": "markdown",
   "id": "28a52ccd-e09e-4961-a69d-37bc149a4a82",
   "metadata": {},
   "source": [
    "# SQL\n",
    "* Structured Query Language (SQL) is a standardized programming language that is used to manage relational databases and perform various operations on the data in them.\n",
    " <img src = \"https://raw.githubusercontent.com/gulvaibhav20/assets/master/Scaler/Relational_Model/Table.jpg\">"
   ]
  },
  {
   "cell_type": "markdown",
   "id": "d1c866c5-7ba8-42e5-b332-5aec44786cb3",
   "metadata": {},
   "source": [
    "# Creating and connecting to a database"
   ]
  },
  {
   "cell_type": "code",
   "execution_count": 1,
   "id": "50d38b70-1141-47d7-b917-42d07fbdcd38",
   "metadata": {},
   "outputs": [],
   "source": [
    "import sqlite3"
   ]
  },
  {
   "cell_type": "code",
   "execution_count": 2,
   "id": "540925cd-f6cf-453e-81ab-9943cae8063e",
   "metadata": {},
   "outputs": [
    {
     "data": {
      "text/plain": [
       "False"
      ]
     },
     "execution_count": 2,
     "metadata": {},
     "output_type": "execute_result"
    }
   ],
   "source": [
    "import os\n",
    "os.path.exists('student.db')"
   ]
  },
  {
   "cell_type": "code",
   "execution_count": 3,
   "id": "234bd221-76df-47aa-9f3b-0d6bfc5d375b",
   "metadata": {},
   "outputs": [],
   "source": [
    "con = sqlite3.connect('student.db')"
   ]
  },
  {
   "cell_type": "code",
   "execution_count": 4,
   "id": "127066bc-68cc-4129-a85a-c0fc8337a624",
   "metadata": {},
   "outputs": [
    {
     "data": {
      "text/plain": [
       "True"
      ]
     },
     "execution_count": 4,
     "metadata": {},
     "output_type": "execute_result"
    }
   ],
   "source": [
    "os.path.exists('student.db')"
   ]
  },
  {
   "cell_type": "markdown",
   "id": "c0108d35-b7f9-4718-aa07-22622d80ca89",
   "metadata": {},
   "source": [
    "# Creating table in database\n",
    "\n",
    "```sql\n",
    "create table_name (column_name_1 dtype, column_name_2 dtype, ... , column_name_ndtype)\n",
    "```"
   ]
  },
  {
   "cell_type": "code",
   "execution_count": 12,
   "id": "e6e74060-5655-4fe8-96b3-062c98e5d99f",
   "metadata": {},
   "outputs": [],
   "source": [
    "query = \"\"\"\n",
    "create table student_detail (roll_no int primary key , name varchar(50) , cgpa float)\n",
    "\"\"\""
   ]
  },
  {
   "cell_type": "code",
   "execution_count": 6,
   "id": "7596ace7-0c30-46b0-9b4a-fa6b7bae8a37",
   "metadata": {},
   "outputs": [],
   "source": [
    "# cursor is used to execute sql query"
   ]
  },
  {
   "cell_type": "code",
   "execution_count": 13,
   "id": "1eab5fa1-606d-4c91-b342-8020b0020e17",
   "metadata": {},
   "outputs": [],
   "source": [
    "cur = con.cursor()"
   ]
  },
  {
   "cell_type": "code",
   "execution_count": 9,
   "id": "ea5e88d9-2f74-49be-99c7-8bd998cf7631",
   "metadata": {},
   "outputs": [],
   "source": [
    "# table once created cannot be created again"
   ]
  },
  {
   "cell_type": "code",
   "execution_count": 14,
   "id": "bccd772c-4b0c-4c2c-9f5a-343057149fd6",
   "metadata": {},
   "outputs": [],
   "source": [
    "try :\n",
    "    status = cur.execute(query)\n",
    "except Exception as e:\n",
    "    print(e)"
   ]
  },
  {
   "cell_type": "code",
   "execution_count": 15,
   "id": "87ded6e3-fba8-4d2d-b13f-184c07ae0db8",
   "metadata": {},
   "outputs": [
    {
     "data": {
      "text/plain": [
       "<sqlite3.Cursor at 0x1edad1b9940>"
      ]
     },
     "execution_count": 15,
     "metadata": {},
     "output_type": "execute_result"
    }
   ],
   "source": [
    "status"
   ]
  },
  {
   "cell_type": "markdown",
   "id": "b68d037b-d3be-49e4-86fb-1a92b97e1b31",
   "metadata": {},
   "source": [
    "# Inserting data type\n",
    "\n",
    "```sql\n",
    "Insert into table_name (column_name 1, column_name 2, ..., column_name_n)\n",
    "values\n",
    "(value_01, value_02, ... ,value_0n),\n",
    "(value_11, value_22 , ... , value_nn)\n",
    "```"
   ]
  },
  {
   "cell_type": "code",
   "execution_count": 16,
   "id": "485aceb6-ea4e-409e-a7ea-bdfa704695fc",
   "metadata": {},
   "outputs": [],
   "source": [
    "query = \"\"\"\n",
    "insert into student_detail(roll_no, name ,cgpa)\n",
    "values\n",
    "(001, 'Vaivav' , 9.1)\n",
    "\"\"\""
   ]
  },
  {
   "cell_type": "code",
   "execution_count": 17,
   "id": "230fb91b-837d-4b39-bc34-24d017ea88ff",
   "metadata": {},
   "outputs": [
    {
     "data": {
      "text/plain": [
       "<sqlite3.Cursor at 0x1edad1b9940>"
      ]
     },
     "execution_count": 17,
     "metadata": {},
     "output_type": "execute_result"
    }
   ],
   "source": [
    "cur.execute(query)"
   ]
  },
  {
   "cell_type": "markdown",
   "id": "11f8562d-b903-4f9f-97e5-90c8215f146d",
   "metadata": {},
   "source": [
    "# Select statement in sql / Read data from table\n",
    "\n",
    "```sql\n",
    "select * from table name \n",
    "```"
   ]
  },
  {
   "cell_type": "code",
   "execution_count": 20,
   "id": "d54ede0d-a99f-4811-af8a-df23615d3a3f",
   "metadata": {},
   "outputs": [
    {
     "data": {
      "text/plain": [
       "[(1, 'Vaivav', 9.1)]"
      ]
     },
     "execution_count": 20,
     "metadata": {},
     "output_type": "execute_result"
    }
   ],
   "source": [
    "query = \"select * from student_detail\"\n",
    "cur.execute(query).fetchall()"
   ]
  },
  {
   "cell_type": "code",
   "execution_count": 21,
   "id": "6f37108d-3769-44ed-81dd-5cb54bbc4633",
   "metadata": {},
   "outputs": [
    {
     "data": {
      "text/plain": [
       "[('Vaivav',)]"
      ]
     },
     "execution_count": 21,
     "metadata": {},
     "output_type": "execute_result"
    }
   ],
   "source": [
    "query = \"select name  from student_detail\"\n",
    "cur.execute(query).fetchall()"
   ]
  },
  {
   "cell_type": "code",
   "execution_count": 22,
   "id": "2d4bf517-fb3d-4550-be48-38947086b5e6",
   "metadata": {},
   "outputs": [
    {
     "data": {
      "text/plain": [
       "[('Vaivav', 9.1)]"
      ]
     },
     "execution_count": 22,
     "metadata": {},
     "output_type": "execute_result"
    }
   ],
   "source": [
    "query = \"select name , cgpa from student_detail\"\n",
    "cur.execute(query).fetchall()"
   ]
  },
  {
   "cell_type": "markdown",
   "id": "a1caa726-2bb0-4aec-b6ea-a17c42ab0614",
   "metadata": {},
   "source": [
    "# insert multiple data at once"
   ]
  },
  {
   "cell_type": "code",
   "execution_count": 25,
   "id": "7c29a40d-def3-44ab-9e09-dee5f04eaf11",
   "metadata": {},
   "outputs": [],
   "source": [
    "query = \"\"\"\n",
    "Insert into student_detail (roll_no, name ,cgpa)\n",
    "values\n",
    "(002 , 'Neha' , 9.5),\n",
    "(003 , 'Harsh' , 8.5),\n",
    "(004 , 'Sherya' , 9.3)\n",
    "\"\"\""
   ]
  },
  {
   "cell_type": "code",
   "execution_count": 26,
   "id": "3a1130c3-f434-4fa7-b298-a454c435b653",
   "metadata": {},
   "outputs": [
    {
     "data": {
      "text/plain": [
       "<sqlite3.Cursor at 0x1edad1b9940>"
      ]
     },
     "execution_count": 26,
     "metadata": {},
     "output_type": "execute_result"
    }
   ],
   "source": [
    "cur.execute(query)"
   ]
  },
  {
   "cell_type": "code",
   "execution_count": 27,
   "id": "69e34ec0-8a99-4221-bb1b-79624a434210",
   "metadata": {},
   "outputs": [
    {
     "data": {
      "text/plain": [
       "[(1, 'Vaivav', 9.1), (2, 'Neha', 9.5), (3, 'Harsh', 8.5), (4, 'Sherya', 9.3)]"
      ]
     },
     "execution_count": 27,
     "metadata": {},
     "output_type": "execute_result"
    }
   ],
   "source": [
    "cur.execute(\"select * from student_detail\").fetchall()"
   ]
  },
  {
   "cell_type": "markdown",
   "id": "0793b73c-274d-4489-9556-3c7bd04756a0",
   "metadata": {},
   "source": [
    "# where clause\n",
    "\n",
    "select student name where cgpa <9"
   ]
  },
  {
   "cell_type": "code",
   "execution_count": 28,
   "id": "71d404e0-3327-4dbe-9549-e08ee82a7645",
   "metadata": {},
   "outputs": [
    {
     "data": {
      "text/plain": [
       "[('Harsh',)]"
      ]
     },
     "execution_count": 28,
     "metadata": {},
     "output_type": "execute_result"
    }
   ],
   "source": [
    "cur.execute(\" select name from student_detail where cgpa <9\").fetchall()"
   ]
  },
  {
   "cell_type": "code",
   "execution_count": 29,
   "id": "896ce72d-55ee-482d-b42d-535a996908ff",
   "metadata": {},
   "outputs": [
    {
     "data": {
      "text/plain": [
       "[('Sherya',)]"
      ]
     },
     "execution_count": 29,
     "metadata": {},
     "output_type": "execute_result"
    }
   ],
   "source": [
    "cur.execute(\" select name from student_detail where cgpa = 9.3\").fetchall()"
   ]
  },
  {
   "cell_type": "code",
   "execution_count": 31,
   "id": "814ff378-3b8f-4c3d-83cc-d61c1ca1db7a",
   "metadata": {},
   "outputs": [
    {
     "data": {
      "text/plain": [
       "[(2,)]"
      ]
     },
     "execution_count": 31,
     "metadata": {},
     "output_type": "execute_result"
    }
   ],
   "source": [
    "cur.execute(\" select roll_no from student_detail where name = 'Neha'\").fetchall()"
   ]
  },
  {
   "cell_type": "markdown",
   "id": "611e24a1-3aff-4ee5-8b90-85903b256111",
   "metadata": {},
   "source": [
    "# update\n",
    "```sql\n",
    "update table_name\n",
    "set column_name = value\n",
    "where\n",
    "conditional\n",
    "```"
   ]
  },
  {
   "cell_type": "code",
   "execution_count": 32,
   "id": "da8f872d-9b41-4dc7-a824-cb0ed4e8b9d2",
   "metadata": {},
   "outputs": [],
   "source": [
    "# Vaibhav"
   ]
  },
  {
   "cell_type": "code",
   "execution_count": 33,
   "id": "ed7f1672-9659-4a99-b684-03d37de00f61",
   "metadata": {},
   "outputs": [
    {
     "data": {
      "text/plain": [
       "<sqlite3.Cursor at 0x1edad1b9940>"
      ]
     },
     "execution_count": 33,
     "metadata": {},
     "output_type": "execute_result"
    }
   ],
   "source": [
    "cur.execute(\"update student_detail set name = 'Vaibhav' where roll_no = 1\")"
   ]
  },
  {
   "cell_type": "code",
   "execution_count": 35,
   "id": "46ee5b11-32b9-4af0-b406-5b99cc7fe1a2",
   "metadata": {},
   "outputs": [
    {
     "data": {
      "text/plain": [
       "[(1, 'Vaibhav', 9.1), (2, 'Neha', 9.5), (3, 'Harsh', 8.5), (4, 'Sherya', 9.3)]"
      ]
     },
     "execution_count": 35,
     "metadata": {},
     "output_type": "execute_result"
    }
   ],
   "source": [
    "cur.execute(\"select * from student_detail\").fetchall()"
   ]
  },
  {
   "cell_type": "markdown",
   "id": "84406705-984b-4018-b62e-4e3ebc0445b8",
   "metadata": {},
   "source": [
    "# delete row in database"
   ]
  },
  {
   "cell_type": "code",
   "execution_count": 36,
   "id": "f2898c5e-428a-472f-8792-2d9fafa282d0",
   "metadata": {},
   "outputs": [
    {
     "data": {
      "text/plain": [
       "<sqlite3.Cursor at 0x1edad1b9940>"
      ]
     },
     "execution_count": 36,
     "metadata": {},
     "output_type": "execute_result"
    }
   ],
   "source": [
    "cur.execute (\"delete from student_detail where roll_no = 3\")"
   ]
  },
  {
   "cell_type": "code",
   "execution_count": 37,
   "id": "e4c63fe4-89b2-4a89-9832-63feb04a20fa",
   "metadata": {},
   "outputs": [
    {
     "data": {
      "text/plain": [
       "[(1, 'Vaibhav', 9.1), (2, 'Neha', 9.5), (4, 'Sherya', 9.3)]"
      ]
     },
     "execution_count": 37,
     "metadata": {},
     "output_type": "execute_result"
    }
   ],
   "source": [
    "cur.execute(\"select * from student_detail\").fetchall()"
   ]
  },
  {
   "cell_type": "code",
   "execution_count": null,
   "id": "0221ea06-1ad9-425d-aa03-0d1b379e9e6c",
   "metadata": {},
   "outputs": [],
   "source": []
  }
 ],
 "metadata": {
  "kernelspec": {
   "display_name": "Python 3 (ipykernel)",
   "language": "python",
   "name": "python3"
  },
  "language_info": {
   "codemirror_mode": {
    "name": "ipython",
    "version": 3
   },
   "file_extension": ".py",
   "mimetype": "text/x-python",
   "name": "python",
   "nbconvert_exporter": "python",
   "pygments_lexer": "ipython3",
   "version": "3.10.11"
  }
 },
 "nbformat": 4,
 "nbformat_minor": 5
}
