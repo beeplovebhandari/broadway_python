{
 "cells": [
  {
   "cell_type": "markdown",
   "id": "a95f6f0e-314e-45bd-86af-a385297049d6",
   "metadata": {},
   "source": [
    "# sets\n",
    "* do not allowduplicate\n",
    "* unindexed , unordered"
   ]
  },
  {
   "cell_type": "code",
   "execution_count": 9,
   "id": "44a2e8b7-8ed7-4527-bb71-98fbe5a8c04e",
   "metadata": {},
   "outputs": [],
   "source": [
    "khana_set = {'dal', 'gundruk' , 'bhaat', 'chatni', 'masu' , 'gheu' , 'pappad' , 'salad'}"
   ]
  },
  {
   "cell_type": "code",
   "execution_count": 10,
   "id": "6398ede2-c056-49c9-9102-c9e5738b5fc9",
   "metadata": {},
   "outputs": [
    {
     "name": "stdout",
     "output_type": "stream",
     "text": [
      "{'pappad', 'bhaat', 'gundruk', 'masu', 'dal', 'gheu', 'salad', 'chatni'}\n"
     ]
    }
   ],
   "source": [
    "print(khana_set) # set is unordered\n"
   ]
  },
  {
   "cell_type": "code",
   "execution_count": 4,
   "id": "17ff26b2-0940-4146-a14b-b1017aba1a33",
   "metadata": {},
   "outputs": [
    {
     "ename": "TypeError",
     "evalue": "'set' object is not subscriptable",
     "output_type": "error",
     "traceback": [
      "\u001b[1;31m---------------------------------------------------------------------------\u001b[0m",
      "\u001b[1;31mTypeError\u001b[0m                                 Traceback (most recent call last)",
      "Cell \u001b[1;32mIn[4], line 1\u001b[0m\n\u001b[1;32m----> 1\u001b[0m \u001b[43mkhana_set\u001b[49m\u001b[43m \u001b[49m\u001b[43m[\u001b[49m\u001b[38;5;241;43m0\u001b[39;49m\u001b[43m]\u001b[49m \u001b[38;5;66;03m# unindexed\u001b[39;00m\n",
      "\u001b[1;31mTypeError\u001b[0m: 'set' object is not subscriptable"
     ]
    }
   ],
   "source": [
    "khana_set [0] # unindexed"
   ]
  },
  {
   "cell_type": "code",
   "execution_count": 11,
   "id": "9ec00a4f-d214-4288-95be-f7813b434c92",
   "metadata": {},
   "outputs": [
    {
     "name": "stdout",
     "output_type": "stream",
     "text": [
      "khana set ma : pappad parxa \n",
      "khana set ma : bhaat parxa \n",
      "khana set ma : gundruk parxa \n",
      "khana set ma : masu parxa \n",
      "khana set ma : dal parxa \n",
      "khana set ma : gheu parxa \n",
      "khana set ma : salad parxa \n",
      "khana set ma : chatni parxa \n"
     ]
    }
   ],
   "source": [
    "for item in khana_set:\n",
    "    print(f\"khana set ma : {item} parxa \")"
   ]
  },
  {
   "cell_type": "markdown",
   "id": "565523ea-74e5-4c4a-8023-806c12333b54",
   "metadata": {},
   "source": [
    "# sets is a mutuable data type you can add or remove items from the set"
   ]
  },
  {
   "cell_type": "code",
   "execution_count": 12,
   "id": "20a67440-ea49-44d7-a8e6-75a28aa4fba9",
   "metadata": {},
   "outputs": [],
   "source": [
    "khana_set.add(\"kauli\")"
   ]
  },
  {
   "cell_type": "code",
   "execution_count": 13,
   "id": "f946534b-546f-47cc-92c0-80dbe5a9c80d",
   "metadata": {},
   "outputs": [
    {
     "name": "stdout",
     "output_type": "stream",
     "text": [
      "{'pappad', 'bhaat', 'gundruk', 'masu', 'dal', 'gheu', 'kauli', 'salad', 'chatni'}\n"
     ]
    }
   ],
   "source": [
    "print(khana_set)"
   ]
  },
  {
   "cell_type": "code",
   "execution_count": 14,
   "id": "df48ca2d-9a12-4f38-99a7-06bc112f212b",
   "metadata": {},
   "outputs": [],
   "source": [
    "khana_set.remove(\"masu\")"
   ]
  },
  {
   "cell_type": "code",
   "execution_count": 15,
   "id": "8563d32c-8778-4907-a229-444e19509c38",
   "metadata": {},
   "outputs": [
    {
     "name": "stdout",
     "output_type": "stream",
     "text": [
      "{'pappad', 'bhaat', 'gundruk', 'dal', 'gheu', 'kauli', 'salad', 'chatni'}\n"
     ]
    }
   ],
   "source": [
    "print(khana_set)"
   ]
  },
  {
   "cell_type": "code",
   "execution_count": 16,
   "id": "a99973d3-e95d-42f8-bbe3-e097e9e7ce63",
   "metadata": {},
   "outputs": [
    {
     "ename": "KeyError",
     "evalue": "'saag'",
     "output_type": "error",
     "traceback": [
      "\u001b[1;31m---------------------------------------------------------------------------\u001b[0m",
      "\u001b[1;31mKeyError\u001b[0m                                  Traceback (most recent call last)",
      "Cell \u001b[1;32mIn[16], line 1\u001b[0m\n\u001b[1;32m----> 1\u001b[0m \u001b[43mkhana_set\u001b[49m\u001b[38;5;241;43m.\u001b[39;49m\u001b[43mremove\u001b[49m\u001b[43m(\u001b[49m\u001b[38;5;124;43m\"\u001b[39;49m\u001b[38;5;124;43msaag\u001b[39;49m\u001b[38;5;124;43m\"\u001b[39;49m\u001b[43m)\u001b[49m\n",
      "\u001b[1;31mKeyError\u001b[0m: 'saag'"
     ]
    }
   ],
   "source": [
    "khana_set.remove(\"saag\")"
   ]
  },
  {
   "cell_type": "code",
   "execution_count": 18,
   "id": "c3a4ce17-ceb7-40a7-832c-3b2f39a16aaa",
   "metadata": {},
   "outputs": [],
   "source": [
    "khana_set.discard(\"saag\")  # discard le xa vane dekhauxa / remove garxa natra chupa layera basxa"
   ]
  },
  {
   "cell_type": "markdown",
   "id": "b8e79863-be6d-4316-a0c5-9ff494f8b1cd",
   "metadata": {},
   "source": [
    "# set methods\n"
   ]
  },
  {
   "cell_type": "code",
   "execution_count": 19,
   "id": "1f9a9991-eb99-4752-b097-5fd49948186d",
   "metadata": {},
   "outputs": [],
   "source": [
    "A = {\"apple\", \"banana\" , \"cherry\"}\n",
    "B = {\"google\" , \"microsoft\" , \"apple\"}"
   ]
  },
  {
   "cell_type": "code",
   "execution_count": 20,
   "id": "de0d43ff-6c6d-48cc-a0fa-be319918b952",
   "metadata": {},
   "outputs": [
    {
     "data": {
      "text/plain": [
       "{'apple'}"
      ]
     },
     "execution_count": 20,
     "metadata": {},
     "output_type": "execute_result"
    }
   ],
   "source": [
    "A.intersection(B)"
   ]
  },
  {
   "cell_type": "code",
   "execution_count": 21,
   "id": "a57a516d-2d2a-4ab3-9005-9bab7bac2403",
   "metadata": {},
   "outputs": [
    {
     "data": {
      "text/plain": [
       "{'apple'}"
      ]
     },
     "execution_count": 21,
     "metadata": {},
     "output_type": "execute_result"
    }
   ],
   "source": [
    "B.intersection(A)"
   ]
  },
  {
   "cell_type": "code",
   "execution_count": 22,
   "id": "8626038d-e2c0-4236-a1e1-d0df395b2119",
   "metadata": {},
   "outputs": [
    {
     "data": {
      "text/plain": [
       "{'apple', 'banana', 'cherry', 'google', 'microsoft'}"
      ]
     },
     "execution_count": 22,
     "metadata": {},
     "output_type": "execute_result"
    }
   ],
   "source": [
    "A.union(B)"
   ]
  },
  {
   "cell_type": "code",
   "execution_count": 23,
   "id": "a1703519-ae52-4468-9470-6fea672622a3",
   "metadata": {},
   "outputs": [
    {
     "data": {
      "text/plain": [
       "{'apple', 'banana', 'cherry', 'google', 'microsoft'}"
      ]
     },
     "execution_count": 23,
     "metadata": {},
     "output_type": "execute_result"
    }
   ],
   "source": [
    "B.union(A)"
   ]
  },
  {
   "cell_type": "code",
   "execution_count": 24,
   "id": "b0a4b129-788a-49a3-b3c8-ffc5d4439c3b",
   "metadata": {},
   "outputs": [
    {
     "data": {
      "text/plain": [
       "{'banana', 'cherry'}"
      ]
     },
     "execution_count": 24,
     "metadata": {},
     "output_type": "execute_result"
    }
   ],
   "source": [
    "A.difference(B)"
   ]
  },
  {
   "cell_type": "code",
   "execution_count": 25,
   "id": "332bcc86-3957-4c7a-bdd9-d655b12129b7",
   "metadata": {},
   "outputs": [
    {
     "data": {
      "text/plain": [
       "{'google', 'microsoft'}"
      ]
     },
     "execution_count": 25,
     "metadata": {},
     "output_type": "execute_result"
    }
   ],
   "source": [
    "B.difference(A)"
   ]
  },
  {
   "cell_type": "code",
   "execution_count": 26,
   "id": "79fad859-d3ea-4ed8-9d3d-bab35fea84c1",
   "metadata": {},
   "outputs": [
    {
     "data": {
      "text/plain": [
       "{'banana', 'cherry'}"
      ]
     },
     "execution_count": 26,
     "metadata": {},
     "output_type": "execute_result"
    }
   ],
   "source": [
    "A-B"
   ]
  },
  {
   "cell_type": "code",
   "execution_count": 27,
   "id": "efd310a4-662f-4549-a378-f650acd005e1",
   "metadata": {},
   "outputs": [
    {
     "data": {
      "text/plain": [
       "{'google', 'microsoft'}"
      ]
     },
     "execution_count": 27,
     "metadata": {},
     "output_type": "execute_result"
    }
   ],
   "source": [
    "B-A"
   ]
  },
  {
   "cell_type": "code",
   "execution_count": null,
   "id": "e68bb4fb-dd8c-4ff8-910e-f4cf6e03973f",
   "metadata": {},
   "outputs": [],
   "source": []
  }
 ],
 "metadata": {
  "kernelspec": {
   "display_name": "Python 3 (ipykernel)",
   "language": "python",
   "name": "python3"
  },
  "language_info": {
   "codemirror_mode": {
    "name": "ipython",
    "version": 3
   },
   "file_extension": ".py",
   "mimetype": "text/x-python",
   "name": "python",
   "nbconvert_exporter": "python",
   "pygments_lexer": "ipython3",
   "version": "3.10.11"
  }
 },
 "nbformat": 4,
 "nbformat_minor": 5
}
