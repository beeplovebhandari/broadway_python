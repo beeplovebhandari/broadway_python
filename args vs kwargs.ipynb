{
 "cells": [
  {
   "cell_type": "markdown",
   "id": "79f6d1e8-7928-45ee-994f-76237eccf8a3",
   "metadata": {},
   "source": [
    "# *args vs **kwargs\n",
    "* variable length argument\n",
    "* data type is in tuple\n",
    "* tuple operation"
   ]
  },
  {
   "cell_type": "markdown",
   "id": "139a09b1-38f8-4720-9682-24b2038996b5",
   "metadata": {},
   "source": [
    "# args vs kwargs \n",
    "* used to provide variable length arguments in function"
   ]
  },
  {
   "cell_type": "code",
   "execution_count": 1,
   "id": "50b03214-544a-4366-bf65-efa26b4f0bdf",
   "metadata": {},
   "outputs": [],
   "source": [
    "def add (*args):\n",
    "    print(args)\n",
    "    print (type(args))"
   ]
  },
  {
   "cell_type": "code",
   "execution_count": 2,
   "id": "9a640050-de44-4aa0-9ab1-706081a3ac06",
   "metadata": {},
   "outputs": [
    {
     "name": "stdout",
     "output_type": "stream",
     "text": [
      "(1, 2, 3, 4)\n",
      "<class 'tuple'>\n"
     ]
    }
   ],
   "source": [
    "add(1,2,3,4)"
   ]
  },
  {
   "cell_type": "code",
   "execution_count": 4,
   "id": "bd059e15-c026-4d57-b972-24548e7bef7d",
   "metadata": {},
   "outputs": [
    {
     "name": "stdout",
     "output_type": "stream",
     "text": [
      "(5, 99)\n",
      "<class 'tuple'>\n"
     ]
    }
   ],
   "source": [
    "add(5,99)"
   ]
  },
  {
   "cell_type": "code",
   "execution_count": 8,
   "id": "d37a77e5-2c26-4be6-a88a-043666bed8cf",
   "metadata": {},
   "outputs": [],
   "source": [
    "def add (*args):  # args is a special keyword\n",
    "    total = 0\n",
    "    for item in args: # args ko type tuple ho\n",
    "        total = total+item\n",
    "    return total"
   ]
  },
  {
   "cell_type": "code",
   "execution_count": 6,
   "id": "6fc2c045-757e-43d9-b4c8-2f3bc472fc51",
   "metadata": {},
   "outputs": [
    {
     "data": {
      "text/plain": [
       "49"
      ]
     },
     "execution_count": 6,
     "metadata": {},
     "output_type": "execute_result"
    }
   ],
   "source": [
    "add(44,5)"
   ]
  },
  {
   "cell_type": "code",
   "execution_count": 7,
   "id": "ce7c195d-846f-4b31-98dc-c658486a7173",
   "metadata": {},
   "outputs": [
    {
     "data": {
      "text/plain": [
       "55"
      ]
     },
     "execution_count": 7,
     "metadata": {},
     "output_type": "execute_result"
    }
   ],
   "source": [
    "add(1,2,3,4,5,6,7,8,9,10)"
   ]
  },
  {
   "cell_type": "markdown",
   "id": "cdeb9ddc-3684-4825-9b39-d75ef8b4a0e9",
   "metadata": {},
   "source": [
    "# **kwargs"
   ]
  },
  {
   "cell_type": "code",
   "execution_count": 9,
   "id": "bfcc873d-a2a4-48ea-b9f3-d93fb1e68065",
   "metadata": {},
   "outputs": [],
   "source": [
    "def about (**kwargs):\n",
    "    print(kwargs)\n",
    "    print(type(kwargs))"
   ]
  },
  {
   "cell_type": "code",
   "execution_count": 11,
   "id": "8afbfa0b-13c5-43bd-9dbe-05cb801a5ada",
   "metadata": {},
   "outputs": [
    {
     "name": "stdout",
     "output_type": "stream",
     "text": [
      "{'name': 'Kshitiz', 'teaches': ['Python', 'ML']}\n",
      "<class 'dict'>\n"
     ]
    }
   ],
   "source": [
    "about(name = \"Kshitiz\", teaches = ['Python' , 'ML'])"
   ]
  },
  {
   "cell_type": "code",
   "execution_count": 12,
   "id": "32e911d0-eced-4f4b-b319-e0ea80cdfdb9",
   "metadata": {},
   "outputs": [],
   "source": [
    "# kwargs le data dict ma linxa\n",
    "# dictionary operation garna milxa"
   ]
  }
 ],
 "metadata": {
  "kernelspec": {
   "display_name": "Python 3 (ipykernel)",
   "language": "python",
   "name": "python3"
  },
  "language_info": {
   "codemirror_mode": {
    "name": "ipython",
    "version": 3
   },
   "file_extension": ".py",
   "mimetype": "text/x-python",
   "name": "python",
   "nbconvert_exporter": "python",
   "pygments_lexer": "ipython3",
   "version": "3.10.11"
  }
 },
 "nbformat": 4,
 "nbformat_minor": 5
}
