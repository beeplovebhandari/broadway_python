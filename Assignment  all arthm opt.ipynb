{
 "cells": [
  {
   "cell_type": "markdown",
   "id": "517cd9e5-a741-478c-b80f-af6f76342611",
   "metadata": {},
   "source": [
    "# Operator precedence rule"
   ]
  },
  {
   "cell_type": "markdown",
   "id": "d27d04a8-f35e-4f44-9f9e-7feaea968cd8",
   "metadata": {},
   "source": [
    "# No.1 Addition"
   ]
  },
  {
   "cell_type": "code",
   "execution_count": 2,
   "id": "5fd6eae5-8e86-4f08-8b6e-80655a8f6ace",
   "metadata": {},
   "outputs": [
    {
     "name": "stdin",
     "output_type": "stream",
     "text": [
      "Enter first number :  10\n",
      "Enter second number : 20\n"
     ]
    },
    {
     "name": "stdout",
     "output_type": "stream",
     "text": [
      "The sum of 10 and 20 is 30\n"
     ]
    }
   ],
   "source": [
    "x = int(input(\"Enter first number : \"))\n",
    "y = int(input(\"Enter second number :\"))\n",
    "total = x+y\n",
    "print(f\"The sum of {x} and {y} is {total}\")"
   ]
  },
  {
   "cell_type": "markdown",
   "id": "a50d38aa-b27f-4549-840d-156f4cce8272",
   "metadata": {},
   "source": [
    "# No.2 Subtraction"
   ]
  },
  {
   "cell_type": "code",
   "execution_count": 3,
   "id": "6ff0e2bb-8975-4fec-93aa-68e10036d838",
   "metadata": {},
   "outputs": [
    {
     "name": "stdin",
     "output_type": "stream",
     "text": [
      "Enter first Number : 30\n",
      "Enter Second Number :  20\n"
     ]
    },
    {
     "name": "stdout",
     "output_type": "stream",
     "text": [
      "The difference of 30 and 20 is 10\n"
     ]
    }
   ],
   "source": [
    "a = int(input(\"Enter first Number :\"))\n",
    "b = int(input(\"Enter Second Number : \"))\n",
    "total = a-b\n",
    "print(f\"The difference of {a} and {b} is {total}\")"
   ]
  },
  {
   "cell_type": "markdown",
   "id": "260c6a01-59fd-4310-a0ec-2e389f279933",
   "metadata": {},
   "source": [
    "# No.3 Division"
   ]
  },
  {
   "cell_type": "code",
   "execution_count": 1,
   "id": "8cc5883a-af0f-4cd2-ac01-d1af5ae8814e",
   "metadata": {},
   "outputs": [
    {
     "name": "stdin",
     "output_type": "stream",
     "text": [
      "Enter first Number :  45\n",
      "Enter second Number :  9\n"
     ]
    },
    {
     "name": "stdout",
     "output_type": "stream",
     "text": [
      "The divide of 45 and 9 is 5.0\n"
     ]
    }
   ],
   "source": [
    "m = int(input(\"Enter first Number : \"))\n",
    "n = int(input(\"Enter second Number : \"))\n",
    "division = m/n\n",
    "print(f\"The divide of {m} and {n} is {division}\")"
   ]
  },
  {
   "cell_type": "markdown",
   "id": "40ca2c2c-01c0-410b-b93a-d6447e673a31",
   "metadata": {},
   "source": [
    "# No.4 Multiplication"
   ]
  },
  {
   "cell_type": "code",
   "execution_count": 11,
   "id": "51771b5a-b279-4f26-a28d-54746ae03f98",
   "metadata": {},
   "outputs": [
    {
     "name": "stdin",
     "output_type": "stream",
     "text": [
      "Enter first Number :  9\n",
      "Enter second Number : 5\n"
     ]
    },
    {
     "name": "stdout",
     "output_type": "stream",
     "text": [
      " The multiply of 9 and 5 is 45\n"
     ]
    }
   ],
   "source": [
    "c = int(input(\"Enter first Number : \"))\n",
    "d = int(input(\"Enter second Number :\"))\n",
    "total = c*d \n",
    "print(f\" The multiply of {c} and {d} is {total}\")"
   ]
  },
  {
   "cell_type": "markdown",
   "id": "54c0d4ee-fc61-425a-9073-109f0f09f6f2",
   "metadata": {},
   "source": [
    "# No.5 Modulus"
   ]
  },
  {
   "cell_type": "code",
   "execution_count": 23,
   "id": "11002d36-f545-4f2d-a6fb-fed563ef5a0c",
   "metadata": {},
   "outputs": [
    {
     "name": "stdin",
     "output_type": "stream",
     "text": [
      "Enter first Number :  27\n",
      "Enter second Number :  2\n"
     ]
    },
    {
     "name": "stdout",
     "output_type": "stream",
     "text": [
      "The modulus of 27 and 2 is 1\n"
     ]
    }
   ],
   "source": [
    "u = int(input(\"Enter first Number : \"))\n",
    "v = int(input(\"Enter second Number : \"))\n",
    "total = u%v\n",
    "print(f\"The modulus of {u} and {v} is {total}\")"
   ]
  },
  {
   "cell_type": "markdown",
   "id": "47c0073b-6e14-408e-bfec-57dbf133cfdf",
   "metadata": {},
   "source": [
    "# No.6 Exponentation or Power"
   ]
  },
  {
   "cell_type": "code",
   "execution_count": 21,
   "id": "bb15e536-50fe-4dd8-a8f9-112885331e75",
   "metadata": {},
   "outputs": [
    {
     "name": "stdin",
     "output_type": "stream",
     "text": [
      "Enter first Number :  3\n",
      "Enter second Number :  3\n"
     ]
    },
    {
     "name": "stdout",
     "output_type": "stream",
     "text": [
      " The Exponentiation or power of 3 and 3 is 27\n"
     ]
    }
   ],
   "source": [
    "o = int(input(\"Enter first Number : \"))\n",
    "p = int (input(\"Enter second Number : \"))\n",
    "total = (o**p) or (o^P)\n",
    "print(f\" The Exponentiation or power of {o} and {p} is {total}\")"
   ]
  },
  {
   "cell_type": "markdown",
   "id": "d2b8eab0-51e8-4b00-ae3c-e54388dbc2a5",
   "metadata": {},
   "source": [
    "# No.7 Floor Division"
   ]
  },
  {
   "cell_type": "code",
   "execution_count": 30,
   "id": "809b6575-fcee-4418-bfb2-ca57da438c1c",
   "metadata": {},
   "outputs": [
    {
     "name": "stdin",
     "output_type": "stream",
     "text": [
      "Enter first number :  63\n",
      "Enter second number :  9\n"
     ]
    },
    {
     "name": "stdout",
     "output_type": "stream",
     "text": [
      "The Floor Division of 63 and 9 is 7\n"
     ]
    }
   ],
   "source": [
    "a = int(input(\"Enter first number : \"))\n",
    "b = int (input(\"Enter second number : \"))\n",
    "total = a//b \n",
    "print(f\"The Floor Division of {a} and {b} is {total}\")"
   ]
  },
  {
   "cell_type": "markdown",
   "id": "8293ba72-5e85-4c0b-8127-7155756901c1",
   "metadata": {},
   "source": [
    "# No.8 Increment and Decrement # copied from chat gpt"
   ]
  },
  {
   "cell_type": "code",
   "execution_count": 7,
   "id": "49f99b07-de94-4a3c-87ab-f7fdddbf03ce",
   "metadata": {},
   "outputs": [
    {
     "name": "stdout",
     "output_type": "stream",
     "text": [
      "After increment: 6\n",
      "After decrement: 5\n"
     ]
    }
   ],
   "source": [
    "num = 5\n",
    "\n",
    "# Increment operation\n",
    "num += 1\n",
    "print(\"After increment:\", num)  # Output: 6\n",
    "\n",
    "# Decrement operation\n",
    "num -= 1\n",
    "print(\"After decrement:\", num)  # Output: 5\n"
   ]
  },
  {
   "cell_type": "code",
   "execution_count": null,
   "id": "2e8ea177-c276-42ad-8177-2081f1101c90",
   "metadata": {},
   "outputs": [],
   "source": []
  }
 ],
 "metadata": {
  "kernelspec": {
   "display_name": "Python 3 (ipykernel)",
   "language": "python",
   "name": "python3"
  },
  "language_info": {
   "codemirror_mode": {
    "name": "ipython",
    "version": 3
   },
   "file_extension": ".py",
   "mimetype": "text/x-python",
   "name": "python",
   "nbconvert_exporter": "python",
   "pygments_lexer": "ipython3",
   "version": "3.10.11"
  }
 },
 "nbformat": 4,
 "nbformat_minor": 5
}
