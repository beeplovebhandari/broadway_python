{
 "cells": [
  {
   "cell_type": "code",
   "execution_count": 1,
   "id": "a5df86e1-4a84-49b2-8ecd-135020bb3f79",
   "metadata": {},
   "outputs": [],
   "source": [
    "name = \"BEEPLOVE\""
   ]
  },
  {
   "cell_type": "code",
   "execution_count": 2,
   "id": "7628abf1-304b-4a77-b964-cb9413ddca9a",
   "metadata": {},
   "outputs": [
    {
     "ename": "SyntaxError",
     "evalue": "invalid syntax (2303346650.py, line 1)",
     "output_type": "error",
     "traceback": [
      "\u001b[1;36m  Cell \u001b[1;32mIn[2], line 1\u001b[1;36m\u001b[0m\n\u001b[1;33m    First name = \"BEEPLOVE\" # python case sensitive language ho , yeha first capital ani name smalla vayo so error aayo\u001b[0m\n\u001b[1;37m          ^\u001b[0m\n\u001b[1;31mSyntaxError\u001b[0m\u001b[1;31m:\u001b[0m invalid syntax\n"
     ]
    }
   ],
   "source": [
    "First name = \"BEEPLOVE\" # python case sensitive language ho , yeha first capital ani name smalla vayo so error aayo "
   ]
  },
  {
   "cell_type": "markdown",
   "id": "f852b091-3361-4fd8-b776-4a8ed66f5240",
   "metadata": {},
   "source": [
    "# Python Keyword Can't be Variable Names\n",
    "* Keywords are the reserved word in Python .\n",
    "* We can't use a keyword as a variable name , function name or any other identifier .\n",
    "* They are used to define the syntax and structure of the Python Language .\n",
    "* In Python keywords are case sensitive ."
   ]
  },
  {
   "cell_type": "code",
   "execution_count": 5,
   "id": "32a2fd3f-ed8f-4360-be41-641954069393",
   "metadata": {},
   "outputs": [
    {
     "name": "stdout",
     "output_type": "stream",
     "text": [
      "\n",
      "Welcome to Python 3.10's help utility!\n",
      "\n",
      "If this is your first time using Python, you should definitely check out\n",
      "the tutorial on the internet at https://docs.python.org/3.10/tutorial/.\n",
      "\n",
      "Enter the name of any module, keyword, or topic to get help on writing\n",
      "Python programs and using Python modules.  To quit this help utility and\n",
      "return to the interpreter, just type \"quit\".\n",
      "\n",
      "To get a list of available modules, keywords, symbols, or topics, type\n",
      "\"modules\", \"keywords\", \"symbols\", or \"topics\".  Each module also comes\n",
      "with a one-line summary of what it does; to list the modules whose name\n",
      "or summary contain a given string such as \"spam\", type \"modules spam\".\n",
      "\n"
     ]
    },
    {
     "name": "stdin",
     "output_type": "stream",
     "text": [
      "help>  keywords\n"
     ]
    },
    {
     "name": "stdout",
     "output_type": "stream",
     "text": [
      "\n",
      "Here is a list of the Python keywords.  Enter any keyword to get more help.\n",
      "\n",
      "False               class               from                or\n",
      "None                continue            global              pass\n",
      "True                def                 if                  raise\n",
      "and                 del                 import              return\n",
      "as                  elif                in                  try\n",
      "assert              else                is                  while\n",
      "async               except              lambda              with\n",
      "await               finally             nonlocal            yield\n",
      "break               for                 not                 \n",
      "\n"
     ]
    },
    {
     "name": "stdin",
     "output_type": "stream",
     "text": [
      "help>  \n"
     ]
    },
    {
     "name": "stdout",
     "output_type": "stream",
     "text": [
      "\n",
      "You are now leaving help and returning to the Python interpreter.\n",
      "If you want to ask for help on a particular object directly from the\n",
      "interpreter, you can type \"help(object)\".  Executing \"help('string')\"\n",
      "has the same effect as typing a particular string at the help> prompt.\n"
     ]
    }
   ],
   "source": [
    "help()"
   ]
  },
  {
   "cell_type": "code",
   "execution_count": 6,
   "id": "9d0ef018-4a08-40e2-bda1-e5b1bbbf149d",
   "metadata": {},
   "outputs": [
    {
     "ename": "SyntaxError",
     "evalue": "cannot assign to False (1160946929.py, line 1)",
     "output_type": "error",
     "traceback": [
      "\u001b[1;36m  Cell \u001b[1;32mIn[6], line 1\u001b[1;36m\u001b[0m\n\u001b[1;33m    False = 0\u001b[0m\n\u001b[1;37m    ^\u001b[0m\n\u001b[1;31mSyntaxError\u001b[0m\u001b[1;31m:\u001b[0m cannot assign to False\n"
     ]
    }
   ],
   "source": [
    "False = 0"
   ]
  },
  {
   "cell_type": "code",
   "execution_count": 7,
   "id": "c8e908d6-eb14-492a-8ae7-d8fc9453fd33",
   "metadata": {},
   "outputs": [
    {
     "ename": "SyntaxError",
     "evalue": "invalid syntax (1721677877.py, line 1)",
     "output_type": "error",
     "traceback": [
      "\u001b[1;36m  Cell \u001b[1;32mIn[7], line 1\u001b[1;36m\u001b[0m\n\u001b[1;33m    class = 9\u001b[0m\n\u001b[1;37m          ^\u001b[0m\n\u001b[1;31mSyntaxError\u001b[0m\u001b[1;31m:\u001b[0m invalid syntax\n"
     ]
    }
   ],
   "source": [
    "class = 9"
   ]
  },
  {
   "cell_type": "markdown",
   "id": "93856518-3ef1-4ff6-b83b-f046c43f3792",
   "metadata": {},
   "source": [
    "# Python keywords are Case Sensitive"
   ]
  },
  {
   "cell_type": "code",
   "execution_count": 9,
   "id": "a9090d9f-ec92-4ab8-9bba-96791daa166c",
   "metadata": {},
   "outputs": [
    {
     "ename": "SyntaxError",
     "evalue": "cannot assign to False (1160946929.py, line 1)",
     "output_type": "error",
     "traceback": [
      "\u001b[1;36m  Cell \u001b[1;32mIn[9], line 1\u001b[1;36m\u001b[0m\n\u001b[1;33m    False = 0\u001b[0m\n\u001b[1;37m    ^\u001b[0m\n\u001b[1;31mSyntaxError\u001b[0m\u001b[1;31m:\u001b[0m cannot assign to False\n"
     ]
    }
   ],
   "source": [
    "False = 0"
   ]
  },
  {
   "cell_type": "code",
   "execution_count": 10,
   "id": "fb62075d-f319-4f87-9f05-e5cf52be6af0",
   "metadata": {},
   "outputs": [],
   "source": [
    "false = 0"
   ]
  },
  {
   "cell_type": "markdown",
   "id": "e4fd6af1-007f-4b7c-bfa9-3bea39f4c258",
   "metadata": {},
   "source": [
    "# Uppercase & Lowercae farak manxa vane it's case sensitive .\n",
    "# Python is a case sensitive language . SQL is case insensitive ."
   ]
  },
  {
   "cell_type": "code",
   "execution_count": 12,
   "id": "7b5f3842-71ac-4ba9-8305-5d350a7fd7bb",
   "metadata": {},
   "outputs": [
    {
     "name": "stdout",
     "output_type": "stream",
     "text": [
      "Lowercase batta = Chini\n",
      "Uppercase Batta = Gheu\n"
     ]
    }
   ],
   "source": [
    "batta = 'Chini'\n",
    "Batta = 'Gheu'\n",
    "print(f\"Lowercase batta = {batta}\")\n",
    "print(f\"Uppercase Batta = {Batta}\")"
   ]
  },
  {
   "cell_type": "code",
   "execution_count": 14,
   "id": "3c9bb3f5-97bf-434d-9c23-3dedcffd0e41",
   "metadata": {},
   "outputs": [
    {
     "name": "stdout",
     "output_type": "stream",
     "text": [
      " a = and\n",
      " A = Ant\n"
     ]
    }
   ],
   "source": [
    "a = 'and'\n",
    "A = 'Ant'\n",
    "print(f\" a = {a}\")\n",
    "print(f\" A = {A}\")"
   ]
  },
  {
   "cell_type": "markdown",
   "id": "1e071fbd-4260-4c17-b7d2-d5f4a0f0f89b",
   "metadata": {},
   "source": [
    "# We Cannot Use Special Symbols like \" !,@,#,$,% etc\" in our identifier"
   ]
  },
  {
   "cell_type": "code",
   "execution_count": 15,
   "id": "8ed04ddc-2868-489d-9eba-513bfebb4868",
   "metadata": {},
   "outputs": [
    {
     "ename": "SyntaxError",
     "evalue": "invalid syntax. Maybe you meant '==' or ':=' instead of '='? (64474243.py, line 1)",
     "output_type": "error",
     "traceback": [
      "\u001b[1;36m  Cell \u001b[1;32mIn[15], line 1\u001b[1;36m\u001b[0m\n\u001b[1;33m    @name = 'Beeplove'\u001b[0m\n\u001b[1;37m     ^\u001b[0m\n\u001b[1;31mSyntaxError\u001b[0m\u001b[1;31m:\u001b[0m invalid syntax. Maybe you meant '==' or ':=' instead of '='?\n"
     ]
    }
   ],
   "source": [
    "@name = 'Beeplove'"
   ]
  },
  {
   "cell_type": "code",
   "execution_count": 17,
   "id": "045eb039-49e2-4c06-a636-2be2d3b05522",
   "metadata": {},
   "outputs": [
    {
     "ename": "SyntaxError",
     "evalue": "invalid syntax (2131867469.py, line 1)",
     "output_type": "error",
     "traceback": [
      "\u001b[1;36m  Cell \u001b[1;32mIn[17], line 1\u001b[1;36m\u001b[0m\n\u001b[1;33m    $name = 'Beeplove'\u001b[0m\n\u001b[1;37m    ^\u001b[0m\n\u001b[1;31mSyntaxError\u001b[0m\u001b[1;31m:\u001b[0m invalid syntax\n"
     ]
    }
   ],
   "source": [
    "$name = 'Beeplove'"
   ]
  },
  {
   "cell_type": "markdown",
   "id": "08528d62-b37a-4dfa-9c20-eb693ddf4ed0",
   "metadata": {},
   "source": [
    "# We cannot use Space in variable name "
   ]
  },
  {
   "cell_type": "code",
   "execution_count": 18,
   "id": "9537b6b2-db5f-4cf7-858f-3d72223104db",
   "metadata": {},
   "outputs": [
    {
     "ename": "SyntaxError",
     "evalue": "invalid syntax (1858704074.py, line 1)",
     "output_type": "error",
     "traceback": [
      "\u001b[1;36m  Cell \u001b[1;32mIn[18], line 1\u001b[1;36m\u001b[0m\n\u001b[1;33m    first name = 'Beeplove'\u001b[0m\n\u001b[1;37m          ^\u001b[0m\n\u001b[1;31mSyntaxError\u001b[0m\u001b[1;31m:\u001b[0m invalid syntax\n"
     ]
    }
   ],
   "source": [
    "first name = 'Beeplove'"
   ]
  },
  {
   "cell_type": "markdown",
   "id": "482c885b-9d79-4e21-a407-ecdbde7bf03f",
   "metadata": {},
   "source": [
    "# We Cannot Use Dash In Variable "
   ]
  },
  {
   "cell_type": "code",
   "execution_count": 19,
   "id": "760d6763-bb60-44e1-8d90-de230a509838",
   "metadata": {},
   "outputs": [
    {
     "ename": "SyntaxError",
     "evalue": "cannot assign to expression here. Maybe you meant '==' instead of '='? (3820083343.py, line 1)",
     "output_type": "error",
     "traceback": [
      "\u001b[1;36m  Cell \u001b[1;32mIn[19], line 1\u001b[1;36m\u001b[0m\n\u001b[1;33m    first-name = 'Beeplove'\u001b[0m\n\u001b[1;37m    ^\u001b[0m\n\u001b[1;31mSyntaxError\u001b[0m\u001b[1;31m:\u001b[0m cannot assign to expression here. Maybe you meant '==' instead of '='?\n"
     ]
    }
   ],
   "source": [
    "first-name = 'Beeplove'"
   ]
  },
  {
   "cell_type": "code",
   "execution_count": 20,
   "id": "2f66bf74-1f8d-4986-a40b-40ccc502e33f",
   "metadata": {},
   "outputs": [
    {
     "data": {
      "text/plain": [
       "'Beeplove'"
      ]
     },
     "execution_count": 20,
     "metadata": {},
     "output_type": "execute_result"
    }
   ],
   "source": [
    "#allowed\n",
    "firstname = 'Beeplove'\n",
    "firstname"
   ]
  },
  {
   "cell_type": "markdown",
   "id": "43818d72-195c-4016-8f34-1864f5e04e28",
   "metadata": {},
   "source": [
    "# We can use Underscore(_) in name variable "
   ]
  },
  {
   "cell_type": "code",
   "execution_count": 22,
   "id": "12e3ee62-b1f2-4572-9a9f-c20680b3891a",
   "metadata": {},
   "outputs": [
    {
     "data": {
      "text/plain": [
       "'beeplove'"
      ]
     },
     "execution_count": 22,
     "metadata": {},
     "output_type": "execute_result"
    }
   ],
   "source": [
    "first_name = 'beeplove'\n",
    "first_name"
   ]
  },
  {
   "cell_type": "markdown",
   "id": "43d99291-48ae-4f1a-adba-f65db22d3f8e",
   "metadata": {},
   "source": [
    "# Digit Can Follow Chracters but cannot come at the first "
   ]
  },
  {
   "cell_type": "code",
   "execution_count": 23,
   "id": "332367c7-1f6a-4996-9569-e2690aab0c0d",
   "metadata": {},
   "outputs": [
    {
     "ename": "SyntaxError",
     "evalue": "invalid decimal literal (3896088401.py, line 1)",
     "output_type": "error",
     "traceback": [
      "\u001b[1;36m  Cell \u001b[1;32mIn[23], line 1\u001b[1;36m\u001b[0m\n\u001b[1;33m    1name = 'Balen'\u001b[0m\n\u001b[1;37m    ^\u001b[0m\n\u001b[1;31mSyntaxError\u001b[0m\u001b[1;31m:\u001b[0m invalid decimal literal\n"
     ]
    }
   ],
   "source": [
    "1name = 'Balen'"
   ]
  },
  {
   "cell_type": "code",
   "execution_count": 25,
   "id": "deabb3e7-726c-4e78-97fa-7a5297d848c5",
   "metadata": {},
   "outputs": [
    {
     "data": {
      "text/plain": [
       "'Balen'"
      ]
     },
     "execution_count": 25,
     "metadata": {},
     "output_type": "execute_result"
    }
   ],
   "source": [
    "name1 = 'Balen'\n",
    "name1"
   ]
  },
  {
   "cell_type": "markdown",
   "id": "c9ee6f37-e356-4bfa-bdca-29a087cdd454",
   "metadata": {},
   "source": [
    "# Uppercase % Lowercase alphabets are allowed"
   ]
  },
  {
   "cell_type": "code",
   "execution_count": 27,
   "id": "453d9a03-758c-4e06-99e1-86c564e674d7",
   "metadata": {},
   "outputs": [
    {
     "data": {
      "text/plain": [
       "'Bhandari'"
      ]
     },
     "execution_count": 27,
     "metadata": {},
     "output_type": "execute_result"
    }
   ],
   "source": [
    "Mysurname = 'Bhandari' \n",
    "Mysurname"
   ]
  },
  {
   "cell_type": "code",
   "execution_count": 29,
   "id": "e44fd428-2a4f-4bca-a760-b875d9803fe3",
   "metadata": {},
   "outputs": [
    {
     "data": {
      "text/plain": [
       "36"
      ]
     },
     "execution_count": 29,
     "metadata": {},
     "output_type": "execute_result"
    }
   ],
   "source": [
    "my_Digit = 36\n",
    "my_Digit"
   ]
  },
  {
   "cell_type": "markdown",
   "id": "87561acd-5edd-42a5-9be2-36fdb0a59f83",
   "metadata": {},
   "source": [
    "# Python Code Snake case ma lekhne   ;;   \"Clean Code\"  --  guide -- pep-8 "
   ]
  },
  {
   "cell_type": "code",
   "execution_count": null,
   "id": "6436f3e4-bb32-42ea-abc2-a6ab6ec4a0d4",
   "metadata": {},
   "outputs": [],
   "source": []
  }
 ],
 "metadata": {
  "kernelspec": {
   "display_name": "Python 3 (ipykernel)",
   "language": "python",
   "name": "python3"
  },
  "language_info": {
   "codemirror_mode": {
    "name": "ipython",
    "version": 3
   },
   "file_extension": ".py",
   "mimetype": "text/x-python",
   "name": "python",
   "nbconvert_exporter": "python",
   "pygments_lexer": "ipython3",
   "version": "3.10.11"
  }
 },
 "nbformat": 4,
 "nbformat_minor": 5
}
