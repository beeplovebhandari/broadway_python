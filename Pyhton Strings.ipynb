{
 "cells": [
  {
   "cell_type": "code",
   "execution_count": 1,
   "id": "a0d86c32-4ed5-4c90-8c83-6138d6bdd3ea",
   "metadata": {},
   "outputs": [],
   "source": [
    "txt = \"hello\""
   ]
  },
  {
   "cell_type": "code",
   "execution_count": 2,
   "id": "1868418e-7bf3-4db7-ba9c-d8610c7f54a9",
   "metadata": {},
   "outputs": [
    {
     "data": {
      "text/plain": [
       "str"
      ]
     },
     "execution_count": 2,
     "metadata": {},
     "output_type": "execute_result"
    }
   ],
   "source": [
    "type(txt)"
   ]
  },
  {
   "cell_type": "code",
   "execution_count": 5,
   "id": "97790357-f22f-436e-9133-37ddc8f7ed32",
   "metadata": {},
   "outputs": [],
   "source": [
    "txt1 = \"hello\"\n",
    "txt2 = 'hello'"
   ]
  },
  {
   "cell_type": "code",
   "execution_count": 6,
   "id": "28c19435-b932-4a62-81e1-4d8c3d0437ad",
   "metadata": {},
   "outputs": [
    {
     "data": {
      "text/plain": [
       "True"
      ]
     },
     "execution_count": 6,
     "metadata": {},
     "output_type": "execute_result"
    }
   ],
   "source": [
    "txt1 == txt2"
   ]
  },
  {
   "cell_type": "code",
   "execution_count": 7,
   "id": "8a03e56f-63b6-439a-b31a-c9d7c68f4eba",
   "metadata": {},
   "outputs": [],
   "source": [
    "# You can use both quotes"
   ]
  },
  {
   "cell_type": "code",
   "execution_count": 8,
   "id": "fcb53411-5327-4683-b77f-d42d60fbc74a",
   "metadata": {},
   "outputs": [],
   "source": [
    "assert txt1 == txt2"
   ]
  },
  {
   "cell_type": "code",
   "execution_count": 10,
   "id": "9ce6ab08-d09f-4330-a08b-697471a93f80",
   "metadata": {},
   "outputs": [],
   "source": [
    "txt1 = \"hello\"\n",
    "txt2 = 'Hello'"
   ]
  },
  {
   "cell_type": "code",
   "execution_count": 11,
   "id": "d7fbba35-2e85-4ebc-85a6-ebc2b73ff7ff",
   "metadata": {},
   "outputs": [
    {
     "data": {
      "text/plain": [
       "False"
      ]
     },
     "execution_count": 11,
     "metadata": {},
     "output_type": "execute_result"
    }
   ],
   "source": [
    "txt1 == txt2"
   ]
  },
  {
   "cell_type": "code",
   "execution_count": 12,
   "id": "30f64f69-43e1-4580-8d1c-92eb519940da",
   "metadata": {},
   "outputs": [
    {
     "ename": "AssertionError",
     "evalue": "",
     "output_type": "error",
     "traceback": [
      "\u001b[1;31m---------------------------------------------------------------------------\u001b[0m",
      "\u001b[1;31mAssertionError\u001b[0m                            Traceback (most recent call last)",
      "Cell \u001b[1;32mIn[12], line 1\u001b[0m\n\u001b[1;32m----> 1\u001b[0m \u001b[38;5;28;01massert\u001b[39;00m txt1 \u001b[38;5;241m==\u001b[39m txt2 \u001b[38;5;66;03m#used in debugging\u001b[39;00m\n",
      "\u001b[1;31mAssertionError\u001b[0m: "
     ]
    }
   ],
   "source": [
    "assert txt1 == txt2 #used in debugging"
   ]
  },
  {
   "cell_type": "code",
   "execution_count": 13,
   "id": "92347119-2936-452d-889f-557a1a41e82e",
   "metadata": {},
   "outputs": [
    {
     "data": {
      "text/plain": [
       "True"
      ]
     },
     "execution_count": 13,
     "metadata": {},
     "output_type": "execute_result"
    }
   ],
   "source": [
    "\"a\" == \"a\""
   ]
  },
  {
   "cell_type": "code",
   "execution_count": 15,
   "id": "f86b39b0-4c5b-42a3-8feb-00002b797edb",
   "metadata": {},
   "outputs": [
    {
     "data": {
      "text/plain": [
       "False"
      ]
     },
     "execution_count": 15,
     "metadata": {},
     "output_type": "execute_result"
    }
   ],
   "source": [
    "\"a\" == \"A\""
   ]
  },
  {
   "cell_type": "code",
   "execution_count": 16,
   "id": "c42d07cd-1173-4d30-b49b-5dfa3d806b2d",
   "metadata": {},
   "outputs": [
    {
     "ename": "SyntaxError",
     "evalue": "unterminated string literal (detected at line 1) (3665241483.py, line 1)",
     "output_type": "error",
     "traceback": [
      "\u001b[1;36m  Cell \u001b[1;32mIn[16], line 1\u001b[1;36m\u001b[0m\n\u001b[1;33m    kabita \"संसार रूपी सुख स्वर्गभित्र,\u001b[0m\n\u001b[1;37m           ^\u001b[0m\n\u001b[1;31mSyntaxError\u001b[0m\u001b[1;31m:\u001b[0m unterminated string literal (detected at line 1)\n"
     ]
    }
   ],
   "source": [
    "kabita \"संसार रूपी सुख स्वर्गभित्र,\n",
    "रमें रमाएँ लिइ भित्र चित्र ।\n",
    "सारा भयो त्यो मरुभूभि तुल्य,\n",
    "रातै परेझैं अब बुझ्छु बल्ल ।\n",
    "रहेछ संसार निशा समान,\n",
    "आएन ज्यूँदै रहँदा नि ज्ञान ।\n",
    "आखीर श्रीकृष्ण रहेछ एक,\n",
    "न भक्ति भो, ज्ञान, नभो विवेक ।\""
   ]
  },
  {
   "cell_type": "markdown",
   "id": "7b93f269-62e9-44d5-8b31-41cbf829079b",
   "metadata": {},
   "source": [
    "# Multiline Strings --- Use Triplpe Quotes"
   ]
  },
  {
   "cell_type": "code",
   "execution_count": 17,
   "id": "7ff65743-270f-4d80-aa2a-55c9f0c90753",
   "metadata": {},
   "outputs": [],
   "source": [
    "kabita = \"\"\"संसार रूपी सुख स्वर्गभित्र,\n",
    "रमें रमाएँ लिइ भित्र चित्र ।\n",
    "सारा भयो त्यो मरुभूभि तुल्य,\n",
    "रातै परेझैं अब बुझ्छु बल्ल ।\n",
    "रहेछ संसार निशा समान,\n",
    "आएन ज्यूँदै रहँदा नि ज्ञान ।\n",
    "आखीर श्रीकृष्ण रहेछ एक,\n",
    "न भक्ति भो, ज्ञान, नभो विवेक ।\n",
    "\"\"\""
   ]
  },
  {
   "cell_type": "code",
   "execution_count": 18,
   "id": "de31b0a1-c1a7-4ad7-975f-71a548d1ed78",
   "metadata": {},
   "outputs": [
    {
     "name": "stdout",
     "output_type": "stream",
     "text": [
      "संसार रूपी सुख स्वर्गभित्र,\n",
      "रमें रमाएँ लिइ भित्र चित्र ।\n",
      "सारा भयो त्यो मरुभूभि तुल्य,\n",
      "रातै परेझैं अब बुझ्छु बल्ल ।\n",
      "रहेछ संसार निशा समान,\n",
      "आएन ज्यूँदै रहँदा नि ज्ञान ।\n",
      "आखीर श्रीकृष्ण रहेछ एक,\n",
      "न भक्ति भो, ज्ञान, नभो विवेक ।\n",
      "\n"
     ]
    }
   ],
   "source": [
    "print(kabita)"
   ]
  },
  {
   "cell_type": "markdown",
   "id": "6328bba2-15c0-410d-8a71-032d45b5369a",
   "metadata": {},
   "source": [
    "# Indexing and Slicing in String"
   ]
  },
  {
   "cell_type": "code",
   "execution_count": 19,
   "id": "c9f410c2-1c25-444b-9f8d-8d1d8ef9cb0a",
   "metadata": {},
   "outputs": [],
   "source": [
    "s = 'hello world'"
   ]
  },
  {
   "cell_type": "code",
   "execution_count": 21,
   "id": "f35414ff-b9d4-42f3-b61a-01ba11052d9e",
   "metadata": {},
   "outputs": [
    {
     "data": {
      "text/plain": [
       "'h'"
      ]
     },
     "execution_count": 21,
     "metadata": {},
     "output_type": "execute_result"
    }
   ],
   "source": [
    "s[0] # indexing always starts from zero'0'"
   ]
  },
  {
   "cell_type": "code",
   "execution_count": 22,
   "id": "289baf7c-599f-419a-bc79-7cda7a65cf02",
   "metadata": {},
   "outputs": [
    {
     "data": {
      "text/plain": [
       "'e'"
      ]
     },
     "execution_count": 22,
     "metadata": {},
     "output_type": "execute_result"
    }
   ],
   "source": [
    "s[1]"
   ]
  },
  {
   "cell_type": "code",
   "execution_count": 23,
   "id": "ddfd0471-45ca-4edf-af10-caeff66cdff9",
   "metadata": {},
   "outputs": [
    {
     "data": {
      "text/plain": [
       "'l'"
      ]
     },
     "execution_count": 23,
     "metadata": {},
     "output_type": "execute_result"
    }
   ],
   "source": [
    "s[2]"
   ]
  },
  {
   "cell_type": "code",
   "execution_count": 24,
   "id": "591c295b-2b21-4baf-84a4-dfc990b60cf4",
   "metadata": {},
   "outputs": [
    {
     "data": {
      "text/plain": [
       "'l'"
      ]
     },
     "execution_count": 24,
     "metadata": {},
     "output_type": "execute_result"
    }
   ],
   "source": [
    "s[3]"
   ]
  },
  {
   "cell_type": "code",
   "execution_count": 25,
   "id": "01332999-a1a3-46e4-9569-bd6011624825",
   "metadata": {},
   "outputs": [
    {
     "data": {
      "text/plain": [
       "'o'"
      ]
     },
     "execution_count": 25,
     "metadata": {},
     "output_type": "execute_result"
    }
   ],
   "source": [
    "s[4]"
   ]
  },
  {
   "cell_type": "code",
   "execution_count": 26,
   "id": "cfee350e-8ff0-45f5-9f36-06c8ce80afa9",
   "metadata": {},
   "outputs": [
    {
     "data": {
      "text/plain": [
       "' '"
      ]
     },
     "execution_count": 26,
     "metadata": {},
     "output_type": "execute_result"
    }
   ],
   "source": [
    "s[5]"
   ]
  },
  {
   "cell_type": "code",
   "execution_count": 27,
   "id": "bfb21bfc-5f73-44d1-95d7-6dbd6f339c1a",
   "metadata": {},
   "outputs": [
    {
     "data": {
      "text/plain": [
       "'w'"
      ]
     },
     "execution_count": 27,
     "metadata": {},
     "output_type": "execute_result"
    }
   ],
   "source": [
    "s[6]"
   ]
  },
  {
   "cell_type": "code",
   "execution_count": 28,
   "id": "e8e4d3ea-c995-4321-9e95-3dea6235d7f5",
   "metadata": {},
   "outputs": [
    {
     "data": {
      "text/plain": [
       "'o'"
      ]
     },
     "execution_count": 28,
     "metadata": {},
     "output_type": "execute_result"
    }
   ],
   "source": [
    "s[7]"
   ]
  },
  {
   "cell_type": "code",
   "execution_count": 29,
   "id": "b1a040e6-3900-4e09-98f5-6fd4e8f562cb",
   "metadata": {},
   "outputs": [
    {
     "data": {
      "text/plain": [
       "'r'"
      ]
     },
     "execution_count": 29,
     "metadata": {},
     "output_type": "execute_result"
    }
   ],
   "source": [
    "s[8]"
   ]
  },
  {
   "cell_type": "code",
   "execution_count": 30,
   "id": "3ee957b6-21a8-4b8c-a281-d4f061902a72",
   "metadata": {},
   "outputs": [
    {
     "data": {
      "text/plain": [
       "'l'"
      ]
     },
     "execution_count": 30,
     "metadata": {},
     "output_type": "execute_result"
    }
   ],
   "source": [
    "s[9]"
   ]
  },
  {
   "cell_type": "code",
   "execution_count": 31,
   "id": "053294ee-e9a1-4d8d-96d2-15a3a73f75a5",
   "metadata": {},
   "outputs": [
    {
     "data": {
      "text/plain": [
       "'d'"
      ]
     },
     "execution_count": 31,
     "metadata": {},
     "output_type": "execute_result"
    }
   ],
   "source": [
    "s[10]"
   ]
  },
  {
   "cell_type": "code",
   "execution_count": 32,
   "id": "bb0fa6b9-4ab6-4f21-8be2-5263988cd148",
   "metadata": {},
   "outputs": [
    {
     "ename": "IndexError",
     "evalue": "string index out of range",
     "output_type": "error",
     "traceback": [
      "\u001b[1;31m---------------------------------------------------------------------------\u001b[0m",
      "\u001b[1;31mIndexError\u001b[0m                                Traceback (most recent call last)",
      "Cell \u001b[1;32mIn[32], line 1\u001b[0m\n\u001b[1;32m----> 1\u001b[0m \u001b[43ms\u001b[49m\u001b[43m[\u001b[49m\u001b[38;5;241;43m11\u001b[39;49m\u001b[43m]\u001b[49m\n",
      "\u001b[1;31mIndexError\u001b[0m: string index out of range"
     ]
    }
   ],
   "source": [
    "s[11]"
   ]
  },
  {
   "cell_type": "code",
   "execution_count": 34,
   "id": "89b6711d-7502-47d3-ab4c-45fbd5fb5bb6",
   "metadata": {},
   "outputs": [
    {
     "data": {
      "text/plain": [
       "11"
      ]
     },
     "execution_count": 34,
     "metadata": {},
     "output_type": "execute_result"
    }
   ],
   "source": [
    "len(s)  #len=length "
   ]
  },
  {
   "cell_type": "code",
   "execution_count": 39,
   "id": "1727d100-dfa8-4b2b-bd39-43fca9c2986e",
   "metadata": {},
   "outputs": [
    {
     "data": {
      "text/plain": [
       "'wor'"
      ]
     },
     "execution_count": 39,
     "metadata": {},
     "output_type": "execute_result"
    }
   ],
   "source": [
    "s[6:9] # last ko index ko value lidiana , index 6,7,8 ko chracter aauxa "
   ]
  },
  {
   "cell_type": "code",
   "execution_count": 38,
   "id": "dc68d567-a52a-4d33-8141-cbdf1b4ca2c1",
   "metadata": {},
   "outputs": [
    {
     "data": {
      "text/plain": [
       "'o w'"
      ]
     },
     "execution_count": 38,
     "metadata": {},
     "output_type": "execute_result"
    }
   ],
   "source": [
    "s[4:7] #index 4,5,6 ko chracter aauxa "
   ]
  },
  {
   "cell_type": "code",
   "execution_count": 40,
   "id": "d092a2e0-f078-4bff-a05f-78b41832b2b5",
   "metadata": {},
   "outputs": [],
   "source": [
    "txt = 'Laxmi pd. Devkota'"
   ]
  },
  {
   "cell_type": "code",
   "execution_count": 43,
   "id": "5bf74234-283b-42f8-a89b-1597619c507d",
   "metadata": {},
   "outputs": [
    {
     "data": {
      "text/plain": [
       "'pd.'"
      ]
     },
     "execution_count": 43,
     "metadata": {},
     "output_type": "execute_result"
    }
   ],
   "source": [
    "txt[6:9]"
   ]
  },
  {
   "cell_type": "code",
   "execution_count": 44,
   "id": "8d7289f4-831b-4f2c-beec-d183430a56e5",
   "metadata": {},
   "outputs": [
    {
     "data": {
      "text/plain": [
       "'Laxmi'"
      ]
     },
     "execution_count": 44,
     "metadata": {},
     "output_type": "execute_result"
    }
   ],
   "source": [
    "txt[:5]"
   ]
  },
  {
   "cell_type": "code",
   "execution_count": 45,
   "id": "4cf02f58-b25f-4089-84d5-b607f2a34145",
   "metadata": {},
   "outputs": [
    {
     "data": {
      "text/plain": [
       "'pd. Devkota'"
      ]
     },
     "execution_count": 45,
     "metadata": {},
     "output_type": "execute_result"
    }
   ],
   "source": [
    "txt[6:]"
   ]
  },
  {
   "cell_type": "markdown",
   "id": "924255d3-9a2c-4e30-936f-763581af612f",
   "metadata": {},
   "source": [
    "# Loop In Python\n",
    "```python\n",
    "range (start, end, step)\n",
    "```"
   ]
  },
  {
   "cell_type": "code",
   "execution_count": 46,
   "id": "ada40fba-6e13-4594-b44d-6ae6f700b516",
   "metadata": {},
   "outputs": [],
   "source": [
    "s = 'hello world'"
   ]
  },
  {
   "cell_type": "code",
   "execution_count": 50,
   "id": "265683dc-eadd-4529-8c40-af804ae7fe7b",
   "metadata": {},
   "outputs": [
    {
     "name": "stdout",
     "output_type": "stream",
     "text": [
      "0\n",
      "1\n",
      "2\n",
      "3\n",
      "4\n"
     ]
    }
   ],
   "source": [
    "for index in range (0, 5, 1):\n",
    "    print(index)"
   ]
  },
  {
   "cell_type": "code",
   "execution_count": 51,
   "id": "6b28667f-9a8e-4f32-84fd-41140c3d4e95",
   "metadata": {},
   "outputs": [
    {
     "name": "stdout",
     "output_type": "stream",
     "text": [
      "0\n",
      "2\n",
      "4\n",
      "6\n",
      "8\n",
      "10\n",
      "12\n",
      "14\n"
     ]
    }
   ],
   "source": [
    "for index in range(0, 15, 2):\n",
    "    print(index)"
   ]
  },
  {
   "cell_type": "code",
   "execution_count": 53,
   "id": "e5592bd8-c66d-4e72-b449-aa57f0f48bd6",
   "metadata": {},
   "outputs": [
    {
     "name": "stdout",
     "output_type": "stream",
     "text": [
      "50\n",
      "51\n",
      "52\n",
      "53\n",
      "54\n",
      "55\n",
      "56\n",
      "57\n",
      "58\n",
      "59\n"
     ]
    }
   ],
   "source": [
    "for index in range( 50, 60,1):\n",
    "    print(index)"
   ]
  },
  {
   "cell_type": "code",
   "execution_count": 55,
   "id": "2b844c22-2dd5-450d-864d-75c95c2d4018",
   "metadata": {},
   "outputs": [
    {
     "name": "stdout",
     "output_type": "stream",
     "text": [
      "1\n",
      "2\n",
      "3\n",
      "4\n",
      "5\n",
      "6\n",
      "7\n",
      "8\n",
      "9\n",
      "10\n",
      "11\n",
      "12\n",
      "13\n",
      "14\n",
      "15\n",
      "16\n",
      "17\n",
      "18\n",
      "19\n",
      "20\n",
      "21\n",
      "22\n",
      "23\n",
      "24\n",
      "25\n",
      "26\n",
      "27\n",
      "28\n",
      "29\n",
      "30\n",
      "31\n",
      "32\n",
      "33\n",
      "34\n",
      "35\n",
      "36\n",
      "37\n",
      "38\n",
      "39\n",
      "40\n",
      "41\n",
      "42\n",
      "43\n",
      "44\n",
      "45\n",
      "46\n",
      "47\n",
      "48\n",
      "49\n",
      "50\n",
      "51\n",
      "52\n",
      "53\n",
      "54\n",
      "55\n",
      "56\n",
      "57\n",
      "58\n",
      "59\n",
      "60\n",
      "61\n",
      "62\n",
      "63\n",
      "64\n",
      "65\n",
      "66\n",
      "67\n",
      "68\n",
      "69\n",
      "70\n",
      "71\n",
      "72\n",
      "73\n",
      "74\n",
      "75\n",
      "76\n",
      "77\n",
      "78\n",
      "79\n",
      "80\n",
      "81\n",
      "82\n",
      "83\n",
      "84\n",
      "85\n",
      "86\n",
      "87\n",
      "88\n",
      "89\n",
      "90\n",
      "91\n",
      "92\n",
      "93\n",
      "94\n",
      "95\n",
      "96\n",
      "97\n",
      "98\n",
      "99\n",
      "100\n"
     ]
    }
   ],
   "source": [
    "for index in range (1, 101, 1):\n",
    "    print(index)"
   ]
  },
  {
   "cell_type": "code",
   "execution_count": 56,
   "id": "b12c5f1d-1318-4c72-8892-82d18f2f5059",
   "metadata": {},
   "outputs": [],
   "source": [
    "s = 'hello world'"
   ]
  },
  {
   "cell_type": "code",
   "execution_count": 59,
   "id": "0ed36b8c-6339-46ef-9366-8a4493491956",
   "metadata": {},
   "outputs": [
    {
     "name": "stdout",
     "output_type": "stream",
     "text": [
      "index = 0, letter = h\n",
      "index = 1, letter = e\n",
      "index = 2, letter = l\n",
      "index = 3, letter = l\n",
      "index = 4, letter = o\n",
      "index = 5, letter =  \n",
      "index = 6, letter = w\n",
      "index = 7, letter = o\n",
      "index = 8, letter = r\n",
      "index = 9, letter = l\n",
      "index = 10, letter = d\n"
     ]
    }
   ],
   "source": [
    "for index in range(0, len(s), 1):\n",
    "    chracter = s[index]\n",
    "    print(f\"index = {index}, letter = {chracter}\")"
   ]
  },
  {
   "cell_type": "code",
   "execution_count": 60,
   "id": "aaf9277a-3472-4286-8596-53e4e59ad363",
   "metadata": {},
   "outputs": [],
   "source": [
    "msg = 'k chha khabar , sanchai aaramai ho ta '"
   ]
  },
  {
   "cell_type": "code",
   "execution_count": 61,
   "id": "30eb7f2d-8eb9-4be1-9722-1bee4f4ae7be",
   "metadata": {},
   "outputs": [
    {
     "data": {
      "text/plain": [
       "38"
      ]
     },
     "execution_count": 61,
     "metadata": {},
     "output_type": "execute_result"
    }
   ],
   "source": [
    "len(msg)"
   ]
  },
  {
   "cell_type": "code",
   "execution_count": 65,
   "id": "b9eaef1c-e400-47a5-bdad-20073bfe6f88",
   "metadata": {},
   "outputs": [
    {
     "name": "stdout",
     "output_type": "stream",
     "text": [
      "index = 0, letter = k\n",
      "index = 1, letter =  \n",
      "index = 2, letter = c\n",
      "index = 3, letter = h\n",
      "index = 4, letter = h\n",
      "index = 5, letter = a\n",
      "index = 6, letter =  \n",
      "index = 7, letter = k\n",
      "index = 8, letter = h\n",
      "index = 9, letter = a\n",
      "index = 10, letter = b\n",
      "index = 11, letter = a\n",
      "index = 12, letter = r\n",
      "index = 13, letter =  \n",
      "index = 14, letter = ,\n",
      "index = 15, letter =  \n",
      "index = 16, letter = s\n",
      "index = 17, letter = a\n",
      "index = 18, letter = n\n",
      "index = 19, letter = c\n",
      "index = 20, letter = h\n",
      "index = 21, letter = a\n",
      "index = 22, letter = i\n",
      "index = 23, letter =  \n",
      "index = 24, letter = a\n",
      "index = 25, letter = a\n",
      "index = 26, letter = r\n",
      "index = 27, letter = a\n",
      "index = 28, letter = m\n",
      "index = 29, letter = a\n",
      "index = 30, letter = i\n",
      "index = 31, letter =  \n",
      "index = 32, letter = h\n",
      "index = 33, letter = o\n",
      "index = 34, letter =  \n",
      "index = 35, letter = t\n",
      "index = 36, letter = a\n",
      "index = 37, letter =  \n"
     ]
    }
   ],
   "source": [
    "for index in range(0, len(msg), 1):\n",
    "    char = msg[index]\n",
    "    print(f\"index = {index}, letter = {char}\")"
   ]
  },
  {
   "cell_type": "code",
   "execution_count": 66,
   "id": "802904b3-0d2f-4350-913f-6e3cc54cbf17",
   "metadata": {},
   "outputs": [],
   "source": [
    "msg = 'hey, good morning'"
   ]
  },
  {
   "cell_type": "code",
   "execution_count": 67,
   "id": "4ac6ebf4-1ca2-4076-888a-9b83e85405d4",
   "metadata": {},
   "outputs": [
    {
     "data": {
      "text/plain": [
       "17"
      ]
     },
     "execution_count": 67,
     "metadata": {},
     "output_type": "execute_result"
    }
   ],
   "source": [
    "len(msg)"
   ]
  },
  {
   "cell_type": "code",
   "execution_count": 78,
   "id": "14efcd95-d06a-4513-abd7-f24bce0c6ec1",
   "metadata": {},
   "outputs": [
    {
     "name": "stdout",
     "output_type": "stream",
     "text": [
      "indedx = 0 and char = h\n",
      "indedx = 1 and char = e\n",
      "indedx = 2 and char = y\n",
      "indedx = 3 and char = ,\n",
      "indedx = 4 and char =  \n",
      "indedx = 5 and char = g\n",
      "indedx = 6 and char = o\n",
      "indedx = 7 and char = o\n",
      "indedx = 8 and char = d\n",
      "indedx = 9 and char =  \n",
      "indedx = 10 and char = m\n",
      "indedx = 11 and char = o\n",
      "indedx = 12 and char = r\n",
      "indedx = 13 and char = n\n",
      "indedx = 14 and char = i\n",
      "indedx = 15 and char = n\n",
      "indedx = 16 and char = g\n"
     ]
    }
   ],
   "source": [
    "for index in range(0, len(msg), 1):\n",
    "    char= msg[index]\n",
    "    print(f\"indedx = {index} and char = {char}\")"
   ]
  },
  {
   "cell_type": "code",
   "execution_count": 74,
   "id": "5b7dcf64-20ab-4a3e-8914-2cd1a650e985",
   "metadata": {},
   "outputs": [
    {
     "name": "stdout",
     "output_type": "stream",
     "text": [
      "10\n",
      "9\n",
      "8\n",
      "7\n",
      "6\n",
      "5\n",
      "4\n",
      "3\n",
      "2\n",
      "1\n"
     ]
    }
   ],
   "source": [
    "for index in range (10, 0 , -1):\n",
    "    print(index)"
   ]
  },
  {
   "cell_type": "code",
   "execution_count": 75,
   "id": "857bd447-78c0-46ac-b7ba-9d7085738c43",
   "metadata": {},
   "outputs": [
    {
     "name": "stdout",
     "output_type": "stream",
     "text": [
      "10\n",
      "9\n",
      "8\n",
      "7\n",
      "6\n",
      "5\n",
      "4\n",
      "3\n",
      "2\n",
      "1\n",
      "0\n",
      "-1\n",
      "-2\n"
     ]
    }
   ],
   "source": [
    "for index in range(10, -3 ,-1):\n",
    "    print(index)"
   ]
  },
  {
   "cell_type": "code",
   "execution_count": 76,
   "id": "33a30fdc-9193-439c-9b2b-6b71c30b119e",
   "metadata": {},
   "outputs": [
    {
     "name": "stdout",
     "output_type": "stream",
     "text": [
      "1\n",
      "2\n",
      "3\n",
      "4\n",
      "5\n",
      "6\n",
      "7\n",
      "8\n",
      "9\n",
      "10\n",
      "11\n",
      "12\n",
      "13\n",
      "14\n",
      "15\n",
      "16\n",
      "17\n",
      "18\n"
     ]
    }
   ],
   "source": [
    "for index in range (1, 19, 1):\n",
    "    print(index)"
   ]
  },
  {
   "cell_type": "code",
   "execution_count": 77,
   "id": "c6ad8c09-e14d-458f-99af-4353331d369b",
   "metadata": {},
   "outputs": [
    {
     "name": "stdout",
     "output_type": "stream",
     "text": [
      "1\n",
      "5\n",
      "9\n",
      "13\n",
      "17\n",
      "21\n",
      "25\n",
      "29\n",
      "33\n",
      "37\n"
     ]
    }
   ],
   "source": [
    "for index in range (1, 41, 4):\n",
    "    print(index)"
   ]
  },
  {
   "cell_type": "code",
   "execution_count": null,
   "id": "d2ac1a07-120e-48e3-b268-561ee218c923",
   "metadata": {},
   "outputs": [],
   "source": []
  }
 ],
 "metadata": {
  "kernelspec": {
   "display_name": "Python 3 (ipykernel)",
   "language": "python",
   "name": "python3"
  },
  "language_info": {
   "codemirror_mode": {
    "name": "ipython",
    "version": 3
   },
   "file_extension": ".py",
   "mimetype": "text/x-python",
   "name": "python",
   "nbconvert_exporter": "python",
   "pygments_lexer": "ipython3",
   "version": "3.10.11"
  }
 },
 "nbformat": 4,
 "nbformat_minor": 5
}
