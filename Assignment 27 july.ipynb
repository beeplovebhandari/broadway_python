{
 "cells": [
  {
   "cell_type": "markdown",
   "id": "f571c90d-4ab6-4716-9ead-822aaf0c3778",
   "metadata": {},
   "source": [
    "# Program To Check Result On Grading System "
   ]
  },
  {
   "cell_type": "code",
   "execution_count": 1,
   "id": "0920a08e-1070-431c-8429-4faa115694a9",
   "metadata": {},
   "outputs": [
    {
     "name": "stdin",
     "output_type": "stream",
     "text": [
      "Enter The Obtained Percentage :  54\n"
     ]
    },
    {
     "name": "stdout",
     "output_type": "stream",
     "text": [
      "Great effort! Your 'C+' grade reflects your hard work and ability to overcome challenges.\n"
     ]
    }
   ],
   "source": [
    "    Percentage = int(input(\"Enter The Obtained Percentage : \" ))\n",
    "    if Percentage >= 90 and Percentage <= 100:\n",
    "        print(\"Hats off to you! Your 'A+' grade proves you are a true academic superstar.\")\n",
    "\n",
    "elif Percentage >= 80 and Percentage <= 90:\n",
    "      print(\"You've unlocked the 'A'chievement level! Kudos on your outstanding grade!\")\n",
    "\n",
    "elif Percentage >= 70 and Percentage <= 80:\n",
    "      print(\"Well done! Your 'B+' grade highlights your continuous pursuit of excellence.\")\n",
    "\n",
    "elif Percentage >= 60 and Percentage <= 70:\n",
    "      print(\"B stands for Bright! Your grade is a reflection of your bright mind and determination.\")\n",
    "\n",
    "elif Percentage >= 50 and Percentage <= 60:\n",
    "      print(\"Great effort! Your 'C+' grade reflects your hard work and ability to overcome challenges.\")\n",
    "\n",
    "elif Percentage >= 40 and Percentage <= 50:\n",
    "      print(\"Congrats on your 'C' grade! Seek additional support and set study goals for improvement.\")\n",
    "\n",
    "elif Percentage >= 30 and Percentage <= 40:\n",
    "     print(\" D+ !! Take immediate action to seek academic support and implement a structured study routine to raise your performance significantly.\")\n",
    "  \n",
    "elif Percentage >= 20 and Percentage <= 30:\n",
    "     print(\"D !! Rise above challenges - adopt effective study techniques, utilize available resources, and demonstrate resilience in pursuit of excellence.\")\n",
    "\n",
    "elif Percentage >= 0 and Percentage <= 20:\n",
    "     print(\"N.G ! Very Poor !! Immediate action required: seek urgent academic support and devise a comprehensive study plan to overcome obstacles and excel.\")\n"
   ]
  },
  {
   "cell_type": "markdown",
   "id": "77e5e34d-662b-4c0c-8b55-7092c870d423",
   "metadata": {},
   "source": [
    "# using exception function"
   ]
  },
  {
   "cell_type": "code",
   "execution_count": 17,
   "id": "78156f93-75ab-4112-86f5-945266dc958d",
   "metadata": {},
   "outputs": [
    {
     "name": "stdin",
     "output_type": "stream",
     "text": [
      "Enter The Obtained Percentage :  ghfg\n"
     ]
    },
    {
     "name": "stdout",
     "output_type": "stream",
     "text": [
      "Invalid input! Percentage should be between 0 and 100\n"
     ]
    }
   ],
   "source": [
    "try :\n",
    "    \n",
    "    Percentage = int(input(\"Enter The Obtained Percentage : \" ))\n",
    "    if Percentage >= 90 and Percentage <= 100:\n",
    "            print(\"Hats off to you! Your 'A+' grade proves you are a true academic superstar.\")\n",
    "    \n",
    "    elif Percentage >= 80 and Percentage <= 90:\n",
    "          print(\"You've unlocked the 'A'chievement level! Kudos on your outstanding grade!\")\n",
    "    \n",
    "    elif Percentage >= 70 and Percentage <= 80:\n",
    "          print(\"Well done! Your 'B+' grade highlights your continuous pursuit of excellence.\")\n",
    "    \n",
    "    elif Percentage >= 60 and Percentage <= 70:\n",
    "          print(\"B stands for Bright! Your grade is a reflection of your bright mind and determination.\")\n",
    "    \n",
    "    elif Percentage >= 50 and Percentage <= 60:\n",
    "          print(\"Great effort! Your 'C+' grade reflects your hard work and ability to overcome challenges.\")\n",
    "    \n",
    "    elif Percentage >= 40 and Percentage <= 50:\n",
    "          print(\"Congrats on your 'C' grade! Seek additional support and set study goals for improvement.\")\n",
    "    \n",
    "    elif Percentage >= 30 and Percentage <= 40:\n",
    "         print(\" D+ !! Take immediate action to seek academic support and implement a structured study routine to raise your performance significantly.\")\n",
    "      \n",
    "    elif Percentage >= 20 and Percentage <= 30:\n",
    "         print(\"D !! Rise above challenges - adopt effective study techniques, utilize available resources, and demonstrate resilience in pursuit of excellence.\")\n",
    "    \n",
    "    elif Percentage >= 0 and Percentage <= 20:\n",
    "         print(\"N.G ! Very Poor !! Immediate action required: seek urgent academic support and devise a comprehensive study plan to overcome obstacles and excel.\")\n",
    "    \n",
    "    elif Percentage > 100:\n",
    "        print(\"Invalid input! Percentage should be between 0 and 100\") \n",
    "        \n",
    "except Exception as e:\n",
    "    print (\"Invalid input! Percentage should be between 0 and 100\")"
   ]
  },
  {
   "cell_type": "code",
   "execution_count": null,
   "id": "7319626e-ec76-4350-a06b-74b48efee02b",
   "metadata": {},
   "outputs": [],
   "source": []
  }
 ],
 "metadata": {
  "kernelspec": {
   "display_name": "Python 3 (ipykernel)",
   "language": "python",
   "name": "python3"
  },
  "language_info": {
   "codemirror_mode": {
    "name": "ipython",
    "version": 3
   },
   "file_extension": ".py",
   "mimetype": "text/x-python",
   "name": "python",
   "nbconvert_exporter": "python",
   "pygments_lexer": "ipython3",
   "version": "3.10.11"
  }
 },
 "nbformat": 4,
 "nbformat_minor": 5
}
